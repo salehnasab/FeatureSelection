{
 "cells": [
  {
   "cell_type": "code",
   "execution_count": 115,
   "id": "a2996b69-de51-4366-bfa9-1511433e463f",
   "metadata": {},
   "outputs": [],
   "source": [
    "import numpy as np\n",
    "import pandas as pd\n",
    "import matplotlib.pyplot as plt\n",
    "import matplotlib as mpl\n",
    "import seaborn as sns\n",
    "from pycaret.classification import *\n",
    "from pycaret.datasets import get_data\n",
    "from imblearn.over_sampling import SMOTE \n",
    "from imblearn.under_sampling import RandomUnderSampler\n",
    "from imblearn.under_sampling import ClusterCentroids\n",
    "mpl.rcParams['figure.dpi'] = 300\n",
    "import sys\n",
    "import warnings\n",
    "import os"
   ]
  },
  {
   "cell_type": "code",
   "execution_count": 116,
   "id": "52f783b5-fe67-4636-b3e7-aad66e3a99b6",
   "metadata": {},
   "outputs": [],
   "source": [
    "data = pd.read_csv(\"FinalData.csv\") "
   ]
  },
  {
   "cell_type": "code",
   "execution_count": 117,
   "id": "b8c49f22-8628-429f-aec6-c17320b3957c",
   "metadata": {},
   "outputs": [
    {
     "data": {
      "text/html": [
       "<div>\n",
       "<style scoped>\n",
       "    .dataframe tbody tr th:only-of-type {\n",
       "        vertical-align: middle;\n",
       "    }\n",
       "\n",
       "    .dataframe tbody tr th {\n",
       "        vertical-align: top;\n",
       "    }\n",
       "\n",
       "    .dataframe thead th {\n",
       "        text-align: right;\n",
       "    }\n",
       "</style>\n",
       "<table border=\"1\" class=\"dataframe\">\n",
       "  <thead>\n",
       "    <tr style=\"text-align: right;\">\n",
       "      <th></th>\n",
       "      <th>GenderID</th>\n",
       "      <th>Age</th>\n",
       "      <th>LastEduID</th>\n",
       "      <th>MET_Final</th>\n",
       "      <th>WaistCircumference</th>\n",
       "      <th>HipCircumference</th>\n",
       "      <th>WristCircumference</th>\n",
       "      <th>BMI</th>\n",
       "      <th>HasJob_new</th>\n",
       "      <th>Employmentstatus</th>\n",
       "      <th>...</th>\n",
       "      <th>HasChronicLungDisease</th>\n",
       "      <th>HasHepatitisC</th>\n",
       "      <th>HasHepatitisB</th>\n",
       "      <th>HasFattyLiver</th>\n",
       "      <th>HasRenalFailure</th>\n",
       "      <th>HasStroke</th>\n",
       "      <th>HasMI</th>\n",
       "      <th>HasCardiacDisease</th>\n",
       "      <th>HasHypertension</th>\n",
       "      <th>HasDiabetes</th>\n",
       "    </tr>\n",
       "  </thead>\n",
       "  <tbody>\n",
       "    <tr>\n",
       "      <th>0</th>\n",
       "      <td>2</td>\n",
       "      <td>44</td>\n",
       "      <td>3</td>\n",
       "      <td>34.899995</td>\n",
       "      <td>116.0</td>\n",
       "      <td>120.0</td>\n",
       "      <td>19.0</td>\n",
       "      <td>36.652780</td>\n",
       "      <td>1</td>\n",
       "      <td>1</td>\n",
       "      <td>...</td>\n",
       "      <td>0</td>\n",
       "      <td>0</td>\n",
       "      <td>0</td>\n",
       "      <td>1</td>\n",
       "      <td>0</td>\n",
       "      <td>0</td>\n",
       "      <td>0</td>\n",
       "      <td>0</td>\n",
       "      <td>0</td>\n",
       "      <td>0</td>\n",
       "    </tr>\n",
       "    <tr>\n",
       "      <th>1</th>\n",
       "      <td>1</td>\n",
       "      <td>52</td>\n",
       "      <td>1</td>\n",
       "      <td>48.075000</td>\n",
       "      <td>99.0</td>\n",
       "      <td>105.0</td>\n",
       "      <td>18.0</td>\n",
       "      <td>28.256990</td>\n",
       "      <td>1</td>\n",
       "      <td>1</td>\n",
       "      <td>...</td>\n",
       "      <td>0</td>\n",
       "      <td>0</td>\n",
       "      <td>0</td>\n",
       "      <td>0</td>\n",
       "      <td>0</td>\n",
       "      <td>0</td>\n",
       "      <td>0</td>\n",
       "      <td>0</td>\n",
       "      <td>0</td>\n",
       "      <td>0</td>\n",
       "    </tr>\n",
       "    <tr>\n",
       "      <th>2</th>\n",
       "      <td>1</td>\n",
       "      <td>70</td>\n",
       "      <td>2</td>\n",
       "      <td>39.416654</td>\n",
       "      <td>89.0</td>\n",
       "      <td>94.0</td>\n",
       "      <td>16.0</td>\n",
       "      <td>20.973709</td>\n",
       "      <td>2</td>\n",
       "      <td>99999</td>\n",
       "      <td>...</td>\n",
       "      <td>0</td>\n",
       "      <td>0</td>\n",
       "      <td>0</td>\n",
       "      <td>0</td>\n",
       "      <td>0</td>\n",
       "      <td>0</td>\n",
       "      <td>0</td>\n",
       "      <td>1</td>\n",
       "      <td>0</td>\n",
       "      <td>0</td>\n",
       "    </tr>\n",
       "    <tr>\n",
       "      <th>3</th>\n",
       "      <td>2</td>\n",
       "      <td>70</td>\n",
       "      <td>8</td>\n",
       "      <td>51.175000</td>\n",
       "      <td>96.0</td>\n",
       "      <td>106.0</td>\n",
       "      <td>17.0</td>\n",
       "      <td>30.081371</td>\n",
       "      <td>0</td>\n",
       "      <td>999</td>\n",
       "      <td>...</td>\n",
       "      <td>0</td>\n",
       "      <td>0</td>\n",
       "      <td>0</td>\n",
       "      <td>0</td>\n",
       "      <td>0</td>\n",
       "      <td>1</td>\n",
       "      <td>0</td>\n",
       "      <td>0</td>\n",
       "      <td>1</td>\n",
       "      <td>0</td>\n",
       "    </tr>\n",
       "    <tr>\n",
       "      <th>4</th>\n",
       "      <td>2</td>\n",
       "      <td>47</td>\n",
       "      <td>1</td>\n",
       "      <td>34.841659</td>\n",
       "      <td>90.0</td>\n",
       "      <td>97.0</td>\n",
       "      <td>17.5</td>\n",
       "      <td>25.815689</td>\n",
       "      <td>3</td>\n",
       "      <td>99</td>\n",
       "      <td>...</td>\n",
       "      <td>0</td>\n",
       "      <td>0</td>\n",
       "      <td>0</td>\n",
       "      <td>0</td>\n",
       "      <td>0</td>\n",
       "      <td>0</td>\n",
       "      <td>0</td>\n",
       "      <td>0</td>\n",
       "      <td>0</td>\n",
       "      <td>0</td>\n",
       "    </tr>\n",
       "    <tr>\n",
       "      <th>...</th>\n",
       "      <td>...</td>\n",
       "      <td>...</td>\n",
       "      <td>...</td>\n",
       "      <td>...</td>\n",
       "      <td>...</td>\n",
       "      <td>...</td>\n",
       "      <td>...</td>\n",
       "      <td>...</td>\n",
       "      <td>...</td>\n",
       "      <td>...</td>\n",
       "      <td>...</td>\n",
       "      <td>...</td>\n",
       "      <td>...</td>\n",
       "      <td>...</td>\n",
       "      <td>...</td>\n",
       "      <td>...</td>\n",
       "      <td>...</td>\n",
       "      <td>...</td>\n",
       "      <td>...</td>\n",
       "      <td>...</td>\n",
       "      <td>...</td>\n",
       "    </tr>\n",
       "    <tr>\n",
       "      <th>3198</th>\n",
       "      <td>2</td>\n",
       "      <td>58</td>\n",
       "      <td>8</td>\n",
       "      <td>40.991661</td>\n",
       "      <td>115.0</td>\n",
       "      <td>112.0</td>\n",
       "      <td>19.0</td>\n",
       "      <td>34.105851</td>\n",
       "      <td>3</td>\n",
       "      <td>99</td>\n",
       "      <td>...</td>\n",
       "      <td>0</td>\n",
       "      <td>0</td>\n",
       "      <td>0</td>\n",
       "      <td>0</td>\n",
       "      <td>0</td>\n",
       "      <td>0</td>\n",
       "      <td>0</td>\n",
       "      <td>0</td>\n",
       "      <td>1</td>\n",
       "      <td>0</td>\n",
       "    </tr>\n",
       "    <tr>\n",
       "      <th>3199</th>\n",
       "      <td>2</td>\n",
       "      <td>50</td>\n",
       "      <td>8</td>\n",
       "      <td>37.108330</td>\n",
       "      <td>94.0</td>\n",
       "      <td>99.0</td>\n",
       "      <td>16.0</td>\n",
       "      <td>24.878345</td>\n",
       "      <td>3</td>\n",
       "      <td>99</td>\n",
       "      <td>...</td>\n",
       "      <td>0</td>\n",
       "      <td>0</td>\n",
       "      <td>0</td>\n",
       "      <td>0</td>\n",
       "      <td>0</td>\n",
       "      <td>0</td>\n",
       "      <td>0</td>\n",
       "      <td>0</td>\n",
       "      <td>0</td>\n",
       "      <td>0</td>\n",
       "    </tr>\n",
       "    <tr>\n",
       "      <th>3200</th>\n",
       "      <td>2</td>\n",
       "      <td>65</td>\n",
       "      <td>8</td>\n",
       "      <td>39.700000</td>\n",
       "      <td>93.0</td>\n",
       "      <td>99.0</td>\n",
       "      <td>16.0</td>\n",
       "      <td>24.609734</td>\n",
       "      <td>3</td>\n",
       "      <td>99</td>\n",
       "      <td>...</td>\n",
       "      <td>0</td>\n",
       "      <td>0</td>\n",
       "      <td>0</td>\n",
       "      <td>0</td>\n",
       "      <td>0</td>\n",
       "      <td>1</td>\n",
       "      <td>0</td>\n",
       "      <td>0</td>\n",
       "      <td>1</td>\n",
       "      <td>0</td>\n",
       "    </tr>\n",
       "    <tr>\n",
       "      <th>3201</th>\n",
       "      <td>1</td>\n",
       "      <td>42</td>\n",
       "      <td>1</td>\n",
       "      <td>40.449995</td>\n",
       "      <td>97.0</td>\n",
       "      <td>96.0</td>\n",
       "      <td>18.0</td>\n",
       "      <td>23.999459</td>\n",
       "      <td>1</td>\n",
       "      <td>1</td>\n",
       "      <td>...</td>\n",
       "      <td>0</td>\n",
       "      <td>0</td>\n",
       "      <td>0</td>\n",
       "      <td>0</td>\n",
       "      <td>0</td>\n",
       "      <td>0</td>\n",
       "      <td>0</td>\n",
       "      <td>0</td>\n",
       "      <td>0</td>\n",
       "      <td>0</td>\n",
       "    </tr>\n",
       "    <tr>\n",
       "      <th>3202</th>\n",
       "      <td>2</td>\n",
       "      <td>38</td>\n",
       "      <td>3</td>\n",
       "      <td>39.508321</td>\n",
       "      <td>92.0</td>\n",
       "      <td>94.0</td>\n",
       "      <td>17.0</td>\n",
       "      <td>26.527905</td>\n",
       "      <td>3</td>\n",
       "      <td>99</td>\n",
       "      <td>...</td>\n",
       "      <td>0</td>\n",
       "      <td>0</td>\n",
       "      <td>0</td>\n",
       "      <td>0</td>\n",
       "      <td>0</td>\n",
       "      <td>0</td>\n",
       "      <td>0</td>\n",
       "      <td>0</td>\n",
       "      <td>0</td>\n",
       "      <td>0</td>\n",
       "    </tr>\n",
       "  </tbody>\n",
       "</table>\n",
       "<p>3203 rows × 111 columns</p>\n",
       "</div>"
      ],
      "text/plain": [
       "      GenderID  Age  LastEduID  MET_Final  WaistCircumference  \\\n",
       "0            2   44          3  34.899995               116.0   \n",
       "1            1   52          1  48.075000                99.0   \n",
       "2            1   70          2  39.416654                89.0   \n",
       "3            2   70          8  51.175000                96.0   \n",
       "4            2   47          1  34.841659                90.0   \n",
       "...        ...  ...        ...        ...                 ...   \n",
       "3198         2   58          8  40.991661               115.0   \n",
       "3199         2   50          8  37.108330                94.0   \n",
       "3200         2   65          8  39.700000                93.0   \n",
       "3201         1   42          1  40.449995                97.0   \n",
       "3202         2   38          3  39.508321                92.0   \n",
       "\n",
       "      HipCircumference  WristCircumference        BMI  HasJob_new  \\\n",
       "0                120.0                19.0  36.652780           1   \n",
       "1                105.0                18.0  28.256990           1   \n",
       "2                 94.0                16.0  20.973709           2   \n",
       "3                106.0                17.0  30.081371           0   \n",
       "4                 97.0                17.5  25.815689           3   \n",
       "...                ...                 ...        ...         ...   \n",
       "3198             112.0                19.0  34.105851           3   \n",
       "3199              99.0                16.0  24.878345           3   \n",
       "3200              99.0                16.0  24.609734           3   \n",
       "3201              96.0                18.0  23.999459           1   \n",
       "3202              94.0                17.0  26.527905           3   \n",
       "\n",
       "      Employmentstatus  ...  HasChronicLungDisease  HasHepatitisC  \\\n",
       "0                    1  ...                      0              0   \n",
       "1                    1  ...                      0              0   \n",
       "2                99999  ...                      0              0   \n",
       "3                  999  ...                      0              0   \n",
       "4                   99  ...                      0              0   \n",
       "...                ...  ...                    ...            ...   \n",
       "3198                99  ...                      0              0   \n",
       "3199                99  ...                      0              0   \n",
       "3200                99  ...                      0              0   \n",
       "3201                 1  ...                      0              0   \n",
       "3202                99  ...                      0              0   \n",
       "\n",
       "      HasHepatitisB  HasFattyLiver  HasRenalFailure  HasStroke  HasMI  \\\n",
       "0                 0              1                0          0      0   \n",
       "1                 0              0                0          0      0   \n",
       "2                 0              0                0          0      0   \n",
       "3                 0              0                0          1      0   \n",
       "4                 0              0                0          0      0   \n",
       "...             ...            ...              ...        ...    ...   \n",
       "3198              0              0                0          0      0   \n",
       "3199              0              0                0          0      0   \n",
       "3200              0              0                0          1      0   \n",
       "3201              0              0                0          0      0   \n",
       "3202              0              0                0          0      0   \n",
       "\n",
       "      HasCardiacDisease  HasHypertension  HasDiabetes  \n",
       "0                     0                0            0  \n",
       "1                     0                0            0  \n",
       "2                     1                0            0  \n",
       "3                     0                1            0  \n",
       "4                     0                0            0  \n",
       "...                 ...              ...          ...  \n",
       "3198                  0                1            0  \n",
       "3199                  0                0            0  \n",
       "3200                  0                1            0  \n",
       "3201                  0                0            0  \n",
       "3202                  0                0            0  \n",
       "\n",
       "[3203 rows x 111 columns]"
      ]
     },
     "execution_count": 117,
     "metadata": {},
     "output_type": "execute_result"
    }
   ],
   "source": [
    "data"
   ]
  },
  {
   "cell_type": "code",
   "execution_count": 118,
   "id": "72d7fcd6-5d88-4640-bcce-cb3f6dd570fe",
   "metadata": {},
   "outputs": [
    {
     "data": {
      "text/html": [
       "<div>\n",
       "<style scoped>\n",
       "    .dataframe tbody tr th:only-of-type {\n",
       "        vertical-align: middle;\n",
       "    }\n",
       "\n",
       "    .dataframe tbody tr th {\n",
       "        vertical-align: top;\n",
       "    }\n",
       "\n",
       "    .dataframe thead th {\n",
       "        text-align: right;\n",
       "    }\n",
       "</style>\n",
       "<table border=\"1\" class=\"dataframe\">\n",
       "  <thead>\n",
       "    <tr style=\"text-align: right;\">\n",
       "      <th></th>\n",
       "      <th>GenderID</th>\n",
       "      <th>Age</th>\n",
       "      <th>LastEduID</th>\n",
       "      <th>MET_Final</th>\n",
       "      <th>WaistCircumference</th>\n",
       "      <th>HipCircumference</th>\n",
       "      <th>WristCircumference</th>\n",
       "      <th>BMI</th>\n",
       "      <th>HasJob_new</th>\n",
       "      <th>Employmentstatus</th>\n",
       "      <th>...</th>\n",
       "      <th>HasChronicLungDisease</th>\n",
       "      <th>HasHepatitisC</th>\n",
       "      <th>HasHepatitisB</th>\n",
       "      <th>HasFattyLiver</th>\n",
       "      <th>HasRenalFailure</th>\n",
       "      <th>HasStroke</th>\n",
       "      <th>HasMI</th>\n",
       "      <th>HasCardiacDisease</th>\n",
       "      <th>HasHypertension</th>\n",
       "      <th>HasDiabetes</th>\n",
       "    </tr>\n",
       "  </thead>\n",
       "  <tbody>\n",
       "    <tr>\n",
       "      <th>count</th>\n",
       "      <td>3203.000000</td>\n",
       "      <td>3203.000000</td>\n",
       "      <td>3203.000000</td>\n",
       "      <td>3203.000000</td>\n",
       "      <td>3203.000000</td>\n",
       "      <td>3203.000000</td>\n",
       "      <td>3203.000000</td>\n",
       "      <td>3203.000000</td>\n",
       "      <td>3203.000000</td>\n",
       "      <td>3203.000000</td>\n",
       "      <td>...</td>\n",
       "      <td>3203.000000</td>\n",
       "      <td>3203.000000</td>\n",
       "      <td>3203.000000</td>\n",
       "      <td>3203.000000</td>\n",
       "      <td>3203.000000</td>\n",
       "      <td>3203.000000</td>\n",
       "      <td>3203.000000</td>\n",
       "      <td>3203.000000</td>\n",
       "      <td>3203.000000</td>\n",
       "      <td>3203.000000</td>\n",
       "    </tr>\n",
       "    <tr>\n",
       "      <th>mean</th>\n",
       "      <td>1.568530</td>\n",
       "      <td>50.290665</td>\n",
       "      <td>4.001561</td>\n",
       "      <td>40.135049</td>\n",
       "      <td>97.835529</td>\n",
       "      <td>101.150328</td>\n",
       "      <td>17.953793</td>\n",
       "      <td>27.809414</td>\n",
       "      <td>1.960037</td>\n",
       "      <td>6523.606931</td>\n",
       "      <td>...</td>\n",
       "      <td>0.029035</td>\n",
       "      <td>0.000312</td>\n",
       "      <td>0.000312</td>\n",
       "      <td>0.215111</td>\n",
       "      <td>0.018108</td>\n",
       "      <td>0.019357</td>\n",
       "      <td>0.026225</td>\n",
       "      <td>0.091477</td>\n",
       "      <td>0.242897</td>\n",
       "      <td>0.125507</td>\n",
       "    </tr>\n",
       "    <tr>\n",
       "      <th>std</th>\n",
       "      <td>0.495359</td>\n",
       "      <td>9.702193</td>\n",
       "      <td>2.669664</td>\n",
       "      <td>5.490491</td>\n",
       "      <td>19.438126</td>\n",
       "      <td>9.208158</td>\n",
       "      <td>1.667830</td>\n",
       "      <td>5.039845</td>\n",
       "      <td>1.033010</td>\n",
       "      <td>24398.873936</td>\n",
       "      <td>...</td>\n",
       "      <td>0.167932</td>\n",
       "      <td>0.017669</td>\n",
       "      <td>0.017669</td>\n",
       "      <td>0.410963</td>\n",
       "      <td>0.133363</td>\n",
       "      <td>0.137797</td>\n",
       "      <td>0.159830</td>\n",
       "      <td>0.288331</td>\n",
       "      <td>0.428900</td>\n",
       "      <td>0.331345</td>\n",
       "    </tr>\n",
       "    <tr>\n",
       "      <th>min</th>\n",
       "      <td>1.000000</td>\n",
       "      <td>35.000000</td>\n",
       "      <td>1.000000</td>\n",
       "      <td>23.599995</td>\n",
       "      <td>0.000000</td>\n",
       "      <td>0.000000</td>\n",
       "      <td>0.000000</td>\n",
       "      <td>0.000000</td>\n",
       "      <td>0.000000</td>\n",
       "      <td>0.000000</td>\n",
       "      <td>...</td>\n",
       "      <td>0.000000</td>\n",
       "      <td>0.000000</td>\n",
       "      <td>0.000000</td>\n",
       "      <td>0.000000</td>\n",
       "      <td>0.000000</td>\n",
       "      <td>0.000000</td>\n",
       "      <td>0.000000</td>\n",
       "      <td>0.000000</td>\n",
       "      <td>0.000000</td>\n",
       "      <td>0.000000</td>\n",
       "    </tr>\n",
       "    <tr>\n",
       "      <th>25%</th>\n",
       "      <td>1.000000</td>\n",
       "      <td>42.000000</td>\n",
       "      <td>2.000000</td>\n",
       "      <td>36.774998</td>\n",
       "      <td>90.000000</td>\n",
       "      <td>95.000000</td>\n",
       "      <td>17.000000</td>\n",
       "      <td>24.430611</td>\n",
       "      <td>1.000000</td>\n",
       "      <td>1.000000</td>\n",
       "      <td>...</td>\n",
       "      <td>0.000000</td>\n",
       "      <td>0.000000</td>\n",
       "      <td>0.000000</td>\n",
       "      <td>0.000000</td>\n",
       "      <td>0.000000</td>\n",
       "      <td>0.000000</td>\n",
       "      <td>0.000000</td>\n",
       "      <td>0.000000</td>\n",
       "      <td>0.000000</td>\n",
       "      <td>0.000000</td>\n",
       "    </tr>\n",
       "    <tr>\n",
       "      <th>50%</th>\n",
       "      <td>2.000000</td>\n",
       "      <td>50.000000</td>\n",
       "      <td>3.000000</td>\n",
       "      <td>39.308323</td>\n",
       "      <td>97.000000</td>\n",
       "      <td>100.000000</td>\n",
       "      <td>18.000000</td>\n",
       "      <td>27.428571</td>\n",
       "      <td>2.000000</td>\n",
       "      <td>99.000000</td>\n",
       "      <td>...</td>\n",
       "      <td>0.000000</td>\n",
       "      <td>0.000000</td>\n",
       "      <td>0.000000</td>\n",
       "      <td>0.000000</td>\n",
       "      <td>0.000000</td>\n",
       "      <td>0.000000</td>\n",
       "      <td>0.000000</td>\n",
       "      <td>0.000000</td>\n",
       "      <td>0.000000</td>\n",
       "      <td>0.000000</td>\n",
       "    </tr>\n",
       "    <tr>\n",
       "      <th>75%</th>\n",
       "      <td>2.000000</td>\n",
       "      <td>58.000000</td>\n",
       "      <td>8.000000</td>\n",
       "      <td>42.527078</td>\n",
       "      <td>105.000000</td>\n",
       "      <td>106.000000</td>\n",
       "      <td>19.000000</td>\n",
       "      <td>30.676944</td>\n",
       "      <td>3.000000</td>\n",
       "      <td>99.000000</td>\n",
       "      <td>...</td>\n",
       "      <td>0.000000</td>\n",
       "      <td>0.000000</td>\n",
       "      <td>0.000000</td>\n",
       "      <td>0.000000</td>\n",
       "      <td>0.000000</td>\n",
       "      <td>0.000000</td>\n",
       "      <td>0.000000</td>\n",
       "      <td>0.000000</td>\n",
       "      <td>0.000000</td>\n",
       "      <td>0.000000</td>\n",
       "    </tr>\n",
       "    <tr>\n",
       "      <th>max</th>\n",
       "      <td>2.000000</td>\n",
       "      <td>70.000000</td>\n",
       "      <td>8.000000</td>\n",
       "      <td>80.549996</td>\n",
       "      <td>958.000000</td>\n",
       "      <td>146.000000</td>\n",
       "      <td>29.000000</td>\n",
       "      <td>54.862351</td>\n",
       "      <td>3.000000</td>\n",
       "      <td>99999.000000</td>\n",
       "      <td>...</td>\n",
       "      <td>1.000000</td>\n",
       "      <td>1.000000</td>\n",
       "      <td>1.000000</td>\n",
       "      <td>1.000000</td>\n",
       "      <td>1.000000</td>\n",
       "      <td>1.000000</td>\n",
       "      <td>1.000000</td>\n",
       "      <td>1.000000</td>\n",
       "      <td>1.000000</td>\n",
       "      <td>1.000000</td>\n",
       "    </tr>\n",
       "  </tbody>\n",
       "</table>\n",
       "<p>8 rows × 111 columns</p>\n",
       "</div>"
      ],
      "text/plain": [
       "          GenderID          Age    LastEduID    MET_Final  WaistCircumference  \\\n",
       "count  3203.000000  3203.000000  3203.000000  3203.000000         3203.000000   \n",
       "mean      1.568530    50.290665     4.001561    40.135049           97.835529   \n",
       "std       0.495359     9.702193     2.669664     5.490491           19.438126   \n",
       "min       1.000000    35.000000     1.000000    23.599995            0.000000   \n",
       "25%       1.000000    42.000000     2.000000    36.774998           90.000000   \n",
       "50%       2.000000    50.000000     3.000000    39.308323           97.000000   \n",
       "75%       2.000000    58.000000     8.000000    42.527078          105.000000   \n",
       "max       2.000000    70.000000     8.000000    80.549996          958.000000   \n",
       "\n",
       "       HipCircumference  WristCircumference          BMI   HasJob_new  \\\n",
       "count       3203.000000         3203.000000  3203.000000  3203.000000   \n",
       "mean         101.150328           17.953793    27.809414     1.960037   \n",
       "std            9.208158            1.667830     5.039845     1.033010   \n",
       "min            0.000000            0.000000     0.000000     0.000000   \n",
       "25%           95.000000           17.000000    24.430611     1.000000   \n",
       "50%          100.000000           18.000000    27.428571     2.000000   \n",
       "75%          106.000000           19.000000    30.676944     3.000000   \n",
       "max          146.000000           29.000000    54.862351     3.000000   \n",
       "\n",
       "       Employmentstatus  ...  HasChronicLungDisease  HasHepatitisC  \\\n",
       "count       3203.000000  ...            3203.000000    3203.000000   \n",
       "mean        6523.606931  ...               0.029035       0.000312   \n",
       "std        24398.873936  ...               0.167932       0.017669   \n",
       "min            0.000000  ...               0.000000       0.000000   \n",
       "25%            1.000000  ...               0.000000       0.000000   \n",
       "50%           99.000000  ...               0.000000       0.000000   \n",
       "75%           99.000000  ...               0.000000       0.000000   \n",
       "max        99999.000000  ...               1.000000       1.000000   \n",
       "\n",
       "       HasHepatitisB  HasFattyLiver  HasRenalFailure    HasStroke  \\\n",
       "count    3203.000000    3203.000000      3203.000000  3203.000000   \n",
       "mean        0.000312       0.215111         0.018108     0.019357   \n",
       "std         0.017669       0.410963         0.133363     0.137797   \n",
       "min         0.000000       0.000000         0.000000     0.000000   \n",
       "25%         0.000000       0.000000         0.000000     0.000000   \n",
       "50%         0.000000       0.000000         0.000000     0.000000   \n",
       "75%         0.000000       0.000000         0.000000     0.000000   \n",
       "max         1.000000       1.000000         1.000000     1.000000   \n",
       "\n",
       "             HasMI  HasCardiacDisease  HasHypertension  HasDiabetes  \n",
       "count  3203.000000        3203.000000      3203.000000  3203.000000  \n",
       "mean      0.026225           0.091477         0.242897     0.125507  \n",
       "std       0.159830           0.288331         0.428900     0.331345  \n",
       "min       0.000000           0.000000         0.000000     0.000000  \n",
       "25%       0.000000           0.000000         0.000000     0.000000  \n",
       "50%       0.000000           0.000000         0.000000     0.000000  \n",
       "75%       0.000000           0.000000         0.000000     0.000000  \n",
       "max       1.000000           1.000000         1.000000     1.000000  \n",
       "\n",
       "[8 rows x 111 columns]"
      ]
     },
     "execution_count": 118,
     "metadata": {},
     "output_type": "execute_result"
    }
   ],
   "source": [
    "data.describe()"
   ]
  },
  {
   "cell_type": "code",
   "execution_count": 119,
   "id": "6f89d177-f55d-45c1-827a-3dd4b622e344",
   "metadata": {},
   "outputs": [
    {
     "data": {
      "text/plain": [
       "0    2801\n",
       "1     402\n",
       "Name: HasDiabetes, dtype: int64"
      ]
     },
     "execution_count": 119,
     "metadata": {},
     "output_type": "execute_result"
    }
   ],
   "source": [
    "data['HasDiabetes'].value_counts()"
   ]
  },
  {
   "cell_type": "code",
   "execution_count": 120,
   "id": "6d797951-fc5e-4b9d-a05a-f3256432eaee",
   "metadata": {},
   "outputs": [
    {
     "data": {
      "text/plain": [
       "0    87.45\n",
       "1    12.55\n",
       "Name: HasDiabetes, dtype: float64"
      ]
     },
     "execution_count": 120,
     "metadata": {},
     "output_type": "execute_result"
    }
   ],
   "source": [
    "round(data.HasDiabetes.value_counts()*100/len(data),2)"
   ]
  },
  {
   "cell_type": "code",
   "execution_count": 121,
   "id": "e1855c07-104b-4329-a3e4-d2c32cbafe8a",
   "metadata": {},
   "outputs": [
    {
     "name": "stdout",
     "output_type": "stream",
     "text": [
      "<class 'pandas.core.frame.DataFrame'>\n",
      "RangeIndex: 3203 entries, 0 to 3202\n",
      "Data columns (total 111 columns):\n",
      " #    Column                    Dtype  \n",
      "---   ------                    -----  \n",
      " 0    GenderID                  int64  \n",
      " 1    Age                       int64  \n",
      " 2    LastEduID                 int64  \n",
      " 3    MET_Final                 float64\n",
      " 4    WaistCircumference        float64\n",
      " 5    HipCircumference          float64\n",
      " 6    WristCircumference        float64\n",
      " 7    BMI                       float64\n",
      " 8    HasJob_new                int64  \n",
      " 9    Employmentstatus          int64  \n",
      " 10   SleepDuration24h1         float64\n",
      " 11   SleepDurationMidDay1      float64\n",
      " 12   TV1                       float64\n",
      " 13   AtDeskWork1               float64\n",
      " 14   Computer1                 float64\n",
      " 15   Eating1                   float64\n",
      " 16   Cooking1                  float64\n",
      " 17   Driving1                  float64\n",
      " 18   Walking1                  float64\n",
      " 19   AerobicExercise1          float64\n",
      " 20   DrivingHeavyVehicle1      float64\n",
      " 21   LightTechnicalJobs1       float64\n",
      " 22   LightAgricultural1        float64\n",
      " 23   HeavyLaborAgricultJobs1   float64\n",
      " 24   HeavyExercise1            float64\n",
      " 25   DPB                       int64  \n",
      " 26   SPB                       int64  \n",
      " 27   RBC                       float64\n",
      " 28   HGB                       float64\n",
      " 29   FBS                       int64  \n",
      " 30   TG                        int64  \n",
      " 31   CHOL                      int64  \n",
      " 32   SGOT                      int64  \n",
      " 33   SGPT                      float64\n",
      " 34   ALP                       int64  \n",
      " 35   HDL.C                     float64\n",
      " 36   GGT                       float64\n",
      " 37   LDL_Calc                  float64\n",
      " 38   WSI_total                 float64\n",
      " 39   UseDrugs                  int64  \n",
      " 40   UseAlcohol                int64  \n",
      " 41   Pizza                     float64\n",
      " 42   TEACOFFEE                 float64\n",
      " 43   BAVARAGE                  float64\n",
      " 44   Pickle                    float64\n",
      " 45   Oil                       float64\n",
      " 46   SimpleSugar               float64\n",
      " 47   Vegetables                float64\n",
      " 48   Nuts                      float64\n",
      " 49   Juice                     float64\n",
      " 50   Fruits                    float64\n",
      " 51   Legumes                   float64\n",
      " 52   Whitemeat                 float64\n",
      " 53   Redmeat                   float64\n",
      " 54   Totalmeat                 float64\n",
      " 55   dairyproduct              float64\n",
      " 56   Wholegrain                float64\n",
      " 57   Nutrient FFQ_protein      float64\n",
      " 58   Total_lipid_fat           float64\n",
      " 59   GrilledFoodIntID          int64  \n",
      " 60   FriedFoodIntID            int64  \n",
      " 61   PotatoFryTypeID           int64  \n",
      " 62   VegFryTypeID              int64  \n",
      " 63   UsedOilTypeID             int64  \n",
      " 64   ReUseMold                 int64  \n",
      " 65   SmokedFoodIntID           int64  \n",
      " 66   FreezMeatTypeID           int64  \n",
      " 67   UsedScratchedTeflon       int64  \n",
      " 68   FoodSaltUsedID            int64  \n",
      " 69   OnionFryTypeID            int64  \n",
      " 70   CookingWareID1            int64  \n",
      " 71   VegKeepDried              int64  \n",
      " 72   VegKeepRefrigerator       int64  \n",
      " 73   VegKeepFreezer            int64  \n",
      " 74   VegKeepFresh              int64  \n",
      " 75   BreadContainerTypeID1     int64  \n",
      " 76   LemonContainerTypeID1     int64  \n",
      " 77   CVD_History               int64  \n",
      " 78   HasPregnancyHypertension  int64  \n",
      " 79   HasMS                     int64  \n",
      " 80   HasLupus                  int64  \n",
      " 81   HasOvarianCancer          int64  \n",
      " 82   HasTongueCancer           int64  \n",
      " 83   HasLaryngealCancer        int64  \n",
      " 84   HasAmnesia                int64  \n",
      " 85   HasDepression             int64  \n",
      " 86   HasEpilepsy               int64  \n",
      " 87   HasBrainAndCNSCancer      int64  \n",
      " 88   HasLungCancer             int64  \n",
      " 89   HasProstateCancer         int64  \n",
      " 90   HasEsophagusCancer        int64  \n",
      " 91   HasHSC                    int64  \n",
      " 92   HasBladderCancer          int64  \n",
      " 93   HasColorectalCancer       int64  \n",
      " 94   HasStomachCancer          int64  \n",
      " 95   HasBreastCancer           int64  \n",
      " 96   HasSkinCancer             int64  \n",
      " 97   HasRheumaticDisease       int64  \n",
      " 98   HasGallstone              int64  \n",
      " 99   HasKidneyStone            int64  \n",
      " 100  HasThyroidDisease         int64  \n",
      " 101  HasChronicLungDisease     int64  \n",
      " 102  HasHepatitisC             int64  \n",
      " 103  HasHepatitisB             int64  \n",
      " 104  HasFattyLiver             int64  \n",
      " 105  HasRenalFailure           int64  \n",
      " 106  HasStroke                 int64  \n",
      " 107  HasMI                     int64  \n",
      " 108  HasCardiacDisease         int64  \n",
      " 109  HasHypertension           int64  \n",
      " 110  HasDiabetes               int64  \n",
      "dtypes: float64(45), int64(66)\n",
      "memory usage: 2.7 MB\n"
     ]
    }
   ],
   "source": [
    "data.info(verbose=True)"
   ]
  },
  {
   "cell_type": "code",
   "execution_count": 122,
   "id": "493882ba-91c7-4529-911e-ac657b87451e",
   "metadata": {},
   "outputs": [
    {
     "data": {
      "text/plain": [
       "Pizza               0.03\n",
       "GenderID            0.00\n",
       "Wholegrain          0.00\n",
       "HasOvarianCancer    0.00\n",
       "HasLupus            0.00\n",
       "                    ... \n",
       "SGPT                0.00\n",
       "SGOT                0.00\n",
       "CHOL                0.00\n",
       "TG                  0.00\n",
       "HasDiabetes         0.00\n",
       "Length: 111, dtype: float64"
      ]
     },
     "execution_count": 122,
     "metadata": {},
     "output_type": "execute_result"
    }
   ],
   "source": [
    "round(data.isnull().sum().sort_values(ascending=False)*100/len(data),2)"
   ]
  },
  {
   "cell_type": "code",
   "execution_count": 123,
   "id": "2d2a5e4a-94ab-4705-ba7f-33a62a0e793f",
   "metadata": {},
   "outputs": [
    {
     "data": {
      "text/plain": [
       "GenderID                 2\n",
       "Age                     36\n",
       "LastEduID                8\n",
       "MET_Final             2953\n",
       "WaistCircumference     167\n",
       "                      ... \n",
       "HasStroke                2\n",
       "HasMI                    2\n",
       "HasCardiacDisease        2\n",
       "HasHypertension          2\n",
       "HasDiabetes              2\n",
       "Length: 111, dtype: int64"
      ]
     },
     "execution_count": 123,
     "metadata": {},
     "output_type": "execute_result"
    }
   ],
   "source": [
    "data.nunique()"
   ]
  },
  {
   "cell_type": "code",
   "execution_count": 124,
   "id": "4fe17ee6-e2ea-4a6b-9d24-1c3d0c199736",
   "metadata": {},
   "outputs": [
    {
     "data": {
      "text/plain": [
       "(3203, 111)"
      ]
     },
     "execution_count": 124,
     "metadata": {},
     "output_type": "execute_result"
    }
   ],
   "source": [
    "data.shape"
   ]
  },
  {
   "cell_type": "code",
   "execution_count": 125,
   "id": "b08ea894-ff41-4c67-8cb6-16a240e83a88",
   "metadata": {},
   "outputs": [
    {
     "data": {
      "text/plain": [
       "Index(['GenderID', 'Age', 'LastEduID', 'MET_Final', 'WaistCircumference',\n",
       "       'HipCircumference', 'WristCircumference', 'BMI', 'HasJob_new',\n",
       "       'Employmentstatus',\n",
       "       ...\n",
       "       'HasChronicLungDisease', 'HasHepatitisC', 'HasHepatitisB',\n",
       "       'HasFattyLiver', 'HasRenalFailure', 'HasStroke', 'HasMI',\n",
       "       'HasCardiacDisease', 'HasHypertension', 'HasDiabetes'],\n",
       "      dtype='object', length=111)"
      ]
     },
     "execution_count": 125,
     "metadata": {},
     "output_type": "execute_result"
    }
   ],
   "source": [
    "data.columns"
   ]
  },
  {
   "cell_type": "code",
   "execution_count": 126,
   "id": "76886f2c-5aeb-4171-b758-cb1b0eeb321c",
   "metadata": {},
   "outputs": [],
   "source": [
    "if not sys.warnoptions:\n",
    "    warnings.simplefilter(\"ignore\")\n",
    "    os.environ[\"PYTHONWARNINGS\"] = \"ignore\" # Also affect subprocesses"
   ]
  },
  {
   "cell_type": "code",
   "execution_count": 127,
   "id": "4152c703-2c4e-4edc-a6f8-e0a60243eee8",
   "metadata": {},
   "outputs": [
    {
     "data": {
      "text/html": [
       "<div>\n",
       "<style scoped>\n",
       "    .dataframe tbody tr th:only-of-type {\n",
       "        vertical-align: middle;\n",
       "    }\n",
       "\n",
       "    .dataframe tbody tr th {\n",
       "        vertical-align: top;\n",
       "    }\n",
       "\n",
       "    .dataframe thead th {\n",
       "        text-align: right;\n",
       "    }\n",
       "</style>\n",
       "<table border=\"1\" class=\"dataframe\">\n",
       "  <thead>\n",
       "    <tr style=\"text-align: right;\">\n",
       "      <th></th>\n",
       "      <th>GenderID</th>\n",
       "      <th>Age</th>\n",
       "      <th>LastEduID</th>\n",
       "      <th>MET_Final</th>\n",
       "      <th>WaistCircumference</th>\n",
       "      <th>HipCircumference</th>\n",
       "      <th>WristCircumference</th>\n",
       "      <th>BMI</th>\n",
       "      <th>HasJob_new</th>\n",
       "      <th>Employmentstatus</th>\n",
       "      <th>...</th>\n",
       "      <th>HasChronicLungDisease</th>\n",
       "      <th>HasHepatitisC</th>\n",
       "      <th>HasHepatitisB</th>\n",
       "      <th>HasFattyLiver</th>\n",
       "      <th>HasRenalFailure</th>\n",
       "      <th>HasStroke</th>\n",
       "      <th>HasMI</th>\n",
       "      <th>HasCardiacDisease</th>\n",
       "      <th>HasHypertension</th>\n",
       "      <th>HasDiabetes</th>\n",
       "    </tr>\n",
       "  </thead>\n",
       "  <tbody>\n",
       "    <tr>\n",
       "      <th>0</th>\n",
       "      <td>2</td>\n",
       "      <td>44</td>\n",
       "      <td>3</td>\n",
       "      <td>34.899995</td>\n",
       "      <td>116.0</td>\n",
       "      <td>120.0</td>\n",
       "      <td>19.0</td>\n",
       "      <td>36.652780</td>\n",
       "      <td>1</td>\n",
       "      <td>1</td>\n",
       "      <td>...</td>\n",
       "      <td>0</td>\n",
       "      <td>0</td>\n",
       "      <td>0</td>\n",
       "      <td>1</td>\n",
       "      <td>0</td>\n",
       "      <td>0</td>\n",
       "      <td>0</td>\n",
       "      <td>0</td>\n",
       "      <td>0</td>\n",
       "      <td>0</td>\n",
       "    </tr>\n",
       "    <tr>\n",
       "      <th>1</th>\n",
       "      <td>1</td>\n",
       "      <td>52</td>\n",
       "      <td>1</td>\n",
       "      <td>48.075000</td>\n",
       "      <td>99.0</td>\n",
       "      <td>105.0</td>\n",
       "      <td>18.0</td>\n",
       "      <td>28.256990</td>\n",
       "      <td>1</td>\n",
       "      <td>1</td>\n",
       "      <td>...</td>\n",
       "      <td>0</td>\n",
       "      <td>0</td>\n",
       "      <td>0</td>\n",
       "      <td>0</td>\n",
       "      <td>0</td>\n",
       "      <td>0</td>\n",
       "      <td>0</td>\n",
       "      <td>0</td>\n",
       "      <td>0</td>\n",
       "      <td>0</td>\n",
       "    </tr>\n",
       "    <tr>\n",
       "      <th>2</th>\n",
       "      <td>1</td>\n",
       "      <td>70</td>\n",
       "      <td>2</td>\n",
       "      <td>39.416654</td>\n",
       "      <td>89.0</td>\n",
       "      <td>94.0</td>\n",
       "      <td>16.0</td>\n",
       "      <td>20.973709</td>\n",
       "      <td>2</td>\n",
       "      <td>99999</td>\n",
       "      <td>...</td>\n",
       "      <td>0</td>\n",
       "      <td>0</td>\n",
       "      <td>0</td>\n",
       "      <td>0</td>\n",
       "      <td>0</td>\n",
       "      <td>0</td>\n",
       "      <td>0</td>\n",
       "      <td>1</td>\n",
       "      <td>0</td>\n",
       "      <td>0</td>\n",
       "    </tr>\n",
       "    <tr>\n",
       "      <th>3</th>\n",
       "      <td>2</td>\n",
       "      <td>70</td>\n",
       "      <td>8</td>\n",
       "      <td>51.175000</td>\n",
       "      <td>96.0</td>\n",
       "      <td>106.0</td>\n",
       "      <td>17.0</td>\n",
       "      <td>30.081371</td>\n",
       "      <td>0</td>\n",
       "      <td>999</td>\n",
       "      <td>...</td>\n",
       "      <td>0</td>\n",
       "      <td>0</td>\n",
       "      <td>0</td>\n",
       "      <td>0</td>\n",
       "      <td>0</td>\n",
       "      <td>1</td>\n",
       "      <td>0</td>\n",
       "      <td>0</td>\n",
       "      <td>1</td>\n",
       "      <td>0</td>\n",
       "    </tr>\n",
       "    <tr>\n",
       "      <th>4</th>\n",
       "      <td>2</td>\n",
       "      <td>47</td>\n",
       "      <td>1</td>\n",
       "      <td>34.841659</td>\n",
       "      <td>90.0</td>\n",
       "      <td>97.0</td>\n",
       "      <td>17.5</td>\n",
       "      <td>25.815689</td>\n",
       "      <td>3</td>\n",
       "      <td>99</td>\n",
       "      <td>...</td>\n",
       "      <td>0</td>\n",
       "      <td>0</td>\n",
       "      <td>0</td>\n",
       "      <td>0</td>\n",
       "      <td>0</td>\n",
       "      <td>0</td>\n",
       "      <td>0</td>\n",
       "      <td>0</td>\n",
       "      <td>0</td>\n",
       "      <td>0</td>\n",
       "    </tr>\n",
       "    <tr>\n",
       "      <th>...</th>\n",
       "      <td>...</td>\n",
       "      <td>...</td>\n",
       "      <td>...</td>\n",
       "      <td>...</td>\n",
       "      <td>...</td>\n",
       "      <td>...</td>\n",
       "      <td>...</td>\n",
       "      <td>...</td>\n",
       "      <td>...</td>\n",
       "      <td>...</td>\n",
       "      <td>...</td>\n",
       "      <td>...</td>\n",
       "      <td>...</td>\n",
       "      <td>...</td>\n",
       "      <td>...</td>\n",
       "      <td>...</td>\n",
       "      <td>...</td>\n",
       "      <td>...</td>\n",
       "      <td>...</td>\n",
       "      <td>...</td>\n",
       "      <td>...</td>\n",
       "    </tr>\n",
       "    <tr>\n",
       "      <th>3198</th>\n",
       "      <td>2</td>\n",
       "      <td>58</td>\n",
       "      <td>8</td>\n",
       "      <td>40.991661</td>\n",
       "      <td>115.0</td>\n",
       "      <td>112.0</td>\n",
       "      <td>19.0</td>\n",
       "      <td>34.105851</td>\n",
       "      <td>3</td>\n",
       "      <td>99</td>\n",
       "      <td>...</td>\n",
       "      <td>0</td>\n",
       "      <td>0</td>\n",
       "      <td>0</td>\n",
       "      <td>0</td>\n",
       "      <td>0</td>\n",
       "      <td>0</td>\n",
       "      <td>0</td>\n",
       "      <td>0</td>\n",
       "      <td>1</td>\n",
       "      <td>0</td>\n",
       "    </tr>\n",
       "    <tr>\n",
       "      <th>3199</th>\n",
       "      <td>2</td>\n",
       "      <td>50</td>\n",
       "      <td>8</td>\n",
       "      <td>37.108330</td>\n",
       "      <td>94.0</td>\n",
       "      <td>99.0</td>\n",
       "      <td>16.0</td>\n",
       "      <td>24.878345</td>\n",
       "      <td>3</td>\n",
       "      <td>99</td>\n",
       "      <td>...</td>\n",
       "      <td>0</td>\n",
       "      <td>0</td>\n",
       "      <td>0</td>\n",
       "      <td>0</td>\n",
       "      <td>0</td>\n",
       "      <td>0</td>\n",
       "      <td>0</td>\n",
       "      <td>0</td>\n",
       "      <td>0</td>\n",
       "      <td>0</td>\n",
       "    </tr>\n",
       "    <tr>\n",
       "      <th>3200</th>\n",
       "      <td>2</td>\n",
       "      <td>65</td>\n",
       "      <td>8</td>\n",
       "      <td>39.700000</td>\n",
       "      <td>93.0</td>\n",
       "      <td>99.0</td>\n",
       "      <td>16.0</td>\n",
       "      <td>24.609734</td>\n",
       "      <td>3</td>\n",
       "      <td>99</td>\n",
       "      <td>...</td>\n",
       "      <td>0</td>\n",
       "      <td>0</td>\n",
       "      <td>0</td>\n",
       "      <td>0</td>\n",
       "      <td>0</td>\n",
       "      <td>1</td>\n",
       "      <td>0</td>\n",
       "      <td>0</td>\n",
       "      <td>1</td>\n",
       "      <td>0</td>\n",
       "    </tr>\n",
       "    <tr>\n",
       "      <th>3201</th>\n",
       "      <td>1</td>\n",
       "      <td>42</td>\n",
       "      <td>1</td>\n",
       "      <td>40.449995</td>\n",
       "      <td>97.0</td>\n",
       "      <td>96.0</td>\n",
       "      <td>18.0</td>\n",
       "      <td>23.999459</td>\n",
       "      <td>1</td>\n",
       "      <td>1</td>\n",
       "      <td>...</td>\n",
       "      <td>0</td>\n",
       "      <td>0</td>\n",
       "      <td>0</td>\n",
       "      <td>0</td>\n",
       "      <td>0</td>\n",
       "      <td>0</td>\n",
       "      <td>0</td>\n",
       "      <td>0</td>\n",
       "      <td>0</td>\n",
       "      <td>0</td>\n",
       "    </tr>\n",
       "    <tr>\n",
       "      <th>3202</th>\n",
       "      <td>2</td>\n",
       "      <td>38</td>\n",
       "      <td>3</td>\n",
       "      <td>39.508321</td>\n",
       "      <td>92.0</td>\n",
       "      <td>94.0</td>\n",
       "      <td>17.0</td>\n",
       "      <td>26.527905</td>\n",
       "      <td>3</td>\n",
       "      <td>99</td>\n",
       "      <td>...</td>\n",
       "      <td>0</td>\n",
       "      <td>0</td>\n",
       "      <td>0</td>\n",
       "      <td>0</td>\n",
       "      <td>0</td>\n",
       "      <td>0</td>\n",
       "      <td>0</td>\n",
       "      <td>0</td>\n",
       "      <td>0</td>\n",
       "      <td>0</td>\n",
       "    </tr>\n",
       "  </tbody>\n",
       "</table>\n",
       "<p>3203 rows × 111 columns</p>\n",
       "</div>"
      ],
      "text/plain": [
       "      GenderID  Age  LastEduID  MET_Final  WaistCircumference  \\\n",
       "0            2   44          3  34.899995               116.0   \n",
       "1            1   52          1  48.075000                99.0   \n",
       "2            1   70          2  39.416654                89.0   \n",
       "3            2   70          8  51.175000                96.0   \n",
       "4            2   47          1  34.841659                90.0   \n",
       "...        ...  ...        ...        ...                 ...   \n",
       "3198         2   58          8  40.991661               115.0   \n",
       "3199         2   50          8  37.108330                94.0   \n",
       "3200         2   65          8  39.700000                93.0   \n",
       "3201         1   42          1  40.449995                97.0   \n",
       "3202         2   38          3  39.508321                92.0   \n",
       "\n",
       "      HipCircumference  WristCircumference        BMI  HasJob_new  \\\n",
       "0                120.0                19.0  36.652780           1   \n",
       "1                105.0                18.0  28.256990           1   \n",
       "2                 94.0                16.0  20.973709           2   \n",
       "3                106.0                17.0  30.081371           0   \n",
       "4                 97.0                17.5  25.815689           3   \n",
       "...                ...                 ...        ...         ...   \n",
       "3198             112.0                19.0  34.105851           3   \n",
       "3199              99.0                16.0  24.878345           3   \n",
       "3200              99.0                16.0  24.609734           3   \n",
       "3201              96.0                18.0  23.999459           1   \n",
       "3202              94.0                17.0  26.527905           3   \n",
       "\n",
       "      Employmentstatus  ...  HasChronicLungDisease  HasHepatitisC  \\\n",
       "0                    1  ...                      0              0   \n",
       "1                    1  ...                      0              0   \n",
       "2                99999  ...                      0              0   \n",
       "3                  999  ...                      0              0   \n",
       "4                   99  ...                      0              0   \n",
       "...                ...  ...                    ...            ...   \n",
       "3198                99  ...                      0              0   \n",
       "3199                99  ...                      0              0   \n",
       "3200                99  ...                      0              0   \n",
       "3201                 1  ...                      0              0   \n",
       "3202                99  ...                      0              0   \n",
       "\n",
       "      HasHepatitisB  HasFattyLiver  HasRenalFailure  HasStroke  HasMI  \\\n",
       "0                 0              1                0          0      0   \n",
       "1                 0              0                0          0      0   \n",
       "2                 0              0                0          0      0   \n",
       "3                 0              0                0          1      0   \n",
       "4                 0              0                0          0      0   \n",
       "...             ...            ...              ...        ...    ...   \n",
       "3198              0              0                0          0      0   \n",
       "3199              0              0                0          0      0   \n",
       "3200              0              0                0          1      0   \n",
       "3201              0              0                0          0      0   \n",
       "3202              0              0                0          0      0   \n",
       "\n",
       "      HasCardiacDisease  HasHypertension  HasDiabetes  \n",
       "0                     0                0            0  \n",
       "1                     0                0            0  \n",
       "2                     1                0            0  \n",
       "3                     0                1            0  \n",
       "4                     0                0            0  \n",
       "...                 ...              ...          ...  \n",
       "3198                  0                1            0  \n",
       "3199                  0                0            0  \n",
       "3200                  0                1            0  \n",
       "3201                  0                0            0  \n",
       "3202                  0                0            0  \n",
       "\n",
       "[3203 rows x 111 columns]"
      ]
     },
     "execution_count": 127,
     "metadata": {},
     "output_type": "execute_result"
    }
   ],
   "source": [
    "data"
   ]
  },
  {
   "cell_type": "code",
   "execution_count": 128,
   "id": "5eed880f-b1b7-4710-a1da-dd5bc6e3cc9c",
   "metadata": {},
   "outputs": [],
   "source": [
    "X = data.drop(columns='HasDiabetes')\n",
    "y = data.HasDiabetes\n",
    "from sklearn.impute import SimpleImputer\n",
    "freq_imputer = SimpleImputer(strategy='most_frequent')\n",
    "X_freq_imputed = pd.DataFrame(freq_imputer.fit_transform(X))\n",
    "X_freq_imputed.columns = X.columns"
   ]
  },
  {
   "cell_type": "code",
   "execution_count": 129,
   "id": "9e23e0e8-0638-4db0-b83c-b452ff1b707e",
   "metadata": {},
   "outputs": [],
   "source": [
    "from sklearn.feature_selection import VarianceThreshold\n",
    "threshold_n=0.95\n",
    "sel = VarianceThreshold(threshold=(threshold_n* (1 - threshold_n) ))\n",
    "sel_var=sel.fit_transform(X_freq_imputed)\n",
    "X_freq_imputed=X_freq_imputed[X_freq_imputed.columns[sel.get_support(indices=True)]]"
   ]
  },
  {
   "cell_type": "code",
   "execution_count": 130,
   "id": "659df0a2-2078-48d4-9643-0432e938285d",
   "metadata": {},
   "outputs": [
    {
     "name": "stdout",
     "output_type": "stream",
     "text": [
      "Before Sampling, counts of label '1': 402\n",
      "Before Sampling, counts of label '0': 2801 \n",
      "\n",
      "After Sampling, the shape of train_X: (5602, 79)\n",
      "After Sampling, the shape of train_y: (5602,) \n",
      "\n",
      "After Sampling, counts of label '1': 2801\n",
      "After Sampling, counts of label '0': 2801\n"
     ]
    }
   ],
   "source": [
    "print(\"Before Sampling, counts of label '1': {}\".format(sum(y == 1))) \n",
    "print(\"Before Sampling, counts of label '0': {} \\n\".format(sum(y == 0)))\n",
    "\n",
    "sm = SMOTE(random_state = 123) \n",
    "X_resampled, y_resampled  = sm.fit_resample(X_freq_imputed, y.ravel())\n",
    "#cc = ClusterCentroids(random_state=123)\n",
    "#X_resampled, y_resampled  = cc.fit_resample(X_freq_imputed, y.ravel())\n",
    "\n",
    "#rus = RandomUnderSampler(random_state=123)\n",
    "#X_resampled, y_resampled  = rus.fit_resample(X_freq_imputed, y)\n",
    "\n",
    "print('After Sampling, the shape of train_X: {}'.format(X_resampled.shape)) \n",
    "print('After Sampling, the shape of train_y: {} \\n'.format(y_resampled.shape)) \n",
    "  \n",
    "print(\"After Sampling, counts of label '1': {}\".format(sum(y_resampled == 1))) \n",
    "print(\"After Sampling, counts of label '0': {}\".format(sum(y_resampled == 0))) "
   ]
  },
  {
   "cell_type": "code",
   "execution_count": 131,
   "id": "48f169f2-fa33-4c6c-8966-aa2879bcfbaf",
   "metadata": {},
   "outputs": [
    {
     "data": {
      "text/html": [
       "<div>\n",
       "<style scoped>\n",
       "    .dataframe tbody tr th:only-of-type {\n",
       "        vertical-align: middle;\n",
       "    }\n",
       "\n",
       "    .dataframe tbody tr th {\n",
       "        vertical-align: top;\n",
       "    }\n",
       "\n",
       "    .dataframe thead th {\n",
       "        text-align: right;\n",
       "    }\n",
       "</style>\n",
       "<table border=\"1\" class=\"dataframe\">\n",
       "  <thead>\n",
       "    <tr style=\"text-align: right;\">\n",
       "      <th></th>\n",
       "      <th>GenderID</th>\n",
       "      <th>Age</th>\n",
       "      <th>LastEduID</th>\n",
       "      <th>MET_Final</th>\n",
       "      <th>WaistCircumference</th>\n",
       "      <th>HipCircumference</th>\n",
       "      <th>WristCircumference</th>\n",
       "      <th>BMI</th>\n",
       "      <th>HasJob_new</th>\n",
       "      <th>Employmentstatus</th>\n",
       "      <th>...</th>\n",
       "      <th>VegKeepFreezer</th>\n",
       "      <th>BreadContainerTypeID1</th>\n",
       "      <th>LemonContainerTypeID1</th>\n",
       "      <th>CVD_History</th>\n",
       "      <th>HasDepression</th>\n",
       "      <th>HasKidneyStone</th>\n",
       "      <th>HasThyroidDisease</th>\n",
       "      <th>HasFattyLiver</th>\n",
       "      <th>HasCardiacDisease</th>\n",
       "      <th>HasHypertension</th>\n",
       "    </tr>\n",
       "  </thead>\n",
       "  <tbody>\n",
       "    <tr>\n",
       "      <th>0</th>\n",
       "      <td>2.00000</td>\n",
       "      <td>44.000000</td>\n",
       "      <td>3.000000</td>\n",
       "      <td>34.899995</td>\n",
       "      <td>116.000000</td>\n",
       "      <td>120.000000</td>\n",
       "      <td>19.000000</td>\n",
       "      <td>36.652780</td>\n",
       "      <td>1.0</td>\n",
       "      <td>1.0</td>\n",
       "      <td>...</td>\n",
       "      <td>0.000000</td>\n",
       "      <td>1.000000</td>\n",
       "      <td>4.000000</td>\n",
       "      <td>0.000000</td>\n",
       "      <td>0.000000</td>\n",
       "      <td>0.000000</td>\n",
       "      <td>0.0</td>\n",
       "      <td>1.000000</td>\n",
       "      <td>0.000000</td>\n",
       "      <td>0.000000</td>\n",
       "    </tr>\n",
       "    <tr>\n",
       "      <th>1</th>\n",
       "      <td>1.00000</td>\n",
       "      <td>52.000000</td>\n",
       "      <td>1.000000</td>\n",
       "      <td>48.075000</td>\n",
       "      <td>99.000000</td>\n",
       "      <td>105.000000</td>\n",
       "      <td>18.000000</td>\n",
       "      <td>28.256990</td>\n",
       "      <td>1.0</td>\n",
       "      <td>1.0</td>\n",
       "      <td>...</td>\n",
       "      <td>0.000000</td>\n",
       "      <td>1.000000</td>\n",
       "      <td>4.000000</td>\n",
       "      <td>0.000000</td>\n",
       "      <td>0.000000</td>\n",
       "      <td>0.000000</td>\n",
       "      <td>0.0</td>\n",
       "      <td>0.000000</td>\n",
       "      <td>0.000000</td>\n",
       "      <td>0.000000</td>\n",
       "    </tr>\n",
       "    <tr>\n",
       "      <th>2</th>\n",
       "      <td>1.00000</td>\n",
       "      <td>70.000000</td>\n",
       "      <td>2.000000</td>\n",
       "      <td>39.416654</td>\n",
       "      <td>89.000000</td>\n",
       "      <td>94.000000</td>\n",
       "      <td>16.000000</td>\n",
       "      <td>20.973709</td>\n",
       "      <td>2.0</td>\n",
       "      <td>99999.0</td>\n",
       "      <td>...</td>\n",
       "      <td>0.000000</td>\n",
       "      <td>1.000000</td>\n",
       "      <td>1.000000</td>\n",
       "      <td>1.000000</td>\n",
       "      <td>0.000000</td>\n",
       "      <td>0.000000</td>\n",
       "      <td>0.0</td>\n",
       "      <td>0.000000</td>\n",
       "      <td>1.000000</td>\n",
       "      <td>0.000000</td>\n",
       "    </tr>\n",
       "    <tr>\n",
       "      <th>3</th>\n",
       "      <td>2.00000</td>\n",
       "      <td>70.000000</td>\n",
       "      <td>8.000000</td>\n",
       "      <td>51.175000</td>\n",
       "      <td>96.000000</td>\n",
       "      <td>106.000000</td>\n",
       "      <td>17.000000</td>\n",
       "      <td>30.081371</td>\n",
       "      <td>0.0</td>\n",
       "      <td>999.0</td>\n",
       "      <td>...</td>\n",
       "      <td>0.000000</td>\n",
       "      <td>1.000000</td>\n",
       "      <td>1.000000</td>\n",
       "      <td>1.000000</td>\n",
       "      <td>0.000000</td>\n",
       "      <td>0.000000</td>\n",
       "      <td>0.0</td>\n",
       "      <td>0.000000</td>\n",
       "      <td>0.000000</td>\n",
       "      <td>1.000000</td>\n",
       "    </tr>\n",
       "    <tr>\n",
       "      <th>4</th>\n",
       "      <td>2.00000</td>\n",
       "      <td>47.000000</td>\n",
       "      <td>1.000000</td>\n",
       "      <td>34.841659</td>\n",
       "      <td>90.000000</td>\n",
       "      <td>97.000000</td>\n",
       "      <td>17.500000</td>\n",
       "      <td>25.815689</td>\n",
       "      <td>3.0</td>\n",
       "      <td>99.0</td>\n",
       "      <td>...</td>\n",
       "      <td>1.000000</td>\n",
       "      <td>1.000000</td>\n",
       "      <td>4.000000</td>\n",
       "      <td>0.000000</td>\n",
       "      <td>0.000000</td>\n",
       "      <td>0.000000</td>\n",
       "      <td>0.0</td>\n",
       "      <td>0.000000</td>\n",
       "      <td>0.000000</td>\n",
       "      <td>0.000000</td>\n",
       "    </tr>\n",
       "    <tr>\n",
       "      <th>...</th>\n",
       "      <td>...</td>\n",
       "      <td>...</td>\n",
       "      <td>...</td>\n",
       "      <td>...</td>\n",
       "      <td>...</td>\n",
       "      <td>...</td>\n",
       "      <td>...</td>\n",
       "      <td>...</td>\n",
       "      <td>...</td>\n",
       "      <td>...</td>\n",
       "      <td>...</td>\n",
       "      <td>...</td>\n",
       "      <td>...</td>\n",
       "      <td>...</td>\n",
       "      <td>...</td>\n",
       "      <td>...</td>\n",
       "      <td>...</td>\n",
       "      <td>...</td>\n",
       "      <td>...</td>\n",
       "      <td>...</td>\n",
       "      <td>...</td>\n",
       "    </tr>\n",
       "    <tr>\n",
       "      <th>5597</th>\n",
       "      <td>2.00000</td>\n",
       "      <td>57.299195</td>\n",
       "      <td>8.000000</td>\n",
       "      <td>47.297372</td>\n",
       "      <td>88.134059</td>\n",
       "      <td>98.354429</td>\n",
       "      <td>17.574799</td>\n",
       "      <td>24.452339</td>\n",
       "      <td>3.0</td>\n",
       "      <td>99.0</td>\n",
       "      <td>...</td>\n",
       "      <td>0.850403</td>\n",
       "      <td>1.000000</td>\n",
       "      <td>3.551208</td>\n",
       "      <td>0.149597</td>\n",
       "      <td>0.149597</td>\n",
       "      <td>0.149597</td>\n",
       "      <td>0.0</td>\n",
       "      <td>1.000000</td>\n",
       "      <td>0.149597</td>\n",
       "      <td>1.000000</td>\n",
       "    </tr>\n",
       "    <tr>\n",
       "      <th>5598</th>\n",
       "      <td>1.21185</td>\n",
       "      <td>61.423700</td>\n",
       "      <td>6.940751</td>\n",
       "      <td>39.312065</td>\n",
       "      <td>94.970375</td>\n",
       "      <td>96.211850</td>\n",
       "      <td>17.682225</td>\n",
       "      <td>28.205527</td>\n",
       "      <td>2.0</td>\n",
       "      <td>99999.0</td>\n",
       "      <td>...</td>\n",
       "      <td>0.000000</td>\n",
       "      <td>1.635549</td>\n",
       "      <td>1.635549</td>\n",
       "      <td>1.000000</td>\n",
       "      <td>0.211850</td>\n",
       "      <td>0.000000</td>\n",
       "      <td>0.0</td>\n",
       "      <td>0.000000</td>\n",
       "      <td>1.000000</td>\n",
       "      <td>0.211850</td>\n",
       "    </tr>\n",
       "    <tr>\n",
       "      <th>5599</th>\n",
       "      <td>1.37012</td>\n",
       "      <td>57.117109</td>\n",
       "      <td>1.000000</td>\n",
       "      <td>40.425631</td>\n",
       "      <td>106.772530</td>\n",
       "      <td>100.811566</td>\n",
       "      <td>17.370120</td>\n",
       "      <td>29.775992</td>\n",
       "      <td>1.0</td>\n",
       "      <td>1.0</td>\n",
       "      <td>...</td>\n",
       "      <td>0.000000</td>\n",
       "      <td>1.000000</td>\n",
       "      <td>1.000000</td>\n",
       "      <td>0.000000</td>\n",
       "      <td>0.000000</td>\n",
       "      <td>0.000000</td>\n",
       "      <td>0.0</td>\n",
       "      <td>0.000000</td>\n",
       "      <td>0.000000</td>\n",
       "      <td>1.000000</td>\n",
       "    </tr>\n",
       "    <tr>\n",
       "      <th>5600</th>\n",
       "      <td>2.00000</td>\n",
       "      <td>56.016943</td>\n",
       "      <td>7.983057</td>\n",
       "      <td>50.854472</td>\n",
       "      <td>95.000000</td>\n",
       "      <td>98.053654</td>\n",
       "      <td>18.994352</td>\n",
       "      <td>27.486631</td>\n",
       "      <td>0.0</td>\n",
       "      <td>999.0</td>\n",
       "      <td>...</td>\n",
       "      <td>0.000000</td>\n",
       "      <td>1.011296</td>\n",
       "      <td>3.991528</td>\n",
       "      <td>0.000000</td>\n",
       "      <td>0.997176</td>\n",
       "      <td>0.002824</td>\n",
       "      <td>1.0</td>\n",
       "      <td>0.002824</td>\n",
       "      <td>0.000000</td>\n",
       "      <td>0.002824</td>\n",
       "    </tr>\n",
       "    <tr>\n",
       "      <th>5601</th>\n",
       "      <td>2.00000</td>\n",
       "      <td>54.841153</td>\n",
       "      <td>1.000000</td>\n",
       "      <td>44.269628</td>\n",
       "      <td>110.841153</td>\n",
       "      <td>107.947654</td>\n",
       "      <td>17.684115</td>\n",
       "      <td>31.701642</td>\n",
       "      <td>3.0</td>\n",
       "      <td>99.0</td>\n",
       "      <td>...</td>\n",
       "      <td>0.315885</td>\n",
       "      <td>1.000000</td>\n",
       "      <td>4.000000</td>\n",
       "      <td>0.000000</td>\n",
       "      <td>0.315885</td>\n",
       "      <td>0.000000</td>\n",
       "      <td>0.0</td>\n",
       "      <td>0.315885</td>\n",
       "      <td>0.000000</td>\n",
       "      <td>1.000000</td>\n",
       "    </tr>\n",
       "  </tbody>\n",
       "</table>\n",
       "<p>5602 rows × 79 columns</p>\n",
       "</div>"
      ],
      "text/plain": [
       "      GenderID        Age  LastEduID  MET_Final  WaistCircumference  \\\n",
       "0      2.00000  44.000000   3.000000  34.899995          116.000000   \n",
       "1      1.00000  52.000000   1.000000  48.075000           99.000000   \n",
       "2      1.00000  70.000000   2.000000  39.416654           89.000000   \n",
       "3      2.00000  70.000000   8.000000  51.175000           96.000000   \n",
       "4      2.00000  47.000000   1.000000  34.841659           90.000000   \n",
       "...        ...        ...        ...        ...                 ...   \n",
       "5597   2.00000  57.299195   8.000000  47.297372           88.134059   \n",
       "5598   1.21185  61.423700   6.940751  39.312065           94.970375   \n",
       "5599   1.37012  57.117109   1.000000  40.425631          106.772530   \n",
       "5600   2.00000  56.016943   7.983057  50.854472           95.000000   \n",
       "5601   2.00000  54.841153   1.000000  44.269628          110.841153   \n",
       "\n",
       "      HipCircumference  WristCircumference        BMI  HasJob_new  \\\n",
       "0           120.000000           19.000000  36.652780         1.0   \n",
       "1           105.000000           18.000000  28.256990         1.0   \n",
       "2            94.000000           16.000000  20.973709         2.0   \n",
       "3           106.000000           17.000000  30.081371         0.0   \n",
       "4            97.000000           17.500000  25.815689         3.0   \n",
       "...                ...                 ...        ...         ...   \n",
       "5597         98.354429           17.574799  24.452339         3.0   \n",
       "5598         96.211850           17.682225  28.205527         2.0   \n",
       "5599        100.811566           17.370120  29.775992         1.0   \n",
       "5600         98.053654           18.994352  27.486631         0.0   \n",
       "5601        107.947654           17.684115  31.701642         3.0   \n",
       "\n",
       "      Employmentstatus  ...  VegKeepFreezer  BreadContainerTypeID1  \\\n",
       "0                  1.0  ...        0.000000               1.000000   \n",
       "1                  1.0  ...        0.000000               1.000000   \n",
       "2              99999.0  ...        0.000000               1.000000   \n",
       "3                999.0  ...        0.000000               1.000000   \n",
       "4                 99.0  ...        1.000000               1.000000   \n",
       "...                ...  ...             ...                    ...   \n",
       "5597              99.0  ...        0.850403               1.000000   \n",
       "5598           99999.0  ...        0.000000               1.635549   \n",
       "5599               1.0  ...        0.000000               1.000000   \n",
       "5600             999.0  ...        0.000000               1.011296   \n",
       "5601              99.0  ...        0.315885               1.000000   \n",
       "\n",
       "      LemonContainerTypeID1  CVD_History  HasDepression  HasKidneyStone  \\\n",
       "0                  4.000000     0.000000       0.000000        0.000000   \n",
       "1                  4.000000     0.000000       0.000000        0.000000   \n",
       "2                  1.000000     1.000000       0.000000        0.000000   \n",
       "3                  1.000000     1.000000       0.000000        0.000000   \n",
       "4                  4.000000     0.000000       0.000000        0.000000   \n",
       "...                     ...          ...            ...             ...   \n",
       "5597               3.551208     0.149597       0.149597        0.149597   \n",
       "5598               1.635549     1.000000       0.211850        0.000000   \n",
       "5599               1.000000     0.000000       0.000000        0.000000   \n",
       "5600               3.991528     0.000000       0.997176        0.002824   \n",
       "5601               4.000000     0.000000       0.315885        0.000000   \n",
       "\n",
       "      HasThyroidDisease  HasFattyLiver  HasCardiacDisease  HasHypertension  \n",
       "0                   0.0       1.000000           0.000000         0.000000  \n",
       "1                   0.0       0.000000           0.000000         0.000000  \n",
       "2                   0.0       0.000000           1.000000         0.000000  \n",
       "3                   0.0       0.000000           0.000000         1.000000  \n",
       "4                   0.0       0.000000           0.000000         0.000000  \n",
       "...                 ...            ...                ...              ...  \n",
       "5597                0.0       1.000000           0.149597         1.000000  \n",
       "5598                0.0       0.000000           1.000000         0.211850  \n",
       "5599                0.0       0.000000           0.000000         1.000000  \n",
       "5600                1.0       0.002824           0.000000         0.002824  \n",
       "5601                0.0       0.315885           0.000000         1.000000  \n",
       "\n",
       "[5602 rows x 79 columns]"
      ]
     },
     "execution_count": 131,
     "metadata": {},
     "output_type": "execute_result"
    }
   ],
   "source": [
    "X_resampled"
   ]
  },
  {
   "cell_type": "code",
   "execution_count": 132,
   "id": "677b8f74-ee6b-40ae-a266-5f8aaacbc92e",
   "metadata": {},
   "outputs": [
    {
     "data": {
      "text/html": [
       "<div>\n",
       "<style scoped>\n",
       "    .dataframe tbody tr th:only-of-type {\n",
       "        vertical-align: middle;\n",
       "    }\n",
       "\n",
       "    .dataframe tbody tr th {\n",
       "        vertical-align: top;\n",
       "    }\n",
       "\n",
       "    .dataframe thead th {\n",
       "        text-align: right;\n",
       "    }\n",
       "</style>\n",
       "<table border=\"1\" class=\"dataframe\">\n",
       "  <thead>\n",
       "    <tr style=\"text-align: right;\">\n",
       "      <th></th>\n",
       "      <th>HasDiabetes</th>\n",
       "    </tr>\n",
       "  </thead>\n",
       "  <tbody>\n",
       "    <tr>\n",
       "      <th>0</th>\n",
       "      <td>0</td>\n",
       "    </tr>\n",
       "    <tr>\n",
       "      <th>1</th>\n",
       "      <td>0</td>\n",
       "    </tr>\n",
       "    <tr>\n",
       "      <th>2</th>\n",
       "      <td>0</td>\n",
       "    </tr>\n",
       "    <tr>\n",
       "      <th>3</th>\n",
       "      <td>0</td>\n",
       "    </tr>\n",
       "    <tr>\n",
       "      <th>4</th>\n",
       "      <td>0</td>\n",
       "    </tr>\n",
       "    <tr>\n",
       "      <th>...</th>\n",
       "      <td>...</td>\n",
       "    </tr>\n",
       "    <tr>\n",
       "      <th>5597</th>\n",
       "      <td>1</td>\n",
       "    </tr>\n",
       "    <tr>\n",
       "      <th>5598</th>\n",
       "      <td>1</td>\n",
       "    </tr>\n",
       "    <tr>\n",
       "      <th>5599</th>\n",
       "      <td>1</td>\n",
       "    </tr>\n",
       "    <tr>\n",
       "      <th>5600</th>\n",
       "      <td>1</td>\n",
       "    </tr>\n",
       "    <tr>\n",
       "      <th>5601</th>\n",
       "      <td>1</td>\n",
       "    </tr>\n",
       "  </tbody>\n",
       "</table>\n",
       "<p>5602 rows × 1 columns</p>\n",
       "</div>"
      ],
      "text/plain": [
       "      HasDiabetes\n",
       "0               0\n",
       "1               0\n",
       "2               0\n",
       "3               0\n",
       "4               0\n",
       "...           ...\n",
       "5597            1\n",
       "5598            1\n",
       "5599            1\n",
       "5600            1\n",
       "5601            1\n",
       "\n",
       "[5602 rows x 1 columns]"
      ]
     },
     "execution_count": 132,
     "metadata": {},
     "output_type": "execute_result"
    }
   ],
   "source": [
    "df2 = pd.DataFrame(y_resampled, columns=['HasDiabetes'])\n",
    "df2\n",
    "#y_resampled=y_resampled.rename(columns = {'0':'HasDiabetes'})"
   ]
  },
  {
   "cell_type": "code",
   "execution_count": 133,
   "id": "55cac082-a468-4466-898d-af10a5637246",
   "metadata": {},
   "outputs": [],
   "source": [
    "y_resampled=df2"
   ]
  },
  {
   "cell_type": "code",
   "execution_count": 134,
   "id": "7e883556-98cd-44c5-b1c4-18f00c634c86",
   "metadata": {},
   "outputs": [
    {
     "data": {
      "text/plain": [
       "HasDiabetes\n",
       "0              2801\n",
       "1              2801\n",
       "dtype: int64"
      ]
     },
     "execution_count": 134,
     "metadata": {},
     "output_type": "execute_result"
    }
   ],
   "source": [
    "y_resampled.value_counts()"
   ]
  },
  {
   "cell_type": "code",
   "execution_count": 135,
   "id": "2a6c1cba-7af3-40d1-8348-33a774d1fefd",
   "metadata": {},
   "outputs": [],
   "source": [
    "result=[]\n",
    "result = pd.concat([X_resampled, y_resampled], axis=1, join='inner')\n",
    " "
   ]
  },
  {
   "cell_type": "code",
   "execution_count": 136,
   "id": "592d643c-ebab-4141-95f7-6d0912430978",
   "metadata": {},
   "outputs": [
    {
     "data": {
      "text/html": [
       "<div>\n",
       "<style scoped>\n",
       "    .dataframe tbody tr th:only-of-type {\n",
       "        vertical-align: middle;\n",
       "    }\n",
       "\n",
       "    .dataframe tbody tr th {\n",
       "        vertical-align: top;\n",
       "    }\n",
       "\n",
       "    .dataframe thead th {\n",
       "        text-align: right;\n",
       "    }\n",
       "</style>\n",
       "<table border=\"1\" class=\"dataframe\">\n",
       "  <thead>\n",
       "    <tr style=\"text-align: right;\">\n",
       "      <th></th>\n",
       "      <th>GenderID</th>\n",
       "      <th>Age</th>\n",
       "      <th>LastEduID</th>\n",
       "      <th>MET_Final</th>\n",
       "      <th>WaistCircumference</th>\n",
       "      <th>HipCircumference</th>\n",
       "      <th>WristCircumference</th>\n",
       "      <th>BMI</th>\n",
       "      <th>HasJob_new</th>\n",
       "      <th>Employmentstatus</th>\n",
       "      <th>...</th>\n",
       "      <th>BreadContainerTypeID1</th>\n",
       "      <th>LemonContainerTypeID1</th>\n",
       "      <th>CVD_History</th>\n",
       "      <th>HasDepression</th>\n",
       "      <th>HasKidneyStone</th>\n",
       "      <th>HasThyroidDisease</th>\n",
       "      <th>HasFattyLiver</th>\n",
       "      <th>HasCardiacDisease</th>\n",
       "      <th>HasHypertension</th>\n",
       "      <th>HasDiabetes</th>\n",
       "    </tr>\n",
       "  </thead>\n",
       "  <tbody>\n",
       "    <tr>\n",
       "      <th>0</th>\n",
       "      <td>2.00000</td>\n",
       "      <td>44.000000</td>\n",
       "      <td>3.000000</td>\n",
       "      <td>34.899995</td>\n",
       "      <td>116.000000</td>\n",
       "      <td>120.000000</td>\n",
       "      <td>19.000000</td>\n",
       "      <td>36.652780</td>\n",
       "      <td>1.0</td>\n",
       "      <td>1.0</td>\n",
       "      <td>...</td>\n",
       "      <td>1.000000</td>\n",
       "      <td>4.000000</td>\n",
       "      <td>0.000000</td>\n",
       "      <td>0.000000</td>\n",
       "      <td>0.000000</td>\n",
       "      <td>0.0</td>\n",
       "      <td>1.000000</td>\n",
       "      <td>0.000000</td>\n",
       "      <td>0.000000</td>\n",
       "      <td>0</td>\n",
       "    </tr>\n",
       "    <tr>\n",
       "      <th>1</th>\n",
       "      <td>1.00000</td>\n",
       "      <td>52.000000</td>\n",
       "      <td>1.000000</td>\n",
       "      <td>48.075000</td>\n",
       "      <td>99.000000</td>\n",
       "      <td>105.000000</td>\n",
       "      <td>18.000000</td>\n",
       "      <td>28.256990</td>\n",
       "      <td>1.0</td>\n",
       "      <td>1.0</td>\n",
       "      <td>...</td>\n",
       "      <td>1.000000</td>\n",
       "      <td>4.000000</td>\n",
       "      <td>0.000000</td>\n",
       "      <td>0.000000</td>\n",
       "      <td>0.000000</td>\n",
       "      <td>0.0</td>\n",
       "      <td>0.000000</td>\n",
       "      <td>0.000000</td>\n",
       "      <td>0.000000</td>\n",
       "      <td>0</td>\n",
       "    </tr>\n",
       "    <tr>\n",
       "      <th>2</th>\n",
       "      <td>1.00000</td>\n",
       "      <td>70.000000</td>\n",
       "      <td>2.000000</td>\n",
       "      <td>39.416654</td>\n",
       "      <td>89.000000</td>\n",
       "      <td>94.000000</td>\n",
       "      <td>16.000000</td>\n",
       "      <td>20.973709</td>\n",
       "      <td>2.0</td>\n",
       "      <td>99999.0</td>\n",
       "      <td>...</td>\n",
       "      <td>1.000000</td>\n",
       "      <td>1.000000</td>\n",
       "      <td>1.000000</td>\n",
       "      <td>0.000000</td>\n",
       "      <td>0.000000</td>\n",
       "      <td>0.0</td>\n",
       "      <td>0.000000</td>\n",
       "      <td>1.000000</td>\n",
       "      <td>0.000000</td>\n",
       "      <td>0</td>\n",
       "    </tr>\n",
       "    <tr>\n",
       "      <th>3</th>\n",
       "      <td>2.00000</td>\n",
       "      <td>70.000000</td>\n",
       "      <td>8.000000</td>\n",
       "      <td>51.175000</td>\n",
       "      <td>96.000000</td>\n",
       "      <td>106.000000</td>\n",
       "      <td>17.000000</td>\n",
       "      <td>30.081371</td>\n",
       "      <td>0.0</td>\n",
       "      <td>999.0</td>\n",
       "      <td>...</td>\n",
       "      <td>1.000000</td>\n",
       "      <td>1.000000</td>\n",
       "      <td>1.000000</td>\n",
       "      <td>0.000000</td>\n",
       "      <td>0.000000</td>\n",
       "      <td>0.0</td>\n",
       "      <td>0.000000</td>\n",
       "      <td>0.000000</td>\n",
       "      <td>1.000000</td>\n",
       "      <td>0</td>\n",
       "    </tr>\n",
       "    <tr>\n",
       "      <th>4</th>\n",
       "      <td>2.00000</td>\n",
       "      <td>47.000000</td>\n",
       "      <td>1.000000</td>\n",
       "      <td>34.841659</td>\n",
       "      <td>90.000000</td>\n",
       "      <td>97.000000</td>\n",
       "      <td>17.500000</td>\n",
       "      <td>25.815689</td>\n",
       "      <td>3.0</td>\n",
       "      <td>99.0</td>\n",
       "      <td>...</td>\n",
       "      <td>1.000000</td>\n",
       "      <td>4.000000</td>\n",
       "      <td>0.000000</td>\n",
       "      <td>0.000000</td>\n",
       "      <td>0.000000</td>\n",
       "      <td>0.0</td>\n",
       "      <td>0.000000</td>\n",
       "      <td>0.000000</td>\n",
       "      <td>0.000000</td>\n",
       "      <td>0</td>\n",
       "    </tr>\n",
       "    <tr>\n",
       "      <th>...</th>\n",
       "      <td>...</td>\n",
       "      <td>...</td>\n",
       "      <td>...</td>\n",
       "      <td>...</td>\n",
       "      <td>...</td>\n",
       "      <td>...</td>\n",
       "      <td>...</td>\n",
       "      <td>...</td>\n",
       "      <td>...</td>\n",
       "      <td>...</td>\n",
       "      <td>...</td>\n",
       "      <td>...</td>\n",
       "      <td>...</td>\n",
       "      <td>...</td>\n",
       "      <td>...</td>\n",
       "      <td>...</td>\n",
       "      <td>...</td>\n",
       "      <td>...</td>\n",
       "      <td>...</td>\n",
       "      <td>...</td>\n",
       "      <td>...</td>\n",
       "    </tr>\n",
       "    <tr>\n",
       "      <th>5597</th>\n",
       "      <td>2.00000</td>\n",
       "      <td>57.299195</td>\n",
       "      <td>8.000000</td>\n",
       "      <td>47.297372</td>\n",
       "      <td>88.134059</td>\n",
       "      <td>98.354429</td>\n",
       "      <td>17.574799</td>\n",
       "      <td>24.452339</td>\n",
       "      <td>3.0</td>\n",
       "      <td>99.0</td>\n",
       "      <td>...</td>\n",
       "      <td>1.000000</td>\n",
       "      <td>3.551208</td>\n",
       "      <td>0.149597</td>\n",
       "      <td>0.149597</td>\n",
       "      <td>0.149597</td>\n",
       "      <td>0.0</td>\n",
       "      <td>1.000000</td>\n",
       "      <td>0.149597</td>\n",
       "      <td>1.000000</td>\n",
       "      <td>1</td>\n",
       "    </tr>\n",
       "    <tr>\n",
       "      <th>5598</th>\n",
       "      <td>1.21185</td>\n",
       "      <td>61.423700</td>\n",
       "      <td>6.940751</td>\n",
       "      <td>39.312065</td>\n",
       "      <td>94.970375</td>\n",
       "      <td>96.211850</td>\n",
       "      <td>17.682225</td>\n",
       "      <td>28.205527</td>\n",
       "      <td>2.0</td>\n",
       "      <td>99999.0</td>\n",
       "      <td>...</td>\n",
       "      <td>1.635549</td>\n",
       "      <td>1.635549</td>\n",
       "      <td>1.000000</td>\n",
       "      <td>0.211850</td>\n",
       "      <td>0.000000</td>\n",
       "      <td>0.0</td>\n",
       "      <td>0.000000</td>\n",
       "      <td>1.000000</td>\n",
       "      <td>0.211850</td>\n",
       "      <td>1</td>\n",
       "    </tr>\n",
       "    <tr>\n",
       "      <th>5599</th>\n",
       "      <td>1.37012</td>\n",
       "      <td>57.117109</td>\n",
       "      <td>1.000000</td>\n",
       "      <td>40.425631</td>\n",
       "      <td>106.772530</td>\n",
       "      <td>100.811566</td>\n",
       "      <td>17.370120</td>\n",
       "      <td>29.775992</td>\n",
       "      <td>1.0</td>\n",
       "      <td>1.0</td>\n",
       "      <td>...</td>\n",
       "      <td>1.000000</td>\n",
       "      <td>1.000000</td>\n",
       "      <td>0.000000</td>\n",
       "      <td>0.000000</td>\n",
       "      <td>0.000000</td>\n",
       "      <td>0.0</td>\n",
       "      <td>0.000000</td>\n",
       "      <td>0.000000</td>\n",
       "      <td>1.000000</td>\n",
       "      <td>1</td>\n",
       "    </tr>\n",
       "    <tr>\n",
       "      <th>5600</th>\n",
       "      <td>2.00000</td>\n",
       "      <td>56.016943</td>\n",
       "      <td>7.983057</td>\n",
       "      <td>50.854472</td>\n",
       "      <td>95.000000</td>\n",
       "      <td>98.053654</td>\n",
       "      <td>18.994352</td>\n",
       "      <td>27.486631</td>\n",
       "      <td>0.0</td>\n",
       "      <td>999.0</td>\n",
       "      <td>...</td>\n",
       "      <td>1.011296</td>\n",
       "      <td>3.991528</td>\n",
       "      <td>0.000000</td>\n",
       "      <td>0.997176</td>\n",
       "      <td>0.002824</td>\n",
       "      <td>1.0</td>\n",
       "      <td>0.002824</td>\n",
       "      <td>0.000000</td>\n",
       "      <td>0.002824</td>\n",
       "      <td>1</td>\n",
       "    </tr>\n",
       "    <tr>\n",
       "      <th>5601</th>\n",
       "      <td>2.00000</td>\n",
       "      <td>54.841153</td>\n",
       "      <td>1.000000</td>\n",
       "      <td>44.269628</td>\n",
       "      <td>110.841153</td>\n",
       "      <td>107.947654</td>\n",
       "      <td>17.684115</td>\n",
       "      <td>31.701642</td>\n",
       "      <td>3.0</td>\n",
       "      <td>99.0</td>\n",
       "      <td>...</td>\n",
       "      <td>1.000000</td>\n",
       "      <td>4.000000</td>\n",
       "      <td>0.000000</td>\n",
       "      <td>0.315885</td>\n",
       "      <td>0.000000</td>\n",
       "      <td>0.0</td>\n",
       "      <td>0.315885</td>\n",
       "      <td>0.000000</td>\n",
       "      <td>1.000000</td>\n",
       "      <td>1</td>\n",
       "    </tr>\n",
       "  </tbody>\n",
       "</table>\n",
       "<p>5602 rows × 80 columns</p>\n",
       "</div>"
      ],
      "text/plain": [
       "      GenderID        Age  LastEduID  MET_Final  WaistCircumference  \\\n",
       "0      2.00000  44.000000   3.000000  34.899995          116.000000   \n",
       "1      1.00000  52.000000   1.000000  48.075000           99.000000   \n",
       "2      1.00000  70.000000   2.000000  39.416654           89.000000   \n",
       "3      2.00000  70.000000   8.000000  51.175000           96.000000   \n",
       "4      2.00000  47.000000   1.000000  34.841659           90.000000   \n",
       "...        ...        ...        ...        ...                 ...   \n",
       "5597   2.00000  57.299195   8.000000  47.297372           88.134059   \n",
       "5598   1.21185  61.423700   6.940751  39.312065           94.970375   \n",
       "5599   1.37012  57.117109   1.000000  40.425631          106.772530   \n",
       "5600   2.00000  56.016943   7.983057  50.854472           95.000000   \n",
       "5601   2.00000  54.841153   1.000000  44.269628          110.841153   \n",
       "\n",
       "      HipCircumference  WristCircumference        BMI  HasJob_new  \\\n",
       "0           120.000000           19.000000  36.652780         1.0   \n",
       "1           105.000000           18.000000  28.256990         1.0   \n",
       "2            94.000000           16.000000  20.973709         2.0   \n",
       "3           106.000000           17.000000  30.081371         0.0   \n",
       "4            97.000000           17.500000  25.815689         3.0   \n",
       "...                ...                 ...        ...         ...   \n",
       "5597         98.354429           17.574799  24.452339         3.0   \n",
       "5598         96.211850           17.682225  28.205527         2.0   \n",
       "5599        100.811566           17.370120  29.775992         1.0   \n",
       "5600         98.053654           18.994352  27.486631         0.0   \n",
       "5601        107.947654           17.684115  31.701642         3.0   \n",
       "\n",
       "      Employmentstatus  ...  BreadContainerTypeID1  LemonContainerTypeID1  \\\n",
       "0                  1.0  ...               1.000000               4.000000   \n",
       "1                  1.0  ...               1.000000               4.000000   \n",
       "2              99999.0  ...               1.000000               1.000000   \n",
       "3                999.0  ...               1.000000               1.000000   \n",
       "4                 99.0  ...               1.000000               4.000000   \n",
       "...                ...  ...                    ...                    ...   \n",
       "5597              99.0  ...               1.000000               3.551208   \n",
       "5598           99999.0  ...               1.635549               1.635549   \n",
       "5599               1.0  ...               1.000000               1.000000   \n",
       "5600             999.0  ...               1.011296               3.991528   \n",
       "5601              99.0  ...               1.000000               4.000000   \n",
       "\n",
       "      CVD_History  HasDepression  HasKidneyStone  HasThyroidDisease  \\\n",
       "0        0.000000       0.000000        0.000000                0.0   \n",
       "1        0.000000       0.000000        0.000000                0.0   \n",
       "2        1.000000       0.000000        0.000000                0.0   \n",
       "3        1.000000       0.000000        0.000000                0.0   \n",
       "4        0.000000       0.000000        0.000000                0.0   \n",
       "...           ...            ...             ...                ...   \n",
       "5597     0.149597       0.149597        0.149597                0.0   \n",
       "5598     1.000000       0.211850        0.000000                0.0   \n",
       "5599     0.000000       0.000000        0.000000                0.0   \n",
       "5600     0.000000       0.997176        0.002824                1.0   \n",
       "5601     0.000000       0.315885        0.000000                0.0   \n",
       "\n",
       "      HasFattyLiver  HasCardiacDisease  HasHypertension  HasDiabetes  \n",
       "0          1.000000           0.000000         0.000000            0  \n",
       "1          0.000000           0.000000         0.000000            0  \n",
       "2          0.000000           1.000000         0.000000            0  \n",
       "3          0.000000           0.000000         1.000000            0  \n",
       "4          0.000000           0.000000         0.000000            0  \n",
       "...             ...                ...              ...          ...  \n",
       "5597       1.000000           0.149597         1.000000            1  \n",
       "5598       0.000000           1.000000         0.211850            1  \n",
       "5599       0.000000           0.000000         1.000000            1  \n",
       "5600       0.002824           0.000000         0.002824            1  \n",
       "5601       0.315885           0.000000         1.000000            1  \n",
       "\n",
       "[5602 rows x 80 columns]"
      ]
     },
     "execution_count": 136,
     "metadata": {},
     "output_type": "execute_result"
    }
   ],
   "source": [
    "result"
   ]
  },
  {
   "cell_type": "code",
   "execution_count": 137,
   "id": "5e26d03e-3d15-4241-b77b-af77c22ef6e2",
   "metadata": {},
   "outputs": [],
   "source": [
    "import os\n",
    "os.environ[\"GIT_PYTHON_REFRESH\"] = \"quiet\"\n",
    "import git"
   ]
  },
  {
   "cell_type": "code",
   "execution_count": 138,
   "id": "4572a2b6-4767-4c71-9f96-5e3e6fd6284c",
   "metadata": {},
   "outputs": [
    {
     "data": {
      "text/html": [
       "<style type=\"text/css\">\n",
       "#T_dfa53_row8_col1, #T_dfa53_row13_col1, #T_dfa53_row15_col1, #T_dfa53_row17_col1, #T_dfa53_row19_col1, #T_dfa53_row21_col1 {\n",
       "  background-color: lightgreen;\n",
       "}\n",
       "</style>\n",
       "<table id=\"T_dfa53\">\n",
       "  <thead>\n",
       "    <tr>\n",
       "      <th class=\"blank level0\" >&nbsp;</th>\n",
       "      <th id=\"T_dfa53_level0_col0\" class=\"col_heading level0 col0\" >Description</th>\n",
       "      <th id=\"T_dfa53_level0_col1\" class=\"col_heading level0 col1\" >Value</th>\n",
       "    </tr>\n",
       "  </thead>\n",
       "  <tbody>\n",
       "    <tr>\n",
       "      <th id=\"T_dfa53_level0_row0\" class=\"row_heading level0 row0\" >0</th>\n",
       "      <td id=\"T_dfa53_row0_col0\" class=\"data row0 col0\" >Session id</td>\n",
       "      <td id=\"T_dfa53_row0_col1\" class=\"data row0 col1\" >123</td>\n",
       "    </tr>\n",
       "    <tr>\n",
       "      <th id=\"T_dfa53_level0_row1\" class=\"row_heading level0 row1\" >1</th>\n",
       "      <td id=\"T_dfa53_row1_col0\" class=\"data row1 col0\" >Target</td>\n",
       "      <td id=\"T_dfa53_row1_col1\" class=\"data row1 col1\" >HasDiabetes</td>\n",
       "    </tr>\n",
       "    <tr>\n",
       "      <th id=\"T_dfa53_level0_row2\" class=\"row_heading level0 row2\" >2</th>\n",
       "      <td id=\"T_dfa53_row2_col0\" class=\"data row2 col0\" >Target type</td>\n",
       "      <td id=\"T_dfa53_row2_col1\" class=\"data row2 col1\" >Binary</td>\n",
       "    </tr>\n",
       "    <tr>\n",
       "      <th id=\"T_dfa53_level0_row3\" class=\"row_heading level0 row3\" >3</th>\n",
       "      <td id=\"T_dfa53_row3_col0\" class=\"data row3 col0\" >Original data shape</td>\n",
       "      <td id=\"T_dfa53_row3_col1\" class=\"data row3 col1\" >(5602, 80)</td>\n",
       "    </tr>\n",
       "    <tr>\n",
       "      <th id=\"T_dfa53_level0_row4\" class=\"row_heading level0 row4\" >4</th>\n",
       "      <td id=\"T_dfa53_row4_col0\" class=\"data row4 col0\" >Transformed data shape</td>\n",
       "      <td id=\"T_dfa53_row4_col1\" class=\"data row4 col1\" >(5378, 16)</td>\n",
       "    </tr>\n",
       "    <tr>\n",
       "      <th id=\"T_dfa53_level0_row5\" class=\"row_heading level0 row5\" >5</th>\n",
       "      <td id=\"T_dfa53_row5_col0\" class=\"data row5 col0\" >Transformed train set shape</td>\n",
       "      <td id=\"T_dfa53_row5_col1\" class=\"data row5 col1\" >(4257, 16)</td>\n",
       "    </tr>\n",
       "    <tr>\n",
       "      <th id=\"T_dfa53_level0_row6\" class=\"row_heading level0 row6\" >6</th>\n",
       "      <td id=\"T_dfa53_row6_col0\" class=\"data row6 col0\" >Transformed test set shape</td>\n",
       "      <td id=\"T_dfa53_row6_col1\" class=\"data row6 col1\" >(1121, 16)</td>\n",
       "    </tr>\n",
       "    <tr>\n",
       "      <th id=\"T_dfa53_level0_row7\" class=\"row_heading level0 row7\" >7</th>\n",
       "      <td id=\"T_dfa53_row7_col0\" class=\"data row7 col0\" >Numeric features</td>\n",
       "      <td id=\"T_dfa53_row7_col1\" class=\"data row7 col1\" >79</td>\n",
       "    </tr>\n",
       "    <tr>\n",
       "      <th id=\"T_dfa53_level0_row8\" class=\"row_heading level0 row8\" >8</th>\n",
       "      <td id=\"T_dfa53_row8_col0\" class=\"data row8 col0\" >Preprocess</td>\n",
       "      <td id=\"T_dfa53_row8_col1\" class=\"data row8 col1\" >True</td>\n",
       "    </tr>\n",
       "    <tr>\n",
       "      <th id=\"T_dfa53_level0_row9\" class=\"row_heading level0 row9\" >9</th>\n",
       "      <td id=\"T_dfa53_row9_col0\" class=\"data row9 col0\" >Imputation type</td>\n",
       "      <td id=\"T_dfa53_row9_col1\" class=\"data row9 col1\" >iterative</td>\n",
       "    </tr>\n",
       "    <tr>\n",
       "      <th id=\"T_dfa53_level0_row10\" class=\"row_heading level0 row10\" >10</th>\n",
       "      <td id=\"T_dfa53_row10_col0\" class=\"data row10 col0\" >Iterative imputation iterations</td>\n",
       "      <td id=\"T_dfa53_row10_col1\" class=\"data row10 col1\" >5</td>\n",
       "    </tr>\n",
       "    <tr>\n",
       "      <th id=\"T_dfa53_level0_row11\" class=\"row_heading level0 row11\" >11</th>\n",
       "      <td id=\"T_dfa53_row11_col0\" class=\"data row11 col0\" >Numeric iterative imputer</td>\n",
       "      <td id=\"T_dfa53_row11_col1\" class=\"data row11 col1\" >lightgbm</td>\n",
       "    </tr>\n",
       "    <tr>\n",
       "      <th id=\"T_dfa53_level0_row12\" class=\"row_heading level0 row12\" >12</th>\n",
       "      <td id=\"T_dfa53_row12_col0\" class=\"data row12 col0\" >Categorical iterative imputer</td>\n",
       "      <td id=\"T_dfa53_row12_col1\" class=\"data row12 col1\" >lightgbm</td>\n",
       "    </tr>\n",
       "    <tr>\n",
       "      <th id=\"T_dfa53_level0_row13\" class=\"row_heading level0 row13\" >13</th>\n",
       "      <td id=\"T_dfa53_row13_col0\" class=\"data row13 col0\" >Remove multicollinearity</td>\n",
       "      <td id=\"T_dfa53_row13_col1\" class=\"data row13 col1\" >True</td>\n",
       "    </tr>\n",
       "    <tr>\n",
       "      <th id=\"T_dfa53_level0_row14\" class=\"row_heading level0 row14\" >14</th>\n",
       "      <td id=\"T_dfa53_row14_col0\" class=\"data row14 col0\" >Multicollinearity threshold</td>\n",
       "      <td id=\"T_dfa53_row14_col1\" class=\"data row14 col1\" >0.300000</td>\n",
       "    </tr>\n",
       "    <tr>\n",
       "      <th id=\"T_dfa53_level0_row15\" class=\"row_heading level0 row15\" >15</th>\n",
       "      <td id=\"T_dfa53_row15_col0\" class=\"data row15 col0\" >Remove outliers</td>\n",
       "      <td id=\"T_dfa53_row15_col1\" class=\"data row15 col1\" >True</td>\n",
       "    </tr>\n",
       "    <tr>\n",
       "      <th id=\"T_dfa53_level0_row16\" class=\"row_heading level0 row16\" >16</th>\n",
       "      <td id=\"T_dfa53_row16_col0\" class=\"data row16 col0\" >Outliers threshold</td>\n",
       "      <td id=\"T_dfa53_row16_col1\" class=\"data row16 col1\" >0.050000</td>\n",
       "    </tr>\n",
       "    <tr>\n",
       "      <th id=\"T_dfa53_level0_row17\" class=\"row_heading level0 row17\" >17</th>\n",
       "      <td id=\"T_dfa53_row17_col0\" class=\"data row17 col0\" >Transformation</td>\n",
       "      <td id=\"T_dfa53_row17_col1\" class=\"data row17 col1\" >True</td>\n",
       "    </tr>\n",
       "    <tr>\n",
       "      <th id=\"T_dfa53_level0_row18\" class=\"row_heading level0 row18\" >18</th>\n",
       "      <td id=\"T_dfa53_row18_col0\" class=\"data row18 col0\" >Transformation method</td>\n",
       "      <td id=\"T_dfa53_row18_col1\" class=\"data row18 col1\" >yeo-johnson</td>\n",
       "    </tr>\n",
       "    <tr>\n",
       "      <th id=\"T_dfa53_level0_row19\" class=\"row_heading level0 row19\" >19</th>\n",
       "      <td id=\"T_dfa53_row19_col0\" class=\"data row19 col0\" >Normalize</td>\n",
       "      <td id=\"T_dfa53_row19_col1\" class=\"data row19 col1\" >True</td>\n",
       "    </tr>\n",
       "    <tr>\n",
       "      <th id=\"T_dfa53_level0_row20\" class=\"row_heading level0 row20\" >20</th>\n",
       "      <td id=\"T_dfa53_row20_col0\" class=\"data row20 col0\" >Normalize method</td>\n",
       "      <td id=\"T_dfa53_row20_col1\" class=\"data row20 col1\" >minmax</td>\n",
       "    </tr>\n",
       "    <tr>\n",
       "      <th id=\"T_dfa53_level0_row21\" class=\"row_heading level0 row21\" >21</th>\n",
       "      <td id=\"T_dfa53_row21_col0\" class=\"data row21 col0\" >Feature selection</td>\n",
       "      <td id=\"T_dfa53_row21_col1\" class=\"data row21 col1\" >True</td>\n",
       "    </tr>\n",
       "    <tr>\n",
       "      <th id=\"T_dfa53_level0_row22\" class=\"row_heading level0 row22\" >22</th>\n",
       "      <td id=\"T_dfa53_row22_col0\" class=\"data row22 col0\" >Feature selection method</td>\n",
       "      <td id=\"T_dfa53_row22_col1\" class=\"data row22 col1\" >classic</td>\n",
       "    </tr>\n",
       "    <tr>\n",
       "      <th id=\"T_dfa53_level0_row23\" class=\"row_heading level0 row23\" >23</th>\n",
       "      <td id=\"T_dfa53_row23_col0\" class=\"data row23 col0\" >Feature selection estimator</td>\n",
       "      <td id=\"T_dfa53_row23_col1\" class=\"data row23 col1\" >lightgbm</td>\n",
       "    </tr>\n",
       "    <tr>\n",
       "      <th id=\"T_dfa53_level0_row24\" class=\"row_heading level0 row24\" >24</th>\n",
       "      <td id=\"T_dfa53_row24_col0\" class=\"data row24 col0\" >Number of features selected</td>\n",
       "      <td id=\"T_dfa53_row24_col1\" class=\"data row24 col1\" >0.200000</td>\n",
       "    </tr>\n",
       "    <tr>\n",
       "      <th id=\"T_dfa53_level0_row25\" class=\"row_heading level0 row25\" >25</th>\n",
       "      <td id=\"T_dfa53_row25_col0\" class=\"data row25 col0\" >Fold Generator</td>\n",
       "      <td id=\"T_dfa53_row25_col1\" class=\"data row25 col1\" >StratifiedKFold</td>\n",
       "    </tr>\n",
       "    <tr>\n",
       "      <th id=\"T_dfa53_level0_row26\" class=\"row_heading level0 row26\" >26</th>\n",
       "      <td id=\"T_dfa53_row26_col0\" class=\"data row26 col0\" >Fold Number</td>\n",
       "      <td id=\"T_dfa53_row26_col1\" class=\"data row26 col1\" >10</td>\n",
       "    </tr>\n",
       "    <tr>\n",
       "      <th id=\"T_dfa53_level0_row27\" class=\"row_heading level0 row27\" >27</th>\n",
       "      <td id=\"T_dfa53_row27_col0\" class=\"data row27 col0\" >CPU Jobs</td>\n",
       "      <td id=\"T_dfa53_row27_col1\" class=\"data row27 col1\" >-1</td>\n",
       "    </tr>\n",
       "    <tr>\n",
       "      <th id=\"T_dfa53_level0_row28\" class=\"row_heading level0 row28\" >28</th>\n",
       "      <td id=\"T_dfa53_row28_col0\" class=\"data row28 col0\" >Use GPU</td>\n",
       "      <td id=\"T_dfa53_row28_col1\" class=\"data row28 col1\" >False</td>\n",
       "    </tr>\n",
       "    <tr>\n",
       "      <th id=\"T_dfa53_level0_row29\" class=\"row_heading level0 row29\" >29</th>\n",
       "      <td id=\"T_dfa53_row29_col0\" class=\"data row29 col0\" >Log Experiment</td>\n",
       "      <td id=\"T_dfa53_row29_col1\" class=\"data row29 col1\" >False</td>\n",
       "    </tr>\n",
       "    <tr>\n",
       "      <th id=\"T_dfa53_level0_row30\" class=\"row_heading level0 row30\" >30</th>\n",
       "      <td id=\"T_dfa53_row30_col0\" class=\"data row30 col0\" >Experiment Name</td>\n",
       "      <td id=\"T_dfa53_row30_col1\" class=\"data row30 col1\" >clf-default-name</td>\n",
       "    </tr>\n",
       "    <tr>\n",
       "      <th id=\"T_dfa53_level0_row31\" class=\"row_heading level0 row31\" >31</th>\n",
       "      <td id=\"T_dfa53_row31_col0\" class=\"data row31 col0\" >USI</td>\n",
       "      <td id=\"T_dfa53_row31_col1\" class=\"data row31 col1\" >21eb</td>\n",
       "    </tr>\n",
       "  </tbody>\n",
       "</table>\n"
      ],
      "text/plain": [
       "<pandas.io.formats.style.Styler at 0x1ca758125d0>"
      ]
     },
     "metadata": {},
     "output_type": "display_data"
    }
   ],
   "source": [
    "HasDiabetes= setup(data = result, target = 'HasDiabetes', session_id=123,\n",
    "                  normalize = True,\n",
    "                  imputation_type='iterative',\n",
    "                  transformation = True, \n",
    "                  verbose= True,\n",
    "                  remove_outliers=True,\n",
    "                  remove_multicollinearity = True, \n",
    "                  multicollinearity_threshold = 0.3,\n",
    "                  normalize_method = 'minmax',\n",
    "                  feature_selection = True,\n",
    "                  feature_selection_estimator='lightgbm',\n",
    "                  train_size = 0.8)"
   ]
  },
  {
   "cell_type": "code",
   "execution_count": 139,
   "id": "d6774245-3237-456f-8fff-6d6923e76fe1",
   "metadata": {},
   "outputs": [
    {
     "data": {
      "text/html": [
       "<div>\n",
       "<style scoped>\n",
       "    .dataframe tbody tr th:only-of-type {\n",
       "        vertical-align: middle;\n",
       "    }\n",
       "\n",
       "    .dataframe tbody tr th {\n",
       "        vertical-align: top;\n",
       "    }\n",
       "\n",
       "    .dataframe thead th {\n",
       "        text-align: right;\n",
       "    }\n",
       "</style>\n",
       "<table border=\"1\" class=\"dataframe\">\n",
       "  <thead>\n",
       "    <tr style=\"text-align: right;\">\n",
       "      <th></th>\n",
       "      <th>num_imputer__Age</th>\n",
       "      <th>num_imputer__TV1</th>\n",
       "      <th>num_imputer__Eating1</th>\n",
       "      <th>num_imputer__Driving1</th>\n",
       "      <th>num_imputer__RBC</th>\n",
       "      <th>num_imputer__FBS</th>\n",
       "      <th>num_imputer__TG</th>\n",
       "      <th>num_imputer__ALP</th>\n",
       "      <th>num_imputer__HDL.C</th>\n",
       "      <th>num_imputer__TEACOFFEE</th>\n",
       "      <th>num_imputer__BAVARAGE</th>\n",
       "      <th>num_imputer__Vegetables</th>\n",
       "      <th>num_imputer__Juice</th>\n",
       "      <th>num_imputer__HasKidneyStone</th>\n",
       "      <th>num_imputer__HasFattyLiver</th>\n",
       "    </tr>\n",
       "  </thead>\n",
       "  <tbody>\n",
       "    <tr>\n",
       "      <th>2630</th>\n",
       "      <td>0.601781</td>\n",
       "      <td>0.354413</td>\n",
       "      <td>0.341252</td>\n",
       "      <td>0.312439</td>\n",
       "      <td>0.487922</td>\n",
       "      <td>0.752092</td>\n",
       "      <td>0.638375</td>\n",
       "      <td>0.506408</td>\n",
       "      <td>0.414580</td>\n",
       "      <td>0.659765</td>\n",
       "      <td>0.459744</td>\n",
       "      <td>0.579343</td>\n",
       "      <td>0.000000</td>\n",
       "      <td>0.000000</td>\n",
       "      <td>0.0</td>\n",
       "    </tr>\n",
       "    <tr>\n",
       "      <th>2975</th>\n",
       "      <td>0.025076</td>\n",
       "      <td>0.555059</td>\n",
       "      <td>0.390629</td>\n",
       "      <td>0.312439</td>\n",
       "      <td>0.397751</td>\n",
       "      <td>0.761662</td>\n",
       "      <td>0.775750</td>\n",
       "      <td>0.444354</td>\n",
       "      <td>0.254976</td>\n",
       "      <td>0.384161</td>\n",
       "      <td>0.289735</td>\n",
       "      <td>0.478757</td>\n",
       "      <td>0.426604</td>\n",
       "      <td>0.000000</td>\n",
       "      <td>0.0</td>\n",
       "    </tr>\n",
       "    <tr>\n",
       "      <th>3779</th>\n",
       "      <td>0.703585</td>\n",
       "      <td>0.440378</td>\n",
       "      <td>0.531260</td>\n",
       "      <td>0.324828</td>\n",
       "      <td>0.609473</td>\n",
       "      <td>0.925860</td>\n",
       "      <td>0.644122</td>\n",
       "      <td>0.605633</td>\n",
       "      <td>0.371185</td>\n",
       "      <td>0.413249</td>\n",
       "      <td>0.610544</td>\n",
       "      <td>0.530449</td>\n",
       "      <td>0.454432</td>\n",
       "      <td>0.000000</td>\n",
       "      <td>0.0</td>\n",
       "    </tr>\n",
       "    <tr>\n",
       "      <th>4642</th>\n",
       "      <td>0.372460</td>\n",
       "      <td>0.440478</td>\n",
       "      <td>0.476132</td>\n",
       "      <td>0.280475</td>\n",
       "      <td>0.443089</td>\n",
       "      <td>0.796817</td>\n",
       "      <td>0.674067</td>\n",
       "      <td>0.468157</td>\n",
       "      <td>0.611085</td>\n",
       "      <td>0.541967</td>\n",
       "      <td>0.302852</td>\n",
       "      <td>0.475278</td>\n",
       "      <td>0.501343</td>\n",
       "      <td>0.000000</td>\n",
       "      <td>1.0</td>\n",
       "    </tr>\n",
       "    <tr>\n",
       "      <th>1936</th>\n",
       "      <td>0.514041</td>\n",
       "      <td>0.196385</td>\n",
       "      <td>0.795802</td>\n",
       "      <td>0.666975</td>\n",
       "      <td>0.372557</td>\n",
       "      <td>0.855764</td>\n",
       "      <td>0.667057</td>\n",
       "      <td>0.581176</td>\n",
       "      <td>0.294927</td>\n",
       "      <td>0.351192</td>\n",
       "      <td>0.400811</td>\n",
       "      <td>0.473281</td>\n",
       "      <td>0.039360</td>\n",
       "      <td>1.000000</td>\n",
       "      <td>0.0</td>\n",
       "    </tr>\n",
       "    <tr>\n",
       "      <th>...</th>\n",
       "      <td>...</td>\n",
       "      <td>...</td>\n",
       "      <td>...</td>\n",
       "      <td>...</td>\n",
       "      <td>...</td>\n",
       "      <td>...</td>\n",
       "      <td>...</td>\n",
       "      <td>...</td>\n",
       "      <td>...</td>\n",
       "      <td>...</td>\n",
       "      <td>...</td>\n",
       "      <td>...</td>\n",
       "      <td>...</td>\n",
       "      <td>...</td>\n",
       "      <td>...</td>\n",
       "    </tr>\n",
       "    <tr>\n",
       "      <th>1179</th>\n",
       "      <td>0.427970</td>\n",
       "      <td>0.491759</td>\n",
       "      <td>0.436776</td>\n",
       "      <td>0.183773</td>\n",
       "      <td>0.391522</td>\n",
       "      <td>0.803011</td>\n",
       "      <td>0.671899</td>\n",
       "      <td>0.527880</td>\n",
       "      <td>0.461438</td>\n",
       "      <td>0.312645</td>\n",
       "      <td>0.253595</td>\n",
       "      <td>0.602737</td>\n",
       "      <td>0.664877</td>\n",
       "      <td>0.000000</td>\n",
       "      <td>1.0</td>\n",
       "    </tr>\n",
       "    <tr>\n",
       "      <th>1266</th>\n",
       "      <td>0.751576</td>\n",
       "      <td>0.278672</td>\n",
       "      <td>0.390629</td>\n",
       "      <td>0.000000</td>\n",
       "      <td>0.550505</td>\n",
       "      <td>0.838753</td>\n",
       "      <td>0.652785</td>\n",
       "      <td>0.465212</td>\n",
       "      <td>0.509984</td>\n",
       "      <td>0.462615</td>\n",
       "      <td>0.497010</td>\n",
       "      <td>0.628023</td>\n",
       "      <td>0.752924</td>\n",
       "      <td>0.000000</td>\n",
       "      <td>0.0</td>\n",
       "    </tr>\n",
       "    <tr>\n",
       "      <th>1546</th>\n",
       "      <td>0.101727</td>\n",
       "      <td>0.491759</td>\n",
       "      <td>0.521403</td>\n",
       "      <td>0.000000</td>\n",
       "      <td>0.616552</td>\n",
       "      <td>0.753732</td>\n",
       "      <td>0.627303</td>\n",
       "      <td>0.506408</td>\n",
       "      <td>0.369470</td>\n",
       "      <td>0.197425</td>\n",
       "      <td>0.321117</td>\n",
       "      <td>0.518553</td>\n",
       "      <td>0.304221</td>\n",
       "      <td>1.000000</td>\n",
       "      <td>0.0</td>\n",
       "    </tr>\n",
       "    <tr>\n",
       "      <th>4497</th>\n",
       "      <td>0.233742</td>\n",
       "      <td>0.495795</td>\n",
       "      <td>0.308874</td>\n",
       "      <td>0.843724</td>\n",
       "      <td>0.363168</td>\n",
       "      <td>0.797486</td>\n",
       "      <td>0.692615</td>\n",
       "      <td>0.458360</td>\n",
       "      <td>0.459544</td>\n",
       "      <td>0.131250</td>\n",
       "      <td>0.081491</td>\n",
       "      <td>0.658222</td>\n",
       "      <td>0.434865</td>\n",
       "      <td>0.592726</td>\n",
       "      <td>1.0</td>\n",
       "    </tr>\n",
       "    <tr>\n",
       "      <th>2405</th>\n",
       "      <td>0.572353</td>\n",
       "      <td>0.491759</td>\n",
       "      <td>0.332660</td>\n",
       "      <td>0.482461</td>\n",
       "      <td>0.414142</td>\n",
       "      <td>0.784470</td>\n",
       "      <td>0.765986</td>\n",
       "      <td>0.545232</td>\n",
       "      <td>0.264777</td>\n",
       "      <td>0.462680</td>\n",
       "      <td>0.414882</td>\n",
       "      <td>0.646121</td>\n",
       "      <td>0.000000</td>\n",
       "      <td>0.000000</td>\n",
       "      <td>1.0</td>\n",
       "    </tr>\n",
       "  </tbody>\n",
       "</table>\n",
       "<p>4257 rows × 15 columns</p>\n",
       "</div>"
      ],
      "text/plain": [
       "      num_imputer__Age  num_imputer__TV1  num_imputer__Eating1  \\\n",
       "2630          0.601781          0.354413              0.341252   \n",
       "2975          0.025076          0.555059              0.390629   \n",
       "3779          0.703585          0.440378              0.531260   \n",
       "4642          0.372460          0.440478              0.476132   \n",
       "1936          0.514041          0.196385              0.795802   \n",
       "...                ...               ...                   ...   \n",
       "1179          0.427970          0.491759              0.436776   \n",
       "1266          0.751576          0.278672              0.390629   \n",
       "1546          0.101727          0.491759              0.521403   \n",
       "4497          0.233742          0.495795              0.308874   \n",
       "2405          0.572353          0.491759              0.332660   \n",
       "\n",
       "      num_imputer__Driving1  num_imputer__RBC  num_imputer__FBS  \\\n",
       "2630               0.312439          0.487922          0.752092   \n",
       "2975               0.312439          0.397751          0.761662   \n",
       "3779               0.324828          0.609473          0.925860   \n",
       "4642               0.280475          0.443089          0.796817   \n",
       "1936               0.666975          0.372557          0.855764   \n",
       "...                     ...               ...               ...   \n",
       "1179               0.183773          0.391522          0.803011   \n",
       "1266               0.000000          0.550505          0.838753   \n",
       "1546               0.000000          0.616552          0.753732   \n",
       "4497               0.843724          0.363168          0.797486   \n",
       "2405               0.482461          0.414142          0.784470   \n",
       "\n",
       "      num_imputer__TG  num_imputer__ALP  num_imputer__HDL.C  \\\n",
       "2630         0.638375          0.506408            0.414580   \n",
       "2975         0.775750          0.444354            0.254976   \n",
       "3779         0.644122          0.605633            0.371185   \n",
       "4642         0.674067          0.468157            0.611085   \n",
       "1936         0.667057          0.581176            0.294927   \n",
       "...               ...               ...                 ...   \n",
       "1179         0.671899          0.527880            0.461438   \n",
       "1266         0.652785          0.465212            0.509984   \n",
       "1546         0.627303          0.506408            0.369470   \n",
       "4497         0.692615          0.458360            0.459544   \n",
       "2405         0.765986          0.545232            0.264777   \n",
       "\n",
       "      num_imputer__TEACOFFEE  num_imputer__BAVARAGE  num_imputer__Vegetables  \\\n",
       "2630                0.659765               0.459744                 0.579343   \n",
       "2975                0.384161               0.289735                 0.478757   \n",
       "3779                0.413249               0.610544                 0.530449   \n",
       "4642                0.541967               0.302852                 0.475278   \n",
       "1936                0.351192               0.400811                 0.473281   \n",
       "...                      ...                    ...                      ...   \n",
       "1179                0.312645               0.253595                 0.602737   \n",
       "1266                0.462615               0.497010                 0.628023   \n",
       "1546                0.197425               0.321117                 0.518553   \n",
       "4497                0.131250               0.081491                 0.658222   \n",
       "2405                0.462680               0.414882                 0.646121   \n",
       "\n",
       "      num_imputer__Juice  num_imputer__HasKidneyStone  \\\n",
       "2630            0.000000                     0.000000   \n",
       "2975            0.426604                     0.000000   \n",
       "3779            0.454432                     0.000000   \n",
       "4642            0.501343                     0.000000   \n",
       "1936            0.039360                     1.000000   \n",
       "...                  ...                          ...   \n",
       "1179            0.664877                     0.000000   \n",
       "1266            0.752924                     0.000000   \n",
       "1546            0.304221                     1.000000   \n",
       "4497            0.434865                     0.592726   \n",
       "2405            0.000000                     0.000000   \n",
       "\n",
       "      num_imputer__HasFattyLiver  \n",
       "2630                         0.0  \n",
       "2975                         0.0  \n",
       "3779                         0.0  \n",
       "4642                         1.0  \n",
       "1936                         0.0  \n",
       "...                          ...  \n",
       "1179                         1.0  \n",
       "1266                         0.0  \n",
       "1546                         0.0  \n",
       "4497                         1.0  \n",
       "2405                         1.0  \n",
       "\n",
       "[4257 rows x 15 columns]"
      ]
     },
     "execution_count": 139,
     "metadata": {},
     "output_type": "execute_result"
    }
   ],
   "source": [
    "X_train = get_config('X_train_transformed')\n",
    "X_train"
   ]
  },
  {
   "cell_type": "code",
   "execution_count": 140,
   "id": "142b6c0e-c17e-42e2-b8fa-7e66bbcdc5f1",
   "metadata": {},
   "outputs": [
    {
     "name": "stdout",
     "output_type": "stream",
     "text": [
      "num_imputer__Age\n",
      "num_imputer__TV1\n",
      "num_imputer__Eating1\n",
      "num_imputer__Driving1\n",
      "num_imputer__RBC\n",
      "num_imputer__FBS\n",
      "num_imputer__TG\n",
      "num_imputer__ALP\n",
      "num_imputer__HDL.C\n",
      "num_imputer__TEACOFFEE\n",
      "num_imputer__BAVARAGE\n",
      "num_imputer__Vegetables\n",
      "num_imputer__Juice\n",
      "num_imputer__HasKidneyStone\n",
      "num_imputer__HasFattyLiver\n"
     ]
    }
   ],
   "source": [
    "for col in X_train.columns:\n",
    "    print(col)"
   ]
  },
  {
   "cell_type": "code",
   "execution_count": 141,
   "id": "aa76265e-b98b-4944-aff3-9b44470b6aa7",
   "metadata": {},
   "outputs": [
    {
     "data": {
      "text/html": [
       "<div>\n",
       "<style scoped>\n",
       "    .dataframe tbody tr th:only-of-type {\n",
       "        vertical-align: middle;\n",
       "    }\n",
       "\n",
       "    .dataframe tbody tr th {\n",
       "        vertical-align: top;\n",
       "    }\n",
       "\n",
       "    .dataframe thead th {\n",
       "        text-align: right;\n",
       "    }\n",
       "</style>\n",
       "<table border=\"1\" class=\"dataframe\">\n",
       "  <thead>\n",
       "    <tr style=\"text-align: right;\">\n",
       "      <th></th>\n",
       "      <th>num_imputer__Age</th>\n",
       "      <th>num_imputer__TV1</th>\n",
       "      <th>num_imputer__Eating1</th>\n",
       "      <th>num_imputer__Driving1</th>\n",
       "      <th>num_imputer__RBC</th>\n",
       "      <th>num_imputer__FBS</th>\n",
       "      <th>num_imputer__TG</th>\n",
       "      <th>num_imputer__ALP</th>\n",
       "      <th>num_imputer__HDL.C</th>\n",
       "      <th>num_imputer__TEACOFFEE</th>\n",
       "      <th>num_imputer__BAVARAGE</th>\n",
       "      <th>num_imputer__Vegetables</th>\n",
       "      <th>num_imputer__Juice</th>\n",
       "      <th>num_imputer__HasKidneyStone</th>\n",
       "      <th>num_imputer__HasFattyLiver</th>\n",
       "    </tr>\n",
       "  </thead>\n",
       "  <tbody>\n",
       "    <tr>\n",
       "      <th>0</th>\n",
       "      <td>0.567003</td>\n",
       "      <td>0.656001</td>\n",
       "      <td>0.517586</td>\n",
       "      <td>0.424809</td>\n",
       "      <td>0.511954</td>\n",
       "      <td>0.856965</td>\n",
       "      <td>0.717471</td>\n",
       "      <td>0.504758</td>\n",
       "      <td>0.273683</td>\n",
       "      <td>0.353776</td>\n",
       "      <td>0.330379</td>\n",
       "      <td>0.497119</td>\n",
       "      <td>0.682806</td>\n",
       "      <td>0.232926</td>\n",
       "      <td>0.0</td>\n",
       "    </tr>\n",
       "    <tr>\n",
       "      <th>1</th>\n",
       "      <td>0.075943</td>\n",
       "      <td>0.491759</td>\n",
       "      <td>0.480233</td>\n",
       "      <td>0.183773</td>\n",
       "      <td>0.426232</td>\n",
       "      <td>0.755353</td>\n",
       "      <td>0.613445</td>\n",
       "      <td>0.494687</td>\n",
       "      <td>0.403137</td>\n",
       "      <td>0.541909</td>\n",
       "      <td>0.289735</td>\n",
       "      <td>0.495844</td>\n",
       "      <td>0.202830</td>\n",
       "      <td>0.000000</td>\n",
       "      <td>1.0</td>\n",
       "    </tr>\n",
       "    <tr>\n",
       "      <th>2</th>\n",
       "      <td>0.101727</td>\n",
       "      <td>0.491759</td>\n",
       "      <td>0.560599</td>\n",
       "      <td>0.575664</td>\n",
       "      <td>0.587506</td>\n",
       "      <td>0.829419</td>\n",
       "      <td>0.714455</td>\n",
       "      <td>0.589046</td>\n",
       "      <td>0.245302</td>\n",
       "      <td>0.633654</td>\n",
       "      <td>0.640949</td>\n",
       "      <td>0.597220</td>\n",
       "      <td>0.000000</td>\n",
       "      <td>0.000000</td>\n",
       "      <td>1.0</td>\n",
       "    </tr>\n",
       "    <tr>\n",
       "      <th>3</th>\n",
       "      <td>0.108565</td>\n",
       "      <td>0.159216</td>\n",
       "      <td>0.651629</td>\n",
       "      <td>0.142121</td>\n",
       "      <td>0.491935</td>\n",
       "      <td>0.900564</td>\n",
       "      <td>0.768615</td>\n",
       "      <td>0.508519</td>\n",
       "      <td>0.331774</td>\n",
       "      <td>0.264413</td>\n",
       "      <td>0.369452</td>\n",
       "      <td>0.499624</td>\n",
       "      <td>0.385028</td>\n",
       "      <td>0.860682</td>\n",
       "      <td>0.0</td>\n",
       "    </tr>\n",
       "    <tr>\n",
       "      <th>4</th>\n",
       "      <td>0.631389</td>\n",
       "      <td>0.354413</td>\n",
       "      <td>0.547736</td>\n",
       "      <td>0.584969</td>\n",
       "      <td>0.553940</td>\n",
       "      <td>0.767709</td>\n",
       "      <td>0.771814</td>\n",
       "      <td>0.488709</td>\n",
       "      <td>0.305221</td>\n",
       "      <td>0.412973</td>\n",
       "      <td>0.627463</td>\n",
       "      <td>0.545103</td>\n",
       "      <td>0.082263</td>\n",
       "      <td>1.000000</td>\n",
       "      <td>0.0</td>\n",
       "    </tr>\n",
       "    <tr>\n",
       "      <th>...</th>\n",
       "      <td>...</td>\n",
       "      <td>...</td>\n",
       "      <td>...</td>\n",
       "      <td>...</td>\n",
       "      <td>...</td>\n",
       "      <td>...</td>\n",
       "      <td>...</td>\n",
       "      <td>...</td>\n",
       "      <td>...</td>\n",
       "      <td>...</td>\n",
       "      <td>...</td>\n",
       "      <td>...</td>\n",
       "      <td>...</td>\n",
       "      <td>...</td>\n",
       "      <td>...</td>\n",
       "    </tr>\n",
       "    <tr>\n",
       "      <th>1116</th>\n",
       "      <td>0.791955</td>\n",
       "      <td>0.325028</td>\n",
       "      <td>0.593365</td>\n",
       "      <td>0.503126</td>\n",
       "      <td>0.493781</td>\n",
       "      <td>0.858963</td>\n",
       "      <td>0.726673</td>\n",
       "      <td>0.489748</td>\n",
       "      <td>0.372244</td>\n",
       "      <td>0.660216</td>\n",
       "      <td>0.502378</td>\n",
       "      <td>0.722232</td>\n",
       "      <td>0.463025</td>\n",
       "      <td>0.000000</td>\n",
       "      <td>0.0</td>\n",
       "    </tr>\n",
       "    <tr>\n",
       "      <th>1117</th>\n",
       "      <td>0.410409</td>\n",
       "      <td>0.401831</td>\n",
       "      <td>0.467412</td>\n",
       "      <td>0.379595</td>\n",
       "      <td>0.542639</td>\n",
       "      <td>0.795381</td>\n",
       "      <td>0.604134</td>\n",
       "      <td>0.578087</td>\n",
       "      <td>0.418657</td>\n",
       "      <td>0.351773</td>\n",
       "      <td>0.358539</td>\n",
       "      <td>0.565111</td>\n",
       "      <td>0.275514</td>\n",
       "      <td>0.000000</td>\n",
       "      <td>0.0</td>\n",
       "    </tr>\n",
       "    <tr>\n",
       "      <th>1118</th>\n",
       "      <td>0.661175</td>\n",
       "      <td>0.425111</td>\n",
       "      <td>0.622194</td>\n",
       "      <td>0.312439</td>\n",
       "      <td>0.342202</td>\n",
       "      <td>0.827477</td>\n",
       "      <td>0.708223</td>\n",
       "      <td>0.555769</td>\n",
       "      <td>0.522379</td>\n",
       "      <td>0.541909</td>\n",
       "      <td>0.000000</td>\n",
       "      <td>0.502090</td>\n",
       "      <td>0.000000</td>\n",
       "      <td>1.000000</td>\n",
       "      <td>1.0</td>\n",
       "    </tr>\n",
       "    <tr>\n",
       "      <th>1119</th>\n",
       "      <td>0.025076</td>\n",
       "      <td>0.196385</td>\n",
       "      <td>0.458813</td>\n",
       "      <td>0.590990</td>\n",
       "      <td>0.638428</td>\n",
       "      <td>0.758541</td>\n",
       "      <td>0.746829</td>\n",
       "      <td>0.516703</td>\n",
       "      <td>0.369470</td>\n",
       "      <td>0.413052</td>\n",
       "      <td>0.400811</td>\n",
       "      <td>0.412549</td>\n",
       "      <td>0.601090</td>\n",
       "      <td>1.000000</td>\n",
       "      <td>0.0</td>\n",
       "    </tr>\n",
       "    <tr>\n",
       "      <th>1120</th>\n",
       "      <td>0.327383</td>\n",
       "      <td>0.309653</td>\n",
       "      <td>0.550831</td>\n",
       "      <td>0.490935</td>\n",
       "      <td>0.499174</td>\n",
       "      <td>0.803463</td>\n",
       "      <td>0.722390</td>\n",
       "      <td>0.559443</td>\n",
       "      <td>0.361144</td>\n",
       "      <td>0.511667</td>\n",
       "      <td>0.523182</td>\n",
       "      <td>0.720266</td>\n",
       "      <td>0.507449</td>\n",
       "      <td>1.000000</td>\n",
       "      <td>1.0</td>\n",
       "    </tr>\n",
       "  </tbody>\n",
       "</table>\n",
       "<p>1121 rows × 15 columns</p>\n",
       "</div>"
      ],
      "text/plain": [
       "      num_imputer__Age  num_imputer__TV1  num_imputer__Eating1  \\\n",
       "0             0.567003          0.656001              0.517586   \n",
       "1             0.075943          0.491759              0.480233   \n",
       "2             0.101727          0.491759              0.560599   \n",
       "3             0.108565          0.159216              0.651629   \n",
       "4             0.631389          0.354413              0.547736   \n",
       "...                ...               ...                   ...   \n",
       "1116          0.791955          0.325028              0.593365   \n",
       "1117          0.410409          0.401831              0.467412   \n",
       "1118          0.661175          0.425111              0.622194   \n",
       "1119          0.025076          0.196385              0.458813   \n",
       "1120          0.327383          0.309653              0.550831   \n",
       "\n",
       "      num_imputer__Driving1  num_imputer__RBC  num_imputer__FBS  \\\n",
       "0                  0.424809          0.511954          0.856965   \n",
       "1                  0.183773          0.426232          0.755353   \n",
       "2                  0.575664          0.587506          0.829419   \n",
       "3                  0.142121          0.491935          0.900564   \n",
       "4                  0.584969          0.553940          0.767709   \n",
       "...                     ...               ...               ...   \n",
       "1116               0.503126          0.493781          0.858963   \n",
       "1117               0.379595          0.542639          0.795381   \n",
       "1118               0.312439          0.342202          0.827477   \n",
       "1119               0.590990          0.638428          0.758541   \n",
       "1120               0.490935          0.499174          0.803463   \n",
       "\n",
       "      num_imputer__TG  num_imputer__ALP  num_imputer__HDL.C  \\\n",
       "0            0.717471          0.504758            0.273683   \n",
       "1            0.613445          0.494687            0.403137   \n",
       "2            0.714455          0.589046            0.245302   \n",
       "3            0.768615          0.508519            0.331774   \n",
       "4            0.771814          0.488709            0.305221   \n",
       "...               ...               ...                 ...   \n",
       "1116         0.726673          0.489748            0.372244   \n",
       "1117         0.604134          0.578087            0.418657   \n",
       "1118         0.708223          0.555769            0.522379   \n",
       "1119         0.746829          0.516703            0.369470   \n",
       "1120         0.722390          0.559443            0.361144   \n",
       "\n",
       "      num_imputer__TEACOFFEE  num_imputer__BAVARAGE  num_imputer__Vegetables  \\\n",
       "0                   0.353776               0.330379                 0.497119   \n",
       "1                   0.541909               0.289735                 0.495844   \n",
       "2                   0.633654               0.640949                 0.597220   \n",
       "3                   0.264413               0.369452                 0.499624   \n",
       "4                   0.412973               0.627463                 0.545103   \n",
       "...                      ...                    ...                      ...   \n",
       "1116                0.660216               0.502378                 0.722232   \n",
       "1117                0.351773               0.358539                 0.565111   \n",
       "1118                0.541909               0.000000                 0.502090   \n",
       "1119                0.413052               0.400811                 0.412549   \n",
       "1120                0.511667               0.523182                 0.720266   \n",
       "\n",
       "      num_imputer__Juice  num_imputer__HasKidneyStone  \\\n",
       "0               0.682806                     0.232926   \n",
       "1               0.202830                     0.000000   \n",
       "2               0.000000                     0.000000   \n",
       "3               0.385028                     0.860682   \n",
       "4               0.082263                     1.000000   \n",
       "...                  ...                          ...   \n",
       "1116            0.463025                     0.000000   \n",
       "1117            0.275514                     0.000000   \n",
       "1118            0.000000                     1.000000   \n",
       "1119            0.601090                     1.000000   \n",
       "1120            0.507449                     1.000000   \n",
       "\n",
       "      num_imputer__HasFattyLiver  \n",
       "0                            0.0  \n",
       "1                            1.0  \n",
       "2                            1.0  \n",
       "3                            0.0  \n",
       "4                            0.0  \n",
       "...                          ...  \n",
       "1116                         0.0  \n",
       "1117                         0.0  \n",
       "1118                         1.0  \n",
       "1119                         0.0  \n",
       "1120                         1.0  \n",
       "\n",
       "[1121 rows x 15 columns]"
      ]
     },
     "execution_count": 141,
     "metadata": {},
     "output_type": "execute_result"
    }
   ],
   "source": [
    "X_test = get_config('X_test_transformed')\n",
    "X_test=X_test.reset_index(drop=True)\n",
    "X_test[:]"
   ]
  },
  {
   "cell_type": "code",
   "execution_count": 142,
   "id": "34e0fa38-7cdf-4a65-b2fe-44b7262b56a7",
   "metadata": {},
   "outputs": [
    {
     "data": {
      "text/plain": [
       "2630    0\n",
       "2975    0\n",
       "3779    1\n",
       "4642    1\n",
       "1936    1\n",
       "       ..\n",
       "1179    1\n",
       "1266    0\n",
       "1546    0\n",
       "4497    1\n",
       "2405    0\n",
       "Name: HasDiabetes, Length: 4257, dtype: int8"
      ]
     },
     "execution_count": 142,
     "metadata": {},
     "output_type": "execute_result"
    }
   ],
   "source": [
    "y_train=get_config('y_train_transformed')\n",
    "y_train"
   ]
  },
  {
   "cell_type": "code",
   "execution_count": 143,
   "id": "1e33984f-c060-400a-91c6-f4d64cd482d9",
   "metadata": {},
   "outputs": [
    {
     "data": {
      "text/plain": [
       "4794    1\n",
       "2050    0\n",
       "1599    0\n",
       "4854    1\n",
       "606     0\n",
       "       ..\n",
       "3631    1\n",
       "5135    1\n",
       "2566    1\n",
       "1320    0\n",
       "3661    1\n",
       "Name: HasDiabetes, Length: 1121, dtype: int8"
      ]
     },
     "execution_count": 143,
     "metadata": {},
     "output_type": "execute_result"
    }
   ],
   "source": [
    "y_test=get_config('y_test_transformed')\n",
    "y_test"
   ]
  },
  {
   "cell_type": "code",
   "execution_count": 144,
   "id": "820fdff7-27cd-4005-9764-7650a354ccf1",
   "metadata": {},
   "outputs": [],
   "source": [
    "import warnings\n",
    "warnings.filterwarnings(\"ignore\", category=UserWarning, module=\"sklearn\")\n",
    "from sklearn.feature_selection import chi2, SelectKBest, VarianceThreshold\n",
    "from sklearn.linear_model import LogisticRegression\n",
    "from sklearn.ensemble import GradientBoostingClassifier, ExtraTreesClassifier\n",
    "from sklearn.svm import SVC\n",
    "from sklearn.feature_selection import SelectFromModel, RFE\n",
    "from boruta import BorutaPy\n",
    "import lightgbm as lgb\n",
    "import pandas as pd\n",
    "import numpy as np\n",
    "import matplotlib.pyplot as plt\n",
    "import seaborn as sns\n",
    "import plotly.express as px\n",
    "from sklearn.linear_model import LassoCV\n",
    "from sklearn.tree import DecisionTreeClassifier\n",
    "from lightgbm import LGBMClassifier\n",
    "from sklearn.model_selection import train_test_split\n",
    "from sklearn.feature_selection import f_classif\n",
    "from sklearn.feature_selection import mutual_info_classif\n",
    "from sklearn.ensemble import RandomForestClassifier\n",
    "from sklearn.metrics import accuracy_score, precision_score, recall_score, f1_score\n",
    "import kaleido"
   ]
  },
  {
   "cell_type": "code",
   "execution_count": 145,
   "id": "338fd189-d8c2-479a-bed0-3e2d158f195f",
   "metadata": {},
   "outputs": [],
   "source": [
    "# Define feature selection methods\n",
    "methods = {\n",
    "    'ANOVA (f_classif)': SelectKBest(score_func=f_classif, k='all'),\n",
    "    'Mutual Information': SelectKBest(score_func=mutual_info_classif, k='all'),\n",
    "    'Chi-Square Test': SelectKBest(score_func=chi2, k='all')\n",
    "}\n",
    "\n",
    "# Store the results\n",
    "results = {}\n",
    "feature_importances = {}\n"
   ]
  },
  {
   "cell_type": "code",
   "execution_count": 146,
   "id": "c07b8d1a-d64d-4406-abd3-515038540164",
   "metadata": {},
   "outputs": [],
   "source": [
    "# Apply feature selection and evaluation\n",
    "for method_name, method in methods.items():\n",
    "    if isinstance(method, SelectKBest):\n",
    "        method.fit(X_train, y_train)\n",
    "        scores = method.scores_\n",
    "        # Normalize scores to ensure comparability\n",
    "        if scores is not None:\n",
    "            scores = (scores - np.min(scores)) / (np.max(scores) - np.min(scores))       \n",
    "        selected_features = np.argsort(scores)[::-1]  # Descending order\n",
    "    # Store feature importances\n",
    "    feature_importances[method_name] = scores\n",
    "\n",
    "    # Evaluate using the top-k features (k=5 as an example)\n",
    "    k = 5\n",
    "    \n",
    "    # Make sure selected_features is not None before using it\n",
    "    if selected_features is not None:\n",
    "        top_k_features = X_train.columns[selected_features[:k]] if method_name != 'PCA' else [f\"PC{i+1}\" for i in range(k)]\n",
    "        X_train_selected = X_train[top_k_features] if method_name != 'PCA' else pd.DataFrame(method.transform(X_train)[:, :k])\n",
    "        X_test_selected = X_test[top_k_features] if method_name != 'PCA' else pd.DataFrame(method.transform(X_test)[:, :k])\n",
    "    else:\n",
    "        # Handle the case where selected_features is None (for debugging)\n",
    "        print(f\"Warning: No selected features returned for method: {method_name}\")\n",
    "        continue  # Skip to the next iteration of the loop\n",
    "    # Train and evaluate model\n",
    "    model = LogisticRegression(random_state=42, max_iter=1000)\n",
    "    model.fit(X_train_selected, y_train)\n",
    "    y_pred = model.predict(X_test_selected)\n",
    "\n",
    "    results[method_name] = {\n",
    "        'features': top_k_features,\n",
    "        'accuracy': accuracy_score(y_test, y_pred),\n",
    "        'precision': precision_score(y_test, y_pred, average='binary'),\n",
    "        'recall': recall_score(y_test, y_pred, average='binary'),\n",
    "        'f1_score': f1_score(y_test, y_pred, average='binary')\n",
    "    }"
   ]
  },
  {
   "cell_type": "code",
   "execution_count": 152,
   "id": "daa83c7d-2faa-44b2-b152-108261c97718",
   "metadata": {},
   "outputs": [
    {
     "data": {
      "application/vnd.plotly.v1+json": {
       "config": {
        "plotlyServerURL": "https://plot.ly"
       },
       "data": [
        {
         "alignmentgroup": "True",
         "cliponaxis": false,
         "hovertemplate": "Metric=accuracy<br>Method=%{x}<br>Performance Metric=%{text}<extra></extra>",
         "insidetextanchor": "middle",
         "legendgroup": "accuracy",
         "marker": {
          "color": "#0072B2",
          "line": {
           "color": "rgba(0, 0, 0, 0.55)",
           "width": 1.6
          },
          "pattern": {
           "shape": ""
          }
         },
         "name": "accuracy",
         "offsetgroup": "accuracy",
         "orientation": "v",
         "showlegend": true,
         "text": [
          0.8421052631578947,
          0.8180196253345228,
          0.840321141837645
         ],
         "textfont": {
          "color": "white",
          "family": "Times New Roman",
          "size": 20
         },
         "textposition": "inside",
         "texttemplate": "%{text:.2f}",
         "type": "bar",
         "x": [
          "ANOVA (f_classif)",
          "Mutual Information",
          "Chi-Square Test"
         ],
         "xaxis": "x",
         "y": [
          0.8421052631578947,
          0.8180196253345228,
          0.840321141837645
         ],
         "yaxis": "y"
        },
        {
         "alignmentgroup": "True",
         "cliponaxis": false,
         "hovertemplate": "Metric=precision<br>Method=%{x}<br>Performance Metric=%{text}<extra></extra>",
         "insidetextanchor": "middle",
         "legendgroup": "precision",
         "marker": {
          "color": "#E69F00",
          "line": {
           "color": "rgba(0, 0, 0, 0.55)",
           "width": 1.6
          },
          "pattern": {
           "shape": ""
          }
         },
         "name": "precision",
         "offsetgroup": "precision",
         "orientation": "v",
         "showlegend": true,
         "text": [
          0.8438061041292639,
          0.8236363636363636,
          0.8469945355191257
         ],
         "textfont": {
          "color": "white",
          "family": "Times New Roman",
          "size": 20
         },
         "textposition": "inside",
         "texttemplate": "%{text:.2f}",
         "type": "bar",
         "x": [
          "ANOVA (f_classif)",
          "Mutual Information",
          "Chi-Square Test"
         ],
         "xaxis": "x",
         "y": [
          0.8438061041292639,
          0.8236363636363636,
          0.8469945355191257
         ],
         "yaxis": "y"
        },
        {
         "alignmentgroup": "True",
         "cliponaxis": false,
         "hovertemplate": "Metric=recall<br>Method=%{x}<br>Performance Metric=%{text}<extra></extra>",
         "insidetextanchor": "middle",
         "legendgroup": "recall",
         "marker": {
          "color": "#009E73",
          "line": {
           "color": "rgba(0, 0, 0, 0.55)",
           "width": 1.6
          },
          "pattern": {
           "shape": ""
          }
         },
         "name": "recall",
         "offsetgroup": "recall",
         "orientation": "v",
         "showlegend": true,
         "text": [
          0.8392857142857143,
          0.8089285714285714,
          0.8303571428571429
         ],
         "textfont": {
          "color": "white",
          "family": "Times New Roman",
          "size": 20
         },
         "textposition": "inside",
         "texttemplate": "%{text:.2f}",
         "type": "bar",
         "x": [
          "ANOVA (f_classif)",
          "Mutual Information",
          "Chi-Square Test"
         ],
         "xaxis": "x",
         "y": [
          0.8392857142857143,
          0.8089285714285714,
          0.8303571428571429
         ],
         "yaxis": "y"
        },
        {
         "alignmentgroup": "True",
         "cliponaxis": false,
         "hovertemplate": "Metric=f1_score<br>Method=%{x}<br>Performance Metric=%{text}<extra></extra>",
         "insidetextanchor": "middle",
         "legendgroup": "f1_score",
         "marker": {
          "color": "#D55E00",
          "line": {
           "color": "rgba(0, 0, 0, 0.55)",
           "width": 1.6
          },
          "pattern": {
           "shape": ""
          }
         },
         "name": "f1_score",
         "offsetgroup": "f1_score",
         "orientation": "v",
         "showlegend": true,
         "text": [
          0.8415398388540735,
          0.8162162162162162,
          0.8385933273219116
         ],
         "textfont": {
          "color": "white",
          "family": "Times New Roman",
          "size": 20
         },
         "textposition": "inside",
         "texttemplate": "%{text:.2f}",
         "type": "bar",
         "x": [
          "ANOVA (f_classif)",
          "Mutual Information",
          "Chi-Square Test"
         ],
         "xaxis": "x",
         "y": [
          0.8415398388540735,
          0.8162162162162162,
          0.8385933273219116
         ],
         "yaxis": "y"
        }
       ],
       "layout": {
        "autosize": true,
        "bargap": 0.12,
        "bargroupgap": 0.08,
        "barmode": "group",
        "font": {
         "color": "black",
         "family": "Arial, Liberation Sans, DejaVu Sans, sans-serif",
         "size": 18
        },
        "legend": {
         "bgcolor": "rgba(0, 0, 0, 0)",
         "bordercolor": "rgba(0, 0, 0, 0)",
         "borderwidth": 0,
         "font": {
          "size": 14
         },
         "itemsizing": "constant",
         "itemwidth": 30,
         "orientation": "v",
         "title": {
          "text": "Metrics"
         },
         "tracegroupgap": 0,
         "x": 1.02,
         "xanchor": "left",
         "y": 0.5,
         "yanchor": "middle"
        },
        "margin": {
         "b": 150,
         "l": 90,
         "r": 170,
         "t": 100
        },
        "paper_bgcolor": "white",
        "plot_bgcolor": "white",
        "template": {
         "data": {
          "bar": [
           {
            "error_x": {
             "color": "#2a3f5f"
            },
            "error_y": {
             "color": "#2a3f5f"
            },
            "marker": {
             "line": {
              "color": "white",
              "width": 0.5
             },
             "pattern": {
              "fillmode": "overlay",
              "size": 10,
              "solidity": 0.2
             }
            },
            "type": "bar"
           }
          ],
          "barpolar": [
           {
            "marker": {
             "line": {
              "color": "white",
              "width": 0.5
             },
             "pattern": {
              "fillmode": "overlay",
              "size": 10,
              "solidity": 0.2
             }
            },
            "type": "barpolar"
           }
          ],
          "carpet": [
           {
            "aaxis": {
             "endlinecolor": "#2a3f5f",
             "gridcolor": "#C8D4E3",
             "linecolor": "#C8D4E3",
             "minorgridcolor": "#C8D4E3",
             "startlinecolor": "#2a3f5f"
            },
            "baxis": {
             "endlinecolor": "#2a3f5f",
             "gridcolor": "#C8D4E3",
             "linecolor": "#C8D4E3",
             "minorgridcolor": "#C8D4E3",
             "startlinecolor": "#2a3f5f"
            },
            "type": "carpet"
           }
          ],
          "choropleth": [
           {
            "colorbar": {
             "outlinewidth": 0,
             "ticks": ""
            },
            "type": "choropleth"
           }
          ],
          "contour": [
           {
            "colorbar": {
             "outlinewidth": 0,
             "ticks": ""
            },
            "colorscale": [
             [
              0,
              "#0d0887"
             ],
             [
              0.1111111111111111,
              "#46039f"
             ],
             [
              0.2222222222222222,
              "#7201a8"
             ],
             [
              0.3333333333333333,
              "#9c179e"
             ],
             [
              0.4444444444444444,
              "#bd3786"
             ],
             [
              0.5555555555555556,
              "#d8576b"
             ],
             [
              0.6666666666666666,
              "#ed7953"
             ],
             [
              0.7777777777777778,
              "#fb9f3a"
             ],
             [
              0.8888888888888888,
              "#fdca26"
             ],
             [
              1,
              "#f0f921"
             ]
            ],
            "type": "contour"
           }
          ],
          "contourcarpet": [
           {
            "colorbar": {
             "outlinewidth": 0,
             "ticks": ""
            },
            "type": "contourcarpet"
           }
          ],
          "heatmap": [
           {
            "colorbar": {
             "outlinewidth": 0,
             "ticks": ""
            },
            "colorscale": [
             [
              0,
              "#0d0887"
             ],
             [
              0.1111111111111111,
              "#46039f"
             ],
             [
              0.2222222222222222,
              "#7201a8"
             ],
             [
              0.3333333333333333,
              "#9c179e"
             ],
             [
              0.4444444444444444,
              "#bd3786"
             ],
             [
              0.5555555555555556,
              "#d8576b"
             ],
             [
              0.6666666666666666,
              "#ed7953"
             ],
             [
              0.7777777777777778,
              "#fb9f3a"
             ],
             [
              0.8888888888888888,
              "#fdca26"
             ],
             [
              1,
              "#f0f921"
             ]
            ],
            "type": "heatmap"
           }
          ],
          "heatmapgl": [
           {
            "colorbar": {
             "outlinewidth": 0,
             "ticks": ""
            },
            "colorscale": [
             [
              0,
              "#0d0887"
             ],
             [
              0.1111111111111111,
              "#46039f"
             ],
             [
              0.2222222222222222,
              "#7201a8"
             ],
             [
              0.3333333333333333,
              "#9c179e"
             ],
             [
              0.4444444444444444,
              "#bd3786"
             ],
             [
              0.5555555555555556,
              "#d8576b"
             ],
             [
              0.6666666666666666,
              "#ed7953"
             ],
             [
              0.7777777777777778,
              "#fb9f3a"
             ],
             [
              0.8888888888888888,
              "#fdca26"
             ],
             [
              1,
              "#f0f921"
             ]
            ],
            "type": "heatmapgl"
           }
          ],
          "histogram": [
           {
            "marker": {
             "pattern": {
              "fillmode": "overlay",
              "size": 10,
              "solidity": 0.2
             }
            },
            "type": "histogram"
           }
          ],
          "histogram2d": [
           {
            "colorbar": {
             "outlinewidth": 0,
             "ticks": ""
            },
            "colorscale": [
             [
              0,
              "#0d0887"
             ],
             [
              0.1111111111111111,
              "#46039f"
             ],
             [
              0.2222222222222222,
              "#7201a8"
             ],
             [
              0.3333333333333333,
              "#9c179e"
             ],
             [
              0.4444444444444444,
              "#bd3786"
             ],
             [
              0.5555555555555556,
              "#d8576b"
             ],
             [
              0.6666666666666666,
              "#ed7953"
             ],
             [
              0.7777777777777778,
              "#fb9f3a"
             ],
             [
              0.8888888888888888,
              "#fdca26"
             ],
             [
              1,
              "#f0f921"
             ]
            ],
            "type": "histogram2d"
           }
          ],
          "histogram2dcontour": [
           {
            "colorbar": {
             "outlinewidth": 0,
             "ticks": ""
            },
            "colorscale": [
             [
              0,
              "#0d0887"
             ],
             [
              0.1111111111111111,
              "#46039f"
             ],
             [
              0.2222222222222222,
              "#7201a8"
             ],
             [
              0.3333333333333333,
              "#9c179e"
             ],
             [
              0.4444444444444444,
              "#bd3786"
             ],
             [
              0.5555555555555556,
              "#d8576b"
             ],
             [
              0.6666666666666666,
              "#ed7953"
             ],
             [
              0.7777777777777778,
              "#fb9f3a"
             ],
             [
              0.8888888888888888,
              "#fdca26"
             ],
             [
              1,
              "#f0f921"
             ]
            ],
            "type": "histogram2dcontour"
           }
          ],
          "mesh3d": [
           {
            "colorbar": {
             "outlinewidth": 0,
             "ticks": ""
            },
            "type": "mesh3d"
           }
          ],
          "parcoords": [
           {
            "line": {
             "colorbar": {
              "outlinewidth": 0,
              "ticks": ""
             }
            },
            "type": "parcoords"
           }
          ],
          "pie": [
           {
            "automargin": true,
            "type": "pie"
           }
          ],
          "scatter": [
           {
            "fillpattern": {
             "fillmode": "overlay",
             "size": 10,
             "solidity": 0.2
            },
            "type": "scatter"
           }
          ],
          "scatter3d": [
           {
            "line": {
             "colorbar": {
              "outlinewidth": 0,
              "ticks": ""
             }
            },
            "marker": {
             "colorbar": {
              "outlinewidth": 0,
              "ticks": ""
             }
            },
            "type": "scatter3d"
           }
          ],
          "scattercarpet": [
           {
            "marker": {
             "colorbar": {
              "outlinewidth": 0,
              "ticks": ""
             }
            },
            "type": "scattercarpet"
           }
          ],
          "scattergeo": [
           {
            "marker": {
             "colorbar": {
              "outlinewidth": 0,
              "ticks": ""
             }
            },
            "type": "scattergeo"
           }
          ],
          "scattergl": [
           {
            "marker": {
             "colorbar": {
              "outlinewidth": 0,
              "ticks": ""
             }
            },
            "type": "scattergl"
           }
          ],
          "scattermapbox": [
           {
            "marker": {
             "colorbar": {
              "outlinewidth": 0,
              "ticks": ""
             }
            },
            "type": "scattermapbox"
           }
          ],
          "scatterpolar": [
           {
            "marker": {
             "colorbar": {
              "outlinewidth": 0,
              "ticks": ""
             }
            },
            "type": "scatterpolar"
           }
          ],
          "scatterpolargl": [
           {
            "marker": {
             "colorbar": {
              "outlinewidth": 0,
              "ticks": ""
             }
            },
            "type": "scatterpolargl"
           }
          ],
          "scatterternary": [
           {
            "marker": {
             "colorbar": {
              "outlinewidth": 0,
              "ticks": ""
             }
            },
            "type": "scatterternary"
           }
          ],
          "surface": [
           {
            "colorbar": {
             "outlinewidth": 0,
             "ticks": ""
            },
            "colorscale": [
             [
              0,
              "#0d0887"
             ],
             [
              0.1111111111111111,
              "#46039f"
             ],
             [
              0.2222222222222222,
              "#7201a8"
             ],
             [
              0.3333333333333333,
              "#9c179e"
             ],
             [
              0.4444444444444444,
              "#bd3786"
             ],
             [
              0.5555555555555556,
              "#d8576b"
             ],
             [
              0.6666666666666666,
              "#ed7953"
             ],
             [
              0.7777777777777778,
              "#fb9f3a"
             ],
             [
              0.8888888888888888,
              "#fdca26"
             ],
             [
              1,
              "#f0f921"
             ]
            ],
            "type": "surface"
           }
          ],
          "table": [
           {
            "cells": {
             "fill": {
              "color": "#EBF0F8"
             },
             "line": {
              "color": "white"
             }
            },
            "header": {
             "fill": {
              "color": "#C8D4E3"
             },
             "line": {
              "color": "white"
             }
            },
            "type": "table"
           }
          ]
         },
         "layout": {
          "annotationdefaults": {
           "arrowcolor": "#2a3f5f",
           "arrowhead": 0,
           "arrowwidth": 1
          },
          "autotypenumbers": "strict",
          "coloraxis": {
           "colorbar": {
            "outlinewidth": 0,
            "ticks": ""
           }
          },
          "colorscale": {
           "diverging": [
            [
             0,
             "#8e0152"
            ],
            [
             0.1,
             "#c51b7d"
            ],
            [
             0.2,
             "#de77ae"
            ],
            [
             0.3,
             "#f1b6da"
            ],
            [
             0.4,
             "#fde0ef"
            ],
            [
             0.5,
             "#f7f7f7"
            ],
            [
             0.6,
             "#e6f5d0"
            ],
            [
             0.7,
             "#b8e186"
            ],
            [
             0.8,
             "#7fbc41"
            ],
            [
             0.9,
             "#4d9221"
            ],
            [
             1,
             "#276419"
            ]
           ],
           "sequential": [
            [
             0,
             "#0d0887"
            ],
            [
             0.1111111111111111,
             "#46039f"
            ],
            [
             0.2222222222222222,
             "#7201a8"
            ],
            [
             0.3333333333333333,
             "#9c179e"
            ],
            [
             0.4444444444444444,
             "#bd3786"
            ],
            [
             0.5555555555555556,
             "#d8576b"
            ],
            [
             0.6666666666666666,
             "#ed7953"
            ],
            [
             0.7777777777777778,
             "#fb9f3a"
            ],
            [
             0.8888888888888888,
             "#fdca26"
            ],
            [
             1,
             "#f0f921"
            ]
           ],
           "sequentialminus": [
            [
             0,
             "#0d0887"
            ],
            [
             0.1111111111111111,
             "#46039f"
            ],
            [
             0.2222222222222222,
             "#7201a8"
            ],
            [
             0.3333333333333333,
             "#9c179e"
            ],
            [
             0.4444444444444444,
             "#bd3786"
            ],
            [
             0.5555555555555556,
             "#d8576b"
            ],
            [
             0.6666666666666666,
             "#ed7953"
            ],
            [
             0.7777777777777778,
             "#fb9f3a"
            ],
            [
             0.8888888888888888,
             "#fdca26"
            ],
            [
             1,
             "#f0f921"
            ]
           ]
          },
          "colorway": [
           "#636efa",
           "#EF553B",
           "#00cc96",
           "#ab63fa",
           "#FFA15A",
           "#19d3f3",
           "#FF6692",
           "#B6E880",
           "#FF97FF",
           "#FECB52"
          ],
          "font": {
           "color": "#2a3f5f"
          },
          "geo": {
           "bgcolor": "white",
           "lakecolor": "white",
           "landcolor": "white",
           "showlakes": true,
           "showland": true,
           "subunitcolor": "#C8D4E3"
          },
          "hoverlabel": {
           "align": "left"
          },
          "hovermode": "closest",
          "mapbox": {
           "style": "light"
          },
          "paper_bgcolor": "white",
          "plot_bgcolor": "white",
          "polar": {
           "angularaxis": {
            "gridcolor": "#EBF0F8",
            "linecolor": "#EBF0F8",
            "ticks": ""
           },
           "bgcolor": "white",
           "radialaxis": {
            "gridcolor": "#EBF0F8",
            "linecolor": "#EBF0F8",
            "ticks": ""
           }
          },
          "scene": {
           "xaxis": {
            "backgroundcolor": "white",
            "gridcolor": "#DFE8F3",
            "gridwidth": 2,
            "linecolor": "#EBF0F8",
            "showbackground": true,
            "ticks": "",
            "zerolinecolor": "#EBF0F8"
           },
           "yaxis": {
            "backgroundcolor": "white",
            "gridcolor": "#DFE8F3",
            "gridwidth": 2,
            "linecolor": "#EBF0F8",
            "showbackground": true,
            "ticks": "",
            "zerolinecolor": "#EBF0F8"
           },
           "zaxis": {
            "backgroundcolor": "white",
            "gridcolor": "#DFE8F3",
            "gridwidth": 2,
            "linecolor": "#EBF0F8",
            "showbackground": true,
            "ticks": "",
            "zerolinecolor": "#EBF0F8"
           }
          },
          "shapedefaults": {
           "line": {
            "color": "#2a3f5f"
           }
          },
          "ternary": {
           "aaxis": {
            "gridcolor": "#DFE8F3",
            "linecolor": "#A2B1C6",
            "ticks": ""
           },
           "baxis": {
            "gridcolor": "#DFE8F3",
            "linecolor": "#A2B1C6",
            "ticks": ""
           },
           "bgcolor": "white",
           "caxis": {
            "gridcolor": "#DFE8F3",
            "linecolor": "#A2B1C6",
            "ticks": ""
           }
          },
          "title": {
           "x": 0.05
          },
          "xaxis": {
           "automargin": true,
           "gridcolor": "#EBF0F8",
           "linecolor": "#EBF0F8",
           "ticks": "",
           "title": {
            "standoff": 15
           },
           "zerolinecolor": "#EBF0F8",
           "zerolinewidth": 2
          },
          "yaxis": {
           "automargin": true,
           "gridcolor": "#EBF0F8",
           "linecolor": "#EBF0F8",
           "ticks": "",
           "title": {
            "standoff": 15
           },
           "zerolinecolor": "#EBF0F8",
           "zerolinewidth": 2
          }
         }
        },
        "title": {
         "font": {
          "size": 32
         },
         "text": "Comparison of Feature Selection Methods",
         "x": 0.5,
         "xanchor": "center"
        },
        "uniformtext": {
         "minsize": 12,
         "mode": "show"
        },
        "xaxis": {
         "anchor": "y",
         "automargin": true,
         "autorange": true,
         "categoryarray": [
          "ANOVA (f_classif)",
          "Chi-Square Test",
          "Mutual Information"
         ],
         "categoryorder": "array",
         "domain": [
          0,
          1
         ],
         "range": [
          -0.5,
          2.5
         ],
         "tickangle": -20,
         "title": {
          "text": "Feature Selection Method"
         },
         "type": "category"
        },
        "yaxis": {
         "anchor": "x",
         "domain": [
          0,
          1
         ],
         "gridcolor": "rgba(0, 0, 0, 0.1)",
         "range": [
          0,
          1.25
         ],
         "title": {
          "text": "Score"
         },
         "type": "linear"
        }
       }
      },
      "image/png": "[encoded data removed]",
      "text/html": [
       "<div>                            <div id=\"cc9570cd-e843-49a6-898f-12e0b2ebb581\" class=\"plotly-graph-div\" style=\"height:900px; width:100%;\"></div>            <script type=\"text/javascript\">                require([\"plotly\"], function(Plotly) {                    window.PLOTLYENV=window.PLOTLYENV || {};                                    if (document.getElementById(\"cc9570cd-e843-49a6-898f-12e0b2ebb581\")) {                    Plotly.newPlot(                        \"cc9570cd-e843-49a6-898f-12e0b2ebb581\",                        [{\"alignmentgroup\":\"True\",\"hovertemplate\":\"Metric=accuracy\\u003cbr\\u003eMethod=%{x}\\u003cbr\\u003ePerformance Metric=%{text}\\u003cextra\\u003e\\u003c\\u002fextra\\u003e\",\"legendgroup\":\"accuracy\",\"marker\":{\"color\":\"#0072B2\",\"pattern\":{\"shape\":\"\"},\"line\":{\"color\":\"rgba(0,0,0,0.55)\",\"width\":1.6}},\"name\":\"accuracy\",\"offsetgroup\":\"accuracy\",\"orientation\":\"v\",\"showlegend\":true,\"text\":[0.8421052631578947,0.8180196253345228,0.840321141837645],\"textposition\":\"inside\",\"x\":[\"ANOVA (f_classif)\",\"Mutual Information\",\"Chi-Square Test\"],\"xaxis\":\"x\",\"y\":[0.8421052631578947,0.8180196253345228,0.840321141837645],\"yaxis\":\"y\",\"type\":\"bar\",\"textfont\":{\"color\":\"white\",\"family\":\"Times New Roman\",\"size\":20},\"cliponaxis\":false,\"insidetextanchor\":\"middle\",\"texttemplate\":\"%{text:.2f}\"},{\"alignmentgroup\":\"True\",\"hovertemplate\":\"Metric=precision\\u003cbr\\u003eMethod=%{x}\\u003cbr\\u003ePerformance Metric=%{text}\\u003cextra\\u003e\\u003c\\u002fextra\\u003e\",\"legendgroup\":\"precision\",\"marker\":{\"color\":\"#E69F00\",\"pattern\":{\"shape\":\"\"},\"line\":{\"color\":\"rgba(0,0,0,0.55)\",\"width\":1.6}},\"name\":\"precision\",\"offsetgroup\":\"precision\",\"orientation\":\"v\",\"showlegend\":true,\"text\":[0.8438061041292639,0.8236363636363636,0.8469945355191257],\"textposition\":\"inside\",\"x\":[\"ANOVA (f_classif)\",\"Mutual Information\",\"Chi-Square Test\"],\"xaxis\":\"x\",\"y\":[0.8438061041292639,0.8236363636363636,0.8469945355191257],\"yaxis\":\"y\",\"type\":\"bar\",\"textfont\":{\"color\":\"white\",\"family\":\"Times New Roman\",\"size\":20},\"cliponaxis\":false,\"insidetextanchor\":\"middle\",\"texttemplate\":\"%{text:.2f}\"},{\"alignmentgroup\":\"True\",\"hovertemplate\":\"Metric=recall\\u003cbr\\u003eMethod=%{x}\\u003cbr\\u003ePerformance Metric=%{text}\\u003cextra\\u003e\\u003c\\u002fextra\\u003e\",\"legendgroup\":\"recall\",\"marker\":{\"color\":\"#009E73\",\"pattern\":{\"shape\":\"\"},\"line\":{\"color\":\"rgba(0,0,0,0.55)\",\"width\":1.6}},\"name\":\"recall\",\"offsetgroup\":\"recall\",\"orientation\":\"v\",\"showlegend\":true,\"text\":[0.8392857142857143,0.8089285714285714,0.8303571428571429],\"textposition\":\"inside\",\"x\":[\"ANOVA (f_classif)\",\"Mutual Information\",\"Chi-Square Test\"],\"xaxis\":\"x\",\"y\":[0.8392857142857143,0.8089285714285714,0.8303571428571429],\"yaxis\":\"y\",\"type\":\"bar\",\"textfont\":{\"color\":\"white\",\"family\":\"Times New Roman\",\"size\":20},\"cliponaxis\":false,\"insidetextanchor\":\"middle\",\"texttemplate\":\"%{text:.2f}\"},{\"alignmentgroup\":\"True\",\"hovertemplate\":\"Metric=f1_score\\u003cbr\\u003eMethod=%{x}\\u003cbr\\u003ePerformance Metric=%{text}\\u003cextra\\u003e\\u003c\\u002fextra\\u003e\",\"legendgroup\":\"f1_score\",\"marker\":{\"color\":\"#D55E00\",\"pattern\":{\"shape\":\"\"},\"line\":{\"color\":\"rgba(0,0,0,0.55)\",\"width\":1.6}},\"name\":\"f1_score\",\"offsetgroup\":\"f1_score\",\"orientation\":\"v\",\"showlegend\":true,\"text\":[0.8415398388540735,0.8162162162162162,0.8385933273219116],\"textposition\":\"inside\",\"x\":[\"ANOVA (f_classif)\",\"Mutual Information\",\"Chi-Square Test\"],\"xaxis\":\"x\",\"y\":[0.8415398388540735,0.8162162162162162,0.8385933273219116],\"yaxis\":\"y\",\"type\":\"bar\",\"textfont\":{\"color\":\"white\",\"family\":\"Times New Roman\",\"size\":20},\"cliponaxis\":false,\"insidetextanchor\":\"middle\",\"texttemplate\":\"%{text:.2f}\"}],                        {\"template\":{\"data\":{\"barpolar\":[{\"marker\":{\"line\":{\"color\":\"white\",\"width\":0.5},\"pattern\":{\"fillmode\":\"overlay\",\"size\":10,\"solidity\":0.2}},\"type\":\"barpolar\"}],\"bar\":[{\"error_x\":{\"color\":\"#2a3f5f\"},\"error_y\":{\"color\":\"#2a3f5f\"},\"marker\":{\"line\":{\"color\":\"white\",\"width\":0.5},\"pattern\":{\"fillmode\":\"overlay\",\"size\":10,\"solidity\":0.2}},\"type\":\"bar\"}],\"carpet\":[{\"aaxis\":{\"endlinecolor\":\"#2a3f5f\",\"gridcolor\":\"#C8D4E3\",\"linecolor\":\"#C8D4E3\",\"minorgridcolor\":\"#C8D4E3\",\"startlinecolor\":\"#2a3f5f\"},\"baxis\":{\"endlinecolor\":\"#2a3f5f\",\"gridcolor\":\"#C8D4E3\",\"linecolor\":\"#C8D4E3\",\"minorgridcolor\":\"#C8D4E3\",\"startlinecolor\":\"#2a3f5f\"},\"type\":\"carpet\"}],\"choropleth\":[{\"colorbar\":{\"outlinewidth\":0,\"ticks\":\"\"},\"type\":\"choropleth\"}],\"contourcarpet\":[{\"colorbar\":{\"outlinewidth\":0,\"ticks\":\"\"},\"type\":\"contourcarpet\"}],\"contour\":[{\"colorbar\":{\"outlinewidth\":0,\"ticks\":\"\"},\"colorscale\":[[0.0,\"#0d0887\"],[0.1111111111111111,\"#46039f\"],[0.2222222222222222,\"#7201a8\"],[0.3333333333333333,\"#9c179e\"],[0.4444444444444444,\"#bd3786\"],[0.5555555555555556,\"#d8576b\"],[0.6666666666666666,\"#ed7953\"],[0.7777777777777778,\"#fb9f3a\"],[0.8888888888888888,\"#fdca26\"],[1.0,\"#f0f921\"]],\"type\":\"contour\"}],\"heatmapgl\":[{\"colorbar\":{\"outlinewidth\":0,\"ticks\":\"\"},\"colorscale\":[[0.0,\"#0d0887\"],[0.1111111111111111,\"#46039f\"],[0.2222222222222222,\"#7201a8\"],[0.3333333333333333,\"#9c179e\"],[0.4444444444444444,\"#bd3786\"],[0.5555555555555556,\"#d8576b\"],[0.6666666666666666,\"#ed7953\"],[0.7777777777777778,\"#fb9f3a\"],[0.8888888888888888,\"#fdca26\"],[1.0,\"#f0f921\"]],\"type\":\"heatmapgl\"}],\"heatmap\":[{\"colorbar\":{\"outlinewidth\":0,\"ticks\":\"\"},\"colorscale\":[[0.0,\"#0d0887\"],[0.1111111111111111,\"#46039f\"],[0.2222222222222222,\"#7201a8\"],[0.3333333333333333,\"#9c179e\"],[0.4444444444444444,\"#bd3786\"],[0.5555555555555556,\"#d8576b\"],[0.6666666666666666,\"#ed7953\"],[0.7777777777777778,\"#fb9f3a\"],[0.8888888888888888,\"#fdca26\"],[1.0,\"#f0f921\"]],\"type\":\"heatmap\"}],\"histogram2dcontour\":[{\"colorbar\":{\"outlinewidth\":0,\"ticks\":\"\"},\"colorscale\":[[0.0,\"#0d0887\"],[0.1111111111111111,\"#46039f\"],[0.2222222222222222,\"#7201a8\"],[0.3333333333333333,\"#9c179e\"],[0.4444444444444444,\"#bd3786\"],[0.5555555555555556,\"#d8576b\"],[0.6666666666666666,\"#ed7953\"],[0.7777777777777778,\"#fb9f3a\"],[0.8888888888888888,\"#fdca26\"],[1.0,\"#f0f921\"]],\"type\":\"histogram2dcontour\"}],\"histogram2d\":[{\"colorbar\":{\"outlinewidth\":0,\"ticks\":\"\"},\"colorscale\":[[0.0,\"#0d0887\"],[0.1111111111111111,\"#46039f\"],[0.2222222222222222,\"#7201a8\"],[0.3333333333333333,\"#9c179e\"],[0.4444444444444444,\"#bd3786\"],[0.5555555555555556,\"#d8576b\"],[0.6666666666666666,\"#ed7953\"],[0.7777777777777778,\"#fb9f3a\"],[0.8888888888888888,\"#fdca26\"],[1.0,\"#f0f921\"]],\"type\":\"histogram2d\"}],\"histogram\":[{\"marker\":{\"pattern\":{\"fillmode\":\"overlay\",\"size\":10,\"solidity\":0.2}},\"type\":\"histogram\"}],\"mesh3d\":[{\"colorbar\":{\"outlinewidth\":0,\"ticks\":\"\"},\"type\":\"mesh3d\"}],\"parcoords\":[{\"line\":{\"colorbar\":{\"outlinewidth\":0,\"ticks\":\"\"}},\"type\":\"parcoords\"}],\"pie\":[{\"automargin\":true,\"type\":\"pie\"}],\"scatter3d\":[{\"line\":{\"colorbar\":{\"outlinewidth\":0,\"ticks\":\"\"}},\"marker\":{\"colorbar\":{\"outlinewidth\":0,\"ticks\":\"\"}},\"type\":\"scatter3d\"}],\"scattercarpet\":[{\"marker\":{\"colorbar\":{\"outlinewidth\":0,\"ticks\":\"\"}},\"type\":\"scattercarpet\"}],\"scattergeo\":[{\"marker\":{\"colorbar\":{\"outlinewidth\":0,\"ticks\":\"\"}},\"type\":\"scattergeo\"}],\"scattergl\":[{\"marker\":{\"colorbar\":{\"outlinewidth\":0,\"ticks\":\"\"}},\"type\":\"scattergl\"}],\"scattermapbox\":[{\"marker\":{\"colorbar\":{\"outlinewidth\":0,\"ticks\":\"\"}},\"type\":\"scattermapbox\"}],\"scatterpolargl\":[{\"marker\":{\"colorbar\":{\"outlinewidth\":0,\"ticks\":\"\"}},\"type\":\"scatterpolargl\"}],\"scatterpolar\":[{\"marker\":{\"colorbar\":{\"outlinewidth\":0,\"ticks\":\"\"}},\"type\":\"scatterpolar\"}],\"scatter\":[{\"fillpattern\":{\"fillmode\":\"overlay\",\"size\":10,\"solidity\":0.2},\"type\":\"scatter\"}],\"scatterternary\":[{\"marker\":{\"colorbar\":{\"outlinewidth\":0,\"ticks\":\"\"}},\"type\":\"scatterternary\"}],\"surface\":[{\"colorbar\":{\"outlinewidth\":0,\"ticks\":\"\"},\"colorscale\":[[0.0,\"#0d0887\"],[0.1111111111111111,\"#46039f\"],[0.2222222222222222,\"#7201a8\"],[0.3333333333333333,\"#9c179e\"],[0.4444444444444444,\"#bd3786\"],[0.5555555555555556,\"#d8576b\"],[0.6666666666666666,\"#ed7953\"],[0.7777777777777778,\"#fb9f3a\"],[0.8888888888888888,\"#fdca26\"],[1.0,\"#f0f921\"]],\"type\":\"surface\"}],\"table\":[{\"cells\":{\"fill\":{\"color\":\"#EBF0F8\"},\"line\":{\"color\":\"white\"}},\"header\":{\"fill\":{\"color\":\"#C8D4E3\"},\"line\":{\"color\":\"white\"}},\"type\":\"table\"}]},\"layout\":{\"annotationdefaults\":{\"arrowcolor\":\"#2a3f5f\",\"arrowhead\":0,\"arrowwidth\":1},\"autotypenumbers\":\"strict\",\"coloraxis\":{\"colorbar\":{\"outlinewidth\":0,\"ticks\":\"\"}},\"colorscale\":{\"diverging\":[[0,\"#8e0152\"],[0.1,\"#c51b7d\"],[0.2,\"#de77ae\"],[0.3,\"#f1b6da\"],[0.4,\"#fde0ef\"],[0.5,\"#f7f7f7\"],[0.6,\"#e6f5d0\"],[0.7,\"#b8e186\"],[0.8,\"#7fbc41\"],[0.9,\"#4d9221\"],[1,\"#276419\"]],\"sequential\":[[0.0,\"#0d0887\"],[0.1111111111111111,\"#46039f\"],[0.2222222222222222,\"#7201a8\"],[0.3333333333333333,\"#9c179e\"],[0.4444444444444444,\"#bd3786\"],[0.5555555555555556,\"#d8576b\"],[0.6666666666666666,\"#ed7953\"],[0.7777777777777778,\"#fb9f3a\"],[0.8888888888888888,\"#fdca26\"],[1.0,\"#f0f921\"]],\"sequentialminus\":[[0.0,\"#0d0887\"],[0.1111111111111111,\"#46039f\"],[0.2222222222222222,\"#7201a8\"],[0.3333333333333333,\"#9c179e\"],[0.4444444444444444,\"#bd3786\"],[0.5555555555555556,\"#d8576b\"],[0.6666666666666666,\"#ed7953\"],[0.7777777777777778,\"#fb9f3a\"],[0.8888888888888888,\"#fdca26\"],[1.0,\"#f0f921\"]]},\"colorway\":[\"#636efa\",\"#EF553B\",\"#00cc96\",\"#ab63fa\",\"#FFA15A\",\"#19d3f3\",\"#FF6692\",\"#B6E880\",\"#FF97FF\",\"#FECB52\"],\"font\":{\"color\":\"#2a3f5f\"},\"geo\":{\"bgcolor\":\"white\",\"lakecolor\":\"white\",\"landcolor\":\"white\",\"showlakes\":true,\"showland\":true,\"subunitcolor\":\"#C8D4E3\"},\"hoverlabel\":{\"align\":\"left\"},\"hovermode\":\"closest\",\"mapbox\":{\"style\":\"light\"},\"paper_bgcolor\":\"white\",\"plot_bgcolor\":\"white\",\"polar\":{\"angularaxis\":{\"gridcolor\":\"#EBF0F8\",\"linecolor\":\"#EBF0F8\",\"ticks\":\"\"},\"bgcolor\":\"white\",\"radialaxis\":{\"gridcolor\":\"#EBF0F8\",\"linecolor\":\"#EBF0F8\",\"ticks\":\"\"}},\"scene\":{\"xaxis\":{\"backgroundcolor\":\"white\",\"gridcolor\":\"#DFE8F3\",\"gridwidth\":2,\"linecolor\":\"#EBF0F8\",\"showbackground\":true,\"ticks\":\"\",\"zerolinecolor\":\"#EBF0F8\"},\"yaxis\":{\"backgroundcolor\":\"white\",\"gridcolor\":\"#DFE8F3\",\"gridwidth\":2,\"linecolor\":\"#EBF0F8\",\"showbackground\":true,\"ticks\":\"\",\"zerolinecolor\":\"#EBF0F8\"},\"zaxis\":{\"backgroundcolor\":\"white\",\"gridcolor\":\"#DFE8F3\",\"gridwidth\":2,\"linecolor\":\"#EBF0F8\",\"showbackground\":true,\"ticks\":\"\",\"zerolinecolor\":\"#EBF0F8\"}},\"shapedefaults\":{\"line\":{\"color\":\"#2a3f5f\"}},\"ternary\":{\"aaxis\":{\"gridcolor\":\"#DFE8F3\",\"linecolor\":\"#A2B1C6\",\"ticks\":\"\"},\"baxis\":{\"gridcolor\":\"#DFE8F3\",\"linecolor\":\"#A2B1C6\",\"ticks\":\"\"},\"bgcolor\":\"white\",\"caxis\":{\"gridcolor\":\"#DFE8F3\",\"linecolor\":\"#A2B1C6\",\"ticks\":\"\"}},\"title\":{\"x\":0.05},\"xaxis\":{\"automargin\":true,\"gridcolor\":\"#EBF0F8\",\"linecolor\":\"#EBF0F8\",\"ticks\":\"\",\"title\":{\"standoff\":15},\"zerolinecolor\":\"#EBF0F8\",\"zerolinewidth\":2},\"yaxis\":{\"automargin\":true,\"gridcolor\":\"#EBF0F8\",\"linecolor\":\"#EBF0F8\",\"ticks\":\"\",\"title\":{\"standoff\":15},\"zerolinecolor\":\"#EBF0F8\",\"zerolinewidth\":2}}},\"xaxis\":{\"anchor\":\"y\",\"domain\":[0.0,1.0],\"title\":{\"text\":\"Feature Selection Method\"},\"categoryorder\":\"array\",\"categoryarray\":[\"ANOVA (f_classif)\",\"Chi-Square Test\",\"Mutual Information\"],\"tickangle\":-20,\"automargin\":true},\"yaxis\":{\"anchor\":\"x\",\"domain\":[0.0,1.0],\"title\":{\"text\":\"Score\"},\"range\":[0,1.25],\"gridcolor\":\"rgba(0,0,0,0.1)\"},\"legend\":{\"title\":{\"text\":\"Metrics\"},\"tracegroupgap\":0,\"font\":{\"size\":14},\"orientation\":\"v\",\"yanchor\":\"middle\",\"y\":0.5,\"xanchor\":\"left\",\"x\":1.02,\"itemsizing\":\"constant\",\"itemwidth\":30,\"bgcolor\":\"rgba(0,0,0,0)\",\"bordercolor\":\"rgba(0,0,0,0)\",\"borderwidth\":0},\"title\":{\"text\":\"Comparison of Feature Selection Methods\",\"font\":{\"size\":32},\"x\":0.5,\"xanchor\":\"center\"},\"barmode\":\"group\",\"height\":900,\"font\":{\"size\":18,\"family\":\"Arial, Liberation Sans, DejaVu Sans, sans-serif\",\"color\":\"black\"},\"uniformtext\":{\"minsize\":12,\"mode\":\"show\"},\"margin\":{\"l\":90,\"r\":170,\"t\":100,\"b\":150},\"bargap\":0.12,\"bargroupgap\":0.08,\"paper_bgcolor\":\"white\",\"plot_bgcolor\":\"white\"},                        {\"responsive\": true}                    ).then(function(){\n",
       "                            \n",
       "var gd = document.getElementById('cc9570cd-e843-49a6-898f-12e0b2ebb581');\n",
       "var x = new MutationObserver(function (mutations, observer) {{\n",
       "        var display = window.getComputedStyle(gd).display;\n",
       "        if (!display || display === 'none') {{\n",
       "            console.log([gd, 'removed!']);\n",
       "            Plotly.purge(gd);\n",
       "            observer.disconnect();\n",
       "        }}\n",
       "}});\n",
       "\n",
       "// Listen for the removal of the full notebook cells\n",
       "var notebookContainer = gd.closest('#notebook-container');\n",
       "if (notebookContainer) {{\n",
       "    x.observe(notebookContainer, {childList: true});\n",
       "}}\n",
       "\n",
       "// Listen for the clearing of the current output cell\n",
       "var outputEl = gd.closest('.output');\n",
       "if (outputEl) {{\n",
       "    x.observe(outputEl, {childList: true});\n",
       "}}\n",
       "\n",
       "                        })                };                });            </script>        </div>"
      ]
     },
     "metadata": {},
     "output_type": "display_data"
    }
   ],
   "source": [
    "# --- Final, high-quality grouped bar chart (right-center, compact legend, improved palette) ---\n",
    "import pandas as pd\n",
    "import plotly.express as px\n",
    "\n",
    "# Data prep\n",
    "metrics = ['accuracy', 'precision', 'recall', 'f1_score']\n",
    "results_df = pd.DataFrame(results).T.reset_index().rename(columns={'index': 'Feature Selection Method'})\n",
    "results_melted = results_df.melt(\n",
    "    id_vars=['Feature Selection Method'],\n",
    "    value_vars=metrics,\n",
    "    var_name='Metric',\n",
    "    value_name='Score'\n",
    ")\n",
    "\n",
    "# Order methods by mean performance (best → worst)\n",
    "method_order = (\n",
    "    results_melted.groupby('Feature Selection Method')['Score']\n",
    "    .mean()\n",
    "    .sort_values(ascending=False)\n",
    "    .index.tolist()\n",
    ")\n",
    "\n",
    "# 🎨 Okabe–Ito Palette (color-blind–safe, high contrast)\n",
    "palette = [\n",
    "    \"#0072B2\",  # blue\n",
    "    \"#E69F00\",  # orange\n",
    "    \"#009E73\",  # green\n",
    "    \"#D55E00\",  # vermillion\n",
    "    \"#CC79A7\",  # reddish purple\n",
    "    \"#F0E442\",  # yellow\n",
    "    \"#56B4E9\",  # sky blue\n",
    "    \"#000000\"   # black\n",
    "]\n",
    "\n",
    "# Figure\n",
    "fig = px.bar(\n",
    "    results_melted,\n",
    "    x='Feature Selection Method',\n",
    "    y='Score',\n",
    "    color='Metric',\n",
    "    category_orders={'Feature Selection Method': method_order, 'Metric': metrics},\n",
    "    color_discrete_sequence=palette,\n",
    "    barmode='group',\n",
    "    text='Score',\n",
    "    title='Comparison of Feature Selection Methods',\n",
    "    labels={'Score': 'Performance Metric', 'Feature Selection Method': 'Method'},\n",
    "    height=900,\n",
    "    template='plotly_white'\n",
    ")\n",
    "\n",
    "# Bars + labels\n",
    "fig.update_traces(\n",
    "    texttemplate='%{text:.2f}',\n",
    "    textposition='inside',\n",
    "    textfont=dict(size=20, color=\"white\", family=\"Times New Roman\"),\n",
    "    marker_line_width=1.6,\n",
    "    marker_line_color='rgba(0,0,0,0.55)',\n",
    "    insidetextanchor=\"middle\",\n",
    "    cliponaxis=False\n",
    ")\n",
    "\n",
    "# Layout & fonts (legend at right-center, compact, transparent)\n",
    "fig.update_layout(\n",
    "    title=dict(text='Comparison of Feature Selection Methods', x=0.5, xanchor='center', font=dict(size=32)),\n",
    "    font=dict(size=18, family=\"Arial, Liberation Sans, DejaVu Sans, sans-serif\", color=\"black\"),\n",
    "    legend_title_text=\"Metrics\",\n",
    "    legend=dict(\n",
    "        orientation=\"v\",\n",
    "        yanchor=\"middle\",  # vertical center\n",
    "        y=0.5,\n",
    "        xanchor=\"left\",\n",
    "        x=1.02,            # just outside the plotting area\n",
    "        itemsizing=\"constant\",\n",
    "        itemwidth=30,\n",
    "        bgcolor=\"rgba(0,0,0,0)\",     # transparent legend box\n",
    "        bordercolor=\"rgba(0,0,0,0)\", # no border\n",
    "        borderwidth=0,\n",
    "        font=dict(size=14)\n",
    "    ),\n",
    "    xaxis_title=\"Feature Selection Method\",\n",
    "    yaxis_title=\"Score\",\n",
    "    bargap=0.12,\n",
    "    bargroupgap=0.08,\n",
    "    uniformtext_minsize=12,\n",
    "    uniformtext_mode='show',\n",
    "    margin=dict(l=90, r=170, t=100, b=150),\n",
    "    paper_bgcolor='white',\n",
    "    plot_bgcolor='white'\n",
    ")\n",
    "\n",
    "# Axes\n",
    "fig.update_xaxes(tickangle=-20, automargin=True)\n",
    "fig.update_yaxes(range=[0, 1.25], gridcolor='rgba(0,0,0,0.1)')\n",
    "\n",
    "# Show plot\n",
    "fig.show()\n",
    "\n",
    "# --- High-quality exports (requires: pip install -U kaleido) ---\n",
    "fig.write_image(\"Images/Comparison_of_Feature_Selection_Methods.svg\", width=3000, height=1600, scale=1)   # vector\n",
    "fig.write_image(\"Images/Comparison_of_Feature_Selection_Methods.png\", width=4200, height=2200, scale=2)   # hi-res\n",
    "\n"
   ]
  },
  {
   "cell_type": "code",
   "execution_count": 148,
   "id": "675026f8-7d19-4d66-a4c5-88287ffd8d2f",
   "metadata": {},
   "outputs": [
    {
     "data": {
      "text/html": [
       "<div>\n",
       "<style scoped>\n",
       "    .dataframe tbody tr th:only-of-type {\n",
       "        vertical-align: middle;\n",
       "    }\n",
       "\n",
       "    .dataframe tbody tr th {\n",
       "        vertical-align: top;\n",
       "    }\n",
       "\n",
       "    .dataframe thead th {\n",
       "        text-align: right;\n",
       "    }\n",
       "</style>\n",
       "<table border=\"1\" class=\"dataframe\">\n",
       "  <thead>\n",
       "    <tr style=\"text-align: right;\">\n",
       "      <th></th>\n",
       "      <th>Feature Selection Method</th>\n",
       "      <th>Age</th>\n",
       "      <th>TV1</th>\n",
       "      <th>Eating1</th>\n",
       "      <th>Driving1</th>\n",
       "      <th>RBC</th>\n",
       "      <th>FBS</th>\n",
       "      <th>TG</th>\n",
       "      <th>ALP</th>\n",
       "      <th>HDL.C</th>\n",
       "      <th>TEACOFFEE</th>\n",
       "      <th>BAVARAGE</th>\n",
       "      <th>Vegetables</th>\n",
       "      <th>Juice</th>\n",
       "      <th>HasKidneyStone</th>\n",
       "      <th>HasFattyLiver</th>\n",
       "    </tr>\n",
       "  </thead>\n",
       "  <tbody>\n",
       "    <tr>\n",
       "      <th>0</th>\n",
       "      <td>ANOVA (f_classif)</td>\n",
       "      <td>0.191024</td>\n",
       "      <td>0.008795</td>\n",
       "      <td>0.005632</td>\n",
       "      <td>0.003252</td>\n",
       "      <td>0.001896</td>\n",
       "      <td>1.000000</td>\n",
       "      <td>0.059100</td>\n",
       "      <td>0.025172</td>\n",
       "      <td>0.00000</td>\n",
       "      <td>0.000451</td>\n",
       "      <td>0.053082</td>\n",
       "      <td>0.001126</td>\n",
       "      <td>0.001642</td>\n",
       "      <td>0.054364</td>\n",
       "      <td>0.123567</td>\n",
       "    </tr>\n",
       "    <tr>\n",
       "      <th>1</th>\n",
       "      <td>Mutual Information</td>\n",
       "      <td>0.860846</td>\n",
       "      <td>0.653979</td>\n",
       "      <td>0.648086</td>\n",
       "      <td>0.675955</td>\n",
       "      <td>0.602178</td>\n",
       "      <td>1.000000</td>\n",
       "      <td>0.557104</td>\n",
       "      <td>0.624848</td>\n",
       "      <td>0.78936</td>\n",
       "      <td>0.452785</td>\n",
       "      <td>0.603316</td>\n",
       "      <td>0.000000</td>\n",
       "      <td>0.207108</td>\n",
       "      <td>0.314703</td>\n",
       "      <td>0.237696</td>\n",
       "    </tr>\n",
       "    <tr>\n",
       "      <th>2</th>\n",
       "      <td>Chi-Square Test</td>\n",
       "      <td>0.328281</td>\n",
       "      <td>0.008379</td>\n",
       "      <td>0.001872</td>\n",
       "      <td>0.006141</td>\n",
       "      <td>0.000634</td>\n",
       "      <td>0.024947</td>\n",
       "      <td>0.005133</td>\n",
       "      <td>0.003405</td>\n",
       "      <td>0.00000</td>\n",
       "      <td>0.000360</td>\n",
       "      <td>0.067268</td>\n",
       "      <td>0.000336</td>\n",
       "      <td>0.003671</td>\n",
       "      <td>0.399294</td>\n",
       "      <td>1.000000</td>\n",
       "    </tr>\n",
       "  </tbody>\n",
       "</table>\n",
       "</div>"
      ],
      "text/plain": [
       "  Feature Selection Method       Age       TV1   Eating1  Driving1       RBC  \\\n",
       "0        ANOVA (f_classif)  0.191024  0.008795  0.005632  0.003252  0.001896   \n",
       "1       Mutual Information  0.860846  0.653979  0.648086  0.675955  0.602178   \n",
       "2          Chi-Square Test  0.328281  0.008379  0.001872  0.006141  0.000634   \n",
       "\n",
       "        FBS        TG       ALP    HDL.C  TEACOFFEE  BAVARAGE  Vegetables  \\\n",
       "0  1.000000  0.059100  0.025172  0.00000   0.000451  0.053082    0.001126   \n",
       "1  1.000000  0.557104  0.624848  0.78936   0.452785  0.603316    0.000000   \n",
       "2  0.024947  0.005133  0.003405  0.00000   0.000360  0.067268    0.000336   \n",
       "\n",
       "      Juice  HasKidneyStone  HasFattyLiver  \n",
       "0  0.001642        0.054364       0.123567  \n",
       "1  0.207108        0.314703       0.237696  \n",
       "2  0.003671        0.399294       1.000000  "
      ]
     },
     "execution_count": 148,
     "metadata": {},
     "output_type": "execute_result"
    }
   ],
   "source": [
    "importance_df"
   ]
  },
  {
   "cell_type": "code",
   "execution_count": 149,
   "id": "79e9898a-49e1-4095-a15d-8726c4d946c5",
   "metadata": {},
   "outputs": [],
   "source": [
    "importance_top_features_df\n",
    "importance_top_features_df.to_excel(\"Images/\"+\"output.xlsx\")  "
   ]
  },
  {
   "cell_type": "code",
   "execution_count": 150,
   "id": "4751f25f-6645-419a-bcf2-af525b55fe47",
   "metadata": {},
   "outputs": [
    {
     "data": {
      "application/vnd.plotly.v1+json": {
       "config": {
        "plotlyServerURL": "https://plot.ly"
       },
       "data": [
        {
         "alignmentgroup": "True",
         "hovertemplate": "Feature=%{x}<br>Feature Importance=%{y}<extra></extra>",
         "legendgroup": "FBS",
         "marker": {
          "color": "#332288",
          "pattern": {
           "shape": ""
          }
         },
         "name": "FBS",
         "offsetgroup": "FBS",
         "orientation": "v",
         "showlegend": true,
         "textfont": {
          "color": "black",
          "size": 14
         },
         "textposition": "outside",
         "texttemplate": "%{y:.4f}",
         "type": "bar",
         "x": [
          "FBS"
         ],
         "xaxis": "x",
         "y": [
          1
         ],
         "yaxis": "y"
        },
        {
         "alignmentgroup": "True",
         "hovertemplate": "Feature=%{x}<br>Feature Importance=%{y}<extra></extra>",
         "legendgroup": "Age",
         "marker": {
          "color": "#117733",
          "pattern": {
           "shape": ""
          }
         },
         "name": "Age",
         "offsetgroup": "Age",
         "orientation": "v",
         "showlegend": true,
         "textfont": {
          "color": "black",
          "size": 14
         },
         "textposition": "outside",
         "texttemplate": "%{y:.4f}",
         "type": "bar",
         "x": [
          "Age"
         ],
         "xaxis": "x",
         "y": [
          0.1910237967967987
         ],
         "yaxis": "y"
        },
        {
         "alignmentgroup": "True",
         "hovertemplate": "Feature=%{x}<br>Feature Importance=%{y}<extra></extra>",
         "legendgroup": "HasFattyLiver",
         "marker": {
          "color": "#44AA99",
          "pattern": {
           "shape": ""
          }
         },
         "name": "HasFattyLiver",
         "offsetgroup": "HasFattyLiver",
         "orientation": "v",
         "showlegend": true,
         "textfont": {
          "color": "black",
          "size": 14
         },
         "textposition": "outside",
         "texttemplate": "%{y:.4f}",
         "type": "bar",
         "x": [
          "HasFattyLiver"
         ],
         "xaxis": "x",
         "y": [
          0.12356654554605484
         ],
         "yaxis": "y"
        },
        {
         "alignmentgroup": "True",
         "hovertemplate": "Feature=%{x}<br>Feature Importance=%{y}<extra></extra>",
         "legendgroup": "HDL.C",
         "marker": {
          "color": "#88CCEE",
          "pattern": {
           "shape": ""
          }
         },
         "name": "HDL.C",
         "offsetgroup": "HDL.C",
         "orientation": "v",
         "showlegend": true,
         "textfont": {
          "color": "black",
          "size": 14
         },
         "textposition": "outside",
         "texttemplate": "%{y:.4f}",
         "type": "bar",
         "x": [
          "HDL.C"
         ],
         "xaxis": "x",
         "y": [
          0
         ],
         "yaxis": "y"
        },
        {
         "alignmentgroup": "True",
         "hovertemplate": "Feature=%{x}<br>Feature Importance=%{y}<extra></extra>",
         "legendgroup": "HasKidneyStone",
         "marker": {
          "color": "#DDCC77",
          "pattern": {
           "shape": ""
          }
         },
         "name": "HasKidneyStone",
         "offsetgroup": "HasKidneyStone",
         "orientation": "v",
         "showlegend": true,
         "textfont": {
          "color": "black",
          "size": 14
         },
         "textposition": "outside",
         "texttemplate": "%{y:.4f}",
         "type": "bar",
         "x": [
          "HasKidneyStone"
         ],
         "xaxis": "x",
         "y": [
          0.05436444282531738
         ],
         "yaxis": "y"
        },
        {
         "alignmentgroup": "True",
         "hovertemplate": "Feature=%{x}<br>Feature Importance=%{y}<extra></extra>",
         "legendgroup": "BAVARAGE",
         "marker": {
          "color": "#CC6677",
          "pattern": {
           "shape": ""
          }
         },
         "name": "BAVARAGE",
         "offsetgroup": "BAVARAGE",
         "orientation": "v",
         "showlegend": true,
         "textfont": {
          "color": "black",
          "size": 14
         },
         "textposition": "outside",
         "texttemplate": "%{y:.4f}",
         "type": "bar",
         "x": [
          "BAVARAGE"
         ],
         "xaxis": "x",
         "y": [
          0.053082071244716644
         ],
         "yaxis": "y"
        },
        {
         "alignmentgroup": "True",
         "hovertemplate": "Feature=%{x}<br>Feature Importance=%{y}<extra></extra>",
         "legendgroup": "Driving1",
         "marker": {
          "color": "#AA4499",
          "pattern": {
           "shape": ""
          }
         },
         "name": "Driving1",
         "offsetgroup": "Driving1",
         "orientation": "v",
         "showlegend": true,
         "textfont": {
          "color": "black",
          "size": 14
         },
         "textposition": "outside",
         "texttemplate": "%{y:.4f}",
         "type": "bar",
         "x": [
          "Driving1"
         ],
         "xaxis": "x",
         "y": [
          0.0032518368680030107
         ],
         "yaxis": "y"
        },
        {
         "alignmentgroup": "True",
         "hovertemplate": "Feature=%{x}<br>Feature Importance=%{y}<extra></extra>",
         "legendgroup": "TV1",
         "marker": {
          "color": "#999933",
          "pattern": {
           "shape": ""
          }
         },
         "name": "TV1",
         "offsetgroup": "TV1",
         "orientation": "v",
         "showlegend": true,
         "textfont": {
          "color": "black",
          "size": 14
         },
         "textposition": "outside",
         "texttemplate": "%{y:.4f}",
         "type": "bar",
         "x": [
          "TV1"
         ],
         "xaxis": "x",
         "y": [
          0.008794951252639294
         ],
         "yaxis": "y"
        },
        {
         "alignmentgroup": "True",
         "hovertemplate": "Feature=%{x}<br>Feature Importance=%{y}<extra></extra>",
         "legendgroup": "Eating1",
         "marker": {
          "color": "#E69F00",
          "pattern": {
           "shape": ""
          }
         },
         "name": "Eating1",
         "offsetgroup": "Eating1",
         "orientation": "v",
         "showlegend": true,
         "textfont": {
          "color": "black",
          "size": 14
         },
         "textposition": "outside",
         "texttemplate": "%{y:.4f}",
         "type": "bar",
         "x": [
          "Eating1"
         ],
         "xaxis": "x",
         "y": [
          0.005632398184388876
         ],
         "yaxis": "y"
        },
        {
         "alignmentgroup": "True",
         "hovertemplate": "Feature=%{x}<br>Feature Importance=%{y}<extra></extra>",
         "legendgroup": "ALP",
         "marker": {
          "color": "#56B4E9",
          "pattern": {
           "shape": ""
          }
         },
         "name": "ALP",
         "offsetgroup": "ALP",
         "orientation": "v",
         "showlegend": true,
         "textfont": {
          "color": "black",
          "size": 14
         },
         "textposition": "outside",
         "texttemplate": "%{y:.4f}",
         "type": "bar",
         "x": [
          "ALP"
         ],
         "xaxis": "x",
         "y": [
          0.02517232671380043
         ],
         "yaxis": "y"
        },
        {
         "alignmentgroup": "True",
         "hovertemplate": "Feature=%{x}<br>Feature Importance=%{y}<extra></extra>",
         "legendgroup": "TG",
         "marker": {
          "color": "#009E73",
          "pattern": {
           "shape": ""
          }
         },
         "name": "TG",
         "offsetgroup": "TG",
         "orientation": "v",
         "showlegend": true,
         "textfont": {
          "color": "black",
          "size": 14
         },
         "textposition": "outside",
         "texttemplate": "%{y:.4f}",
         "type": "bar",
         "x": [
          "TG"
         ],
         "xaxis": "x",
         "y": [
          0.0590999573469162
         ],
         "yaxis": "y"
        },
        {
         "alignmentgroup": "True",
         "hovertemplate": "Feature=%{x}<br>Feature Importance=%{y}<extra></extra>",
         "legendgroup": "RBC",
         "marker": {
          "color": "#F0E442",
          "pattern": {
           "shape": ""
          }
         },
         "name": "RBC",
         "offsetgroup": "RBC",
         "orientation": "v",
         "showlegend": true,
         "textfont": {
          "color": "black",
          "size": 14
         },
         "textposition": "outside",
         "texttemplate": "%{y:.4f}",
         "type": "bar",
         "x": [
          "RBC"
         ],
         "xaxis": "x",
         "y": [
          0.001895757857710123
         ],
         "yaxis": "y"
        },
        {
         "alignmentgroup": "True",
         "hovertemplate": "Feature=%{x}<br>Feature Importance=%{y}<extra></extra>",
         "legendgroup": "TEACOFFEE",
         "marker": {
          "color": "#0072B2",
          "pattern": {
           "shape": ""
          }
         },
         "name": "TEACOFFEE",
         "offsetgroup": "TEACOFFEE",
         "orientation": "v",
         "showlegend": true,
         "textfont": {
          "color": "black",
          "size": 14
         },
         "textposition": "outside",
         "texttemplate": "%{y:.4f}",
         "type": "bar",
         "x": [
          "TEACOFFEE"
         ],
         "xaxis": "x",
         "y": [
          0.00045077185495756567
         ],
         "yaxis": "y"
        },
        {
         "alignmentgroup": "True",
         "hovertemplate": "Feature=%{x}<br>Feature Importance=%{y}<extra></extra>",
         "legendgroup": "Juice",
         "marker": {
          "color": "#D55E00",
          "pattern": {
           "shape": ""
          }
         },
         "name": "Juice",
         "offsetgroup": "Juice",
         "orientation": "v",
         "showlegend": true,
         "textfont": {
          "color": "black",
          "size": 14
         },
         "textposition": "outside",
         "texttemplate": "%{y:.4f}",
         "type": "bar",
         "x": [
          "Juice"
         ],
         "xaxis": "x",
         "y": [
          0.0016415538266301155
         ],
         "yaxis": "y"
        },
        {
         "alignmentgroup": "True",
         "hovertemplate": "Feature=%{x}<br>Feature Importance=%{y}<extra></extra>",
         "legendgroup": "Vegetables",
         "marker": {
          "color": "#CC79A7",
          "pattern": {
           "shape": ""
          }
         },
         "name": "Vegetables",
         "offsetgroup": "Vegetables",
         "orientation": "v",
         "showlegend": true,
         "textfont": {
          "color": "black",
          "size": 14
         },
         "textposition": "outside",
         "texttemplate": "%{y:.4f}",
         "type": "bar",
         "x": [
          "Vegetables"
         ],
         "xaxis": "x",
         "y": [
          0.0011264127679169178
         ],
         "yaxis": "y"
        }
       ],
       "layout": {
        "autosize": true,
        "barmode": "relative",
        "font": {
         "size": 16
        },
        "legend": {
         "title": {
          "text": "Feature"
         },
         "tracegroupgap": 0
        },
        "margin": {
         "b": 120,
         "l": 70,
         "r": 50,
         "t": 70
        },
        "plot_bgcolor": "white",
        "template": {
         "data": {
          "bar": [
           {
            "error_x": {
             "color": "#2a3f5f"
            },
            "error_y": {
             "color": "#2a3f5f"
            },
            "marker": {
             "line": {
              "color": "white",
              "width": 0.5
             },
             "pattern": {
              "fillmode": "overlay",
              "size": 10,
              "solidity": 0.2
             }
            },
            "type": "bar"
           }
          ],
          "barpolar": [
           {
            "marker": {
             "line": {
              "color": "white",
              "width": 0.5
             },
             "pattern": {
              "fillmode": "overlay",
              "size": 10,
              "solidity": 0.2
             }
            },
            "type": "barpolar"
           }
          ],
          "carpet": [
           {
            "aaxis": {
             "endlinecolor": "#2a3f5f",
             "gridcolor": "#C8D4E3",
             "linecolor": "#C8D4E3",
             "minorgridcolor": "#C8D4E3",
             "startlinecolor": "#2a3f5f"
            },
            "baxis": {
             "endlinecolor": "#2a3f5f",
             "gridcolor": "#C8D4E3",
             "linecolor": "#C8D4E3",
             "minorgridcolor": "#C8D4E3",
             "startlinecolor": "#2a3f5f"
            },
            "type": "carpet"
           }
          ],
          "choropleth": [
           {
            "colorbar": {
             "outlinewidth": 0,
             "ticks": ""
            },
            "type": "choropleth"
           }
          ],
          "contour": [
           {
            "colorbar": {
             "outlinewidth": 0,
             "ticks": ""
            },
            "colorscale": [
             [
              0,
              "#0d0887"
             ],
             [
              0.1111111111111111,
              "#46039f"
             ],
             [
              0.2222222222222222,
              "#7201a8"
             ],
             [
              0.3333333333333333,
              "#9c179e"
             ],
             [
              0.4444444444444444,
              "#bd3786"
             ],
             [
              0.5555555555555556,
              "#d8576b"
             ],
             [
              0.6666666666666666,
              "#ed7953"
             ],
             [
              0.7777777777777778,
              "#fb9f3a"
             ],
             [
              0.8888888888888888,
              "#fdca26"
             ],
             [
              1,
              "#f0f921"
             ]
            ],
            "type": "contour"
           }
          ],
          "contourcarpet": [
           {
            "colorbar": {
             "outlinewidth": 0,
             "ticks": ""
            },
            "type": "contourcarpet"
           }
          ],
          "heatmap": [
           {
            "colorbar": {
             "outlinewidth": 0,
             "ticks": ""
            },
            "colorscale": [
             [
              0,
              "#0d0887"
             ],
             [
              0.1111111111111111,
              "#46039f"
             ],
             [
              0.2222222222222222,
              "#7201a8"
             ],
             [
              0.3333333333333333,
              "#9c179e"
             ],
             [
              0.4444444444444444,
              "#bd3786"
             ],
             [
              0.5555555555555556,
              "#d8576b"
             ],
             [
              0.6666666666666666,
              "#ed7953"
             ],
             [
              0.7777777777777778,
              "#fb9f3a"
             ],
             [
              0.8888888888888888,
              "#fdca26"
             ],
             [
              1,
              "#f0f921"
             ]
            ],
            "type": "heatmap"
           }
          ],
          "heatmapgl": [
           {
            "colorbar": {
             "outlinewidth": 0,
             "ticks": ""
            },
            "colorscale": [
             [
              0,
              "#0d0887"
             ],
             [
              0.1111111111111111,
              "#46039f"
             ],
             [
              0.2222222222222222,
              "#7201a8"
             ],
             [
              0.3333333333333333,
              "#9c179e"
             ],
             [
              0.4444444444444444,
              "#bd3786"
             ],
             [
              0.5555555555555556,
              "#d8576b"
             ],
             [
              0.6666666666666666,
              "#ed7953"
             ],
             [
              0.7777777777777778,
              "#fb9f3a"
             ],
             [
              0.8888888888888888,
              "#fdca26"
             ],
             [
              1,
              "#f0f921"
             ]
            ],
            "type": "heatmapgl"
           }
          ],
          "histogram": [
           {
            "marker": {
             "pattern": {
              "fillmode": "overlay",
              "size": 10,
              "solidity": 0.2
             }
            },
            "type": "histogram"
           }
          ],
          "histogram2d": [
           {
            "colorbar": {
             "outlinewidth": 0,
             "ticks": ""
            },
            "colorscale": [
             [
              0,
              "#0d0887"
             ],
             [
              0.1111111111111111,
              "#46039f"
             ],
             [
              0.2222222222222222,
              "#7201a8"
             ],
             [
              0.3333333333333333,
              "#9c179e"
             ],
             [
              0.4444444444444444,
              "#bd3786"
             ],
             [
              0.5555555555555556,
              "#d8576b"
             ],
             [
              0.6666666666666666,
              "#ed7953"
             ],
             [
              0.7777777777777778,
              "#fb9f3a"
             ],
             [
              0.8888888888888888,
              "#fdca26"
             ],
             [
              1,
              "#f0f921"
             ]
            ],
            "type": "histogram2d"
           }
          ],
          "histogram2dcontour": [
           {
            "colorbar": {
             "outlinewidth": 0,
             "ticks": ""
            },
            "colorscale": [
             [
              0,
              "#0d0887"
             ],
             [
              0.1111111111111111,
              "#46039f"
             ],
             [
              0.2222222222222222,
              "#7201a8"
             ],
             [
              0.3333333333333333,
              "#9c179e"
             ],
             [
              0.4444444444444444,
              "#bd3786"
             ],
             [
              0.5555555555555556,
              "#d8576b"
             ],
             [
              0.6666666666666666,
              "#ed7953"
             ],
             [
              0.7777777777777778,
              "#fb9f3a"
             ],
             [
              0.8888888888888888,
              "#fdca26"
             ],
             [
              1,
              "#f0f921"
             ]
            ],
            "type": "histogram2dcontour"
           }
          ],
          "mesh3d": [
           {
            "colorbar": {
             "outlinewidth": 0,
             "ticks": ""
            },
            "type": "mesh3d"
           }
          ],
          "parcoords": [
           {
            "line": {
             "colorbar": {
              "outlinewidth": 0,
              "ticks": ""
             }
            },
            "type": "parcoords"
           }
          ],
          "pie": [
           {
            "automargin": true,
            "type": "pie"
           }
          ],
          "scatter": [
           {
            "fillpattern": {
             "fillmode": "overlay",
             "size": 10,
             "solidity": 0.2
            },
            "type": "scatter"
           }
          ],
          "scatter3d": [
           {
            "line": {
             "colorbar": {
              "outlinewidth": 0,
              "ticks": ""
             }
            },
            "marker": {
             "colorbar": {
              "outlinewidth": 0,
              "ticks": ""
             }
            },
            "type": "scatter3d"
           }
          ],
          "scattercarpet": [
           {
            "marker": {
             "colorbar": {
              "outlinewidth": 0,
              "ticks": ""
             }
            },
            "type": "scattercarpet"
           }
          ],
          "scattergeo": [
           {
            "marker": {
             "colorbar": {
              "outlinewidth": 0,
              "ticks": ""
             }
            },
            "type": "scattergeo"
           }
          ],
          "scattergl": [
           {
            "marker": {
             "colorbar": {
              "outlinewidth": 0,
              "ticks": ""
             }
            },
            "type": "scattergl"
           }
          ],
          "scattermapbox": [
           {
            "marker": {
             "colorbar": {
              "outlinewidth": 0,
              "ticks": ""
             }
            },
            "type": "scattermapbox"
           }
          ],
          "scatterpolar": [
           {
            "marker": {
             "colorbar": {
              "outlinewidth": 0,
              "ticks": ""
             }
            },
            "type": "scatterpolar"
           }
          ],
          "scatterpolargl": [
           {
            "marker": {
             "colorbar": {
              "outlinewidth": 0,
              "ticks": ""
             }
            },
            "type": "scatterpolargl"
           }
          ],
          "scatterternary": [
           {
            "marker": {
             "colorbar": {
              "outlinewidth": 0,
              "ticks": ""
             }
            },
            "type": "scatterternary"
           }
          ],
          "surface": [
           {
            "colorbar": {
             "outlinewidth": 0,
             "ticks": ""
            },
            "colorscale": [
             [
              0,
              "#0d0887"
             ],
             [
              0.1111111111111111,
              "#46039f"
             ],
             [
              0.2222222222222222,
              "#7201a8"
             ],
             [
              0.3333333333333333,
              "#9c179e"
             ],
             [
              0.4444444444444444,
              "#bd3786"
             ],
             [
              0.5555555555555556,
              "#d8576b"
             ],
             [
              0.6666666666666666,
              "#ed7953"
             ],
             [
              0.7777777777777778,
              "#fb9f3a"
             ],
             [
              0.8888888888888888,
              "#fdca26"
             ],
             [
              1,
              "#f0f921"
             ]
            ],
            "type": "surface"
           }
          ],
          "table": [
           {
            "cells": {
             "fill": {
              "color": "#EBF0F8"
             },
             "line": {
              "color": "white"
             }
            },
            "header": {
             "fill": {
              "color": "#C8D4E3"
             },
             "line": {
              "color": "white"
             }
            },
            "type": "table"
           }
          ]
         },
         "layout": {
          "annotationdefaults": {
           "arrowcolor": "#2a3f5f",
           "arrowhead": 0,
           "arrowwidth": 1
          },
          "autotypenumbers": "strict",
          "coloraxis": {
           "colorbar": {
            "outlinewidth": 0,
            "ticks": ""
           }
          },
          "colorscale": {
           "diverging": [
            [
             0,
             "#8e0152"
            ],
            [
             0.1,
             "#c51b7d"
            ],
            [
             0.2,
             "#de77ae"
            ],
            [
             0.3,
             "#f1b6da"
            ],
            [
             0.4,
             "#fde0ef"
            ],
            [
             0.5,
             "#f7f7f7"
            ],
            [
             0.6,
             "#e6f5d0"
            ],
            [
             0.7,
             "#b8e186"
            ],
            [
             0.8,
             "#7fbc41"
            ],
            [
             0.9,
             "#4d9221"
            ],
            [
             1,
             "#276419"
            ]
           ],
           "sequential": [
            [
             0,
             "#0d0887"
            ],
            [
             0.1111111111111111,
             "#46039f"
            ],
            [
             0.2222222222222222,
             "#7201a8"
            ],
            [
             0.3333333333333333,
             "#9c179e"
            ],
            [
             0.4444444444444444,
             "#bd3786"
            ],
            [
             0.5555555555555556,
             "#d8576b"
            ],
            [
             0.6666666666666666,
             "#ed7953"
            ],
            [
             0.7777777777777778,
             "#fb9f3a"
            ],
            [
             0.8888888888888888,
             "#fdca26"
            ],
            [
             1,
             "#f0f921"
            ]
           ],
           "sequentialminus": [
            [
             0,
             "#0d0887"
            ],
            [
             0.1111111111111111,
             "#46039f"
            ],
            [
             0.2222222222222222,
             "#7201a8"
            ],
            [
             0.3333333333333333,
             "#9c179e"
            ],
            [
             0.4444444444444444,
             "#bd3786"
            ],
            [
             0.5555555555555556,
             "#d8576b"
            ],
            [
             0.6666666666666666,
             "#ed7953"
            ],
            [
             0.7777777777777778,
             "#fb9f3a"
            ],
            [
             0.8888888888888888,
             "#fdca26"
            ],
            [
             1,
             "#f0f921"
            ]
           ]
          },
          "colorway": [
           "#636efa",
           "#EF553B",
           "#00cc96",
           "#ab63fa",
           "#FFA15A",
           "#19d3f3",
           "#FF6692",
           "#B6E880",
           "#FF97FF",
           "#FECB52"
          ],
          "font": {
           "color": "#2a3f5f"
          },
          "geo": {
           "bgcolor": "white",
           "lakecolor": "white",
           "landcolor": "white",
           "showlakes": true,
           "showland": true,
           "subunitcolor": "#C8D4E3"
          },
          "hoverlabel": {
           "align": "left"
          },
          "hovermode": "closest",
          "mapbox": {
           "style": "light"
          },
          "paper_bgcolor": "white",
          "plot_bgcolor": "white",
          "polar": {
           "angularaxis": {
            "gridcolor": "#EBF0F8",
            "linecolor": "#EBF0F8",
            "ticks": ""
           },
           "bgcolor": "white",
           "radialaxis": {
            "gridcolor": "#EBF0F8",
            "linecolor": "#EBF0F8",
            "ticks": ""
           }
          },
          "scene": {
           "xaxis": {
            "backgroundcolor": "white",
            "gridcolor": "#DFE8F3",
            "gridwidth": 2,
            "linecolor": "#EBF0F8",
            "showbackground": true,
            "ticks": "",
            "zerolinecolor": "#EBF0F8"
           },
           "yaxis": {
            "backgroundcolor": "white",
            "gridcolor": "#DFE8F3",
            "gridwidth": 2,
            "linecolor": "#EBF0F8",
            "showbackground": true,
            "ticks": "",
            "zerolinecolor": "#EBF0F8"
           },
           "zaxis": {
            "backgroundcolor": "white",
            "gridcolor": "#DFE8F3",
            "gridwidth": 2,
            "linecolor": "#EBF0F8",
            "showbackground": true,
            "ticks": "",
            "zerolinecolor": "#EBF0F8"
           }
          },
          "shapedefaults": {
           "line": {
            "color": "#2a3f5f"
           }
          },
          "ternary": {
           "aaxis": {
            "gridcolor": "#DFE8F3",
            "linecolor": "#A2B1C6",
            "ticks": ""
           },
           "baxis": {
            "gridcolor": "#DFE8F3",
            "linecolor": "#A2B1C6",
            "ticks": ""
           },
           "bgcolor": "white",
           "caxis": {
            "gridcolor": "#DFE8F3",
            "linecolor": "#A2B1C6",
            "ticks": ""
           }
          },
          "title": {
           "x": 0.05
          },
          "xaxis": {
           "automargin": true,
           "gridcolor": "#EBF0F8",
           "linecolor": "#EBF0F8",
           "ticks": "",
           "title": {
            "standoff": 15
           },
           "zerolinecolor": "#EBF0F8",
           "zerolinewidth": 2
          },
          "yaxis": {
           "automargin": true,
           "gridcolor": "#EBF0F8",
           "linecolor": "#EBF0F8",
           "ticks": "",
           "title": {
            "standoff": 15
           },
           "zerolinecolor": "#EBF0F8",
           "zerolinewidth": 2
          }
         }
        },
        "title": {
         "text": "Most Important Features - ANOVA (f_classif)",
         "x": 0.5,
         "y": 0.95
        },
        "xaxis": {
         "anchor": "y",
         "autorange": true,
         "categoryarray": [
          "FBS",
          "Age",
          "HasFattyLiver",
          "HDL.C",
          "HasKidneyStone",
          "BAVARAGE",
          "Driving1",
          "TV1",
          "Eating1",
          "ALP",
          "TG",
          "RBC",
          "TEACOFFEE",
          "Juice",
          "Vegetables"
         ],
         "categoryorder": "array",
         "domain": [
          0,
          1
         ],
         "range": [
          -0.5,
          14.5
         ],
         "showgrid": false,
         "tickangle": 45,
         "title": {
          "text": "Feature"
         },
         "type": "category"
        },
        "yaxis": {
         "anchor": "x",
         "autorange": true,
         "domain": [
          0,
          1
         ],
         "gridcolor": "rgba(0, 0, 0, 0.15)",
         "range": [
          0,
          1.0526315789473684
         ],
         "showgrid": true,
         "title": {
          "text": "Feature Importance"
         },
         "type": "linear"
        }
       }
      },
      "image/png": "[encoded data removed]",
      "text/html": [
       "<div>                            <div id=\"8223a35c-c392-4775-8953-f21663aa69cd\" class=\"plotly-graph-div\" style=\"height:700px; width:100%;\"></div>            <script type=\"text/javascript\">                require([\"plotly\"], function(Plotly) {                    window.PLOTLYENV=window.PLOTLYENV || {};                                    if (document.getElementById(\"8223a35c-c392-4775-8953-f21663aa69cd\")) {                    Plotly.newPlot(                        \"8223a35c-c392-4775-8953-f21663aa69cd\",                        [{\"alignmentgroup\":\"True\",\"hovertemplate\":\"Feature=%{x}\\u003cbr\\u003eFeature Importance=%{y}\\u003cextra\\u003e\\u003c\\u002fextra\\u003e\",\"legendgroup\":\"FBS\",\"marker\":{\"color\":\"#332288\",\"pattern\":{\"shape\":\"\"}},\"name\":\"FBS\",\"offsetgroup\":\"FBS\",\"orientation\":\"v\",\"showlegend\":true,\"textposition\":\"outside\",\"x\":[\"FBS\"],\"xaxis\":\"x\",\"y\":[1.0],\"yaxis\":\"y\",\"type\":\"bar\",\"textfont\":{\"color\":\"black\",\"size\":14},\"texttemplate\":\"%{y:.4f}\"},{\"alignmentgroup\":\"True\",\"hovertemplate\":\"Feature=%{x}\\u003cbr\\u003eFeature Importance=%{y}\\u003cextra\\u003e\\u003c\\u002fextra\\u003e\",\"legendgroup\":\"Age\",\"marker\":{\"color\":\"#117733\",\"pattern\":{\"shape\":\"\"}},\"name\":\"Age\",\"offsetgroup\":\"Age\",\"orientation\":\"v\",\"showlegend\":true,\"textposition\":\"outside\",\"x\":[\"Age\"],\"xaxis\":\"x\",\"y\":[0.1910237967967987],\"yaxis\":\"y\",\"type\":\"bar\",\"textfont\":{\"color\":\"black\",\"size\":14},\"texttemplate\":\"%{y:.4f}\"},{\"alignmentgroup\":\"True\",\"hovertemplate\":\"Feature=%{x}\\u003cbr\\u003eFeature Importance=%{y}\\u003cextra\\u003e\\u003c\\u002fextra\\u003e\",\"legendgroup\":\"HasFattyLiver\",\"marker\":{\"color\":\"#44AA99\",\"pattern\":{\"shape\":\"\"}},\"name\":\"HasFattyLiver\",\"offsetgroup\":\"HasFattyLiver\",\"orientation\":\"v\",\"showlegend\":true,\"textposition\":\"outside\",\"x\":[\"HasFattyLiver\"],\"xaxis\":\"x\",\"y\":[0.12356654554605484],\"yaxis\":\"y\",\"type\":\"bar\",\"textfont\":{\"color\":\"black\",\"size\":14},\"texttemplate\":\"%{y:.4f}\"},{\"alignmentgroup\":\"True\",\"hovertemplate\":\"Feature=%{x}\\u003cbr\\u003eFeature Importance=%{y}\\u003cextra\\u003e\\u003c\\u002fextra\\u003e\",\"legendgroup\":\"HDL.C\",\"marker\":{\"color\":\"#88CCEE\",\"pattern\":{\"shape\":\"\"}},\"name\":\"HDL.C\",\"offsetgroup\":\"HDL.C\",\"orientation\":\"v\",\"showlegend\":true,\"textposition\":\"outside\",\"x\":[\"HDL.C\"],\"xaxis\":\"x\",\"y\":[0.0],\"yaxis\":\"y\",\"type\":\"bar\",\"textfont\":{\"color\":\"black\",\"size\":14},\"texttemplate\":\"%{y:.4f}\"},{\"alignmentgroup\":\"True\",\"hovertemplate\":\"Feature=%{x}\\u003cbr\\u003eFeature Importance=%{y}\\u003cextra\\u003e\\u003c\\u002fextra\\u003e\",\"legendgroup\":\"HasKidneyStone\",\"marker\":{\"color\":\"#DDCC77\",\"pattern\":{\"shape\":\"\"}},\"name\":\"HasKidneyStone\",\"offsetgroup\":\"HasKidneyStone\",\"orientation\":\"v\",\"showlegend\":true,\"textposition\":\"outside\",\"x\":[\"HasKidneyStone\"],\"xaxis\":\"x\",\"y\":[0.05436444282531738],\"yaxis\":\"y\",\"type\":\"bar\",\"textfont\":{\"color\":\"black\",\"size\":14},\"texttemplate\":\"%{y:.4f}\"},{\"alignmentgroup\":\"True\",\"hovertemplate\":\"Feature=%{x}\\u003cbr\\u003eFeature Importance=%{y}\\u003cextra\\u003e\\u003c\\u002fextra\\u003e\",\"legendgroup\":\"BAVARAGE\",\"marker\":{\"color\":\"#CC6677\",\"pattern\":{\"shape\":\"\"}},\"name\":\"BAVARAGE\",\"offsetgroup\":\"BAVARAGE\",\"orientation\":\"v\",\"showlegend\":true,\"textposition\":\"outside\",\"x\":[\"BAVARAGE\"],\"xaxis\":\"x\",\"y\":[0.053082071244716644],\"yaxis\":\"y\",\"type\":\"bar\",\"textfont\":{\"color\":\"black\",\"size\":14},\"texttemplate\":\"%{y:.4f}\"},{\"alignmentgroup\":\"True\",\"hovertemplate\":\"Feature=%{x}\\u003cbr\\u003eFeature Importance=%{y}\\u003cextra\\u003e\\u003c\\u002fextra\\u003e\",\"legendgroup\":\"Driving1\",\"marker\":{\"color\":\"#AA4499\",\"pattern\":{\"shape\":\"\"}},\"name\":\"Driving1\",\"offsetgroup\":\"Driving1\",\"orientation\":\"v\",\"showlegend\":true,\"textposition\":\"outside\",\"x\":[\"Driving1\"],\"xaxis\":\"x\",\"y\":[0.0032518368680030107],\"yaxis\":\"y\",\"type\":\"bar\",\"textfont\":{\"color\":\"black\",\"size\":14},\"texttemplate\":\"%{y:.4f}\"},{\"alignmentgroup\":\"True\",\"hovertemplate\":\"Feature=%{x}\\u003cbr\\u003eFeature Importance=%{y}\\u003cextra\\u003e\\u003c\\u002fextra\\u003e\",\"legendgroup\":\"TV1\",\"marker\":{\"color\":\"#999933\",\"pattern\":{\"shape\":\"\"}},\"name\":\"TV1\",\"offsetgroup\":\"TV1\",\"orientation\":\"v\",\"showlegend\":true,\"textposition\":\"outside\",\"x\":[\"TV1\"],\"xaxis\":\"x\",\"y\":[0.008794951252639294],\"yaxis\":\"y\",\"type\":\"bar\",\"textfont\":{\"color\":\"black\",\"size\":14},\"texttemplate\":\"%{y:.4f}\"},{\"alignmentgroup\":\"True\",\"hovertemplate\":\"Feature=%{x}\\u003cbr\\u003eFeature Importance=%{y}\\u003cextra\\u003e\\u003c\\u002fextra\\u003e\",\"legendgroup\":\"Eating1\",\"marker\":{\"color\":\"#E69F00\",\"pattern\":{\"shape\":\"\"}},\"name\":\"Eating1\",\"offsetgroup\":\"Eating1\",\"orientation\":\"v\",\"showlegend\":true,\"textposition\":\"outside\",\"x\":[\"Eating1\"],\"xaxis\":\"x\",\"y\":[0.005632398184388876],\"yaxis\":\"y\",\"type\":\"bar\",\"textfont\":{\"color\":\"black\",\"size\":14},\"texttemplate\":\"%{y:.4f}\"},{\"alignmentgroup\":\"True\",\"hovertemplate\":\"Feature=%{x}\\u003cbr\\u003eFeature Importance=%{y}\\u003cextra\\u003e\\u003c\\u002fextra\\u003e\",\"legendgroup\":\"ALP\",\"marker\":{\"color\":\"#56B4E9\",\"pattern\":{\"shape\":\"\"}},\"name\":\"ALP\",\"offsetgroup\":\"ALP\",\"orientation\":\"v\",\"showlegend\":true,\"textposition\":\"outside\",\"x\":[\"ALP\"],\"xaxis\":\"x\",\"y\":[0.02517232671380043],\"yaxis\":\"y\",\"type\":\"bar\",\"textfont\":{\"color\":\"black\",\"size\":14},\"texttemplate\":\"%{y:.4f}\"},{\"alignmentgroup\":\"True\",\"hovertemplate\":\"Feature=%{x}\\u003cbr\\u003eFeature Importance=%{y}\\u003cextra\\u003e\\u003c\\u002fextra\\u003e\",\"legendgroup\":\"TG\",\"marker\":{\"color\":\"#009E73\",\"pattern\":{\"shape\":\"\"}},\"name\":\"TG\",\"offsetgroup\":\"TG\",\"orientation\":\"v\",\"showlegend\":true,\"textposition\":\"outside\",\"x\":[\"TG\"],\"xaxis\":\"x\",\"y\":[0.0590999573469162],\"yaxis\":\"y\",\"type\":\"bar\",\"textfont\":{\"color\":\"black\",\"size\":14},\"texttemplate\":\"%{y:.4f}\"},{\"alignmentgroup\":\"True\",\"hovertemplate\":\"Feature=%{x}\\u003cbr\\u003eFeature Importance=%{y}\\u003cextra\\u003e\\u003c\\u002fextra\\u003e\",\"legendgroup\":\"RBC\",\"marker\":{\"color\":\"#F0E442\",\"pattern\":{\"shape\":\"\"}},\"name\":\"RBC\",\"offsetgroup\":\"RBC\",\"orientation\":\"v\",\"showlegend\":true,\"textposition\":\"outside\",\"x\":[\"RBC\"],\"xaxis\":\"x\",\"y\":[0.001895757857710123],\"yaxis\":\"y\",\"type\":\"bar\",\"textfont\":{\"color\":\"black\",\"size\":14},\"texttemplate\":\"%{y:.4f}\"},{\"alignmentgroup\":\"True\",\"hovertemplate\":\"Feature=%{x}\\u003cbr\\u003eFeature Importance=%{y}\\u003cextra\\u003e\\u003c\\u002fextra\\u003e\",\"legendgroup\":\"TEACOFFEE\",\"marker\":{\"color\":\"#0072B2\",\"pattern\":{\"shape\":\"\"}},\"name\":\"TEACOFFEE\",\"offsetgroup\":\"TEACOFFEE\",\"orientation\":\"v\",\"showlegend\":true,\"textposition\":\"outside\",\"x\":[\"TEACOFFEE\"],\"xaxis\":\"x\",\"y\":[0.00045077185495756567],\"yaxis\":\"y\",\"type\":\"bar\",\"textfont\":{\"color\":\"black\",\"size\":14},\"texttemplate\":\"%{y:.4f}\"},{\"alignmentgroup\":\"True\",\"hovertemplate\":\"Feature=%{x}\\u003cbr\\u003eFeature Importance=%{y}\\u003cextra\\u003e\\u003c\\u002fextra\\u003e\",\"legendgroup\":\"Juice\",\"marker\":{\"color\":\"#D55E00\",\"pattern\":{\"shape\":\"\"}},\"name\":\"Juice\",\"offsetgroup\":\"Juice\",\"orientation\":\"v\",\"showlegend\":true,\"textposition\":\"outside\",\"x\":[\"Juice\"],\"xaxis\":\"x\",\"y\":[0.0016415538266301155],\"yaxis\":\"y\",\"type\":\"bar\",\"textfont\":{\"color\":\"black\",\"size\":14},\"texttemplate\":\"%{y:.4f}\"},{\"alignmentgroup\":\"True\",\"hovertemplate\":\"Feature=%{x}\\u003cbr\\u003eFeature Importance=%{y}\\u003cextra\\u003e\\u003c\\u002fextra\\u003e\",\"legendgroup\":\"Vegetables\",\"marker\":{\"color\":\"#CC79A7\",\"pattern\":{\"shape\":\"\"}},\"name\":\"Vegetables\",\"offsetgroup\":\"Vegetables\",\"orientation\":\"v\",\"showlegend\":true,\"textposition\":\"outside\",\"x\":[\"Vegetables\"],\"xaxis\":\"x\",\"y\":[0.0011264127679169178],\"yaxis\":\"y\",\"type\":\"bar\",\"textfont\":{\"color\":\"black\",\"size\":14},\"texttemplate\":\"%{y:.4f}\"}],                        {\"template\":{\"data\":{\"barpolar\":[{\"marker\":{\"line\":{\"color\":\"white\",\"width\":0.5},\"pattern\":{\"fillmode\":\"overlay\",\"size\":10,\"solidity\":0.2}},\"type\":\"barpolar\"}],\"bar\":[{\"error_x\":{\"color\":\"#2a3f5f\"},\"error_y\":{\"color\":\"#2a3f5f\"},\"marker\":{\"line\":{\"color\":\"white\",\"width\":0.5},\"pattern\":{\"fillmode\":\"overlay\",\"size\":10,\"solidity\":0.2}},\"type\":\"bar\"}],\"carpet\":[{\"aaxis\":{\"endlinecolor\":\"#2a3f5f\",\"gridcolor\":\"#C8D4E3\",\"linecolor\":\"#C8D4E3\",\"minorgridcolor\":\"#C8D4E3\",\"startlinecolor\":\"#2a3f5f\"},\"baxis\":{\"endlinecolor\":\"#2a3f5f\",\"gridcolor\":\"#C8D4E3\",\"linecolor\":\"#C8D4E3\",\"minorgridcolor\":\"#C8D4E3\",\"startlinecolor\":\"#2a3f5f\"},\"type\":\"carpet\"}],\"choropleth\":[{\"colorbar\":{\"outlinewidth\":0,\"ticks\":\"\"},\"type\":\"choropleth\"}],\"contourcarpet\":[{\"colorbar\":{\"outlinewidth\":0,\"ticks\":\"\"},\"type\":\"contourcarpet\"}],\"contour\":[{\"colorbar\":{\"outlinewidth\":0,\"ticks\":\"\"},\"colorscale\":[[0.0,\"#0d0887\"],[0.1111111111111111,\"#46039f\"],[0.2222222222222222,\"#7201a8\"],[0.3333333333333333,\"#9c179e\"],[0.4444444444444444,\"#bd3786\"],[0.5555555555555556,\"#d8576b\"],[0.6666666666666666,\"#ed7953\"],[0.7777777777777778,\"#fb9f3a\"],[0.8888888888888888,\"#fdca26\"],[1.0,\"#f0f921\"]],\"type\":\"contour\"}],\"heatmapgl\":[{\"colorbar\":{\"outlinewidth\":0,\"ticks\":\"\"},\"colorscale\":[[0.0,\"#0d0887\"],[0.1111111111111111,\"#46039f\"],[0.2222222222222222,\"#7201a8\"],[0.3333333333333333,\"#9c179e\"],[0.4444444444444444,\"#bd3786\"],[0.5555555555555556,\"#d8576b\"],[0.6666666666666666,\"#ed7953\"],[0.7777777777777778,\"#fb9f3a\"],[0.8888888888888888,\"#fdca26\"],[1.0,\"#f0f921\"]],\"type\":\"heatmapgl\"}],\"heatmap\":[{\"colorbar\":{\"outlinewidth\":0,\"ticks\":\"\"},\"colorscale\":[[0.0,\"#0d0887\"],[0.1111111111111111,\"#46039f\"],[0.2222222222222222,\"#7201a8\"],[0.3333333333333333,\"#9c179e\"],[0.4444444444444444,\"#bd3786\"],[0.5555555555555556,\"#d8576b\"],[0.6666666666666666,\"#ed7953\"],[0.7777777777777778,\"#fb9f3a\"],[0.8888888888888888,\"#fdca26\"],[1.0,\"#f0f921\"]],\"type\":\"heatmap\"}],\"histogram2dcontour\":[{\"colorbar\":{\"outlinewidth\":0,\"ticks\":\"\"},\"colorscale\":[[0.0,\"#0d0887\"],[0.1111111111111111,\"#46039f\"],[0.2222222222222222,\"#7201a8\"],[0.3333333333333333,\"#9c179e\"],[0.4444444444444444,\"#bd3786\"],[0.5555555555555556,\"#d8576b\"],[0.6666666666666666,\"#ed7953\"],[0.7777777777777778,\"#fb9f3a\"],[0.8888888888888888,\"#fdca26\"],[1.0,\"#f0f921\"]],\"type\":\"histogram2dcontour\"}],\"histogram2d\":[{\"colorbar\":{\"outlinewidth\":0,\"ticks\":\"\"},\"colorscale\":[[0.0,\"#0d0887\"],[0.1111111111111111,\"#46039f\"],[0.2222222222222222,\"#7201a8\"],[0.3333333333333333,\"#9c179e\"],[0.4444444444444444,\"#bd3786\"],[0.5555555555555556,\"#d8576b\"],[0.6666666666666666,\"#ed7953\"],[0.7777777777777778,\"#fb9f3a\"],[0.8888888888888888,\"#fdca26\"],[1.0,\"#f0f921\"]],\"type\":\"histogram2d\"}],\"histogram\":[{\"marker\":{\"pattern\":{\"fillmode\":\"overlay\",\"size\":10,\"solidity\":0.2}},\"type\":\"histogram\"}],\"mesh3d\":[{\"colorbar\":{\"outlinewidth\":0,\"ticks\":\"\"},\"type\":\"mesh3d\"}],\"parcoords\":[{\"line\":{\"colorbar\":{\"outlinewidth\":0,\"ticks\":\"\"}},\"type\":\"parcoords\"}],\"pie\":[{\"automargin\":true,\"type\":\"pie\"}],\"scatter3d\":[{\"line\":{\"colorbar\":{\"outlinewidth\":0,\"ticks\":\"\"}},\"marker\":{\"colorbar\":{\"outlinewidth\":0,\"ticks\":\"\"}},\"type\":\"scatter3d\"}],\"scattercarpet\":[{\"marker\":{\"colorbar\":{\"outlinewidth\":0,\"ticks\":\"\"}},\"type\":\"scattercarpet\"}],\"scattergeo\":[{\"marker\":{\"colorbar\":{\"outlinewidth\":0,\"ticks\":\"\"}},\"type\":\"scattergeo\"}],\"scattergl\":[{\"marker\":{\"colorbar\":{\"outlinewidth\":0,\"ticks\":\"\"}},\"type\":\"scattergl\"}],\"scattermapbox\":[{\"marker\":{\"colorbar\":{\"outlinewidth\":0,\"ticks\":\"\"}},\"type\":\"scattermapbox\"}],\"scatterpolargl\":[{\"marker\":{\"colorbar\":{\"outlinewidth\":0,\"ticks\":\"\"}},\"type\":\"scatterpolargl\"}],\"scatterpolar\":[{\"marker\":{\"colorbar\":{\"outlinewidth\":0,\"ticks\":\"\"}},\"type\":\"scatterpolar\"}],\"scatter\":[{\"fillpattern\":{\"fillmode\":\"overlay\",\"size\":10,\"solidity\":0.2},\"type\":\"scatter\"}],\"scatterternary\":[{\"marker\":{\"colorbar\":{\"outlinewidth\":0,\"ticks\":\"\"}},\"type\":\"scatterternary\"}],\"surface\":[{\"colorbar\":{\"outlinewidth\":0,\"ticks\":\"\"},\"colorscale\":[[0.0,\"#0d0887\"],[0.1111111111111111,\"#46039f\"],[0.2222222222222222,\"#7201a8\"],[0.3333333333333333,\"#9c179e\"],[0.4444444444444444,\"#bd3786\"],[0.5555555555555556,\"#d8576b\"],[0.6666666666666666,\"#ed7953\"],[0.7777777777777778,\"#fb9f3a\"],[0.8888888888888888,\"#fdca26\"],[1.0,\"#f0f921\"]],\"type\":\"surface\"}],\"table\":[{\"cells\":{\"fill\":{\"color\":\"#EBF0F8\"},\"line\":{\"color\":\"white\"}},\"header\":{\"fill\":{\"color\":\"#C8D4E3\"},\"line\":{\"color\":\"white\"}},\"type\":\"table\"}]},\"layout\":{\"annotationdefaults\":{\"arrowcolor\":\"#2a3f5f\",\"arrowhead\":0,\"arrowwidth\":1},\"autotypenumbers\":\"strict\",\"coloraxis\":{\"colorbar\":{\"outlinewidth\":0,\"ticks\":\"\"}},\"colorscale\":{\"diverging\":[[0,\"#8e0152\"],[0.1,\"#c51b7d\"],[0.2,\"#de77ae\"],[0.3,\"#f1b6da\"],[0.4,\"#fde0ef\"],[0.5,\"#f7f7f7\"],[0.6,\"#e6f5d0\"],[0.7,\"#b8e186\"],[0.8,\"#7fbc41\"],[0.9,\"#4d9221\"],[1,\"#276419\"]],\"sequential\":[[0.0,\"#0d0887\"],[0.1111111111111111,\"#46039f\"],[0.2222222222222222,\"#7201a8\"],[0.3333333333333333,\"#9c179e\"],[0.4444444444444444,\"#bd3786\"],[0.5555555555555556,\"#d8576b\"],[0.6666666666666666,\"#ed7953\"],[0.7777777777777778,\"#fb9f3a\"],[0.8888888888888888,\"#fdca26\"],[1.0,\"#f0f921\"]],\"sequentialminus\":[[0.0,\"#0d0887\"],[0.1111111111111111,\"#46039f\"],[0.2222222222222222,\"#7201a8\"],[0.3333333333333333,\"#9c179e\"],[0.4444444444444444,\"#bd3786\"],[0.5555555555555556,\"#d8576b\"],[0.6666666666666666,\"#ed7953\"],[0.7777777777777778,\"#fb9f3a\"],[0.8888888888888888,\"#fdca26\"],[1.0,\"#f0f921\"]]},\"colorway\":[\"#636efa\",\"#EF553B\",\"#00cc96\",\"#ab63fa\",\"#FFA15A\",\"#19d3f3\",\"#FF6692\",\"#B6E880\",\"#FF97FF\",\"#FECB52\"],\"font\":{\"color\":\"#2a3f5f\"},\"geo\":{\"bgcolor\":\"white\",\"lakecolor\":\"white\",\"landcolor\":\"white\",\"showlakes\":true,\"showland\":true,\"subunitcolor\":\"#C8D4E3\"},\"hoverlabel\":{\"align\":\"left\"},\"hovermode\":\"closest\",\"mapbox\":{\"style\":\"light\"},\"paper_bgcolor\":\"white\",\"plot_bgcolor\":\"white\",\"polar\":{\"angularaxis\":{\"gridcolor\":\"#EBF0F8\",\"linecolor\":\"#EBF0F8\",\"ticks\":\"\"},\"bgcolor\":\"white\",\"radialaxis\":{\"gridcolor\":\"#EBF0F8\",\"linecolor\":\"#EBF0F8\",\"ticks\":\"\"}},\"scene\":{\"xaxis\":{\"backgroundcolor\":\"white\",\"gridcolor\":\"#DFE8F3\",\"gridwidth\":2,\"linecolor\":\"#EBF0F8\",\"showbackground\":true,\"ticks\":\"\",\"zerolinecolor\":\"#EBF0F8\"},\"yaxis\":{\"backgroundcolor\":\"white\",\"gridcolor\":\"#DFE8F3\",\"gridwidth\":2,\"linecolor\":\"#EBF0F8\",\"showbackground\":true,\"ticks\":\"\",\"zerolinecolor\":\"#EBF0F8\"},\"zaxis\":{\"backgroundcolor\":\"white\",\"gridcolor\":\"#DFE8F3\",\"gridwidth\":2,\"linecolor\":\"#EBF0F8\",\"showbackground\":true,\"ticks\":\"\",\"zerolinecolor\":\"#EBF0F8\"}},\"shapedefaults\":{\"line\":{\"color\":\"#2a3f5f\"}},\"ternary\":{\"aaxis\":{\"gridcolor\":\"#DFE8F3\",\"linecolor\":\"#A2B1C6\",\"ticks\":\"\"},\"baxis\":{\"gridcolor\":\"#DFE8F3\",\"linecolor\":\"#A2B1C6\",\"ticks\":\"\"},\"bgcolor\":\"white\",\"caxis\":{\"gridcolor\":\"#DFE8F3\",\"linecolor\":\"#A2B1C6\",\"ticks\":\"\"}},\"title\":{\"x\":0.05},\"xaxis\":{\"automargin\":true,\"gridcolor\":\"#EBF0F8\",\"linecolor\":\"#EBF0F8\",\"ticks\":\"\",\"title\":{\"standoff\":15},\"zerolinecolor\":\"#EBF0F8\",\"zerolinewidth\":2},\"yaxis\":{\"automargin\":true,\"gridcolor\":\"#EBF0F8\",\"linecolor\":\"#EBF0F8\",\"ticks\":\"\",\"title\":{\"standoff\":15},\"zerolinecolor\":\"#EBF0F8\",\"zerolinewidth\":2}}},\"xaxis\":{\"anchor\":\"y\",\"domain\":[0.0,1.0],\"title\":{\"text\":\"Feature\"},\"categoryorder\":\"array\",\"categoryarray\":[\"FBS\",\"Age\",\"HasFattyLiver\",\"HDL.C\",\"HasKidneyStone\",\"BAVARAGE\",\"Driving1\",\"TV1\",\"Eating1\",\"ALP\",\"TG\",\"RBC\",\"TEACOFFEE\",\"Juice\",\"Vegetables\"],\"tickangle\":45,\"showgrid\":false},\"yaxis\":{\"anchor\":\"x\",\"domain\":[0.0,1.0],\"title\":{\"text\":\"Feature Importance\"},\"showgrid\":true,\"gridcolor\":\"rgba(0,0,0,0.15)\"},\"legend\":{\"title\":{\"text\":\"Feature\"},\"tracegroupgap\":0},\"title\":{\"text\":\"Most Important Features - ANOVA (f_classif)\",\"x\":0.5,\"y\":0.95},\"barmode\":\"relative\",\"height\":700,\"margin\":{\"t\":70,\"b\":120,\"l\":70,\"r\":50},\"font\":{\"size\":16},\"plot_bgcolor\":\"white\"},                        {\"responsive\": true}                    ).then(function(){\n",
       "                            \n",
       "var gd = document.getElementById('8223a35c-c392-4775-8953-f21663aa69cd');\n",
       "var x = new MutationObserver(function (mutations, observer) {{\n",
       "        var display = window.getComputedStyle(gd).display;\n",
       "        if (!display || display === 'none') {{\n",
       "            console.log([gd, 'removed!']);\n",
       "            Plotly.purge(gd);\n",
       "            observer.disconnect();\n",
       "        }}\n",
       "}});\n",
       "\n",
       "// Listen for the removal of the full notebook cells\n",
       "var notebookContainer = gd.closest('#notebook-container');\n",
       "if (notebookContainer) {{\n",
       "    x.observe(notebookContainer, {childList: true});\n",
       "}}\n",
       "\n",
       "// Listen for the clearing of the current output cell\n",
       "var outputEl = gd.closest('.output');\n",
       "if (outputEl) {{\n",
       "    x.observe(outputEl, {childList: true});\n",
       "}}\n",
       "\n",
       "                        })                };                });            </script>        </div>"
      ]
     },
     "metadata": {},
     "output_type": "display_data"
    },
    {
     "data": {
      "application/vnd.plotly.v1+json": {
       "config": {
        "plotlyServerURL": "https://plot.ly"
       },
       "data": [
        {
         "alignmentgroup": "True",
         "hovertemplate": "Feature=%{x}<br>Feature Importance=%{y}<extra></extra>",
         "legendgroup": "FBS",
         "marker": {
          "color": "#332288",
          "pattern": {
           "shape": ""
          }
         },
         "name": "FBS",
         "offsetgroup": "FBS",
         "orientation": "v",
         "showlegend": true,
         "textfont": {
          "color": "black",
          "size": 14
         },
         "textposition": "outside",
         "texttemplate": "%{y:.4f}",
         "type": "bar",
         "x": [
          "FBS"
         ],
         "xaxis": "x",
         "y": [
          1
         ],
         "yaxis": "y"
        },
        {
         "alignmentgroup": "True",
         "hovertemplate": "Feature=%{x}<br>Feature Importance=%{y}<extra></extra>",
         "legendgroup": "Age",
         "marker": {
          "color": "#117733",
          "pattern": {
           "shape": ""
          }
         },
         "name": "Age",
         "offsetgroup": "Age",
         "orientation": "v",
         "showlegend": true,
         "textfont": {
          "color": "black",
          "size": 14
         },
         "textposition": "outside",
         "texttemplate": "%{y:.4f}",
         "type": "bar",
         "x": [
          "Age"
         ],
         "xaxis": "x",
         "y": [
          0.8608459209799788
         ],
         "yaxis": "y"
        },
        {
         "alignmentgroup": "True",
         "hovertemplate": "Feature=%{x}<br>Feature Importance=%{y}<extra></extra>",
         "legendgroup": "HasFattyLiver",
         "marker": {
          "color": "#44AA99",
          "pattern": {
           "shape": ""
          }
         },
         "name": "HasFattyLiver",
         "offsetgroup": "HasFattyLiver",
         "orientation": "v",
         "showlegend": true,
         "textfont": {
          "color": "black",
          "size": 14
         },
         "textposition": "outside",
         "texttemplate": "%{y:.4f}",
         "type": "bar",
         "x": [
          "HasFattyLiver"
         ],
         "xaxis": "x",
         "y": [
          0.23769628829915135
         ],
         "yaxis": "y"
        },
        {
         "alignmentgroup": "True",
         "hovertemplate": "Feature=%{x}<br>Feature Importance=%{y}<extra></extra>",
         "legendgroup": "HDL.C",
         "marker": {
          "color": "#88CCEE",
          "pattern": {
           "shape": ""
          }
         },
         "name": "HDL.C",
         "offsetgroup": "HDL.C",
         "orientation": "v",
         "showlegend": true,
         "textfont": {
          "color": "black",
          "size": 14
         },
         "textposition": "outside",
         "texttemplate": "%{y:.4f}",
         "type": "bar",
         "x": [
          "HDL.C"
         ],
         "xaxis": "x",
         "y": [
          0.7893599330736899
         ],
         "yaxis": "y"
        },
        {
         "alignmentgroup": "True",
         "hovertemplate": "Feature=%{x}<br>Feature Importance=%{y}<extra></extra>",
         "legendgroup": "HasKidneyStone",
         "marker": {
          "color": "#DDCC77",
          "pattern": {
           "shape": ""
          }
         },
         "name": "HasKidneyStone",
         "offsetgroup": "HasKidneyStone",
         "orientation": "v",
         "showlegend": true,
         "textfont": {
          "color": "black",
          "size": 14
         },
         "textposition": "outside",
         "texttemplate": "%{y:.4f}",
         "type": "bar",
         "x": [
          "HasKidneyStone"
         ],
         "xaxis": "x",
         "y": [
          0.3147030546357774
         ],
         "yaxis": "y"
        },
        {
         "alignmentgroup": "True",
         "hovertemplate": "Feature=%{x}<br>Feature Importance=%{y}<extra></extra>",
         "legendgroup": "BAVARAGE",
         "marker": {
          "color": "#CC6677",
          "pattern": {
           "shape": ""
          }
         },
         "name": "BAVARAGE",
         "offsetgroup": "BAVARAGE",
         "orientation": "v",
         "showlegend": true,
         "textfont": {
          "color": "black",
          "size": 14
         },
         "textposition": "outside",
         "texttemplate": "%{y:.4f}",
         "type": "bar",
         "x": [
          "BAVARAGE"
         ],
         "xaxis": "x",
         "y": [
          0.6033158752246742
         ],
         "yaxis": "y"
        },
        {
         "alignmentgroup": "True",
         "hovertemplate": "Feature=%{x}<br>Feature Importance=%{y}<extra></extra>",
         "legendgroup": "Driving1",
         "marker": {
          "color": "#AA4499",
          "pattern": {
           "shape": ""
          }
         },
         "name": "Driving1",
         "offsetgroup": "Driving1",
         "orientation": "v",
         "showlegend": true,
         "textfont": {
          "color": "black",
          "size": 14
         },
         "textposition": "outside",
         "texttemplate": "%{y:.4f}",
         "type": "bar",
         "x": [
          "Driving1"
         ],
         "xaxis": "x",
         "y": [
          0.6759548022955452
         ],
         "yaxis": "y"
        },
        {
         "alignmentgroup": "True",
         "hovertemplate": "Feature=%{x}<br>Feature Importance=%{y}<extra></extra>",
         "legendgroup": "TV1",
         "marker": {
          "color": "#999933",
          "pattern": {
           "shape": ""
          }
         },
         "name": "TV1",
         "offsetgroup": "TV1",
         "orientation": "v",
         "showlegend": true,
         "textfont": {
          "color": "black",
          "size": 14
         },
         "textposition": "outside",
         "texttemplate": "%{y:.4f}",
         "type": "bar",
         "x": [
          "TV1"
         ],
         "xaxis": "x",
         "y": [
          0.6539789254826691
         ],
         "yaxis": "y"
        },
        {
         "alignmentgroup": "True",
         "hovertemplate": "Feature=%{x}<br>Feature Importance=%{y}<extra></extra>",
         "legendgroup": "Eating1",
         "marker": {
          "color": "#E69F00",
          "pattern": {
           "shape": ""
          }
         },
         "name": "Eating1",
         "offsetgroup": "Eating1",
         "orientation": "v",
         "showlegend": true,
         "textfont": {
          "color": "black",
          "size": 14
         },
         "textposition": "outside",
         "texttemplate": "%{y:.4f}",
         "type": "bar",
         "x": [
          "Eating1"
         ],
         "xaxis": "x",
         "y": [
          0.6480858498235406
         ],
         "yaxis": "y"
        },
        {
         "alignmentgroup": "True",
         "hovertemplate": "Feature=%{x}<br>Feature Importance=%{y}<extra></extra>",
         "legendgroup": "ALP",
         "marker": {
          "color": "#56B4E9",
          "pattern": {
           "shape": ""
          }
         },
         "name": "ALP",
         "offsetgroup": "ALP",
         "orientation": "v",
         "showlegend": true,
         "textfont": {
          "color": "black",
          "size": 14
         },
         "textposition": "outside",
         "texttemplate": "%{y:.4f}",
         "type": "bar",
         "x": [
          "ALP"
         ],
         "xaxis": "x",
         "y": [
          0.624847648520621
         ],
         "yaxis": "y"
        },
        {
         "alignmentgroup": "True",
         "hovertemplate": "Feature=%{x}<br>Feature Importance=%{y}<extra></extra>",
         "legendgroup": "TG",
         "marker": {
          "color": "#009E73",
          "pattern": {
           "shape": ""
          }
         },
         "name": "TG",
         "offsetgroup": "TG",
         "orientation": "v",
         "showlegend": true,
         "textfont": {
          "color": "black",
          "size": 14
         },
         "textposition": "outside",
         "texttemplate": "%{y:.4f}",
         "type": "bar",
         "x": [
          "TG"
         ],
         "xaxis": "x",
         "y": [
          0.557104281850473
         ],
         "yaxis": "y"
        },
        {
         "alignmentgroup": "True",
         "hovertemplate": "Feature=%{x}<br>Feature Importance=%{y}<extra></extra>",
         "legendgroup": "RBC",
         "marker": {
          "color": "#F0E442",
          "pattern": {
           "shape": ""
          }
         },
         "name": "RBC",
         "offsetgroup": "RBC",
         "orientation": "v",
         "showlegend": true,
         "textfont": {
          "color": "black",
          "size": 14
         },
         "textposition": "outside",
         "texttemplate": "%{y:.4f}",
         "type": "bar",
         "x": [
          "RBC"
         ],
         "xaxis": "x",
         "y": [
          0.6021781350524658
         ],
         "yaxis": "y"
        },
        {
         "alignmentgroup": "True",
         "hovertemplate": "Feature=%{x}<br>Feature Importance=%{y}<extra></extra>",
         "legendgroup": "TEACOFFEE",
         "marker": {
          "color": "#0072B2",
          "pattern": {
           "shape": ""
          }
         },
         "name": "TEACOFFEE",
         "offsetgroup": "TEACOFFEE",
         "orientation": "v",
         "showlegend": true,
         "textfont": {
          "color": "black",
          "size": 14
         },
         "textposition": "outside",
         "texttemplate": "%{y:.4f}",
         "type": "bar",
         "x": [
          "TEACOFFEE"
         ],
         "xaxis": "x",
         "y": [
          0.45278450264140896
         ],
         "yaxis": "y"
        },
        {
         "alignmentgroup": "True",
         "hovertemplate": "Feature=%{x}<br>Feature Importance=%{y}<extra></extra>",
         "legendgroup": "Juice",
         "marker": {
          "color": "#D55E00",
          "pattern": {
           "shape": ""
          }
         },
         "name": "Juice",
         "offsetgroup": "Juice",
         "orientation": "v",
         "showlegend": true,
         "textfont": {
          "color": "black",
          "size": 14
         },
         "textposition": "outside",
         "texttemplate": "%{y:.4f}",
         "type": "bar",
         "x": [
          "Juice"
         ],
         "xaxis": "x",
         "y": [
          0.20710835692212176
         ],
         "yaxis": "y"
        },
        {
         "alignmentgroup": "True",
         "hovertemplate": "Feature=%{x}<br>Feature Importance=%{y}<extra></extra>",
         "legendgroup": "Vegetables",
         "marker": {
          "color": "#CC79A7",
          "pattern": {
           "shape": ""
          }
         },
         "name": "Vegetables",
         "offsetgroup": "Vegetables",
         "orientation": "v",
         "showlegend": true,
         "textfont": {
          "color": "black",
          "size": 14
         },
         "textposition": "outside",
         "texttemplate": "%{y:.4f}",
         "type": "bar",
         "x": [
          "Vegetables"
         ],
         "xaxis": "x",
         "y": [
          0
         ],
         "yaxis": "y"
        }
       ],
       "layout": {
        "autosize": true,
        "barmode": "relative",
        "font": {
         "size": 16
        },
        "legend": {
         "title": {
          "text": "Feature"
         },
         "tracegroupgap": 0
        },
        "margin": {
         "b": 120,
         "l": 70,
         "r": 50,
         "t": 70
        },
        "plot_bgcolor": "white",
        "template": {
         "data": {
          "bar": [
           {
            "error_x": {
             "color": "#2a3f5f"
            },
            "error_y": {
             "color": "#2a3f5f"
            },
            "marker": {
             "line": {
              "color": "white",
              "width": 0.5
             },
             "pattern": {
              "fillmode": "overlay",
              "size": 10,
              "solidity": 0.2
             }
            },
            "type": "bar"
           }
          ],
          "barpolar": [
           {
            "marker": {
             "line": {
              "color": "white",
              "width": 0.5
             },
             "pattern": {
              "fillmode": "overlay",
              "size": 10,
              "solidity": 0.2
             }
            },
            "type": "barpolar"
           }
          ],
          "carpet": [
           {
            "aaxis": {
             "endlinecolor": "#2a3f5f",
             "gridcolor": "#C8D4E3",
             "linecolor": "#C8D4E3",
             "minorgridcolor": "#C8D4E3",
             "startlinecolor": "#2a3f5f"
            },
            "baxis": {
             "endlinecolor": "#2a3f5f",
             "gridcolor": "#C8D4E3",
             "linecolor": "#C8D4E3",
             "minorgridcolor": "#C8D4E3",
             "startlinecolor": "#2a3f5f"
            },
            "type": "carpet"
           }
          ],
          "choropleth": [
           {
            "colorbar": {
             "outlinewidth": 0,
             "ticks": ""
            },
            "type": "choropleth"
           }
          ],
          "contour": [
           {
            "colorbar": {
             "outlinewidth": 0,
             "ticks": ""
            },
            "colorscale": [
             [
              0,
              "#0d0887"
             ],
             [
              0.1111111111111111,
              "#46039f"
             ],
             [
              0.2222222222222222,
              "#7201a8"
             ],
             [
              0.3333333333333333,
              "#9c179e"
             ],
             [
              0.4444444444444444,
              "#bd3786"
             ],
             [
              0.5555555555555556,
              "#d8576b"
             ],
             [
              0.6666666666666666,
              "#ed7953"
             ],
             [
              0.7777777777777778,
              "#fb9f3a"
             ],
             [
              0.8888888888888888,
              "#fdca26"
             ],
             [
              1,
              "#f0f921"
             ]
            ],
            "type": "contour"
           }
          ],
          "contourcarpet": [
           {
            "colorbar": {
             "outlinewidth": 0,
             "ticks": ""
            },
            "type": "contourcarpet"
           }
          ],
          "heatmap": [
           {
            "colorbar": {
             "outlinewidth": 0,
             "ticks": ""
            },
            "colorscale": [
             [
              0,
              "#0d0887"
             ],
             [
              0.1111111111111111,
              "#46039f"
             ],
             [
              0.2222222222222222,
              "#7201a8"
             ],
             [
              0.3333333333333333,
              "#9c179e"
             ],
             [
              0.4444444444444444,
              "#bd3786"
             ],
             [
              0.5555555555555556,
              "#d8576b"
             ],
             [
              0.6666666666666666,
              "#ed7953"
             ],
             [
              0.7777777777777778,
              "#fb9f3a"
             ],
             [
              0.8888888888888888,
              "#fdca26"
             ],
             [
              1,
              "#f0f921"
             ]
            ],
            "type": "heatmap"
           }
          ],
          "heatmapgl": [
           {
            "colorbar": {
             "outlinewidth": 0,
             "ticks": ""
            },
            "colorscale": [
             [
              0,
              "#0d0887"
             ],
             [
              0.1111111111111111,
              "#46039f"
             ],
             [
              0.2222222222222222,
              "#7201a8"
             ],
             [
              0.3333333333333333,
              "#9c179e"
             ],
             [
              0.4444444444444444,
              "#bd3786"
             ],
             [
              0.5555555555555556,
              "#d8576b"
             ],
             [
              0.6666666666666666,
              "#ed7953"
             ],
             [
              0.7777777777777778,
              "#fb9f3a"
             ],
             [
              0.8888888888888888,
              "#fdca26"
             ],
             [
              1,
              "#f0f921"
             ]
            ],
            "type": "heatmapgl"
           }
          ],
          "histogram": [
           {
            "marker": {
             "pattern": {
              "fillmode": "overlay",
              "size": 10,
              "solidity": 0.2
             }
            },
            "type": "histogram"
           }
          ],
          "histogram2d": [
           {
            "colorbar": {
             "outlinewidth": 0,
             "ticks": ""
            },
            "colorscale": [
             [
              0,
              "#0d0887"
             ],
             [
              0.1111111111111111,
              "#46039f"
             ],
             [
              0.2222222222222222,
              "#7201a8"
             ],
             [
              0.3333333333333333,
              "#9c179e"
             ],
             [
              0.4444444444444444,
              "#bd3786"
             ],
             [
              0.5555555555555556,
              "#d8576b"
             ],
             [
              0.6666666666666666,
              "#ed7953"
             ],
             [
              0.7777777777777778,
              "#fb9f3a"
             ],
             [
              0.8888888888888888,
              "#fdca26"
             ],
             [
              1,
              "#f0f921"
             ]
            ],
            "type": "histogram2d"
           }
          ],
          "histogram2dcontour": [
           {
            "colorbar": {
             "outlinewidth": 0,
             "ticks": ""
            },
            "colorscale": [
             [
              0,
              "#0d0887"
             ],
             [
              0.1111111111111111,
              "#46039f"
             ],
             [
              0.2222222222222222,
              "#7201a8"
             ],
             [
              0.3333333333333333,
              "#9c179e"
             ],
             [
              0.4444444444444444,
              "#bd3786"
             ],
             [
              0.5555555555555556,
              "#d8576b"
             ],
             [
              0.6666666666666666,
              "#ed7953"
             ],
             [
              0.7777777777777778,
              "#fb9f3a"
             ],
             [
              0.8888888888888888,
              "#fdca26"
             ],
             [
              1,
              "#f0f921"
             ]
            ],
            "type": "histogram2dcontour"
           }
          ],
          "mesh3d": [
           {
            "colorbar": {
             "outlinewidth": 0,
             "ticks": ""
            },
            "type": "mesh3d"
           }
          ],
          "parcoords": [
           {
            "line": {
             "colorbar": {
              "outlinewidth": 0,
              "ticks": ""
             }
            },
            "type": "parcoords"
           }
          ],
          "pie": [
           {
            "automargin": true,
            "type": "pie"
           }
          ],
          "scatter": [
           {
            "fillpattern": {
             "fillmode": "overlay",
             "size": 10,
             "solidity": 0.2
            },
            "type": "scatter"
           }
          ],
          "scatter3d": [
           {
            "line": {
             "colorbar": {
              "outlinewidth": 0,
              "ticks": ""
             }
            },
            "marker": {
             "colorbar": {
              "outlinewidth": 0,
              "ticks": ""
             }
            },
            "type": "scatter3d"
           }
          ],
          "scattercarpet": [
           {
            "marker": {
             "colorbar": {
              "outlinewidth": 0,
              "ticks": ""
             }
            },
            "type": "scattercarpet"
           }
          ],
          "scattergeo": [
           {
            "marker": {
             "colorbar": {
              "outlinewidth": 0,
              "ticks": ""
             }
            },
            "type": "scattergeo"
           }
          ],
          "scattergl": [
           {
            "marker": {
             "colorbar": {
              "outlinewidth": 0,
              "ticks": ""
             }
            },
            "type": "scattergl"
           }
          ],
          "scattermapbox": [
           {
            "marker": {
             "colorbar": {
              "outlinewidth": 0,
              "ticks": ""
             }
            },
            "type": "scattermapbox"
           }
          ],
          "scatterpolar": [
           {
            "marker": {
             "colorbar": {
              "outlinewidth": 0,
              "ticks": ""
             }
            },
            "type": "scatterpolar"
           }
          ],
          "scatterpolargl": [
           {
            "marker": {
             "colorbar": {
              "outlinewidth": 0,
              "ticks": ""
             }
            },
            "type": "scatterpolargl"
           }
          ],
          "scatterternary": [
           {
            "marker": {
             "colorbar": {
              "outlinewidth": 0,
              "ticks": ""
             }
            },
            "type": "scatterternary"
           }
          ],
          "surface": [
           {
            "colorbar": {
             "outlinewidth": 0,
             "ticks": ""
            },
            "colorscale": [
             [
              0,
              "#0d0887"
             ],
             [
              0.1111111111111111,
              "#46039f"
             ],
             [
              0.2222222222222222,
              "#7201a8"
             ],
             [
              0.3333333333333333,
              "#9c179e"
             ],
             [
              0.4444444444444444,
              "#bd3786"
             ],
             [
              0.5555555555555556,
              "#d8576b"
             ],
             [
              0.6666666666666666,
              "#ed7953"
             ],
             [
              0.7777777777777778,
              "#fb9f3a"
             ],
             [
              0.8888888888888888,
              "#fdca26"
             ],
             [
              1,
              "#f0f921"
             ]
            ],
            "type": "surface"
           }
          ],
          "table": [
           {
            "cells": {
             "fill": {
              "color": "#EBF0F8"
             },
             "line": {
              "color": "white"
             }
            },
            "header": {
             "fill": {
              "color": "#C8D4E3"
             },
             "line": {
              "color": "white"
             }
            },
            "type": "table"
           }
          ]
         },
         "layout": {
          "annotationdefaults": {
           "arrowcolor": "#2a3f5f",
           "arrowhead": 0,
           "arrowwidth": 1
          },
          "autotypenumbers": "strict",
          "coloraxis": {
           "colorbar": {
            "outlinewidth": 0,
            "ticks": ""
           }
          },
          "colorscale": {
           "diverging": [
            [
             0,
             "#8e0152"
            ],
            [
             0.1,
             "#c51b7d"
            ],
            [
             0.2,
             "#de77ae"
            ],
            [
             0.3,
             "#f1b6da"
            ],
            [
             0.4,
             "#fde0ef"
            ],
            [
             0.5,
             "#f7f7f7"
            ],
            [
             0.6,
             "#e6f5d0"
            ],
            [
             0.7,
             "#b8e186"
            ],
            [
             0.8,
             "#7fbc41"
            ],
            [
             0.9,
             "#4d9221"
            ],
            [
             1,
             "#276419"
            ]
           ],
           "sequential": [
            [
             0,
             "#0d0887"
            ],
            [
             0.1111111111111111,
             "#46039f"
            ],
            [
             0.2222222222222222,
             "#7201a8"
            ],
            [
             0.3333333333333333,
             "#9c179e"
            ],
            [
             0.4444444444444444,
             "#bd3786"
            ],
            [
             0.5555555555555556,
             "#d8576b"
            ],
            [
             0.6666666666666666,
             "#ed7953"
            ],
            [
             0.7777777777777778,
             "#fb9f3a"
            ],
            [
             0.8888888888888888,
             "#fdca26"
            ],
            [
             1,
             "#f0f921"
            ]
           ],
           "sequentialminus": [
            [
             0,
             "#0d0887"
            ],
            [
             0.1111111111111111,
             "#46039f"
            ],
            [
             0.2222222222222222,
             "#7201a8"
            ],
            [
             0.3333333333333333,
             "#9c179e"
            ],
            [
             0.4444444444444444,
             "#bd3786"
            ],
            [
             0.5555555555555556,
             "#d8576b"
            ],
            [
             0.6666666666666666,
             "#ed7953"
            ],
            [
             0.7777777777777778,
             "#fb9f3a"
            ],
            [
             0.8888888888888888,
             "#fdca26"
            ],
            [
             1,
             "#f0f921"
            ]
           ]
          },
          "colorway": [
           "#636efa",
           "#EF553B",
           "#00cc96",
           "#ab63fa",
           "#FFA15A",
           "#19d3f3",
           "#FF6692",
           "#B6E880",
           "#FF97FF",
           "#FECB52"
          ],
          "font": {
           "color": "#2a3f5f"
          },
          "geo": {
           "bgcolor": "white",
           "lakecolor": "white",
           "landcolor": "white",
           "showlakes": true,
           "showland": true,
           "subunitcolor": "#C8D4E3"
          },
          "hoverlabel": {
           "align": "left"
          },
          "hovermode": "closest",
          "mapbox": {
           "style": "light"
          },
          "paper_bgcolor": "white",
          "plot_bgcolor": "white",
          "polar": {
           "angularaxis": {
            "gridcolor": "#EBF0F8",
            "linecolor": "#EBF0F8",
            "ticks": ""
           },
           "bgcolor": "white",
           "radialaxis": {
            "gridcolor": "#EBF0F8",
            "linecolor": "#EBF0F8",
            "ticks": ""
           }
          },
          "scene": {
           "xaxis": {
            "backgroundcolor": "white",
            "gridcolor": "#DFE8F3",
            "gridwidth": 2,
            "linecolor": "#EBF0F8",
            "showbackground": true,
            "ticks": "",
            "zerolinecolor": "#EBF0F8"
           },
           "yaxis": {
            "backgroundcolor": "white",
            "gridcolor": "#DFE8F3",
            "gridwidth": 2,
            "linecolor": "#EBF0F8",
            "showbackground": true,
            "ticks": "",
            "zerolinecolor": "#EBF0F8"
           },
           "zaxis": {
            "backgroundcolor": "white",
            "gridcolor": "#DFE8F3",
            "gridwidth": 2,
            "linecolor": "#EBF0F8",
            "showbackground": true,
            "ticks": "",
            "zerolinecolor": "#EBF0F8"
           }
          },
          "shapedefaults": {
           "line": {
            "color": "#2a3f5f"
           }
          },
          "ternary": {
           "aaxis": {
            "gridcolor": "#DFE8F3",
            "linecolor": "#A2B1C6",
            "ticks": ""
           },
           "baxis": {
            "gridcolor": "#DFE8F3",
            "linecolor": "#A2B1C6",
            "ticks": ""
           },
           "bgcolor": "white",
           "caxis": {
            "gridcolor": "#DFE8F3",
            "linecolor": "#A2B1C6",
            "ticks": ""
           }
          },
          "title": {
           "x": 0.05
          },
          "xaxis": {
           "automargin": true,
           "gridcolor": "#EBF0F8",
           "linecolor": "#EBF0F8",
           "ticks": "",
           "title": {
            "standoff": 15
           },
           "zerolinecolor": "#EBF0F8",
           "zerolinewidth": 2
          },
          "yaxis": {
           "automargin": true,
           "gridcolor": "#EBF0F8",
           "linecolor": "#EBF0F8",
           "ticks": "",
           "title": {
            "standoff": 15
           },
           "zerolinecolor": "#EBF0F8",
           "zerolinewidth": 2
          }
         }
        },
        "title": {
         "text": "Most Important Features - Mutual Information",
         "x": 0.5,
         "y": 0.95
        },
        "xaxis": {
         "anchor": "y",
         "autorange": true,
         "categoryarray": [
          "FBS",
          "Age",
          "HasFattyLiver",
          "HDL.C",
          "HasKidneyStone",
          "BAVARAGE",
          "Driving1",
          "TV1",
          "Eating1",
          "ALP",
          "TG",
          "RBC",
          "TEACOFFEE",
          "Juice",
          "Vegetables"
         ],
         "categoryorder": "array",
         "domain": [
          0,
          1
         ],
         "range": [
          -0.5,
          14.5
         ],
         "showgrid": false,
         "tickangle": 45,
         "title": {
          "text": "Feature"
         },
         "type": "category"
        },
        "yaxis": {
         "anchor": "x",
         "autorange": true,
         "domain": [
          0,
          1
         ],
         "gridcolor": "rgba(0, 0, 0, 0.15)",
         "range": [
          0,
          1.0526315789473684
         ],
         "showgrid": true,
         "title": {
          "text": "Feature Importance"
         },
         "type": "linear"
        }
       }
      },
      "image/png": "[encoded data removed]",
      "text/html": [
       "<div>                            <div id=\"e34aaa39-debc-478f-a111-06a7d0baafbf\" class=\"plotly-graph-div\" style=\"height:700px; width:100%;\"></div>            <script type=\"text/javascript\">                require([\"plotly\"], function(Plotly) {                    window.PLOTLYENV=window.PLOTLYENV || {};                                    if (document.getElementById(\"e34aaa39-debc-478f-a111-06a7d0baafbf\")) {                    Plotly.newPlot(                        \"e34aaa39-debc-478f-a111-06a7d0baafbf\",                        [{\"alignmentgroup\":\"True\",\"hovertemplate\":\"Feature=%{x}\\u003cbr\\u003eFeature Importance=%{y}\\u003cextra\\u003e\\u003c\\u002fextra\\u003e\",\"legendgroup\":\"FBS\",\"marker\":{\"color\":\"#332288\",\"pattern\":{\"shape\":\"\"}},\"name\":\"FBS\",\"offsetgroup\":\"FBS\",\"orientation\":\"v\",\"showlegend\":true,\"textposition\":\"outside\",\"x\":[\"FBS\"],\"xaxis\":\"x\",\"y\":[1.0],\"yaxis\":\"y\",\"type\":\"bar\",\"textfont\":{\"color\":\"black\",\"size\":14},\"texttemplate\":\"%{y:.4f}\"},{\"alignmentgroup\":\"True\",\"hovertemplate\":\"Feature=%{x}\\u003cbr\\u003eFeature Importance=%{y}\\u003cextra\\u003e\\u003c\\u002fextra\\u003e\",\"legendgroup\":\"Age\",\"marker\":{\"color\":\"#117733\",\"pattern\":{\"shape\":\"\"}},\"name\":\"Age\",\"offsetgroup\":\"Age\",\"orientation\":\"v\",\"showlegend\":true,\"textposition\":\"outside\",\"x\":[\"Age\"],\"xaxis\":\"x\",\"y\":[0.8608459209799788],\"yaxis\":\"y\",\"type\":\"bar\",\"textfont\":{\"color\":\"black\",\"size\":14},\"texttemplate\":\"%{y:.4f}\"},{\"alignmentgroup\":\"True\",\"hovertemplate\":\"Feature=%{x}\\u003cbr\\u003eFeature Importance=%{y}\\u003cextra\\u003e\\u003c\\u002fextra\\u003e\",\"legendgroup\":\"HasFattyLiver\",\"marker\":{\"color\":\"#44AA99\",\"pattern\":{\"shape\":\"\"}},\"name\":\"HasFattyLiver\",\"offsetgroup\":\"HasFattyLiver\",\"orientation\":\"v\",\"showlegend\":true,\"textposition\":\"outside\",\"x\":[\"HasFattyLiver\"],\"xaxis\":\"x\",\"y\":[0.23769628829915135],\"yaxis\":\"y\",\"type\":\"bar\",\"textfont\":{\"color\":\"black\",\"size\":14},\"texttemplate\":\"%{y:.4f}\"},{\"alignmentgroup\":\"True\",\"hovertemplate\":\"Feature=%{x}\\u003cbr\\u003eFeature Importance=%{y}\\u003cextra\\u003e\\u003c\\u002fextra\\u003e\",\"legendgroup\":\"HDL.C\",\"marker\":{\"color\":\"#88CCEE\",\"pattern\":{\"shape\":\"\"}},\"name\":\"HDL.C\",\"offsetgroup\":\"HDL.C\",\"orientation\":\"v\",\"showlegend\":true,\"textposition\":\"outside\",\"x\":[\"HDL.C\"],\"xaxis\":\"x\",\"y\":[0.7893599330736899],\"yaxis\":\"y\",\"type\":\"bar\",\"textfont\":{\"color\":\"black\",\"size\":14},\"texttemplate\":\"%{y:.4f}\"},{\"alignmentgroup\":\"True\",\"hovertemplate\":\"Feature=%{x}\\u003cbr\\u003eFeature Importance=%{y}\\u003cextra\\u003e\\u003c\\u002fextra\\u003e\",\"legendgroup\":\"HasKidneyStone\",\"marker\":{\"color\":\"#DDCC77\",\"pattern\":{\"shape\":\"\"}},\"name\":\"HasKidneyStone\",\"offsetgroup\":\"HasKidneyStone\",\"orientation\":\"v\",\"showlegend\":true,\"textposition\":\"outside\",\"x\":[\"HasKidneyStone\"],\"xaxis\":\"x\",\"y\":[0.3147030546357774],\"yaxis\":\"y\",\"type\":\"bar\",\"textfont\":{\"color\":\"black\",\"size\":14},\"texttemplate\":\"%{y:.4f}\"},{\"alignmentgroup\":\"True\",\"hovertemplate\":\"Feature=%{x}\\u003cbr\\u003eFeature Importance=%{y}\\u003cextra\\u003e\\u003c\\u002fextra\\u003e\",\"legendgroup\":\"BAVARAGE\",\"marker\":{\"color\":\"#CC6677\",\"pattern\":{\"shape\":\"\"}},\"name\":\"BAVARAGE\",\"offsetgroup\":\"BAVARAGE\",\"orientation\":\"v\",\"showlegend\":true,\"textposition\":\"outside\",\"x\":[\"BAVARAGE\"],\"xaxis\":\"x\",\"y\":[0.6033158752246742],\"yaxis\":\"y\",\"type\":\"bar\",\"textfont\":{\"color\":\"black\",\"size\":14},\"texttemplate\":\"%{y:.4f}\"},{\"alignmentgroup\":\"True\",\"hovertemplate\":\"Feature=%{x}\\u003cbr\\u003eFeature Importance=%{y}\\u003cextra\\u003e\\u003c\\u002fextra\\u003e\",\"legendgroup\":\"Driving1\",\"marker\":{\"color\":\"#AA4499\",\"pattern\":{\"shape\":\"\"}},\"name\":\"Driving1\",\"offsetgroup\":\"Driving1\",\"orientation\":\"v\",\"showlegend\":true,\"textposition\":\"outside\",\"x\":[\"Driving1\"],\"xaxis\":\"x\",\"y\":[0.6759548022955452],\"yaxis\":\"y\",\"type\":\"bar\",\"textfont\":{\"color\":\"black\",\"size\":14},\"texttemplate\":\"%{y:.4f}\"},{\"alignmentgroup\":\"True\",\"hovertemplate\":\"Feature=%{x}\\u003cbr\\u003eFeature Importance=%{y}\\u003cextra\\u003e\\u003c\\u002fextra\\u003e\",\"legendgroup\":\"TV1\",\"marker\":{\"color\":\"#999933\",\"pattern\":{\"shape\":\"\"}},\"name\":\"TV1\",\"offsetgroup\":\"TV1\",\"orientation\":\"v\",\"showlegend\":true,\"textposition\":\"outside\",\"x\":[\"TV1\"],\"xaxis\":\"x\",\"y\":[0.6539789254826691],\"yaxis\":\"y\",\"type\":\"bar\",\"textfont\":{\"color\":\"black\",\"size\":14},\"texttemplate\":\"%{y:.4f}\"},{\"alignmentgroup\":\"True\",\"hovertemplate\":\"Feature=%{x}\\u003cbr\\u003eFeature Importance=%{y}\\u003cextra\\u003e\\u003c\\u002fextra\\u003e\",\"legendgroup\":\"Eating1\",\"marker\":{\"color\":\"#E69F00\",\"pattern\":{\"shape\":\"\"}},\"name\":\"Eating1\",\"offsetgroup\":\"Eating1\",\"orientation\":\"v\",\"showlegend\":true,\"textposition\":\"outside\",\"x\":[\"Eating1\"],\"xaxis\":\"x\",\"y\":[0.6480858498235406],\"yaxis\":\"y\",\"type\":\"bar\",\"textfont\":{\"color\":\"black\",\"size\":14},\"texttemplate\":\"%{y:.4f}\"},{\"alignmentgroup\":\"True\",\"hovertemplate\":\"Feature=%{x}\\u003cbr\\u003eFeature Importance=%{y}\\u003cextra\\u003e\\u003c\\u002fextra\\u003e\",\"legendgroup\":\"ALP\",\"marker\":{\"color\":\"#56B4E9\",\"pattern\":{\"shape\":\"\"}},\"name\":\"ALP\",\"offsetgroup\":\"ALP\",\"orientation\":\"v\",\"showlegend\":true,\"textposition\":\"outside\",\"x\":[\"ALP\"],\"xaxis\":\"x\",\"y\":[0.624847648520621],\"yaxis\":\"y\",\"type\":\"bar\",\"textfont\":{\"color\":\"black\",\"size\":14},\"texttemplate\":\"%{y:.4f}\"},{\"alignmentgroup\":\"True\",\"hovertemplate\":\"Feature=%{x}\\u003cbr\\u003eFeature Importance=%{y}\\u003cextra\\u003e\\u003c\\u002fextra\\u003e\",\"legendgroup\":\"TG\",\"marker\":{\"color\":\"#009E73\",\"pattern\":{\"shape\":\"\"}},\"name\":\"TG\",\"offsetgroup\":\"TG\",\"orientation\":\"v\",\"showlegend\":true,\"textposition\":\"outside\",\"x\":[\"TG\"],\"xaxis\":\"x\",\"y\":[0.557104281850473],\"yaxis\":\"y\",\"type\":\"bar\",\"textfont\":{\"color\":\"black\",\"size\":14},\"texttemplate\":\"%{y:.4f}\"},{\"alignmentgroup\":\"True\",\"hovertemplate\":\"Feature=%{x}\\u003cbr\\u003eFeature Importance=%{y}\\u003cextra\\u003e\\u003c\\u002fextra\\u003e\",\"legendgroup\":\"RBC\",\"marker\":{\"color\":\"#F0E442\",\"pattern\":{\"shape\":\"\"}},\"name\":\"RBC\",\"offsetgroup\":\"RBC\",\"orientation\":\"v\",\"showlegend\":true,\"textposition\":\"outside\",\"x\":[\"RBC\"],\"xaxis\":\"x\",\"y\":[0.6021781350524658],\"yaxis\":\"y\",\"type\":\"bar\",\"textfont\":{\"color\":\"black\",\"size\":14},\"texttemplate\":\"%{y:.4f}\"},{\"alignmentgroup\":\"True\",\"hovertemplate\":\"Feature=%{x}\\u003cbr\\u003eFeature Importance=%{y}\\u003cextra\\u003e\\u003c\\u002fextra\\u003e\",\"legendgroup\":\"TEACOFFEE\",\"marker\":{\"color\":\"#0072B2\",\"pattern\":{\"shape\":\"\"}},\"name\":\"TEACOFFEE\",\"offsetgroup\":\"TEACOFFEE\",\"orientation\":\"v\",\"showlegend\":true,\"textposition\":\"outside\",\"x\":[\"TEACOFFEE\"],\"xaxis\":\"x\",\"y\":[0.45278450264140896],\"yaxis\":\"y\",\"type\":\"bar\",\"textfont\":{\"color\":\"black\",\"size\":14},\"texttemplate\":\"%{y:.4f}\"},{\"alignmentgroup\":\"True\",\"hovertemplate\":\"Feature=%{x}\\u003cbr\\u003eFeature Importance=%{y}\\u003cextra\\u003e\\u003c\\u002fextra\\u003e\",\"legendgroup\":\"Juice\",\"marker\":{\"color\":\"#D55E00\",\"pattern\":{\"shape\":\"\"}},\"name\":\"Juice\",\"offsetgroup\":\"Juice\",\"orientation\":\"v\",\"showlegend\":true,\"textposition\":\"outside\",\"x\":[\"Juice\"],\"xaxis\":\"x\",\"y\":[0.20710835692212176],\"yaxis\":\"y\",\"type\":\"bar\",\"textfont\":{\"color\":\"black\",\"size\":14},\"texttemplate\":\"%{y:.4f}\"},{\"alignmentgroup\":\"True\",\"hovertemplate\":\"Feature=%{x}\\u003cbr\\u003eFeature Importance=%{y}\\u003cextra\\u003e\\u003c\\u002fextra\\u003e\",\"legendgroup\":\"Vegetables\",\"marker\":{\"color\":\"#CC79A7\",\"pattern\":{\"shape\":\"\"}},\"name\":\"Vegetables\",\"offsetgroup\":\"Vegetables\",\"orientation\":\"v\",\"showlegend\":true,\"textposition\":\"outside\",\"x\":[\"Vegetables\"],\"xaxis\":\"x\",\"y\":[0.0],\"yaxis\":\"y\",\"type\":\"bar\",\"textfont\":{\"color\":\"black\",\"size\":14},\"texttemplate\":\"%{y:.4f}\"}],                        {\"template\":{\"data\":{\"barpolar\":[{\"marker\":{\"line\":{\"color\":\"white\",\"width\":0.5},\"pattern\":{\"fillmode\":\"overlay\",\"size\":10,\"solidity\":0.2}},\"type\":\"barpolar\"}],\"bar\":[{\"error_x\":{\"color\":\"#2a3f5f\"},\"error_y\":{\"color\":\"#2a3f5f\"},\"marker\":{\"line\":{\"color\":\"white\",\"width\":0.5},\"pattern\":{\"fillmode\":\"overlay\",\"size\":10,\"solidity\":0.2}},\"type\":\"bar\"}],\"carpet\":[{\"aaxis\":{\"endlinecolor\":\"#2a3f5f\",\"gridcolor\":\"#C8D4E3\",\"linecolor\":\"#C8D4E3\",\"minorgridcolor\":\"#C8D4E3\",\"startlinecolor\":\"#2a3f5f\"},\"baxis\":{\"endlinecolor\":\"#2a3f5f\",\"gridcolor\":\"#C8D4E3\",\"linecolor\":\"#C8D4E3\",\"minorgridcolor\":\"#C8D4E3\",\"startlinecolor\":\"#2a3f5f\"},\"type\":\"carpet\"}],\"choropleth\":[{\"colorbar\":{\"outlinewidth\":0,\"ticks\":\"\"},\"type\":\"choropleth\"}],\"contourcarpet\":[{\"colorbar\":{\"outlinewidth\":0,\"ticks\":\"\"},\"type\":\"contourcarpet\"}],\"contour\":[{\"colorbar\":{\"outlinewidth\":0,\"ticks\":\"\"},\"colorscale\":[[0.0,\"#0d0887\"],[0.1111111111111111,\"#46039f\"],[0.2222222222222222,\"#7201a8\"],[0.3333333333333333,\"#9c179e\"],[0.4444444444444444,\"#bd3786\"],[0.5555555555555556,\"#d8576b\"],[0.6666666666666666,\"#ed7953\"],[0.7777777777777778,\"#fb9f3a\"],[0.8888888888888888,\"#fdca26\"],[1.0,\"#f0f921\"]],\"type\":\"contour\"}],\"heatmapgl\":[{\"colorbar\":{\"outlinewidth\":0,\"ticks\":\"\"},\"colorscale\":[[0.0,\"#0d0887\"],[0.1111111111111111,\"#46039f\"],[0.2222222222222222,\"#7201a8\"],[0.3333333333333333,\"#9c179e\"],[0.4444444444444444,\"#bd3786\"],[0.5555555555555556,\"#d8576b\"],[0.6666666666666666,\"#ed7953\"],[0.7777777777777778,\"#fb9f3a\"],[0.8888888888888888,\"#fdca26\"],[1.0,\"#f0f921\"]],\"type\":\"heatmapgl\"}],\"heatmap\":[{\"colorbar\":{\"outlinewidth\":0,\"ticks\":\"\"},\"colorscale\":[[0.0,\"#0d0887\"],[0.1111111111111111,\"#46039f\"],[0.2222222222222222,\"#7201a8\"],[0.3333333333333333,\"#9c179e\"],[0.4444444444444444,\"#bd3786\"],[0.5555555555555556,\"#d8576b\"],[0.6666666666666666,\"#ed7953\"],[0.7777777777777778,\"#fb9f3a\"],[0.8888888888888888,\"#fdca26\"],[1.0,\"#f0f921\"]],\"type\":\"heatmap\"}],\"histogram2dcontour\":[{\"colorbar\":{\"outlinewidth\":0,\"ticks\":\"\"},\"colorscale\":[[0.0,\"#0d0887\"],[0.1111111111111111,\"#46039f\"],[0.2222222222222222,\"#7201a8\"],[0.3333333333333333,\"#9c179e\"],[0.4444444444444444,\"#bd3786\"],[0.5555555555555556,\"#d8576b\"],[0.6666666666666666,\"#ed7953\"],[0.7777777777777778,\"#fb9f3a\"],[0.8888888888888888,\"#fdca26\"],[1.0,\"#f0f921\"]],\"type\":\"histogram2dcontour\"}],\"histogram2d\":[{\"colorbar\":{\"outlinewidth\":0,\"ticks\":\"\"},\"colorscale\":[[0.0,\"#0d0887\"],[0.1111111111111111,\"#46039f\"],[0.2222222222222222,\"#7201a8\"],[0.3333333333333333,\"#9c179e\"],[0.4444444444444444,\"#bd3786\"],[0.5555555555555556,\"#d8576b\"],[0.6666666666666666,\"#ed7953\"],[0.7777777777777778,\"#fb9f3a\"],[0.8888888888888888,\"#fdca26\"],[1.0,\"#f0f921\"]],\"type\":\"histogram2d\"}],\"histogram\":[{\"marker\":{\"pattern\":{\"fillmode\":\"overlay\",\"size\":10,\"solidity\":0.2}},\"type\":\"histogram\"}],\"mesh3d\":[{\"colorbar\":{\"outlinewidth\":0,\"ticks\":\"\"},\"type\":\"mesh3d\"}],\"parcoords\":[{\"line\":{\"colorbar\":{\"outlinewidth\":0,\"ticks\":\"\"}},\"type\":\"parcoords\"}],\"pie\":[{\"automargin\":true,\"type\":\"pie\"}],\"scatter3d\":[{\"line\":{\"colorbar\":{\"outlinewidth\":0,\"ticks\":\"\"}},\"marker\":{\"colorbar\":{\"outlinewidth\":0,\"ticks\":\"\"}},\"type\":\"scatter3d\"}],\"scattercarpet\":[{\"marker\":{\"colorbar\":{\"outlinewidth\":0,\"ticks\":\"\"}},\"type\":\"scattercarpet\"}],\"scattergeo\":[{\"marker\":{\"colorbar\":{\"outlinewidth\":0,\"ticks\":\"\"}},\"type\":\"scattergeo\"}],\"scattergl\":[{\"marker\":{\"colorbar\":{\"outlinewidth\":0,\"ticks\":\"\"}},\"type\":\"scattergl\"}],\"scattermapbox\":[{\"marker\":{\"colorbar\":{\"outlinewidth\":0,\"ticks\":\"\"}},\"type\":\"scattermapbox\"}],\"scatterpolargl\":[{\"marker\":{\"colorbar\":{\"outlinewidth\":0,\"ticks\":\"\"}},\"type\":\"scatterpolargl\"}],\"scatterpolar\":[{\"marker\":{\"colorbar\":{\"outlinewidth\":0,\"ticks\":\"\"}},\"type\":\"scatterpolar\"}],\"scatter\":[{\"fillpattern\":{\"fillmode\":\"overlay\",\"size\":10,\"solidity\":0.2},\"type\":\"scatter\"}],\"scatterternary\":[{\"marker\":{\"colorbar\":{\"outlinewidth\":0,\"ticks\":\"\"}},\"type\":\"scatterternary\"}],\"surface\":[{\"colorbar\":{\"outlinewidth\":0,\"ticks\":\"\"},\"colorscale\":[[0.0,\"#0d0887\"],[0.1111111111111111,\"#46039f\"],[0.2222222222222222,\"#7201a8\"],[0.3333333333333333,\"#9c179e\"],[0.4444444444444444,\"#bd3786\"],[0.5555555555555556,\"#d8576b\"],[0.6666666666666666,\"#ed7953\"],[0.7777777777777778,\"#fb9f3a\"],[0.8888888888888888,\"#fdca26\"],[1.0,\"#f0f921\"]],\"type\":\"surface\"}],\"table\":[{\"cells\":{\"fill\":{\"color\":\"#EBF0F8\"},\"line\":{\"color\":\"white\"}},\"header\":{\"fill\":{\"color\":\"#C8D4E3\"},\"line\":{\"color\":\"white\"}},\"type\":\"table\"}]},\"layout\":{\"annotationdefaults\":{\"arrowcolor\":\"#2a3f5f\",\"arrowhead\":0,\"arrowwidth\":1},\"autotypenumbers\":\"strict\",\"coloraxis\":{\"colorbar\":{\"outlinewidth\":0,\"ticks\":\"\"}},\"colorscale\":{\"diverging\":[[0,\"#8e0152\"],[0.1,\"#c51b7d\"],[0.2,\"#de77ae\"],[0.3,\"#f1b6da\"],[0.4,\"#fde0ef\"],[0.5,\"#f7f7f7\"],[0.6,\"#e6f5d0\"],[0.7,\"#b8e186\"],[0.8,\"#7fbc41\"],[0.9,\"#4d9221\"],[1,\"#276419\"]],\"sequential\":[[0.0,\"#0d0887\"],[0.1111111111111111,\"#46039f\"],[0.2222222222222222,\"#7201a8\"],[0.3333333333333333,\"#9c179e\"],[0.4444444444444444,\"#bd3786\"],[0.5555555555555556,\"#d8576b\"],[0.6666666666666666,\"#ed7953\"],[0.7777777777777778,\"#fb9f3a\"],[0.8888888888888888,\"#fdca26\"],[1.0,\"#f0f921\"]],\"sequentialminus\":[[0.0,\"#0d0887\"],[0.1111111111111111,\"#46039f\"],[0.2222222222222222,\"#7201a8\"],[0.3333333333333333,\"#9c179e\"],[0.4444444444444444,\"#bd3786\"],[0.5555555555555556,\"#d8576b\"],[0.6666666666666666,\"#ed7953\"],[0.7777777777777778,\"#fb9f3a\"],[0.8888888888888888,\"#fdca26\"],[1.0,\"#f0f921\"]]},\"colorway\":[\"#636efa\",\"#EF553B\",\"#00cc96\",\"#ab63fa\",\"#FFA15A\",\"#19d3f3\",\"#FF6692\",\"#B6E880\",\"#FF97FF\",\"#FECB52\"],\"font\":{\"color\":\"#2a3f5f\"},\"geo\":{\"bgcolor\":\"white\",\"lakecolor\":\"white\",\"landcolor\":\"white\",\"showlakes\":true,\"showland\":true,\"subunitcolor\":\"#C8D4E3\"},\"hoverlabel\":{\"align\":\"left\"},\"hovermode\":\"closest\",\"mapbox\":{\"style\":\"light\"},\"paper_bgcolor\":\"white\",\"plot_bgcolor\":\"white\",\"polar\":{\"angularaxis\":{\"gridcolor\":\"#EBF0F8\",\"linecolor\":\"#EBF0F8\",\"ticks\":\"\"},\"bgcolor\":\"white\",\"radialaxis\":{\"gridcolor\":\"#EBF0F8\",\"linecolor\":\"#EBF0F8\",\"ticks\":\"\"}},\"scene\":{\"xaxis\":{\"backgroundcolor\":\"white\",\"gridcolor\":\"#DFE8F3\",\"gridwidth\":2,\"linecolor\":\"#EBF0F8\",\"showbackground\":true,\"ticks\":\"\",\"zerolinecolor\":\"#EBF0F8\"},\"yaxis\":{\"backgroundcolor\":\"white\",\"gridcolor\":\"#DFE8F3\",\"gridwidth\":2,\"linecolor\":\"#EBF0F8\",\"showbackground\":true,\"ticks\":\"\",\"zerolinecolor\":\"#EBF0F8\"},\"zaxis\":{\"backgroundcolor\":\"white\",\"gridcolor\":\"#DFE8F3\",\"gridwidth\":2,\"linecolor\":\"#EBF0F8\",\"showbackground\":true,\"ticks\":\"\",\"zerolinecolor\":\"#EBF0F8\"}},\"shapedefaults\":{\"line\":{\"color\":\"#2a3f5f\"}},\"ternary\":{\"aaxis\":{\"gridcolor\":\"#DFE8F3\",\"linecolor\":\"#A2B1C6\",\"ticks\":\"\"},\"baxis\":{\"gridcolor\":\"#DFE8F3\",\"linecolor\":\"#A2B1C6\",\"ticks\":\"\"},\"bgcolor\":\"white\",\"caxis\":{\"gridcolor\":\"#DFE8F3\",\"linecolor\":\"#A2B1C6\",\"ticks\":\"\"}},\"title\":{\"x\":0.05},\"xaxis\":{\"automargin\":true,\"gridcolor\":\"#EBF0F8\",\"linecolor\":\"#EBF0F8\",\"ticks\":\"\",\"title\":{\"standoff\":15},\"zerolinecolor\":\"#EBF0F8\",\"zerolinewidth\":2},\"yaxis\":{\"automargin\":true,\"gridcolor\":\"#EBF0F8\",\"linecolor\":\"#EBF0F8\",\"ticks\":\"\",\"title\":{\"standoff\":15},\"zerolinecolor\":\"#EBF0F8\",\"zerolinewidth\":2}}},\"xaxis\":{\"anchor\":\"y\",\"domain\":[0.0,1.0],\"title\":{\"text\":\"Feature\"},\"categoryorder\":\"array\",\"categoryarray\":[\"FBS\",\"Age\",\"HasFattyLiver\",\"HDL.C\",\"HasKidneyStone\",\"BAVARAGE\",\"Driving1\",\"TV1\",\"Eating1\",\"ALP\",\"TG\",\"RBC\",\"TEACOFFEE\",\"Juice\",\"Vegetables\"],\"tickangle\":45,\"showgrid\":false},\"yaxis\":{\"anchor\":\"x\",\"domain\":[0.0,1.0],\"title\":{\"text\":\"Feature Importance\"},\"showgrid\":true,\"gridcolor\":\"rgba(0,0,0,0.15)\"},\"legend\":{\"title\":{\"text\":\"Feature\"},\"tracegroupgap\":0},\"title\":{\"text\":\"Most Important Features - Mutual Information\",\"x\":0.5,\"y\":0.95},\"barmode\":\"relative\",\"height\":700,\"margin\":{\"t\":70,\"b\":120,\"l\":70,\"r\":50},\"font\":{\"size\":16},\"plot_bgcolor\":\"white\"},                        {\"responsive\": true}                    ).then(function(){\n",
       "                            \n",
       "var gd = document.getElementById('e34aaa39-debc-478f-a111-06a7d0baafbf');\n",
       "var x = new MutationObserver(function (mutations, observer) {{\n",
       "        var display = window.getComputedStyle(gd).display;\n",
       "        if (!display || display === 'none') {{\n",
       "            console.log([gd, 'removed!']);\n",
       "            Plotly.purge(gd);\n",
       "            observer.disconnect();\n",
       "        }}\n",
       "}});\n",
       "\n",
       "// Listen for the removal of the full notebook cells\n",
       "var notebookContainer = gd.closest('#notebook-container');\n",
       "if (notebookContainer) {{\n",
       "    x.observe(notebookContainer, {childList: true});\n",
       "}}\n",
       "\n",
       "// Listen for the clearing of the current output cell\n",
       "var outputEl = gd.closest('.output');\n",
       "if (outputEl) {{\n",
       "    x.observe(outputEl, {childList: true});\n",
       "}}\n",
       "\n",
       "                        })                };                });            </script>        </div>"
      ]
     },
     "metadata": {},
     "output_type": "display_data"
    },
    {
     "data": {
      "application/vnd.plotly.v1+json": {
       "config": {
        "plotlyServerURL": "https://plot.ly"
       },
       "data": [
        {
         "alignmentgroup": "True",
         "hovertemplate": "Feature=%{x}<br>Feature Importance=%{y}<extra></extra>",
         "legendgroup": "FBS",
         "marker": {
          "color": "#332288",
          "pattern": {
           "shape": ""
          }
         },
         "name": "FBS",
         "offsetgroup": "FBS",
         "orientation": "v",
         "showlegend": true,
         "textfont": {
          "color": "black",
          "size": 14
         },
         "textposition": "outside",
         "texttemplate": "%{y:.4f}",
         "type": "bar",
         "x": [
          "FBS"
         ],
         "xaxis": "x",
         "y": [
          0.02494674382202046
         ],
         "yaxis": "y"
        },
        {
         "alignmentgroup": "True",
         "hovertemplate": "Feature=%{x}<br>Feature Importance=%{y}<extra></extra>",
         "legendgroup": "Age",
         "marker": {
          "color": "#117733",
          "pattern": {
           "shape": ""
          }
         },
         "name": "Age",
         "offsetgroup": "Age",
         "orientation": "v",
         "showlegend": true,
         "textfont": {
          "color": "black",
          "size": 14
         },
         "textposition": "outside",
         "texttemplate": "%{y:.4f}",
         "type": "bar",
         "x": [
          "Age"
         ],
         "xaxis": "x",
         "y": [
          0.32828061936998676
         ],
         "yaxis": "y"
        },
        {
         "alignmentgroup": "True",
         "hovertemplate": "Feature=%{x}<br>Feature Importance=%{y}<extra></extra>",
         "legendgroup": "HasFattyLiver",
         "marker": {
          "color": "#44AA99",
          "pattern": {
           "shape": ""
          }
         },
         "name": "HasFattyLiver",
         "offsetgroup": "HasFattyLiver",
         "orientation": "v",
         "showlegend": true,
         "textfont": {
          "color": "black",
          "size": 14
         },
         "textposition": "outside",
         "texttemplate": "%{y:.4f}",
         "type": "bar",
         "x": [
          "HasFattyLiver"
         ],
         "xaxis": "x",
         "y": [
          1
         ],
         "yaxis": "y"
        },
        {
         "alignmentgroup": "True",
         "hovertemplate": "Feature=%{x}<br>Feature Importance=%{y}<extra></extra>",
         "legendgroup": "HDL.C",
         "marker": {
          "color": "#88CCEE",
          "pattern": {
           "shape": ""
          }
         },
         "name": "HDL.C",
         "offsetgroup": "HDL.C",
         "orientation": "v",
         "showlegend": true,
         "textfont": {
          "color": "black",
          "size": 14
         },
         "textposition": "outside",
         "texttemplate": "%{y:.4f}",
         "type": "bar",
         "x": [
          "HDL.C"
         ],
         "xaxis": "x",
         "y": [
          0
         ],
         "yaxis": "y"
        },
        {
         "alignmentgroup": "True",
         "hovertemplate": "Feature=%{x}<br>Feature Importance=%{y}<extra></extra>",
         "legendgroup": "HasKidneyStone",
         "marker": {
          "color": "#DDCC77",
          "pattern": {
           "shape": ""
          }
         },
         "name": "HasKidneyStone",
         "offsetgroup": "HasKidneyStone",
         "orientation": "v",
         "showlegend": true,
         "textfont": {
          "color": "black",
          "size": 14
         },
         "textposition": "outside",
         "texttemplate": "%{y:.4f}",
         "type": "bar",
         "x": [
          "HasKidneyStone"
         ],
         "xaxis": "x",
         "y": [
          0.39929359601385245
         ],
         "yaxis": "y"
        },
        {
         "alignmentgroup": "True",
         "hovertemplate": "Feature=%{x}<br>Feature Importance=%{y}<extra></extra>",
         "legendgroup": "BAVARAGE",
         "marker": {
          "color": "#CC6677",
          "pattern": {
           "shape": ""
          }
         },
         "name": "BAVARAGE",
         "offsetgroup": "BAVARAGE",
         "orientation": "v",
         "showlegend": true,
         "textfont": {
          "color": "black",
          "size": 14
         },
         "textposition": "outside",
         "texttemplate": "%{y:.4f}",
         "type": "bar",
         "x": [
          "BAVARAGE"
         ],
         "xaxis": "x",
         "y": [
          0.06726750888424
         ],
         "yaxis": "y"
        },
        {
         "alignmentgroup": "True",
         "hovertemplate": "Feature=%{x}<br>Feature Importance=%{y}<extra></extra>",
         "legendgroup": "Driving1",
         "marker": {
          "color": "#AA4499",
          "pattern": {
           "shape": ""
          }
         },
         "name": "Driving1",
         "offsetgroup": "Driving1",
         "orientation": "v",
         "showlegend": true,
         "textfont": {
          "color": "black",
          "size": 14
         },
         "textposition": "outside",
         "texttemplate": "%{y:.4f}",
         "type": "bar",
         "x": [
          "Driving1"
         ],
         "xaxis": "x",
         "y": [
          0.006141498181007132
         ],
         "yaxis": "y"
        },
        {
         "alignmentgroup": "True",
         "hovertemplate": "Feature=%{x}<br>Feature Importance=%{y}<extra></extra>",
         "legendgroup": "TV1",
         "marker": {
          "color": "#999933",
          "pattern": {
           "shape": ""
          }
         },
         "name": "TV1",
         "offsetgroup": "TV1",
         "orientation": "v",
         "showlegend": true,
         "textfont": {
          "color": "black",
          "size": 14
         },
         "textposition": "outside",
         "texttemplate": "%{y:.4f}",
         "type": "bar",
         "x": [
          "TV1"
         ],
         "xaxis": "x",
         "y": [
          0.00837872680952168
         ],
         "yaxis": "y"
        },
        {
         "alignmentgroup": "True",
         "hovertemplate": "Feature=%{x}<br>Feature Importance=%{y}<extra></extra>",
         "legendgroup": "Eating1",
         "marker": {
          "color": "#E69F00",
          "pattern": {
           "shape": ""
          }
         },
         "name": "Eating1",
         "offsetgroup": "Eating1",
         "orientation": "v",
         "showlegend": true,
         "textfont": {
          "color": "black",
          "size": 14
         },
         "textposition": "outside",
         "texttemplate": "%{y:.4f}",
         "type": "bar",
         "x": [
          "Eating1"
         ],
         "xaxis": "x",
         "y": [
          0.001871678206905909
         ],
         "yaxis": "y"
        },
        {
         "alignmentgroup": "True",
         "hovertemplate": "Feature=%{x}<br>Feature Importance=%{y}<extra></extra>",
         "legendgroup": "ALP",
         "marker": {
          "color": "#56B4E9",
          "pattern": {
           "shape": ""
          }
         },
         "name": "ALP",
         "offsetgroup": "ALP",
         "orientation": "v",
         "showlegend": true,
         "textfont": {
          "color": "black",
          "size": 14
         },
         "textposition": "outside",
         "texttemplate": "%{y:.4f}",
         "type": "bar",
         "x": [
          "ALP"
         ],
         "xaxis": "x",
         "y": [
          0.003405122725170303
         ],
         "yaxis": "y"
        },
        {
         "alignmentgroup": "True",
         "hovertemplate": "Feature=%{x}<br>Feature Importance=%{y}<extra></extra>",
         "legendgroup": "TG",
         "marker": {
          "color": "#009E73",
          "pattern": {
           "shape": ""
          }
         },
         "name": "TG",
         "offsetgroup": "TG",
         "orientation": "v",
         "showlegend": true,
         "textfont": {
          "color": "black",
          "size": 14
         },
         "textposition": "outside",
         "texttemplate": "%{y:.4f}",
         "type": "bar",
         "x": [
          "TG"
         ],
         "xaxis": "x",
         "y": [
          0.005132609797765056
         ],
         "yaxis": "y"
        },
        {
         "alignmentgroup": "True",
         "hovertemplate": "Feature=%{x}<br>Feature Importance=%{y}<extra></extra>",
         "legendgroup": "RBC",
         "marker": {
          "color": "#F0E442",
          "pattern": {
           "shape": ""
          }
         },
         "name": "RBC",
         "offsetgroup": "RBC",
         "orientation": "v",
         "showlegend": true,
         "textfont": {
          "color": "black",
          "size": 14
         },
         "textposition": "outside",
         "texttemplate": "%{y:.4f}",
         "type": "bar",
         "x": [
          "RBC"
         ],
         "xaxis": "x",
         "y": [
          0.0006335378918461513
         ],
         "yaxis": "y"
        },
        {
         "alignmentgroup": "True",
         "hovertemplate": "Feature=%{x}<br>Feature Importance=%{y}<extra></extra>",
         "legendgroup": "TEACOFFEE",
         "marker": {
          "color": "#0072B2",
          "pattern": {
           "shape": ""
          }
         },
         "name": "TEACOFFEE",
         "offsetgroup": "TEACOFFEE",
         "orientation": "v",
         "showlegend": true,
         "textfont": {
          "color": "black",
          "size": 14
         },
         "textposition": "outside",
         "texttemplate": "%{y:.4f}",
         "type": "bar",
         "x": [
          "TEACOFFEE"
         ],
         "xaxis": "x",
         "y": [
          0.0003595639562197
         ],
         "yaxis": "y"
        },
        {
         "alignmentgroup": "True",
         "hovertemplate": "Feature=%{x}<br>Feature Importance=%{y}<extra></extra>",
         "legendgroup": "Juice",
         "marker": {
          "color": "#D55E00",
          "pattern": {
           "shape": ""
          }
         },
         "name": "Juice",
         "offsetgroup": "Juice",
         "orientation": "v",
         "showlegend": true,
         "textfont": {
          "color": "black",
          "size": 14
         },
         "textposition": "outside",
         "texttemplate": "%{y:.4f}",
         "type": "bar",
         "x": [
          "Juice"
         ],
         "xaxis": "x",
         "y": [
          0.0036710972859487867
         ],
         "yaxis": "y"
        },
        {
         "alignmentgroup": "True",
         "hovertemplate": "Feature=%{x}<br>Feature Importance=%{y}<extra></extra>",
         "legendgroup": "Vegetables",
         "marker": {
          "color": "#CC79A7",
          "pattern": {
           "shape": ""
          }
         },
         "name": "Vegetables",
         "offsetgroup": "Vegetables",
         "orientation": "v",
         "showlegend": true,
         "textfont": {
          "color": "black",
          "size": 14
         },
         "textposition": "outside",
         "texttemplate": "%{y:.4f}",
         "type": "bar",
         "x": [
          "Vegetables"
         ],
         "xaxis": "x",
         "y": [
          0.00033558610462324894
         ],
         "yaxis": "y"
        }
       ],
       "layout": {
        "autosize": true,
        "barmode": "relative",
        "font": {
         "size": 16
        },
        "legend": {
         "title": {
          "text": "Feature"
         },
         "tracegroupgap": 0
        },
        "margin": {
         "b": 120,
         "l": 70,
         "r": 50,
         "t": 70
        },
        "plot_bgcolor": "white",
        "template": {
         "data": {
          "bar": [
           {
            "error_x": {
             "color": "#2a3f5f"
            },
            "error_y": {
             "color": "#2a3f5f"
            },
            "marker": {
             "line": {
              "color": "white",
              "width": 0.5
             },
             "pattern": {
              "fillmode": "overlay",
              "size": 10,
              "solidity": 0.2
             }
            },
            "type": "bar"
           }
          ],
          "barpolar": [
           {
            "marker": {
             "line": {
              "color": "white",
              "width": 0.5
             },
             "pattern": {
              "fillmode": "overlay",
              "size": 10,
              "solidity": 0.2
             }
            },
            "type": "barpolar"
           }
          ],
          "carpet": [
           {
            "aaxis": {
             "endlinecolor": "#2a3f5f",
             "gridcolor": "#C8D4E3",
             "linecolor": "#C8D4E3",
             "minorgridcolor": "#C8D4E3",
             "startlinecolor": "#2a3f5f"
            },
            "baxis": {
             "endlinecolor": "#2a3f5f",
             "gridcolor": "#C8D4E3",
             "linecolor": "#C8D4E3",
             "minorgridcolor": "#C8D4E3",
             "startlinecolor": "#2a3f5f"
            },
            "type": "carpet"
           }
          ],
          "choropleth": [
           {
            "colorbar": {
             "outlinewidth": 0,
             "ticks": ""
            },
            "type": "choropleth"
           }
          ],
          "contour": [
           {
            "colorbar": {
             "outlinewidth": 0,
             "ticks": ""
            },
            "colorscale": [
             [
              0,
              "#0d0887"
             ],
             [
              0.1111111111111111,
              "#46039f"
             ],
             [
              0.2222222222222222,
              "#7201a8"
             ],
             [
              0.3333333333333333,
              "#9c179e"
             ],
             [
              0.4444444444444444,
              "#bd3786"
             ],
             [
              0.5555555555555556,
              "#d8576b"
             ],
             [
              0.6666666666666666,
              "#ed7953"
             ],
             [
              0.7777777777777778,
              "#fb9f3a"
             ],
             [
              0.8888888888888888,
              "#fdca26"
             ],
             [
              1,
              "#f0f921"
             ]
            ],
            "type": "contour"
           }
          ],
          "contourcarpet": [
           {
            "colorbar": {
             "outlinewidth": 0,
             "ticks": ""
            },
            "type": "contourcarpet"
           }
          ],
          "heatmap": [
           {
            "colorbar": {
             "outlinewidth": 0,
             "ticks": ""
            },
            "colorscale": [
             [
              0,
              "#0d0887"
             ],
             [
              0.1111111111111111,
              "#46039f"
             ],
             [
              0.2222222222222222,
              "#7201a8"
             ],
             [
              0.3333333333333333,
              "#9c179e"
             ],
             [
              0.4444444444444444,
              "#bd3786"
             ],
             [
              0.5555555555555556,
              "#d8576b"
             ],
             [
              0.6666666666666666,
              "#ed7953"
             ],
             [
              0.7777777777777778,
              "#fb9f3a"
             ],
             [
              0.8888888888888888,
              "#fdca26"
             ],
             [
              1,
              "#f0f921"
             ]
            ],
            "type": "heatmap"
           }
          ],
          "heatmapgl": [
           {
            "colorbar": {
             "outlinewidth": 0,
             "ticks": ""
            },
            "colorscale": [
             [
              0,
              "#0d0887"
             ],
             [
              0.1111111111111111,
              "#46039f"
             ],
             [
              0.2222222222222222,
              "#7201a8"
             ],
             [
              0.3333333333333333,
              "#9c179e"
             ],
             [
              0.4444444444444444,
              "#bd3786"
             ],
             [
              0.5555555555555556,
              "#d8576b"
             ],
             [
              0.6666666666666666,
              "#ed7953"
             ],
             [
              0.7777777777777778,
              "#fb9f3a"
             ],
             [
              0.8888888888888888,
              "#fdca26"
             ],
             [
              1,
              "#f0f921"
             ]
            ],
            "type": "heatmapgl"
           }
          ],
          "histogram": [
           {
            "marker": {
             "pattern": {
              "fillmode": "overlay",
              "size": 10,
              "solidity": 0.2
             }
            },
            "type": "histogram"
           }
          ],
          "histogram2d": [
           {
            "colorbar": {
             "outlinewidth": 0,
             "ticks": ""
            },
            "colorscale": [
             [
              0,
              "#0d0887"
             ],
             [
              0.1111111111111111,
              "#46039f"
             ],
             [
              0.2222222222222222,
              "#7201a8"
             ],
             [
              0.3333333333333333,
              "#9c179e"
             ],
             [
              0.4444444444444444,
              "#bd3786"
             ],
             [
              0.5555555555555556,
              "#d8576b"
             ],
             [
              0.6666666666666666,
              "#ed7953"
             ],
             [
              0.7777777777777778,
              "#fb9f3a"
             ],
             [
              0.8888888888888888,
              "#fdca26"
             ],
             [
              1,
              "#f0f921"
             ]
            ],
            "type": "histogram2d"
           }
          ],
          "histogram2dcontour": [
           {
            "colorbar": {
             "outlinewidth": 0,
             "ticks": ""
            },
            "colorscale": [
             [
              0,
              "#0d0887"
             ],
             [
              0.1111111111111111,
              "#46039f"
             ],
             [
              0.2222222222222222,
              "#7201a8"
             ],
             [
              0.3333333333333333,
              "#9c179e"
             ],
             [
              0.4444444444444444,
              "#bd3786"
             ],
             [
              0.5555555555555556,
              "#d8576b"
             ],
             [
              0.6666666666666666,
              "#ed7953"
             ],
             [
              0.7777777777777778,
              "#fb9f3a"
             ],
             [
              0.8888888888888888,
              "#fdca26"
             ],
             [
              1,
              "#f0f921"
             ]
            ],
            "type": "histogram2dcontour"
           }
          ],
          "mesh3d": [
           {
            "colorbar": {
             "outlinewidth": 0,
             "ticks": ""
            },
            "type": "mesh3d"
           }
          ],
          "parcoords": [
           {
            "line": {
             "colorbar": {
              "outlinewidth": 0,
              "ticks": ""
             }
            },
            "type": "parcoords"
           }
          ],
          "pie": [
           {
            "automargin": true,
            "type": "pie"
           }
          ],
          "scatter": [
           {
            "fillpattern": {
             "fillmode": "overlay",
             "size": 10,
             "solidity": 0.2
            },
            "type": "scatter"
           }
          ],
          "scatter3d": [
           {
            "line": {
             "colorbar": {
              "outlinewidth": 0,
              "ticks": ""
             }
            },
            "marker": {
             "colorbar": {
              "outlinewidth": 0,
              "ticks": ""
             }
            },
            "type": "scatter3d"
           }
          ],
          "scattercarpet": [
           {
            "marker": {
             "colorbar": {
              "outlinewidth": 0,
              "ticks": ""
             }
            },
            "type": "scattercarpet"
           }
          ],
          "scattergeo": [
           {
            "marker": {
             "colorbar": {
              "outlinewidth": 0,
              "ticks": ""
             }
            },
            "type": "scattergeo"
           }
          ],
          "scattergl": [
           {
            "marker": {
             "colorbar": {
              "outlinewidth": 0,
              "ticks": ""
             }
            },
            "type": "scattergl"
           }
          ],
          "scattermapbox": [
           {
            "marker": {
             "colorbar": {
              "outlinewidth": 0,
              "ticks": ""
             }
            },
            "type": "scattermapbox"
           }
          ],
          "scatterpolar": [
           {
            "marker": {
             "colorbar": {
              "outlinewidth": 0,
              "ticks": ""
             }
            },
            "type": "scatterpolar"
           }
          ],
          "scatterpolargl": [
           {
            "marker": {
             "colorbar": {
              "outlinewidth": 0,
              "ticks": ""
             }
            },
            "type": "scatterpolargl"
           }
          ],
          "scatterternary": [
           {
            "marker": {
             "colorbar": {
              "outlinewidth": 0,
              "ticks": ""
             }
            },
            "type": "scatterternary"
           }
          ],
          "surface": [
           {
            "colorbar": {
             "outlinewidth": 0,
             "ticks": ""
            },
            "colorscale": [
             [
              0,
              "#0d0887"
             ],
             [
              0.1111111111111111,
              "#46039f"
             ],
             [
              0.2222222222222222,
              "#7201a8"
             ],
             [
              0.3333333333333333,
              "#9c179e"
             ],
             [
              0.4444444444444444,
              "#bd3786"
             ],
             [
              0.5555555555555556,
              "#d8576b"
             ],
             [
              0.6666666666666666,
              "#ed7953"
             ],
             [
              0.7777777777777778,
              "#fb9f3a"
             ],
             [
              0.8888888888888888,
              "#fdca26"
             ],
             [
              1,
              "#f0f921"
             ]
            ],
            "type": "surface"
           }
          ],
          "table": [
           {
            "cells": {
             "fill": {
              "color": "#EBF0F8"
             },
             "line": {
              "color": "white"
             }
            },
            "header": {
             "fill": {
              "color": "#C8D4E3"
             },
             "line": {
              "color": "white"
             }
            },
            "type": "table"
           }
          ]
         },
         "layout": {
          "annotationdefaults": {
           "arrowcolor": "#2a3f5f",
           "arrowhead": 0,
           "arrowwidth": 1
          },
          "autotypenumbers": "strict",
          "coloraxis": {
           "colorbar": {
            "outlinewidth": 0,
            "ticks": ""
           }
          },
          "colorscale": {
           "diverging": [
            [
             0,
             "#8e0152"
            ],
            [
             0.1,
             "#c51b7d"
            ],
            [
             0.2,
             "#de77ae"
            ],
            [
             0.3,
             "#f1b6da"
            ],
            [
             0.4,
             "#fde0ef"
            ],
            [
             0.5,
             "#f7f7f7"
            ],
            [
             0.6,
             "#e6f5d0"
            ],
            [
             0.7,
             "#b8e186"
            ],
            [
             0.8,
             "#7fbc41"
            ],
            [
             0.9,
             "#4d9221"
            ],
            [
             1,
             "#276419"
            ]
           ],
           "sequential": [
            [
             0,
             "#0d0887"
            ],
            [
             0.1111111111111111,
             "#46039f"
            ],
            [
             0.2222222222222222,
             "#7201a8"
            ],
            [
             0.3333333333333333,
             "#9c179e"
            ],
            [
             0.4444444444444444,
             "#bd3786"
            ],
            [
             0.5555555555555556,
             "#d8576b"
            ],
            [
             0.6666666666666666,
             "#ed7953"
            ],
            [
             0.7777777777777778,
             "#fb9f3a"
            ],
            [
             0.8888888888888888,
             "#fdca26"
            ],
            [
             1,
             "#f0f921"
            ]
           ],
           "sequentialminus": [
            [
             0,
             "#0d0887"
            ],
            [
             0.1111111111111111,
             "#46039f"
            ],
            [
             0.2222222222222222,
             "#7201a8"
            ],
            [
             0.3333333333333333,
             "#9c179e"
            ],
            [
             0.4444444444444444,
             "#bd3786"
            ],
            [
             0.5555555555555556,
             "#d8576b"
            ],
            [
             0.6666666666666666,
             "#ed7953"
            ],
            [
             0.7777777777777778,
             "#fb9f3a"
            ],
            [
             0.8888888888888888,
             "#fdca26"
            ],
            [
             1,
             "#f0f921"
            ]
           ]
          },
          "colorway": [
           "#636efa",
           "#EF553B",
           "#00cc96",
           "#ab63fa",
           "#FFA15A",
           "#19d3f3",
           "#FF6692",
           "#B6E880",
           "#FF97FF",
           "#FECB52"
          ],
          "font": {
           "color": "#2a3f5f"
          },
          "geo": {
           "bgcolor": "white",
           "lakecolor": "white",
           "landcolor": "white",
           "showlakes": true,
           "showland": true,
           "subunitcolor": "#C8D4E3"
          },
          "hoverlabel": {
           "align": "left"
          },
          "hovermode": "closest",
          "mapbox": {
           "style": "light"
          },
          "paper_bgcolor": "white",
          "plot_bgcolor": "white",
          "polar": {
           "angularaxis": {
            "gridcolor": "#EBF0F8",
            "linecolor": "#EBF0F8",
            "ticks": ""
           },
           "bgcolor": "white",
           "radialaxis": {
            "gridcolor": "#EBF0F8",
            "linecolor": "#EBF0F8",
            "ticks": ""
           }
          },
          "scene": {
           "xaxis": {
            "backgroundcolor": "white",
            "gridcolor": "#DFE8F3",
            "gridwidth": 2,
            "linecolor": "#EBF0F8",
            "showbackground": true,
            "ticks": "",
            "zerolinecolor": "#EBF0F8"
           },
           "yaxis": {
            "backgroundcolor": "white",
            "gridcolor": "#DFE8F3",
            "gridwidth": 2,
            "linecolor": "#EBF0F8",
            "showbackground": true,
            "ticks": "",
            "zerolinecolor": "#EBF0F8"
           },
           "zaxis": {
            "backgroundcolor": "white",
            "gridcolor": "#DFE8F3",
            "gridwidth": 2,
            "linecolor": "#EBF0F8",
            "showbackground": true,
            "ticks": "",
            "zerolinecolor": "#EBF0F8"
           }
          },
          "shapedefaults": {
           "line": {
            "color": "#2a3f5f"
           }
          },
          "ternary": {
           "aaxis": {
            "gridcolor": "#DFE8F3",
            "linecolor": "#A2B1C6",
            "ticks": ""
           },
           "baxis": {
            "gridcolor": "#DFE8F3",
            "linecolor": "#A2B1C6",
            "ticks": ""
           },
           "bgcolor": "white",
           "caxis": {
            "gridcolor": "#DFE8F3",
            "linecolor": "#A2B1C6",
            "ticks": ""
           }
          },
          "title": {
           "x": 0.05
          },
          "xaxis": {
           "automargin": true,
           "gridcolor": "#EBF0F8",
           "linecolor": "#EBF0F8",
           "ticks": "",
           "title": {
            "standoff": 15
           },
           "zerolinecolor": "#EBF0F8",
           "zerolinewidth": 2
          },
          "yaxis": {
           "automargin": true,
           "gridcolor": "#EBF0F8",
           "linecolor": "#EBF0F8",
           "ticks": "",
           "title": {
            "standoff": 15
           },
           "zerolinecolor": "#EBF0F8",
           "zerolinewidth": 2
          }
         }
        },
        "title": {
         "text": "Most Important Features - Chi-Square Test",
         "x": 0.5,
         "y": 0.95
        },
        "xaxis": {
         "anchor": "y",
         "autorange": true,
         "categoryarray": [
          "FBS",
          "Age",
          "HasFattyLiver",
          "HDL.C",
          "HasKidneyStone",
          "BAVARAGE",
          "Driving1",
          "TV1",
          "Eating1",
          "ALP",
          "TG",
          "RBC",
          "TEACOFFEE",
          "Juice",
          "Vegetables"
         ],
         "categoryorder": "array",
         "domain": [
          0,
          1
         ],
         "range": [
          -0.5,
          14.5
         ],
         "showgrid": false,
         "tickangle": 45,
         "title": {
          "text": "Feature"
         },
         "type": "category"
        },
        "yaxis": {
         "anchor": "x",
         "autorange": true,
         "domain": [
          0,
          1
         ],
         "gridcolor": "rgba(0, 0, 0, 0.15)",
         "range": [
          0,
          1.0526315789473684
         ],
         "showgrid": true,
         "title": {
          "text": "Feature Importance"
         },
         "type": "linear"
        }
       }
      },
      "image/png": "[encoded data removed]",
      "text/html": [
       "<div>                            <div id=\"2c2ebb65-3e37-4d51-bffe-81f3323d018f\" class=\"plotly-graph-div\" style=\"height:700px; width:100%;\"></div>            <script type=\"text/javascript\">                require([\"plotly\"], function(Plotly) {                    window.PLOTLYENV=window.PLOTLYENV || {};                                    if (document.getElementById(\"2c2ebb65-3e37-4d51-bffe-81f3323d018f\")) {                    Plotly.newPlot(                        \"2c2ebb65-3e37-4d51-bffe-81f3323d018f\",                        [{\"alignmentgroup\":\"True\",\"hovertemplate\":\"Feature=%{x}\\u003cbr\\u003eFeature Importance=%{y}\\u003cextra\\u003e\\u003c\\u002fextra\\u003e\",\"legendgroup\":\"FBS\",\"marker\":{\"color\":\"#332288\",\"pattern\":{\"shape\":\"\"}},\"name\":\"FBS\",\"offsetgroup\":\"FBS\",\"orientation\":\"v\",\"showlegend\":true,\"textposition\":\"outside\",\"x\":[\"FBS\"],\"xaxis\":\"x\",\"y\":[0.02494674382202046],\"yaxis\":\"y\",\"type\":\"bar\",\"textfont\":{\"color\":\"black\",\"size\":14},\"texttemplate\":\"%{y:.4f}\"},{\"alignmentgroup\":\"True\",\"hovertemplate\":\"Feature=%{x}\\u003cbr\\u003eFeature Importance=%{y}\\u003cextra\\u003e\\u003c\\u002fextra\\u003e\",\"legendgroup\":\"Age\",\"marker\":{\"color\":\"#117733\",\"pattern\":{\"shape\":\"\"}},\"name\":\"Age\",\"offsetgroup\":\"Age\",\"orientation\":\"v\",\"showlegend\":true,\"textposition\":\"outside\",\"x\":[\"Age\"],\"xaxis\":\"x\",\"y\":[0.32828061936998676],\"yaxis\":\"y\",\"type\":\"bar\",\"textfont\":{\"color\":\"black\",\"size\":14},\"texttemplate\":\"%{y:.4f}\"},{\"alignmentgroup\":\"True\",\"hovertemplate\":\"Feature=%{x}\\u003cbr\\u003eFeature Importance=%{y}\\u003cextra\\u003e\\u003c\\u002fextra\\u003e\",\"legendgroup\":\"HasFattyLiver\",\"marker\":{\"color\":\"#44AA99\",\"pattern\":{\"shape\":\"\"}},\"name\":\"HasFattyLiver\",\"offsetgroup\":\"HasFattyLiver\",\"orientation\":\"v\",\"showlegend\":true,\"textposition\":\"outside\",\"x\":[\"HasFattyLiver\"],\"xaxis\":\"x\",\"y\":[1.0],\"yaxis\":\"y\",\"type\":\"bar\",\"textfont\":{\"color\":\"black\",\"size\":14},\"texttemplate\":\"%{y:.4f}\"},{\"alignmentgroup\":\"True\",\"hovertemplate\":\"Feature=%{x}\\u003cbr\\u003eFeature Importance=%{y}\\u003cextra\\u003e\\u003c\\u002fextra\\u003e\",\"legendgroup\":\"HDL.C\",\"marker\":{\"color\":\"#88CCEE\",\"pattern\":{\"shape\":\"\"}},\"name\":\"HDL.C\",\"offsetgroup\":\"HDL.C\",\"orientation\":\"v\",\"showlegend\":true,\"textposition\":\"outside\",\"x\":[\"HDL.C\"],\"xaxis\":\"x\",\"y\":[0.0],\"yaxis\":\"y\",\"type\":\"bar\",\"textfont\":{\"color\":\"black\",\"size\":14},\"texttemplate\":\"%{y:.4f}\"},{\"alignmentgroup\":\"True\",\"hovertemplate\":\"Feature=%{x}\\u003cbr\\u003eFeature Importance=%{y}\\u003cextra\\u003e\\u003c\\u002fextra\\u003e\",\"legendgroup\":\"HasKidneyStone\",\"marker\":{\"color\":\"#DDCC77\",\"pattern\":{\"shape\":\"\"}},\"name\":\"HasKidneyStone\",\"offsetgroup\":\"HasKidneyStone\",\"orientation\":\"v\",\"showlegend\":true,\"textposition\":\"outside\",\"x\":[\"HasKidneyStone\"],\"xaxis\":\"x\",\"y\":[0.39929359601385245],\"yaxis\":\"y\",\"type\":\"bar\",\"textfont\":{\"color\":\"black\",\"size\":14},\"texttemplate\":\"%{y:.4f}\"},{\"alignmentgroup\":\"True\",\"hovertemplate\":\"Feature=%{x}\\u003cbr\\u003eFeature Importance=%{y}\\u003cextra\\u003e\\u003c\\u002fextra\\u003e\",\"legendgroup\":\"BAVARAGE\",\"marker\":{\"color\":\"#CC6677\",\"pattern\":{\"shape\":\"\"}},\"name\":\"BAVARAGE\",\"offsetgroup\":\"BAVARAGE\",\"orientation\":\"v\",\"showlegend\":true,\"textposition\":\"outside\",\"x\":[\"BAVARAGE\"],\"xaxis\":\"x\",\"y\":[0.06726750888424],\"yaxis\":\"y\",\"type\":\"bar\",\"textfont\":{\"color\":\"black\",\"size\":14},\"texttemplate\":\"%{y:.4f}\"},{\"alignmentgroup\":\"True\",\"hovertemplate\":\"Feature=%{x}\\u003cbr\\u003eFeature Importance=%{y}\\u003cextra\\u003e\\u003c\\u002fextra\\u003e\",\"legendgroup\":\"Driving1\",\"marker\":{\"color\":\"#AA4499\",\"pattern\":{\"shape\":\"\"}},\"name\":\"Driving1\",\"offsetgroup\":\"Driving1\",\"orientation\":\"v\",\"showlegend\":true,\"textposition\":\"outside\",\"x\":[\"Driving1\"],\"xaxis\":\"x\",\"y\":[0.006141498181007132],\"yaxis\":\"y\",\"type\":\"bar\",\"textfont\":{\"color\":\"black\",\"size\":14},\"texttemplate\":\"%{y:.4f}\"},{\"alignmentgroup\":\"True\",\"hovertemplate\":\"Feature=%{x}\\u003cbr\\u003eFeature Importance=%{y}\\u003cextra\\u003e\\u003c\\u002fextra\\u003e\",\"legendgroup\":\"TV1\",\"marker\":{\"color\":\"#999933\",\"pattern\":{\"shape\":\"\"}},\"name\":\"TV1\",\"offsetgroup\":\"TV1\",\"orientation\":\"v\",\"showlegend\":true,\"textposition\":\"outside\",\"x\":[\"TV1\"],\"xaxis\":\"x\",\"y\":[0.00837872680952168],\"yaxis\":\"y\",\"type\":\"bar\",\"textfont\":{\"color\":\"black\",\"size\":14},\"texttemplate\":\"%{y:.4f}\"},{\"alignmentgroup\":\"True\",\"hovertemplate\":\"Feature=%{x}\\u003cbr\\u003eFeature Importance=%{y}\\u003cextra\\u003e\\u003c\\u002fextra\\u003e\",\"legendgroup\":\"Eating1\",\"marker\":{\"color\":\"#E69F00\",\"pattern\":{\"shape\":\"\"}},\"name\":\"Eating1\",\"offsetgroup\":\"Eating1\",\"orientation\":\"v\",\"showlegend\":true,\"textposition\":\"outside\",\"x\":[\"Eating1\"],\"xaxis\":\"x\",\"y\":[0.001871678206905909],\"yaxis\":\"y\",\"type\":\"bar\",\"textfont\":{\"color\":\"black\",\"size\":14},\"texttemplate\":\"%{y:.4f}\"},{\"alignmentgroup\":\"True\",\"hovertemplate\":\"Feature=%{x}\\u003cbr\\u003eFeature Importance=%{y}\\u003cextra\\u003e\\u003c\\u002fextra\\u003e\",\"legendgroup\":\"ALP\",\"marker\":{\"color\":\"#56B4E9\",\"pattern\":{\"shape\":\"\"}},\"name\":\"ALP\",\"offsetgroup\":\"ALP\",\"orientation\":\"v\",\"showlegend\":true,\"textposition\":\"outside\",\"x\":[\"ALP\"],\"xaxis\":\"x\",\"y\":[0.003405122725170303],\"yaxis\":\"y\",\"type\":\"bar\",\"textfont\":{\"color\":\"black\",\"size\":14},\"texttemplate\":\"%{y:.4f}\"},{\"alignmentgroup\":\"True\",\"hovertemplate\":\"Feature=%{x}\\u003cbr\\u003eFeature Importance=%{y}\\u003cextra\\u003e\\u003c\\u002fextra\\u003e\",\"legendgroup\":\"TG\",\"marker\":{\"color\":\"#009E73\",\"pattern\":{\"shape\":\"\"}},\"name\":\"TG\",\"offsetgroup\":\"TG\",\"orientation\":\"v\",\"showlegend\":true,\"textposition\":\"outside\",\"x\":[\"TG\"],\"xaxis\":\"x\",\"y\":[0.005132609797765056],\"yaxis\":\"y\",\"type\":\"bar\",\"textfont\":{\"color\":\"black\",\"size\":14},\"texttemplate\":\"%{y:.4f}\"},{\"alignmentgroup\":\"True\",\"hovertemplate\":\"Feature=%{x}\\u003cbr\\u003eFeature Importance=%{y}\\u003cextra\\u003e\\u003c\\u002fextra\\u003e\",\"legendgroup\":\"RBC\",\"marker\":{\"color\":\"#F0E442\",\"pattern\":{\"shape\":\"\"}},\"name\":\"RBC\",\"offsetgroup\":\"RBC\",\"orientation\":\"v\",\"showlegend\":true,\"textposition\":\"outside\",\"x\":[\"RBC\"],\"xaxis\":\"x\",\"y\":[0.0006335378918461513],\"yaxis\":\"y\",\"type\":\"bar\",\"textfont\":{\"color\":\"black\",\"size\":14},\"texttemplate\":\"%{y:.4f}\"},{\"alignmentgroup\":\"True\",\"hovertemplate\":\"Feature=%{x}\\u003cbr\\u003eFeature Importance=%{y}\\u003cextra\\u003e\\u003c\\u002fextra\\u003e\",\"legendgroup\":\"TEACOFFEE\",\"marker\":{\"color\":\"#0072B2\",\"pattern\":{\"shape\":\"\"}},\"name\":\"TEACOFFEE\",\"offsetgroup\":\"TEACOFFEE\",\"orientation\":\"v\",\"showlegend\":true,\"textposition\":\"outside\",\"x\":[\"TEACOFFEE\"],\"xaxis\":\"x\",\"y\":[0.0003595639562197],\"yaxis\":\"y\",\"type\":\"bar\",\"textfont\":{\"color\":\"black\",\"size\":14},\"texttemplate\":\"%{y:.4f}\"},{\"alignmentgroup\":\"True\",\"hovertemplate\":\"Feature=%{x}\\u003cbr\\u003eFeature Importance=%{y}\\u003cextra\\u003e\\u003c\\u002fextra\\u003e\",\"legendgroup\":\"Juice\",\"marker\":{\"color\":\"#D55E00\",\"pattern\":{\"shape\":\"\"}},\"name\":\"Juice\",\"offsetgroup\":\"Juice\",\"orientation\":\"v\",\"showlegend\":true,\"textposition\":\"outside\",\"x\":[\"Juice\"],\"xaxis\":\"x\",\"y\":[0.0036710972859487867],\"yaxis\":\"y\",\"type\":\"bar\",\"textfont\":{\"color\":\"black\",\"size\":14},\"texttemplate\":\"%{y:.4f}\"},{\"alignmentgroup\":\"True\",\"hovertemplate\":\"Feature=%{x}\\u003cbr\\u003eFeature Importance=%{y}\\u003cextra\\u003e\\u003c\\u002fextra\\u003e\",\"legendgroup\":\"Vegetables\",\"marker\":{\"color\":\"#CC79A7\",\"pattern\":{\"shape\":\"\"}},\"name\":\"Vegetables\",\"offsetgroup\":\"Vegetables\",\"orientation\":\"v\",\"showlegend\":true,\"textposition\":\"outside\",\"x\":[\"Vegetables\"],\"xaxis\":\"x\",\"y\":[0.00033558610462324894],\"yaxis\":\"y\",\"type\":\"bar\",\"textfont\":{\"color\":\"black\",\"size\":14},\"texttemplate\":\"%{y:.4f}\"}],                        {\"template\":{\"data\":{\"barpolar\":[{\"marker\":{\"line\":{\"color\":\"white\",\"width\":0.5},\"pattern\":{\"fillmode\":\"overlay\",\"size\":10,\"solidity\":0.2}},\"type\":\"barpolar\"}],\"bar\":[{\"error_x\":{\"color\":\"#2a3f5f\"},\"error_y\":{\"color\":\"#2a3f5f\"},\"marker\":{\"line\":{\"color\":\"white\",\"width\":0.5},\"pattern\":{\"fillmode\":\"overlay\",\"size\":10,\"solidity\":0.2}},\"type\":\"bar\"}],\"carpet\":[{\"aaxis\":{\"endlinecolor\":\"#2a3f5f\",\"gridcolor\":\"#C8D4E3\",\"linecolor\":\"#C8D4E3\",\"minorgridcolor\":\"#C8D4E3\",\"startlinecolor\":\"#2a3f5f\"},\"baxis\":{\"endlinecolor\":\"#2a3f5f\",\"gridcolor\":\"#C8D4E3\",\"linecolor\":\"#C8D4E3\",\"minorgridcolor\":\"#C8D4E3\",\"startlinecolor\":\"#2a3f5f\"},\"type\":\"carpet\"}],\"choropleth\":[{\"colorbar\":{\"outlinewidth\":0,\"ticks\":\"\"},\"type\":\"choropleth\"}],\"contourcarpet\":[{\"colorbar\":{\"outlinewidth\":0,\"ticks\":\"\"},\"type\":\"contourcarpet\"}],\"contour\":[{\"colorbar\":{\"outlinewidth\":0,\"ticks\":\"\"},\"colorscale\":[[0.0,\"#0d0887\"],[0.1111111111111111,\"#46039f\"],[0.2222222222222222,\"#7201a8\"],[0.3333333333333333,\"#9c179e\"],[0.4444444444444444,\"#bd3786\"],[0.5555555555555556,\"#d8576b\"],[0.6666666666666666,\"#ed7953\"],[0.7777777777777778,\"#fb9f3a\"],[0.8888888888888888,\"#fdca26\"],[1.0,\"#f0f921\"]],\"type\":\"contour\"}],\"heatmapgl\":[{\"colorbar\":{\"outlinewidth\":0,\"ticks\":\"\"},\"colorscale\":[[0.0,\"#0d0887\"],[0.1111111111111111,\"#46039f\"],[0.2222222222222222,\"#7201a8\"],[0.3333333333333333,\"#9c179e\"],[0.4444444444444444,\"#bd3786\"],[0.5555555555555556,\"#d8576b\"],[0.6666666666666666,\"#ed7953\"],[0.7777777777777778,\"#fb9f3a\"],[0.8888888888888888,\"#fdca26\"],[1.0,\"#f0f921\"]],\"type\":\"heatmapgl\"}],\"heatmap\":[{\"colorbar\":{\"outlinewidth\":0,\"ticks\":\"\"},\"colorscale\":[[0.0,\"#0d0887\"],[0.1111111111111111,\"#46039f\"],[0.2222222222222222,\"#7201a8\"],[0.3333333333333333,\"#9c179e\"],[0.4444444444444444,\"#bd3786\"],[0.5555555555555556,\"#d8576b\"],[0.6666666666666666,\"#ed7953\"],[0.7777777777777778,\"#fb9f3a\"],[0.8888888888888888,\"#fdca26\"],[1.0,\"#f0f921\"]],\"type\":\"heatmap\"}],\"histogram2dcontour\":[{\"colorbar\":{\"outlinewidth\":0,\"ticks\":\"\"},\"colorscale\":[[0.0,\"#0d0887\"],[0.1111111111111111,\"#46039f\"],[0.2222222222222222,\"#7201a8\"],[0.3333333333333333,\"#9c179e\"],[0.4444444444444444,\"#bd3786\"],[0.5555555555555556,\"#d8576b\"],[0.6666666666666666,\"#ed7953\"],[0.7777777777777778,\"#fb9f3a\"],[0.8888888888888888,\"#fdca26\"],[1.0,\"#f0f921\"]],\"type\":\"histogram2dcontour\"}],\"histogram2d\":[{\"colorbar\":{\"outlinewidth\":0,\"ticks\":\"\"},\"colorscale\":[[0.0,\"#0d0887\"],[0.1111111111111111,\"#46039f\"],[0.2222222222222222,\"#7201a8\"],[0.3333333333333333,\"#9c179e\"],[0.4444444444444444,\"#bd3786\"],[0.5555555555555556,\"#d8576b\"],[0.6666666666666666,\"#ed7953\"],[0.7777777777777778,\"#fb9f3a\"],[0.8888888888888888,\"#fdca26\"],[1.0,\"#f0f921\"]],\"type\":\"histogram2d\"}],\"histogram\":[{\"marker\":{\"pattern\":{\"fillmode\":\"overlay\",\"size\":10,\"solidity\":0.2}},\"type\":\"histogram\"}],\"mesh3d\":[{\"colorbar\":{\"outlinewidth\":0,\"ticks\":\"\"},\"type\":\"mesh3d\"}],\"parcoords\":[{\"line\":{\"colorbar\":{\"outlinewidth\":0,\"ticks\":\"\"}},\"type\":\"parcoords\"}],\"pie\":[{\"automargin\":true,\"type\":\"pie\"}],\"scatter3d\":[{\"line\":{\"colorbar\":{\"outlinewidth\":0,\"ticks\":\"\"}},\"marker\":{\"colorbar\":{\"outlinewidth\":0,\"ticks\":\"\"}},\"type\":\"scatter3d\"}],\"scattercarpet\":[{\"marker\":{\"colorbar\":{\"outlinewidth\":0,\"ticks\":\"\"}},\"type\":\"scattercarpet\"}],\"scattergeo\":[{\"marker\":{\"colorbar\":{\"outlinewidth\":0,\"ticks\":\"\"}},\"type\":\"scattergeo\"}],\"scattergl\":[{\"marker\":{\"colorbar\":{\"outlinewidth\":0,\"ticks\":\"\"}},\"type\":\"scattergl\"}],\"scattermapbox\":[{\"marker\":{\"colorbar\":{\"outlinewidth\":0,\"ticks\":\"\"}},\"type\":\"scattermapbox\"}],\"scatterpolargl\":[{\"marker\":{\"colorbar\":{\"outlinewidth\":0,\"ticks\":\"\"}},\"type\":\"scatterpolargl\"}],\"scatterpolar\":[{\"marker\":{\"colorbar\":{\"outlinewidth\":0,\"ticks\":\"\"}},\"type\":\"scatterpolar\"}],\"scatter\":[{\"fillpattern\":{\"fillmode\":\"overlay\",\"size\":10,\"solidity\":0.2},\"type\":\"scatter\"}],\"scatterternary\":[{\"marker\":{\"colorbar\":{\"outlinewidth\":0,\"ticks\":\"\"}},\"type\":\"scatterternary\"}],\"surface\":[{\"colorbar\":{\"outlinewidth\":0,\"ticks\":\"\"},\"colorscale\":[[0.0,\"#0d0887\"],[0.1111111111111111,\"#46039f\"],[0.2222222222222222,\"#7201a8\"],[0.3333333333333333,\"#9c179e\"],[0.4444444444444444,\"#bd3786\"],[0.5555555555555556,\"#d8576b\"],[0.6666666666666666,\"#ed7953\"],[0.7777777777777778,\"#fb9f3a\"],[0.8888888888888888,\"#fdca26\"],[1.0,\"#f0f921\"]],\"type\":\"surface\"}],\"table\":[{\"cells\":{\"fill\":{\"color\":\"#EBF0F8\"},\"line\":{\"color\":\"white\"}},\"header\":{\"fill\":{\"color\":\"#C8D4E3\"},\"line\":{\"color\":\"white\"}},\"type\":\"table\"}]},\"layout\":{\"annotationdefaults\":{\"arrowcolor\":\"#2a3f5f\",\"arrowhead\":0,\"arrowwidth\":1},\"autotypenumbers\":\"strict\",\"coloraxis\":{\"colorbar\":{\"outlinewidth\":0,\"ticks\":\"\"}},\"colorscale\":{\"diverging\":[[0,\"#8e0152\"],[0.1,\"#c51b7d\"],[0.2,\"#de77ae\"],[0.3,\"#f1b6da\"],[0.4,\"#fde0ef\"],[0.5,\"#f7f7f7\"],[0.6,\"#e6f5d0\"],[0.7,\"#b8e186\"],[0.8,\"#7fbc41\"],[0.9,\"#4d9221\"],[1,\"#276419\"]],\"sequential\":[[0.0,\"#0d0887\"],[0.1111111111111111,\"#46039f\"],[0.2222222222222222,\"#7201a8\"],[0.3333333333333333,\"#9c179e\"],[0.4444444444444444,\"#bd3786\"],[0.5555555555555556,\"#d8576b\"],[0.6666666666666666,\"#ed7953\"],[0.7777777777777778,\"#fb9f3a\"],[0.8888888888888888,\"#fdca26\"],[1.0,\"#f0f921\"]],\"sequentialminus\":[[0.0,\"#0d0887\"],[0.1111111111111111,\"#46039f\"],[0.2222222222222222,\"#7201a8\"],[0.3333333333333333,\"#9c179e\"],[0.4444444444444444,\"#bd3786\"],[0.5555555555555556,\"#d8576b\"],[0.6666666666666666,\"#ed7953\"],[0.7777777777777778,\"#fb9f3a\"],[0.8888888888888888,\"#fdca26\"],[1.0,\"#f0f921\"]]},\"colorway\":[\"#636efa\",\"#EF553B\",\"#00cc96\",\"#ab63fa\",\"#FFA15A\",\"#19d3f3\",\"#FF6692\",\"#B6E880\",\"#FF97FF\",\"#FECB52\"],\"font\":{\"color\":\"#2a3f5f\"},\"geo\":{\"bgcolor\":\"white\",\"lakecolor\":\"white\",\"landcolor\":\"white\",\"showlakes\":true,\"showland\":true,\"subunitcolor\":\"#C8D4E3\"},\"hoverlabel\":{\"align\":\"left\"},\"hovermode\":\"closest\",\"mapbox\":{\"style\":\"light\"},\"paper_bgcolor\":\"white\",\"plot_bgcolor\":\"white\",\"polar\":{\"angularaxis\":{\"gridcolor\":\"#EBF0F8\",\"linecolor\":\"#EBF0F8\",\"ticks\":\"\"},\"bgcolor\":\"white\",\"radialaxis\":{\"gridcolor\":\"#EBF0F8\",\"linecolor\":\"#EBF0F8\",\"ticks\":\"\"}},\"scene\":{\"xaxis\":{\"backgroundcolor\":\"white\",\"gridcolor\":\"#DFE8F3\",\"gridwidth\":2,\"linecolor\":\"#EBF0F8\",\"showbackground\":true,\"ticks\":\"\",\"zerolinecolor\":\"#EBF0F8\"},\"yaxis\":{\"backgroundcolor\":\"white\",\"gridcolor\":\"#DFE8F3\",\"gridwidth\":2,\"linecolor\":\"#EBF0F8\",\"showbackground\":true,\"ticks\":\"\",\"zerolinecolor\":\"#EBF0F8\"},\"zaxis\":{\"backgroundcolor\":\"white\",\"gridcolor\":\"#DFE8F3\",\"gridwidth\":2,\"linecolor\":\"#EBF0F8\",\"showbackground\":true,\"ticks\":\"\",\"zerolinecolor\":\"#EBF0F8\"}},\"shapedefaults\":{\"line\":{\"color\":\"#2a3f5f\"}},\"ternary\":{\"aaxis\":{\"gridcolor\":\"#DFE8F3\",\"linecolor\":\"#A2B1C6\",\"ticks\":\"\"},\"baxis\":{\"gridcolor\":\"#DFE8F3\",\"linecolor\":\"#A2B1C6\",\"ticks\":\"\"},\"bgcolor\":\"white\",\"caxis\":{\"gridcolor\":\"#DFE8F3\",\"linecolor\":\"#A2B1C6\",\"ticks\":\"\"}},\"title\":{\"x\":0.05},\"xaxis\":{\"automargin\":true,\"gridcolor\":\"#EBF0F8\",\"linecolor\":\"#EBF0F8\",\"ticks\":\"\",\"title\":{\"standoff\":15},\"zerolinecolor\":\"#EBF0F8\",\"zerolinewidth\":2},\"yaxis\":{\"automargin\":true,\"gridcolor\":\"#EBF0F8\",\"linecolor\":\"#EBF0F8\",\"ticks\":\"\",\"title\":{\"standoff\":15},\"zerolinecolor\":\"#EBF0F8\",\"zerolinewidth\":2}}},\"xaxis\":{\"anchor\":\"y\",\"domain\":[0.0,1.0],\"title\":{\"text\":\"Feature\"},\"categoryorder\":\"array\",\"categoryarray\":[\"FBS\",\"Age\",\"HasFattyLiver\",\"HDL.C\",\"HasKidneyStone\",\"BAVARAGE\",\"Driving1\",\"TV1\",\"Eating1\",\"ALP\",\"TG\",\"RBC\",\"TEACOFFEE\",\"Juice\",\"Vegetables\"],\"tickangle\":45,\"showgrid\":false},\"yaxis\":{\"anchor\":\"x\",\"domain\":[0.0,1.0],\"title\":{\"text\":\"Feature Importance\"},\"showgrid\":true,\"gridcolor\":\"rgba(0,0,0,0.15)\"},\"legend\":{\"title\":{\"text\":\"Feature\"},\"tracegroupgap\":0},\"title\":{\"text\":\"Most Important Features - Chi-Square Test\",\"x\":0.5,\"y\":0.95},\"barmode\":\"relative\",\"height\":700,\"margin\":{\"t\":70,\"b\":120,\"l\":70,\"r\":50},\"font\":{\"size\":16},\"plot_bgcolor\":\"white\"},                        {\"responsive\": true}                    ).then(function(){\n",
       "                            \n",
       "var gd = document.getElementById('2c2ebb65-3e37-4d51-bffe-81f3323d018f');\n",
       "var x = new MutationObserver(function (mutations, observer) {{\n",
       "        var display = window.getComputedStyle(gd).display;\n",
       "        if (!display || display === 'none') {{\n",
       "            console.log([gd, 'removed!']);\n",
       "            Plotly.purge(gd);\n",
       "            observer.disconnect();\n",
       "        }}\n",
       "}});\n",
       "\n",
       "// Listen for the removal of the full notebook cells\n",
       "var notebookContainer = gd.closest('#notebook-container');\n",
       "if (notebookContainer) {{\n",
       "    x.observe(notebookContainer, {childList: true});\n",
       "}}\n",
       "\n",
       "// Listen for the clearing of the current output cell\n",
       "var outputEl = gd.closest('.output');\n",
       "if (outputEl) {{\n",
       "    x.observe(outputEl, {childList: true});\n",
       "}}\n",
       "\n",
       "                        })                };                });            </script>        </div>"
      ]
     },
     "metadata": {},
     "output_type": "display_data"
    }
   ],
   "source": [
    "import pandas as pd\n",
    "import plotly.express as px\n",
    "\n",
    "# Convert the feature importances into a DataFrame for visualization\n",
    "importance_df = pd.DataFrame(feature_importances).T\n",
    "importance_df.columns = X_train.columns\n",
    "importance_df.columns = importance_df.columns.str.replace(r'num_imputer__','')\n",
    "importance_df = importance_df.reset_index().rename(columns={'index': 'Feature Selection Method'})\n",
    "\n",
    "# Top N features\n",
    "top_n = 15\n",
    "importance_avg = importance_df.drop('Feature Selection Method', axis=1).mean(axis=0)\n",
    "top_features = importance_avg.nlargest(top_n).index\n",
    "importance_top_features_df = importance_df[['Feature Selection Method'] + list(top_features)]\n",
    "\n",
    "# Melt for visualization\n",
    "importance_melted = importance_top_features_df.melt(\n",
    "    id_vars=['Feature Selection Method'],\n",
    "    var_name='Feature',\n",
    "    value_name='Importance'\n",
    ")\n",
    "\n",
    "# Modern qualitative palette (Tol Bright style)\n",
    "palette = [\n",
    "    \"#332288\", \"#117733\", \"#44AA99\", \"#88CCEE\",\n",
    "    \"#DDCC77\", \"#CC6677\", \"#AA4499\", \"#999933\",\n",
    "    \"#E69F00\", \"#56B4E9\", \"#009E73\", \"#F0E442\",\n",
    "    \"#0072B2\", \"#D55E00\", \"#CC79A7\"\n",
    "]\n",
    "\n",
    "# Loop over methods\n",
    "for method in importance_melted['Feature Selection Method'].unique():\n",
    "    method_data = importance_melted[importance_melted['Feature Selection Method'] == method]\n",
    "\n",
    "    fig_importance = px.bar(\n",
    "        method_data,\n",
    "        x='Feature',\n",
    "        y='Importance',\n",
    "        color='Feature',\n",
    "        title=f'Most Important Features - {method}',\n",
    "        labels={'Importance': 'Feature Importance'},\n",
    "        height=700,\n",
    "        category_orders={'Feature': list(top_features)},\n",
    "        color_discrete_sequence=palette,\n",
    "        template='plotly_white'\n",
    "    )\n",
    "\n",
    "    # Annotate each bar\n",
    "    fig_importance.update_traces(\n",
    "        texttemplate='%{y:.4f}',\n",
    "        textposition='outside',\n",
    "        textfont=dict(size=14, color='black')\n",
    "    )\n",
    "\n",
    "    # Layout improvements\n",
    "    fig_importance.update_layout(\n",
    "        legend_title=\"Feature\",\n",
    "        xaxis_title=\"Feature\",\n",
    "        yaxis_title=\"Feature Importance\",\n",
    "        xaxis=dict(tickangle=45, showgrid=False),\n",
    "        yaxis=dict(showgrid=True, gridcolor='rgba(0,0,0,0.15)'),\n",
    "        plot_bgcolor='white',\n",
    "        margin=dict(t=70, b=120, l=70, r=50),\n",
    "        title_x=0.5,\n",
    "        title_y=0.95,\n",
    "        font=dict(size=16)\n",
    "    )\n",
    "\n",
    "    # Show\n",
    "    fig_importance.show()\n",
    "\n",
    "    # High-quality save\n",
    "    title = f'Most Important Features - {method}'\n",
    "    fig_importance.write_image(\n",
    "        f\"Images/{title}.png\",\n",
    "        width=2800, height=1600, scale=2   # 🔹 bigger export\n",
    "    )\n"
   ]
  },
  {
   "cell_type": "code",
   "execution_count": 151,
   "id": "661d3451-b5f2-4fae-9acd-2b27c095dfbe",
   "metadata": {},
   "outputs": [
    {
     "data": {
      "application/vnd.plotly.v1+json": {
       "config": {
        "plotlyServerURL": "https://plot.ly"
       },
       "data": [
        {
         "alignmentgroup": "True",
         "cliponaxis": false,
         "customdata": [
          [
           "Mutual Information"
          ],
          [
           "Mutual Information"
          ],
          [
           "Mutual Information"
          ],
          [
           "Mutual Information"
          ],
          [
           "Mutual Information"
          ],
          [
           "Mutual Information"
          ],
          [
           "Mutual Information"
          ],
          [
           "Mutual Information"
          ],
          [
           "Mutual Information"
          ],
          [
           "Mutual Information"
          ],
          [
           "Mutual Information"
          ],
          [
           "Mutual Information"
          ],
          [
           "Mutual Information"
          ],
          [
           "Mutual Information"
          ],
          [
           "Mutual Information"
          ]
         ],
         "hovertemplate": "Method=%{customdata[0]}<br>Feature=%{x}<br>Feature Importance (normalized)=%{y:.3f}<br>Label=%{text}<extra></extra>",
         "legendgroup": "Mutual Information",
         "marker": {
          "color": "#0072B2",
          "line": {
           "color": "rgba(0, 0, 0, 0.55)",
           "width": 1.5
          },
          "pattern": {
           "shape": ""
          }
         },
         "name": "Mutual Information",
         "offsetgroup": "Mutual Information",
         "orientation": "v",
         "showlegend": true,
         "text": [
          "",
          "0.861",
          "",
          "0.789",
          "",
          "0.603",
          "0.676",
          "0.654",
          "0.648",
          "0.625",
          "0.557",
          "0.602",
          "0.453",
          "0.207",
          ""
         ],
         "textfont": {
          "color": "black",
          "family": "Arial",
          "size": 18
         },
         "textposition": "outside",
         "texttemplate": "%{text}",
         "type": "bar",
         "x": [
          "FBS",
          "Age",
          "HasFattyLiver",
          "HDL.C",
          "HasKidneyStone",
          "BAVARAGE",
          "Driving1",
          "TV1",
          "Eating1",
          "ALP",
          "TG",
          "RBC",
          "TEACOFFEE",
          "Juice",
          "Vegetables"
         ],
         "xaxis": "x",
         "y": [
          1,
          0.8608459209799788,
          0.23769628829915135,
          0.7893599330736899,
          0.3147030546357774,
          0.6033158752246742,
          0.6759548022955452,
          0.6539789254826691,
          0.6480858498235406,
          0.624847648520621,
          0.557104281850473,
          0.6021781350524658,
          0.45278450264140896,
          0.20710835692212176,
          0
         ],
         "yaxis": "y"
        },
        {
         "alignmentgroup": "True",
         "cliponaxis": false,
         "customdata": [
          [
           "Chi-Square Test"
          ],
          [
           "Chi-Square Test"
          ],
          [
           "Chi-Square Test"
          ],
          [
           "Chi-Square Test"
          ],
          [
           "Chi-Square Test"
          ],
          [
           "Chi-Square Test"
          ],
          [
           "Chi-Square Test"
          ],
          [
           "Chi-Square Test"
          ],
          [
           "Chi-Square Test"
          ],
          [
           "Chi-Square Test"
          ],
          [
           "Chi-Square Test"
          ],
          [
           "Chi-Square Test"
          ],
          [
           "Chi-Square Test"
          ],
          [
           "Chi-Square Test"
          ],
          [
           "Chi-Square Test"
          ]
         ],
         "hovertemplate": "Method=%{customdata[0]}<br>Feature=%{x}<br>Feature Importance (normalized)=%{y:.3f}<br>Label=%{text}<extra></extra>",
         "legendgroup": "Chi-Square Test",
         "marker": {
          "color": "#E69F00",
          "line": {
           "color": "rgba(0, 0, 0, 0.55)",
           "width": 1.5
          },
          "pattern": {
           "shape": ""
          }
         },
         "name": "Chi-Square Test",
         "offsetgroup": "Chi-Square Test",
         "orientation": "v",
         "showlegend": true,
         "text": [
          "",
          "",
          "1.0",
          "",
          "0.399",
          "",
          "",
          "",
          "",
          "",
          "",
          "",
          "",
          "",
          ""
         ],
         "textfont": {
          "color": "black",
          "family": "Arial",
          "size": 18
         },
         "textposition": "outside",
         "texttemplate": "%{text}",
         "type": "bar",
         "x": [
          "FBS",
          "Age",
          "HasFattyLiver",
          "HDL.C",
          "HasKidneyStone",
          "BAVARAGE",
          "Driving1",
          "TV1",
          "Eating1",
          "ALP",
          "TG",
          "RBC",
          "TEACOFFEE",
          "Juice",
          "Vegetables"
         ],
         "xaxis": "x",
         "y": [
          0.02494674382202046,
          0.32828061936998676,
          1,
          0,
          0.39929359601385245,
          0.06726750888424,
          0.006141498181007132,
          0.00837872680952168,
          0.001871678206905909,
          0.003405122725170303,
          0.005132609797765056,
          0.0006335378918461513,
          0.0003595639562197,
          0.0036710972859487867,
          0.00033558610462324894
         ],
         "yaxis": "y"
        },
        {
         "alignmentgroup": "True",
         "cliponaxis": false,
         "customdata": [
          [
           "ANOVA (f_classif)"
          ],
          [
           "ANOVA (f_classif)"
          ],
          [
           "ANOVA (f_classif)"
          ],
          [
           "ANOVA (f_classif)"
          ],
          [
           "ANOVA (f_classif)"
          ],
          [
           "ANOVA (f_classif)"
          ],
          [
           "ANOVA (f_classif)"
          ],
          [
           "ANOVA (f_classif)"
          ],
          [
           "ANOVA (f_classif)"
          ],
          [
           "ANOVA (f_classif)"
          ],
          [
           "ANOVA (f_classif)"
          ],
          [
           "ANOVA (f_classif)"
          ],
          [
           "ANOVA (f_classif)"
          ],
          [
           "ANOVA (f_classif)"
          ],
          [
           "ANOVA (f_classif)"
          ]
         ],
         "hovertemplate": "Method=%{customdata[0]}<br>Feature=%{x}<br>Feature Importance (normalized)=%{y:.3f}<br>Label=%{text}<extra></extra>",
         "legendgroup": "ANOVA (f_classif)",
         "marker": {
          "color": "#009E73",
          "line": {
           "color": "rgba(0, 0, 0, 0.55)",
           "width": 1.5
          },
          "pattern": {
           "shape": ""
          }
         },
         "name": "ANOVA (f_classif)",
         "offsetgroup": "ANOVA (f_classif)",
         "orientation": "v",
         "showlegend": true,
         "text": [
          "1.0",
          "",
          "",
          "",
          "",
          "",
          "",
          "",
          "",
          "",
          "",
          "",
          "",
          "",
          "0.001"
         ],
         "textfont": {
          "color": "black",
          "family": "Arial",
          "size": 18
         },
         "textposition": "outside",
         "texttemplate": "%{text}",
         "type": "bar",
         "x": [
          "FBS",
          "Age",
          "HasFattyLiver",
          "HDL.C",
          "HasKidneyStone",
          "BAVARAGE",
          "Driving1",
          "TV1",
          "Eating1",
          "ALP",
          "TG",
          "RBC",
          "TEACOFFEE",
          "Juice",
          "Vegetables"
         ],
         "xaxis": "x",
         "y": [
          1,
          0.1910237967967987,
          0.12356654554605484,
          0,
          0.05436444282531738,
          0.053082071244716644,
          0.0032518368680030107,
          0.008794951252639294,
          0.005632398184388876,
          0.02517232671380043,
          0.0590999573469162,
          0.001895757857710123,
          0.00045077185495756567,
          0.0016415538266301155,
          0.0011264127679169178
         ],
         "yaxis": "y"
        }
       ],
       "layout": {
        "annotations": [
         {
          "bgcolor": "rgba(255,255,255,0.85)",
          "font": {
           "size": 12
          },
          "showarrow": false,
          "text": "Mean Importance = 0.258",
          "x": 1,
          "xanchor": "right",
          "xref": "x domain",
          "y": 0.25792853970971275,
          "yanchor": "bottom",
          "yref": "y"
         },
         {
          "arrowhead": 3,
          "ax": -35,
          "ay": 0,
          "bgcolor": "rgba(255,255,255,0.9)",
          "bordercolor": "gray",
          "font": {
           "color": "black",
           "size": 12
          },
          "showarrow": true,
          "text": "0.258",
          "x": 0,
          "xref": "paper",
          "y": 0.25792853970971275,
          "yref": "y"
         }
        ],
        "autosize": true,
        "bargap": 0.18,
        "bargroupgap": 0.06,
        "barmode": "group",
        "font": {
         "color": "black",
         "family": "Arial, Liberation Sans, DejaVu Sans, sans-serif",
         "size": 18
        },
        "hoverlabel": {
         "bgcolor": "white",
         "font": {
          "size": 14
         }
        },
        "legend": {
         "bgcolor": "rgba(0, 0, 0, 0)",
         "bordercolor": "rgba(0, 0, 0, 0)",
         "borderwidth": 0,
         "font": {
          "size": 13
         },
         "itemsizing": "constant",
         "itemwidth": 30,
         "orientation": "v",
         "title": {
          "text": "Feature Selection Methods"
         },
         "tracegroupgap": 0,
         "x": 1.02,
         "xanchor": "left",
         "y": 0.5,
         "yanchor": "middle"
        },
        "margin": {
         "b": 180,
         "l": 90,
         "r": 190,
         "t": 100
        },
        "paper_bgcolor": "white",
        "plot_bgcolor": "white",
        "shapes": [
         {
          "line": {
           "color": "gray",
           "dash": "dash",
           "width": 2
          },
          "type": "line",
          "x0": 0,
          "x1": 1,
          "xref": "x domain",
          "y0": 0.25792853970971275,
          "y1": 0.25792853970971275,
          "yref": "y"
         }
        ],
        "template": {
         "data": {
          "bar": [
           {
            "error_x": {
             "color": "#2a3f5f"
            },
            "error_y": {
             "color": "#2a3f5f"
            },
            "marker": {
             "line": {
              "color": "white",
              "width": 0.5
             },
             "pattern": {
              "fillmode": "overlay",
              "size": 10,
              "solidity": 0.2
             }
            },
            "type": "bar"
           }
          ],
          "barpolar": [
           {
            "marker": {
             "line": {
              "color": "white",
              "width": 0.5
             },
             "pattern": {
              "fillmode": "overlay",
              "size": 10,
              "solidity": 0.2
             }
            },
            "type": "barpolar"
           }
          ],
          "carpet": [
           {
            "aaxis": {
             "endlinecolor": "#2a3f5f",
             "gridcolor": "#C8D4E3",
             "linecolor": "#C8D4E3",
             "minorgridcolor": "#C8D4E3",
             "startlinecolor": "#2a3f5f"
            },
            "baxis": {
             "endlinecolor": "#2a3f5f",
             "gridcolor": "#C8D4E3",
             "linecolor": "#C8D4E3",
             "minorgridcolor": "#C8D4E3",
             "startlinecolor": "#2a3f5f"
            },
            "type": "carpet"
           }
          ],
          "choropleth": [
           {
            "colorbar": {
             "outlinewidth": 0,
             "ticks": ""
            },
            "type": "choropleth"
           }
          ],
          "contour": [
           {
            "colorbar": {
             "outlinewidth": 0,
             "ticks": ""
            },
            "colorscale": [
             [
              0,
              "#0d0887"
             ],
             [
              0.1111111111111111,
              "#46039f"
             ],
             [
              0.2222222222222222,
              "#7201a8"
             ],
             [
              0.3333333333333333,
              "#9c179e"
             ],
             [
              0.4444444444444444,
              "#bd3786"
             ],
             [
              0.5555555555555556,
              "#d8576b"
             ],
             [
              0.6666666666666666,
              "#ed7953"
             ],
             [
              0.7777777777777778,
              "#fb9f3a"
             ],
             [
              0.8888888888888888,
              "#fdca26"
             ],
             [
              1,
              "#f0f921"
             ]
            ],
            "type": "contour"
           }
          ],
          "contourcarpet": [
           {
            "colorbar": {
             "outlinewidth": 0,
             "ticks": ""
            },
            "type": "contourcarpet"
           }
          ],
          "heatmap": [
           {
            "colorbar": {
             "outlinewidth": 0,
             "ticks": ""
            },
            "colorscale": [
             [
              0,
              "#0d0887"
             ],
             [
              0.1111111111111111,
              "#46039f"
             ],
             [
              0.2222222222222222,
              "#7201a8"
             ],
             [
              0.3333333333333333,
              "#9c179e"
             ],
             [
              0.4444444444444444,
              "#bd3786"
             ],
             [
              0.5555555555555556,
              "#d8576b"
             ],
             [
              0.6666666666666666,
              "#ed7953"
             ],
             [
              0.7777777777777778,
              "#fb9f3a"
             ],
             [
              0.8888888888888888,
              "#fdca26"
             ],
             [
              1,
              "#f0f921"
             ]
            ],
            "type": "heatmap"
           }
          ],
          "heatmapgl": [
           {
            "colorbar": {
             "outlinewidth": 0,
             "ticks": ""
            },
            "colorscale": [
             [
              0,
              "#0d0887"
             ],
             [
              0.1111111111111111,
              "#46039f"
             ],
             [
              0.2222222222222222,
              "#7201a8"
             ],
             [
              0.3333333333333333,
              "#9c179e"
             ],
             [
              0.4444444444444444,
              "#bd3786"
             ],
             [
              0.5555555555555556,
              "#d8576b"
             ],
             [
              0.6666666666666666,
              "#ed7953"
             ],
             [
              0.7777777777777778,
              "#fb9f3a"
             ],
             [
              0.8888888888888888,
              "#fdca26"
             ],
             [
              1,
              "#f0f921"
             ]
            ],
            "type": "heatmapgl"
           }
          ],
          "histogram": [
           {
            "marker": {
             "pattern": {
              "fillmode": "overlay",
              "size": 10,
              "solidity": 0.2
             }
            },
            "type": "histogram"
           }
          ],
          "histogram2d": [
           {
            "colorbar": {
             "outlinewidth": 0,
             "ticks": ""
            },
            "colorscale": [
             [
              0,
              "#0d0887"
             ],
             [
              0.1111111111111111,
              "#46039f"
             ],
             [
              0.2222222222222222,
              "#7201a8"
             ],
             [
              0.3333333333333333,
              "#9c179e"
             ],
             [
              0.4444444444444444,
              "#bd3786"
             ],
             [
              0.5555555555555556,
              "#d8576b"
             ],
             [
              0.6666666666666666,
              "#ed7953"
             ],
             [
              0.7777777777777778,
              "#fb9f3a"
             ],
             [
              0.8888888888888888,
              "#fdca26"
             ],
             [
              1,
              "#f0f921"
             ]
            ],
            "type": "histogram2d"
           }
          ],
          "histogram2dcontour": [
           {
            "colorbar": {
             "outlinewidth": 0,
             "ticks": ""
            },
            "colorscale": [
             [
              0,
              "#0d0887"
             ],
             [
              0.1111111111111111,
              "#46039f"
             ],
             [
              0.2222222222222222,
              "#7201a8"
             ],
             [
              0.3333333333333333,
              "#9c179e"
             ],
             [
              0.4444444444444444,
              "#bd3786"
             ],
             [
              0.5555555555555556,
              "#d8576b"
             ],
             [
              0.6666666666666666,
              "#ed7953"
             ],
             [
              0.7777777777777778,
              "#fb9f3a"
             ],
             [
              0.8888888888888888,
              "#fdca26"
             ],
             [
              1,
              "#f0f921"
             ]
            ],
            "type": "histogram2dcontour"
           }
          ],
          "mesh3d": [
           {
            "colorbar": {
             "outlinewidth": 0,
             "ticks": ""
            },
            "type": "mesh3d"
           }
          ],
          "parcoords": [
           {
            "line": {
             "colorbar": {
              "outlinewidth": 0,
              "ticks": ""
             }
            },
            "type": "parcoords"
           }
          ],
          "pie": [
           {
            "automargin": true,
            "type": "pie"
           }
          ],
          "scatter": [
           {
            "fillpattern": {
             "fillmode": "overlay",
             "size": 10,
             "solidity": 0.2
            },
            "type": "scatter"
           }
          ],
          "scatter3d": [
           {
            "line": {
             "colorbar": {
              "outlinewidth": 0,
              "ticks": ""
             }
            },
            "marker": {
             "colorbar": {
              "outlinewidth": 0,
              "ticks": ""
             }
            },
            "type": "scatter3d"
           }
          ],
          "scattercarpet": [
           {
            "marker": {
             "colorbar": {
              "outlinewidth": 0,
              "ticks": ""
             }
            },
            "type": "scattercarpet"
           }
          ],
          "scattergeo": [
           {
            "marker": {
             "colorbar": {
              "outlinewidth": 0,
              "ticks": ""
             }
            },
            "type": "scattergeo"
           }
          ],
          "scattergl": [
           {
            "marker": {
             "colorbar": {
              "outlinewidth": 0,
              "ticks": ""
             }
            },
            "type": "scattergl"
           }
          ],
          "scattermapbox": [
           {
            "marker": {
             "colorbar": {
              "outlinewidth": 0,
              "ticks": ""
             }
            },
            "type": "scattermapbox"
           }
          ],
          "scatterpolar": [
           {
            "marker": {
             "colorbar": {
              "outlinewidth": 0,
              "ticks": ""
             }
            },
            "type": "scatterpolar"
           }
          ],
          "scatterpolargl": [
           {
            "marker": {
             "colorbar": {
              "outlinewidth": 0,
              "ticks": ""
             }
            },
            "type": "scatterpolargl"
           }
          ],
          "scatterternary": [
           {
            "marker": {
             "colorbar": {
              "outlinewidth": 0,
              "ticks": ""
             }
            },
            "type": "scatterternary"
           }
          ],
          "surface": [
           {
            "colorbar": {
             "outlinewidth": 0,
             "ticks": ""
            },
            "colorscale": [
             [
              0,
              "#0d0887"
             ],
             [
              0.1111111111111111,
              "#46039f"
             ],
             [
              0.2222222222222222,
              "#7201a8"
             ],
             [
              0.3333333333333333,
              "#9c179e"
             ],
             [
              0.4444444444444444,
              "#bd3786"
             ],
             [
              0.5555555555555556,
              "#d8576b"
             ],
             [
              0.6666666666666666,
              "#ed7953"
             ],
             [
              0.7777777777777778,
              "#fb9f3a"
             ],
             [
              0.8888888888888888,
              "#fdca26"
             ],
             [
              1,
              "#f0f921"
             ]
            ],
            "type": "surface"
           }
          ],
          "table": [
           {
            "cells": {
             "fill": {
              "color": "#EBF0F8"
             },
             "line": {
              "color": "white"
             }
            },
            "header": {
             "fill": {
              "color": "#C8D4E3"
             },
             "line": {
              "color": "white"
             }
            },
            "type": "table"
           }
          ]
         },
         "layout": {
          "annotationdefaults": {
           "arrowcolor": "#2a3f5f",
           "arrowhead": 0,
           "arrowwidth": 1
          },
          "autotypenumbers": "strict",
          "coloraxis": {
           "colorbar": {
            "outlinewidth": 0,
            "ticks": ""
           }
          },
          "colorscale": {
           "diverging": [
            [
             0,
             "#8e0152"
            ],
            [
             0.1,
             "#c51b7d"
            ],
            [
             0.2,
             "#de77ae"
            ],
            [
             0.3,
             "#f1b6da"
            ],
            [
             0.4,
             "#fde0ef"
            ],
            [
             0.5,
             "#f7f7f7"
            ],
            [
             0.6,
             "#e6f5d0"
            ],
            [
             0.7,
             "#b8e186"
            ],
            [
             0.8,
             "#7fbc41"
            ],
            [
             0.9,
             "#4d9221"
            ],
            [
             1,
             "#276419"
            ]
           ],
           "sequential": [
            [
             0,
             "#0d0887"
            ],
            [
             0.1111111111111111,
             "#46039f"
            ],
            [
             0.2222222222222222,
             "#7201a8"
            ],
            [
             0.3333333333333333,
             "#9c179e"
            ],
            [
             0.4444444444444444,
             "#bd3786"
            ],
            [
             0.5555555555555556,
             "#d8576b"
            ],
            [
             0.6666666666666666,
             "#ed7953"
            ],
            [
             0.7777777777777778,
             "#fb9f3a"
            ],
            [
             0.8888888888888888,
             "#fdca26"
            ],
            [
             1,
             "#f0f921"
            ]
           ],
           "sequentialminus": [
            [
             0,
             "#0d0887"
            ],
            [
             0.1111111111111111,
             "#46039f"
            ],
            [
             0.2222222222222222,
             "#7201a8"
            ],
            [
             0.3333333333333333,
             "#9c179e"
            ],
            [
             0.4444444444444444,
             "#bd3786"
            ],
            [
             0.5555555555555556,
             "#d8576b"
            ],
            [
             0.6666666666666666,
             "#ed7953"
            ],
            [
             0.7777777777777778,
             "#fb9f3a"
            ],
            [
             0.8888888888888888,
             "#fdca26"
            ],
            [
             1,
             "#f0f921"
            ]
           ]
          },
          "colorway": [
           "#636efa",
           "#EF553B",
           "#00cc96",
           "#ab63fa",
           "#FFA15A",
           "#19d3f3",
           "#FF6692",
           "#B6E880",
           "#FF97FF",
           "#FECB52"
          ],
          "font": {
           "color": "#2a3f5f"
          },
          "geo": {
           "bgcolor": "white",
           "lakecolor": "white",
           "landcolor": "white",
           "showlakes": true,
           "showland": true,
           "subunitcolor": "#C8D4E3"
          },
          "hoverlabel": {
           "align": "left"
          },
          "hovermode": "closest",
          "mapbox": {
           "style": "light"
          },
          "paper_bgcolor": "white",
          "plot_bgcolor": "white",
          "polar": {
           "angularaxis": {
            "gridcolor": "#EBF0F8",
            "linecolor": "#EBF0F8",
            "ticks": ""
           },
           "bgcolor": "white",
           "radialaxis": {
            "gridcolor": "#EBF0F8",
            "linecolor": "#EBF0F8",
            "ticks": ""
           }
          },
          "scene": {
           "xaxis": {
            "backgroundcolor": "white",
            "gridcolor": "#DFE8F3",
            "gridwidth": 2,
            "linecolor": "#EBF0F8",
            "showbackground": true,
            "ticks": "",
            "zerolinecolor": "#EBF0F8"
           },
           "yaxis": {
            "backgroundcolor": "white",
            "gridcolor": "#DFE8F3",
            "gridwidth": 2,
            "linecolor": "#EBF0F8",
            "showbackground": true,
            "ticks": "",
            "zerolinecolor": "#EBF0F8"
           },
           "zaxis": {
            "backgroundcolor": "white",
            "gridcolor": "#DFE8F3",
            "gridwidth": 2,
            "linecolor": "#EBF0F8",
            "showbackground": true,
            "ticks": "",
            "zerolinecolor": "#EBF0F8"
           }
          },
          "shapedefaults": {
           "line": {
            "color": "#2a3f5f"
           }
          },
          "ternary": {
           "aaxis": {
            "gridcolor": "#DFE8F3",
            "linecolor": "#A2B1C6",
            "ticks": ""
           },
           "baxis": {
            "gridcolor": "#DFE8F3",
            "linecolor": "#A2B1C6",
            "ticks": ""
           },
           "bgcolor": "white",
           "caxis": {
            "gridcolor": "#DFE8F3",
            "linecolor": "#A2B1C6",
            "ticks": ""
           }
          },
          "title": {
           "x": 0.05
          },
          "xaxis": {
           "automargin": true,
           "gridcolor": "#EBF0F8",
           "linecolor": "#EBF0F8",
           "ticks": "",
           "title": {
            "standoff": 15
           },
           "zerolinecolor": "#EBF0F8",
           "zerolinewidth": 2
          },
          "yaxis": {
           "automargin": true,
           "gridcolor": "#EBF0F8",
           "linecolor": "#EBF0F8",
           "ticks": "",
           "title": {
            "standoff": 15
           },
           "zerolinecolor": "#EBF0F8",
           "zerolinewidth": 2
          }
         }
        },
        "title": {
         "font": {
          "size": 26
         },
         "text": "Top 15 Most Important Features by Methods",
         "x": 0.5,
         "xanchor": "center"
        },
        "uniformtext": {
         "minsize": 12,
         "mode": "show"
        },
        "xaxis": {
         "anchor": "y",
         "automargin": true,
         "autorange": true,
         "categoryarray": [
          "FBS",
          "Age",
          "HasFattyLiver",
          "HDL.C",
          "HasKidneyStone",
          "BAVARAGE",
          "Driving1",
          "TV1",
          "Eating1",
          "ALP",
          "TG",
          "RBC",
          "TEACOFFEE",
          "Juice",
          "Vegetables"
         ],
         "categoryorder": "array",
         "domain": [
          0,
          1
         ],
         "range": [
          -0.5,
          14.5
         ],
         "showgrid": false,
         "tickangle": -30,
         "title": {
          "text": "Feature"
         },
         "type": "category"
        },
        "yaxis": {
         "anchor": "x",
         "domain": [
          0,
          1
         ],
         "gridcolor": "rgba(0, 0, 0, 0.12)",
         "range": [
          0,
          1.32
         ],
         "tickformat": ".2f",
         "title": {
          "text": "Feature Importance (normalized)"
         },
         "type": "linear"
        }
       }
      },
      "image/png": "[encoded data removed]",
      "text/html": [
       "<div>                            <div id=\"f0815b33-9017-4782-9cef-9d4f26a49780\" class=\"plotly-graph-div\" style=\"height:800px; width:100%;\"></div>            <script type=\"text/javascript\">                require([\"plotly\"], function(Plotly) {                    window.PLOTLYENV=window.PLOTLYENV || {};                                    if (document.getElementById(\"f0815b33-9017-4782-9cef-9d4f26a49780\")) {                    Plotly.newPlot(                        \"f0815b33-9017-4782-9cef-9d4f26a49780\",                        [{\"alignmentgroup\":\"True\",\"customdata\":[[\"Mutual Information\"],[\"Mutual Information\"],[\"Mutual Information\"],[\"Mutual Information\"],[\"Mutual Information\"],[\"Mutual Information\"],[\"Mutual Information\"],[\"Mutual Information\"],[\"Mutual Information\"],[\"Mutual Information\"],[\"Mutual Information\"],[\"Mutual Information\"],[\"Mutual Information\"],[\"Mutual Information\"],[\"Mutual Information\"]],\"hovertemplate\":\"Method=%{customdata[0]}\\u003cbr\\u003eFeature=%{x}\\u003cbr\\u003eFeature Importance (normalized)=%{y:.3f}\\u003cbr\\u003eLabel=%{text}\\u003cextra\\u003e\\u003c\\u002fextra\\u003e\",\"legendgroup\":\"Mutual Information\",\"marker\":{\"color\":\"#0072B2\",\"pattern\":{\"shape\":\"\"},\"line\":{\"color\":\"rgba(0,0,0,0.55)\",\"width\":1.5}},\"name\":\"Mutual Information\",\"offsetgroup\":\"Mutual Information\",\"orientation\":\"v\",\"showlegend\":true,\"text\":[\"\",\"0.861\",\"\",\"0.789\",\"\",\"0.603\",\"0.676\",\"0.654\",\"0.648\",\"0.625\",\"0.557\",\"0.602\",\"0.453\",\"0.207\",\"\"],\"textposition\":\"outside\",\"x\":[\"FBS\",\"Age\",\"HasFattyLiver\",\"HDL.C\",\"HasKidneyStone\",\"BAVARAGE\",\"Driving1\",\"TV1\",\"Eating1\",\"ALP\",\"TG\",\"RBC\",\"TEACOFFEE\",\"Juice\",\"Vegetables\"],\"xaxis\":\"x\",\"y\":[1.0,0.8608459209799788,0.23769628829915135,0.7893599330736899,0.3147030546357774,0.6033158752246742,0.6759548022955452,0.6539789254826691,0.6480858498235406,0.624847648520621,0.557104281850473,0.6021781350524658,0.45278450264140896,0.20710835692212176,0.0],\"yaxis\":\"y\",\"type\":\"bar\",\"textfont\":{\"color\":\"black\",\"family\":\"Arial\",\"size\":18},\"cliponaxis\":false,\"texttemplate\":\"%{text}\"},{\"alignmentgroup\":\"True\",\"customdata\":[[\"Chi-Square Test\"],[\"Chi-Square Test\"],[\"Chi-Square Test\"],[\"Chi-Square Test\"],[\"Chi-Square Test\"],[\"Chi-Square Test\"],[\"Chi-Square Test\"],[\"Chi-Square Test\"],[\"Chi-Square Test\"],[\"Chi-Square Test\"],[\"Chi-Square Test\"],[\"Chi-Square Test\"],[\"Chi-Square Test\"],[\"Chi-Square Test\"],[\"Chi-Square Test\"]],\"hovertemplate\":\"Method=%{customdata[0]}\\u003cbr\\u003eFeature=%{x}\\u003cbr\\u003eFeature Importance (normalized)=%{y:.3f}\\u003cbr\\u003eLabel=%{text}\\u003cextra\\u003e\\u003c\\u002fextra\\u003e\",\"legendgroup\":\"Chi-Square Test\",\"marker\":{\"color\":\"#E69F00\",\"pattern\":{\"shape\":\"\"},\"line\":{\"color\":\"rgba(0,0,0,0.55)\",\"width\":1.5}},\"name\":\"Chi-Square Test\",\"offsetgroup\":\"Chi-Square Test\",\"orientation\":\"v\",\"showlegend\":true,\"text\":[\"\",\"\",\"1.0\",\"\",\"0.399\",\"\",\"\",\"\",\"\",\"\",\"\",\"\",\"\",\"\",\"\"],\"textposition\":\"outside\",\"x\":[\"FBS\",\"Age\",\"HasFattyLiver\",\"HDL.C\",\"HasKidneyStone\",\"BAVARAGE\",\"Driving1\",\"TV1\",\"Eating1\",\"ALP\",\"TG\",\"RBC\",\"TEACOFFEE\",\"Juice\",\"Vegetables\"],\"xaxis\":\"x\",\"y\":[0.02494674382202046,0.32828061936998676,1.0,0.0,0.39929359601385245,0.06726750888424,0.006141498181007132,0.00837872680952168,0.001871678206905909,0.003405122725170303,0.005132609797765056,0.0006335378918461513,0.0003595639562197,0.0036710972859487867,0.00033558610462324894],\"yaxis\":\"y\",\"type\":\"bar\",\"textfont\":{\"color\":\"black\",\"family\":\"Arial\",\"size\":18},\"cliponaxis\":false,\"texttemplate\":\"%{text}\"},{\"alignmentgroup\":\"True\",\"customdata\":[[\"ANOVA (f_classif)\"],[\"ANOVA (f_classif)\"],[\"ANOVA (f_classif)\"],[\"ANOVA (f_classif)\"],[\"ANOVA (f_classif)\"],[\"ANOVA (f_classif)\"],[\"ANOVA (f_classif)\"],[\"ANOVA (f_classif)\"],[\"ANOVA (f_classif)\"],[\"ANOVA (f_classif)\"],[\"ANOVA (f_classif)\"],[\"ANOVA (f_classif)\"],[\"ANOVA (f_classif)\"],[\"ANOVA (f_classif)\"],[\"ANOVA (f_classif)\"]],\"hovertemplate\":\"Method=%{customdata[0]}\\u003cbr\\u003eFeature=%{x}\\u003cbr\\u003eFeature Importance (normalized)=%{y:.3f}\\u003cbr\\u003eLabel=%{text}\\u003cextra\\u003e\\u003c\\u002fextra\\u003e\",\"legendgroup\":\"ANOVA (f_classif)\",\"marker\":{\"color\":\"#009E73\",\"pattern\":{\"shape\":\"\"},\"line\":{\"color\":\"rgba(0,0,0,0.55)\",\"width\":1.5}},\"name\":\"ANOVA (f_classif)\",\"offsetgroup\":\"ANOVA (f_classif)\",\"orientation\":\"v\",\"showlegend\":true,\"text\":[\"1.0\",\"\",\"\",\"\",\"\",\"\",\"\",\"\",\"\",\"\",\"\",\"\",\"\",\"\",\"0.001\"],\"textposition\":\"outside\",\"x\":[\"FBS\",\"Age\",\"HasFattyLiver\",\"HDL.C\",\"HasKidneyStone\",\"BAVARAGE\",\"Driving1\",\"TV1\",\"Eating1\",\"ALP\",\"TG\",\"RBC\",\"TEACOFFEE\",\"Juice\",\"Vegetables\"],\"xaxis\":\"x\",\"y\":[1.0,0.1910237967967987,0.12356654554605484,0.0,0.05436444282531738,0.053082071244716644,0.0032518368680030107,0.008794951252639294,0.005632398184388876,0.02517232671380043,0.0590999573469162,0.001895757857710123,0.00045077185495756567,0.0016415538266301155,0.0011264127679169178],\"yaxis\":\"y\",\"type\":\"bar\",\"textfont\":{\"color\":\"black\",\"family\":\"Arial\",\"size\":18},\"cliponaxis\":false,\"texttemplate\":\"%{text}\"}],                        {\"template\":{\"data\":{\"barpolar\":[{\"marker\":{\"line\":{\"color\":\"white\",\"width\":0.5},\"pattern\":{\"fillmode\":\"overlay\",\"size\":10,\"solidity\":0.2}},\"type\":\"barpolar\"}],\"bar\":[{\"error_x\":{\"color\":\"#2a3f5f\"},\"error_y\":{\"color\":\"#2a3f5f\"},\"marker\":{\"line\":{\"color\":\"white\",\"width\":0.5},\"pattern\":{\"fillmode\":\"overlay\",\"size\":10,\"solidity\":0.2}},\"type\":\"bar\"}],\"carpet\":[{\"aaxis\":{\"endlinecolor\":\"#2a3f5f\",\"gridcolor\":\"#C8D4E3\",\"linecolor\":\"#C8D4E3\",\"minorgridcolor\":\"#C8D4E3\",\"startlinecolor\":\"#2a3f5f\"},\"baxis\":{\"endlinecolor\":\"#2a3f5f\",\"gridcolor\":\"#C8D4E3\",\"linecolor\":\"#C8D4E3\",\"minorgridcolor\":\"#C8D4E3\",\"startlinecolor\":\"#2a3f5f\"},\"type\":\"carpet\"}],\"choropleth\":[{\"colorbar\":{\"outlinewidth\":0,\"ticks\":\"\"},\"type\":\"choropleth\"}],\"contourcarpet\":[{\"colorbar\":{\"outlinewidth\":0,\"ticks\":\"\"},\"type\":\"contourcarpet\"}],\"contour\":[{\"colorbar\":{\"outlinewidth\":0,\"ticks\":\"\"},\"colorscale\":[[0.0,\"#0d0887\"],[0.1111111111111111,\"#46039f\"],[0.2222222222222222,\"#7201a8\"],[0.3333333333333333,\"#9c179e\"],[0.4444444444444444,\"#bd3786\"],[0.5555555555555556,\"#d8576b\"],[0.6666666666666666,\"#ed7953\"],[0.7777777777777778,\"#fb9f3a\"],[0.8888888888888888,\"#fdca26\"],[1.0,\"#f0f921\"]],\"type\":\"contour\"}],\"heatmapgl\":[{\"colorbar\":{\"outlinewidth\":0,\"ticks\":\"\"},\"colorscale\":[[0.0,\"#0d0887\"],[0.1111111111111111,\"#46039f\"],[0.2222222222222222,\"#7201a8\"],[0.3333333333333333,\"#9c179e\"],[0.4444444444444444,\"#bd3786\"],[0.5555555555555556,\"#d8576b\"],[0.6666666666666666,\"#ed7953\"],[0.7777777777777778,\"#fb9f3a\"],[0.8888888888888888,\"#fdca26\"],[1.0,\"#f0f921\"]],\"type\":\"heatmapgl\"}],\"heatmap\":[{\"colorbar\":{\"outlinewidth\":0,\"ticks\":\"\"},\"colorscale\":[[0.0,\"#0d0887\"],[0.1111111111111111,\"#46039f\"],[0.2222222222222222,\"#7201a8\"],[0.3333333333333333,\"#9c179e\"],[0.4444444444444444,\"#bd3786\"],[0.5555555555555556,\"#d8576b\"],[0.6666666666666666,\"#ed7953\"],[0.7777777777777778,\"#fb9f3a\"],[0.8888888888888888,\"#fdca26\"],[1.0,\"#f0f921\"]],\"type\":\"heatmap\"}],\"histogram2dcontour\":[{\"colorbar\":{\"outlinewidth\":0,\"ticks\":\"\"},\"colorscale\":[[0.0,\"#0d0887\"],[0.1111111111111111,\"#46039f\"],[0.2222222222222222,\"#7201a8\"],[0.3333333333333333,\"#9c179e\"],[0.4444444444444444,\"#bd3786\"],[0.5555555555555556,\"#d8576b\"],[0.6666666666666666,\"#ed7953\"],[0.7777777777777778,\"#fb9f3a\"],[0.8888888888888888,\"#fdca26\"],[1.0,\"#f0f921\"]],\"type\":\"histogram2dcontour\"}],\"histogram2d\":[{\"colorbar\":{\"outlinewidth\":0,\"ticks\":\"\"},\"colorscale\":[[0.0,\"#0d0887\"],[0.1111111111111111,\"#46039f\"],[0.2222222222222222,\"#7201a8\"],[0.3333333333333333,\"#9c179e\"],[0.4444444444444444,\"#bd3786\"],[0.5555555555555556,\"#d8576b\"],[0.6666666666666666,\"#ed7953\"],[0.7777777777777778,\"#fb9f3a\"],[0.8888888888888888,\"#fdca26\"],[1.0,\"#f0f921\"]],\"type\":\"histogram2d\"}],\"histogram\":[{\"marker\":{\"pattern\":{\"fillmode\":\"overlay\",\"size\":10,\"solidity\":0.2}},\"type\":\"histogram\"}],\"mesh3d\":[{\"colorbar\":{\"outlinewidth\":0,\"ticks\":\"\"},\"type\":\"mesh3d\"}],\"parcoords\":[{\"line\":{\"colorbar\":{\"outlinewidth\":0,\"ticks\":\"\"}},\"type\":\"parcoords\"}],\"pie\":[{\"automargin\":true,\"type\":\"pie\"}],\"scatter3d\":[{\"line\":{\"colorbar\":{\"outlinewidth\":0,\"ticks\":\"\"}},\"marker\":{\"colorbar\":{\"outlinewidth\":0,\"ticks\":\"\"}},\"type\":\"scatter3d\"}],\"scattercarpet\":[{\"marker\":{\"colorbar\":{\"outlinewidth\":0,\"ticks\":\"\"}},\"type\":\"scattercarpet\"}],\"scattergeo\":[{\"marker\":{\"colorbar\":{\"outlinewidth\":0,\"ticks\":\"\"}},\"type\":\"scattergeo\"}],\"scattergl\":[{\"marker\":{\"colorbar\":{\"outlinewidth\":0,\"ticks\":\"\"}},\"type\":\"scattergl\"}],\"scattermapbox\":[{\"marker\":{\"colorbar\":{\"outlinewidth\":0,\"ticks\":\"\"}},\"type\":\"scattermapbox\"}],\"scatterpolargl\":[{\"marker\":{\"colorbar\":{\"outlinewidth\":0,\"ticks\":\"\"}},\"type\":\"scatterpolargl\"}],\"scatterpolar\":[{\"marker\":{\"colorbar\":{\"outlinewidth\":0,\"ticks\":\"\"}},\"type\":\"scatterpolar\"}],\"scatter\":[{\"fillpattern\":{\"fillmode\":\"overlay\",\"size\":10,\"solidity\":0.2},\"type\":\"scatter\"}],\"scatterternary\":[{\"marker\":{\"colorbar\":{\"outlinewidth\":0,\"ticks\":\"\"}},\"type\":\"scatterternary\"}],\"surface\":[{\"colorbar\":{\"outlinewidth\":0,\"ticks\":\"\"},\"colorscale\":[[0.0,\"#0d0887\"],[0.1111111111111111,\"#46039f\"],[0.2222222222222222,\"#7201a8\"],[0.3333333333333333,\"#9c179e\"],[0.4444444444444444,\"#bd3786\"],[0.5555555555555556,\"#d8576b\"],[0.6666666666666666,\"#ed7953\"],[0.7777777777777778,\"#fb9f3a\"],[0.8888888888888888,\"#fdca26\"],[1.0,\"#f0f921\"]],\"type\":\"surface\"}],\"table\":[{\"cells\":{\"fill\":{\"color\":\"#EBF0F8\"},\"line\":{\"color\":\"white\"}},\"header\":{\"fill\":{\"color\":\"#C8D4E3\"},\"line\":{\"color\":\"white\"}},\"type\":\"table\"}]},\"layout\":{\"annotationdefaults\":{\"arrowcolor\":\"#2a3f5f\",\"arrowhead\":0,\"arrowwidth\":1},\"autotypenumbers\":\"strict\",\"coloraxis\":{\"colorbar\":{\"outlinewidth\":0,\"ticks\":\"\"}},\"colorscale\":{\"diverging\":[[0,\"#8e0152\"],[0.1,\"#c51b7d\"],[0.2,\"#de77ae\"],[0.3,\"#f1b6da\"],[0.4,\"#fde0ef\"],[0.5,\"#f7f7f7\"],[0.6,\"#e6f5d0\"],[0.7,\"#b8e186\"],[0.8,\"#7fbc41\"],[0.9,\"#4d9221\"],[1,\"#276419\"]],\"sequential\":[[0.0,\"#0d0887\"],[0.1111111111111111,\"#46039f\"],[0.2222222222222222,\"#7201a8\"],[0.3333333333333333,\"#9c179e\"],[0.4444444444444444,\"#bd3786\"],[0.5555555555555556,\"#d8576b\"],[0.6666666666666666,\"#ed7953\"],[0.7777777777777778,\"#fb9f3a\"],[0.8888888888888888,\"#fdca26\"],[1.0,\"#f0f921\"]],\"sequentialminus\":[[0.0,\"#0d0887\"],[0.1111111111111111,\"#46039f\"],[0.2222222222222222,\"#7201a8\"],[0.3333333333333333,\"#9c179e\"],[0.4444444444444444,\"#bd3786\"],[0.5555555555555556,\"#d8576b\"],[0.6666666666666666,\"#ed7953\"],[0.7777777777777778,\"#fb9f3a\"],[0.8888888888888888,\"#fdca26\"],[1.0,\"#f0f921\"]]},\"colorway\":[\"#636efa\",\"#EF553B\",\"#00cc96\",\"#ab63fa\",\"#FFA15A\",\"#19d3f3\",\"#FF6692\",\"#B6E880\",\"#FF97FF\",\"#FECB52\"],\"font\":{\"color\":\"#2a3f5f\"},\"geo\":{\"bgcolor\":\"white\",\"lakecolor\":\"white\",\"landcolor\":\"white\",\"showlakes\":true,\"showland\":true,\"subunitcolor\":\"#C8D4E3\"},\"hoverlabel\":{\"align\":\"left\"},\"hovermode\":\"closest\",\"mapbox\":{\"style\":\"light\"},\"paper_bgcolor\":\"white\",\"plot_bgcolor\":\"white\",\"polar\":{\"angularaxis\":{\"gridcolor\":\"#EBF0F8\",\"linecolor\":\"#EBF0F8\",\"ticks\":\"\"},\"bgcolor\":\"white\",\"radialaxis\":{\"gridcolor\":\"#EBF0F8\",\"linecolor\":\"#EBF0F8\",\"ticks\":\"\"}},\"scene\":{\"xaxis\":{\"backgroundcolor\":\"white\",\"gridcolor\":\"#DFE8F3\",\"gridwidth\":2,\"linecolor\":\"#EBF0F8\",\"showbackground\":true,\"ticks\":\"\",\"zerolinecolor\":\"#EBF0F8\"},\"yaxis\":{\"backgroundcolor\":\"white\",\"gridcolor\":\"#DFE8F3\",\"gridwidth\":2,\"linecolor\":\"#EBF0F8\",\"showbackground\":true,\"ticks\":\"\",\"zerolinecolor\":\"#EBF0F8\"},\"zaxis\":{\"backgroundcolor\":\"white\",\"gridcolor\":\"#DFE8F3\",\"gridwidth\":2,\"linecolor\":\"#EBF0F8\",\"showbackground\":true,\"ticks\":\"\",\"zerolinecolor\":\"#EBF0F8\"}},\"shapedefaults\":{\"line\":{\"color\":\"#2a3f5f\"}},\"ternary\":{\"aaxis\":{\"gridcolor\":\"#DFE8F3\",\"linecolor\":\"#A2B1C6\",\"ticks\":\"\"},\"baxis\":{\"gridcolor\":\"#DFE8F3\",\"linecolor\":\"#A2B1C6\",\"ticks\":\"\"},\"bgcolor\":\"white\",\"caxis\":{\"gridcolor\":\"#DFE8F3\",\"linecolor\":\"#A2B1C6\",\"ticks\":\"\"}},\"title\":{\"x\":0.05},\"xaxis\":{\"automargin\":true,\"gridcolor\":\"#EBF0F8\",\"linecolor\":\"#EBF0F8\",\"ticks\":\"\",\"title\":{\"standoff\":15},\"zerolinecolor\":\"#EBF0F8\",\"zerolinewidth\":2},\"yaxis\":{\"automargin\":true,\"gridcolor\":\"#EBF0F8\",\"linecolor\":\"#EBF0F8\",\"ticks\":\"\",\"title\":{\"standoff\":15},\"zerolinecolor\":\"#EBF0F8\",\"zerolinewidth\":2}}},\"xaxis\":{\"anchor\":\"y\",\"domain\":[0.0,1.0],\"title\":{\"text\":\"Feature\"},\"categoryorder\":\"array\",\"categoryarray\":[\"FBS\",\"Age\",\"HasFattyLiver\",\"HDL.C\",\"HasKidneyStone\",\"BAVARAGE\",\"Driving1\",\"TV1\",\"Eating1\",\"ALP\",\"TG\",\"RBC\",\"TEACOFFEE\",\"Juice\",\"Vegetables\"],\"tickangle\":-30,\"automargin\":true,\"showgrid\":false},\"yaxis\":{\"anchor\":\"x\",\"domain\":[0.0,1.0],\"title\":{\"text\":\"Feature Importance (normalized)\"},\"range\":[0,1.32],\"tickformat\":\".2f\",\"gridcolor\":\"rgba(0,0,0,0.12)\"},\"legend\":{\"title\":{\"text\":\"Feature Selection Methods\"},\"tracegroupgap\":0,\"font\":{\"size\":13},\"orientation\":\"v\",\"yanchor\":\"middle\",\"y\":0.5,\"xanchor\":\"left\",\"x\":1.02,\"itemsizing\":\"constant\",\"itemwidth\":30,\"bgcolor\":\"rgba(0,0,0,0)\",\"bordercolor\":\"rgba(0,0,0,0)\",\"borderwidth\":0},\"title\":{\"text\":\"Top 15 Most Important Features by Methods\",\"font\":{\"size\":26},\"x\":0.5,\"xanchor\":\"center\"},\"barmode\":\"group\",\"height\":800,\"font\":{\"size\":18,\"family\":\"Arial, Liberation Sans, DejaVu Sans, sans-serif\",\"color\":\"black\"},\"uniformtext\":{\"minsize\":12,\"mode\":\"show\"},\"margin\":{\"l\":90,\"r\":190,\"t\":100,\"b\":180},\"hoverlabel\":{\"font\":{\"size\":14},\"bgcolor\":\"white\"},\"bargap\":0.18,\"bargroupgap\":0.06,\"paper_bgcolor\":\"white\",\"plot_bgcolor\":\"white\",\"shapes\":[{\"line\":{\"color\":\"gray\",\"dash\":\"dash\",\"width\":2},\"type\":\"line\",\"x0\":0,\"x1\":1,\"xref\":\"x domain\",\"y0\":0.25792853970971275,\"y1\":0.25792853970971275,\"yref\":\"y\"}],\"annotations\":[{\"bgcolor\":\"rgba(255,255,255,0.85)\",\"font\":{\"size\":12},\"showarrow\":false,\"text\":\"Mean Importance = 0.258\",\"x\":1,\"xanchor\":\"right\",\"xref\":\"x domain\",\"y\":0.25792853970971275,\"yanchor\":\"bottom\",\"yref\":\"y\"},{\"arrowhead\":3,\"ax\":-35,\"ay\":0,\"bgcolor\":\"rgba(255,255,255,0.9)\",\"bordercolor\":\"gray\",\"font\":{\"color\":\"black\",\"size\":12},\"showarrow\":true,\"text\":\"0.258\",\"x\":0.0,\"xref\":\"paper\",\"y\":0.25792853970971275,\"yref\":\"y\"}]},                        {\"responsive\": true}                    ).then(function(){\n",
       "                            \n",
       "var gd = document.getElementById('f0815b33-9017-4782-9cef-9d4f26a49780');\n",
       "var x = new MutationObserver(function (mutations, observer) {{\n",
       "        var display = window.getComputedStyle(gd).display;\n",
       "        if (!display || display === 'none') {{\n",
       "            console.log([gd, 'removed!']);\n",
       "            Plotly.purge(gd);\n",
       "            observer.disconnect();\n",
       "        }}\n",
       "}});\n",
       "\n",
       "// Listen for the removal of the full notebook cells\n",
       "var notebookContainer = gd.closest('#notebook-container');\n",
       "if (notebookContainer) {{\n",
       "    x.observe(notebookContainer, {childList: true});\n",
       "}}\n",
       "\n",
       "// Listen for the clearing of the current output cell\n",
       "var outputEl = gd.closest('.output');\n",
       "if (outputEl) {{\n",
       "    x.observe(outputEl, {childList: true});\n",
       "}}\n",
       "\n",
       "                        })                };                });            </script>        </div>"
      ]
     },
     "metadata": {},
     "output_type": "display_data"
    }
   ],
   "source": [
    "import re\n",
    "import itertools\n",
    "import numpy as np\n",
    "import pandas as pd\n",
    "import plotly.express as px\n",
    "\n",
    "# ---------------- Inputs ----------------\n",
    "# feature_importances: dict {\"Method A\": pd.Series, \"Method B\": pd.Series, ...}\n",
    "# X_train: your training DataFrame with original feature names\n",
    "top_n = 15  # number of features to display\n",
    "\n",
    "# ------------- Build tidy DataFrame -------------\n",
    "importance_df = pd.DataFrame(feature_importances).T\n",
    "\n",
    "# Use actual feature names if available\n",
    "try:\n",
    "    importance_df.columns = X_train.columns\n",
    "except Exception:\n",
    "    pass\n",
    "\n",
    "# Clean pipeline prefixes\n",
    "def clean_name(c):\n",
    "    return re.sub(r'^num_imputer__', '', str(c))\n",
    "\n",
    "importance_df.columns = [clean_name(c) for c in importance_df.columns]\n",
    "\n",
    "# Ensure numeric + fill NaN\n",
    "importance_df = importance_df.apply(pd.to_numeric, errors='coerce').fillna(0.0)\n",
    "\n",
    "# Bring method names into a column\n",
    "importance_df = importance_df.reset_index().rename(columns={'index': 'Feature Selection Method'})\n",
    "\n",
    "# ------------- Normalize per method (row) to [0, 1] -------------\n",
    "numeric_cols = importance_df.columns.difference(['Feature Selection Method'])\n",
    "row_max = importance_df[numeric_cols].max(axis=1).replace(0, np.nan)\n",
    "importance_df[numeric_cols] = importance_df[numeric_cols].div(row_max, axis=0).fillna(0.0)\n",
    "\n",
    "# ------------- Pick Top-N features by SUM across methods -------------\n",
    "importance_sum = importance_df[numeric_cols].sum(axis=0)\n",
    "top_features = importance_sum.nlargest(top_n).index.tolist()\n",
    "\n",
    "# Filter to Top-N\n",
    "importance_top = importance_df[['Feature Selection Method'] + top_features]\n",
    "\n",
    "# Long format\n",
    "importance_melted = importance_top.melt(\n",
    "    id_vars=['Feature Selection Method'],\n",
    "    var_name='Feature',\n",
    "    value_name='Importance'\n",
    ")\n",
    "\n",
    "# Orders\n",
    "feature_order = top_features\n",
    "method_order = (\n",
    "    importance_melted.groupby('Feature Selection Method')['Importance']\n",
    "    .mean()\n",
    "    .sort_values(ascending=False)\n",
    "    .index.tolist()\n",
    ")\n",
    "\n",
    "# ------------- Palette (Okabe–Ito, color-blind–safe) -------------\n",
    "okabe_ito = [\n",
    "    \"#0072B2\",  # blue\n",
    "    \"#E69F00\",  # orange\n",
    "    \"#009E73\",  # green\n",
    "    \"#D55E00\",  # vermillion\n",
    "    \"#CC79A7\",  # reddish purple\n",
    "    \"#F0E442\",  # yellow\n",
    "    \"#56B4E9\",  # sky blue\n",
    "    \"#000000\"   # black\n",
    "]\n",
    "unique_methods = importance_melted['Feature Selection Method'].unique().tolist()\n",
    "palette = list(itertools.islice(itertools.cycle(okabe_ito), len(unique_methods)))\n",
    "\n",
    "# ------------- Labels only on the highest bar per feature -------------\n",
    "idx_max = importance_melted.groupby(\"Feature\")[\"Importance\"].idxmax()\n",
    "importance_melted[\"Label\"] = \"\"\n",
    "importance_melted.loc[idx_max, \"Label\"] = (\n",
    "    importance_melted.loc[idx_max, \"Importance\"].round(3).astype(str)\n",
    ")\n",
    "\n",
    "# ------------- Figure -------------\n",
    "fig_importance = px.bar(\n",
    "    importance_melted,\n",
    "    x='Feature',\n",
    "    y='Importance',\n",
    "    color='Feature Selection Method',\n",
    "    text='Label',\n",
    "    category_orders={'Feature': feature_order, 'Feature Selection Method': method_order},\n",
    "    color_discrete_sequence=palette,\n",
    "    barmode='group',\n",
    "    title=f'Top {top_n} Most Important Features by Methods',\n",
    "    labels={'Importance': 'Feature Importance (normalized)', 'Feature Selection Method': 'Method'},\n",
    "    height=800,\n",
    "    template='plotly_white',\n",
    "    hover_data={'Feature Selection Method': True, 'Importance': ':.3f', 'Feature': True}\n",
    ")\n",
    "\n",
    "# Bars & data labels\n",
    "fig_importance.update_traces(\n",
    "    textposition='outside',\n",
    "    textfont=dict(size=18, color=\"black\", family=\"Arial\"),\n",
    "    texttemplate='%{text}',\n",
    "    marker_line_width=1.5,\n",
    "    marker_line_color='rgba(0,0,0,0.55)',\n",
    "    cliponaxis=False\n",
    ")\n",
    "\n",
    "# Headroom for labels\n",
    "ymax = float(importance_melted['Importance'].max())\n",
    "fig_importance.update_yaxes(range=[0, max(1.0, ymax) * 1.32],\n",
    "                            tickformat=\".2f\",\n",
    "                            gridcolor='rgba(0,0,0,0.12)')\n",
    "\n",
    "# Layout polish + legend right-center, compact, transparent\n",
    "fig_importance.update_layout(\n",
    "    title={'x': 0.5, 'xanchor': 'center'},\n",
    "    font=dict(size=18, family=\"Arial, Liberation Sans, DejaVu Sans, sans-serif\", color=\"black\"),\n",
    "    title_font=dict(size=26),\n",
    "    legend_title_text=\"Feature Selection Methods\",\n",
    "    legend=dict(\n",
    "        orientation=\"v\",\n",
    "        yanchor=\"middle\", y=0.5,\n",
    "        xanchor=\"left\",  x=1.02,\n",
    "        itemsizing=\"constant\",\n",
    "        itemwidth=30,\n",
    "        bgcolor=\"rgba(0,0,0,0)\",\n",
    "        bordercolor=\"rgba(0,0,0,0)\",\n",
    "        borderwidth=0,\n",
    "        font=dict(size=13)\n",
    "    ),\n",
    "    xaxis_title=\"Feature\",\n",
    "    yaxis_title=\"Feature Importance (normalized)\",\n",
    "    bargap=0.18,          # a bit more spacing -> cleaner groups\n",
    "    bargroupgap=0.06,     # spacing within a group\n",
    "    uniformtext_minsize=12,\n",
    "    uniformtext_mode='show',\n",
    "    margin=dict(l=90, r=190, t=100, b=180),\n",
    "    paper_bgcolor='white',\n",
    "    plot_bgcolor='white',\n",
    "    hoverlabel=dict(bgcolor=\"white\", font_size=14)\n",
    ")\n",
    "fig_importance.update_xaxes(tickangle=-30, automargin=True, showgrid=False)\n",
    "\n",
    "# ------------- Mean importance line + labels -------------\n",
    "mean_val = float(importance_melted['Importance'].mean())\n",
    "fig_importance.add_hline(\n",
    "    y=mean_val,\n",
    "    line=dict(color='gray', dash='dash', width=2),\n",
    "    annotation_text=f\"Mean Importance = {mean_val:.3f}\",\n",
    "    annotation_position='top right',\n",
    "    annotation_font_size=12,\n",
    "    annotation_bgcolor=\"rgba(255,255,255,0.85)\"\n",
    ")\n",
    "fig_importance.add_annotation(\n",
    "    xref=\"paper\", x=0.0,\n",
    "    yref=\"y\",     y=mean_val,\n",
    "    text=f\"{mean_val:.3f}\",\n",
    "    showarrow=True, arrowhead=3,\n",
    "    ax=-35, ay=0,\n",
    "    bgcolor=\"rgba(255,255,255,0.9)\",\n",
    "    bordercolor=\"gray\",\n",
    "    font=dict(size=12, color=\"black\")\n",
    ")\n",
    "\n",
    "# Show\n",
    "fig_importance.show()\n",
    "\n",
    "# ------------- Exports (higher quality) -------------\n",
    "export_title = f\"Top_{top_n}_Most_Important_Features_by_Methods\"\n",
    "# Vector SVG (best for print) — larger logical size\n",
    "fig_importance.write_image(f\"Images/{export_title}.svg\",\n",
    "                           width=3200, height=1800, scale=1)\n",
    "# Hi-res PNG — larger canvas + scale for crisp lines/labels\n",
    "fig_importance.write_image(f\"Images/{export_title}.png\",\n",
    "                           width=4200, height=2200, scale=2)\n"
   ]
  },
  {
   "cell_type": "code",
   "execution_count": null,
   "id": "4d9ac309-711c-442d-abd5-57ea931f8779",
   "metadata": {},
   "outputs": [],
   "source": []
  }
 ],
 "metadata": {
  "kernelspec": {
   "display_name": "Python 3 (ipykernel)",
   "language": "python",
   "name": "python3"
  },
  "language_info": {
   "codemirror_mode": {
    "name": "ipython",
    "version": 3
   },
   "file_extension": ".py",
   "mimetype": "text/x-python",
   "name": "python",
   "nbconvert_exporter": "python",
   "pygments_lexer": "ipython3",
   "version": "3.11.7"
  }
 },
 "nbformat": 4,
 "nbformat_minor": 5
}
